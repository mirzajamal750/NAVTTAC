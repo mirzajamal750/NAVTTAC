{
 "cells": [
  {
   "cell_type": "code",
   "execution_count": 30,
   "id": "daf1abbd",
   "metadata": {},
   "outputs": [
    {
     "name": "stdout",
     "output_type": "stream",
     "text": [
      "Enter the color: black\n",
      "Enter the eye color: black\n",
      "Enter the height: 65\n",
      "Enter the number of legs: 4\n",
      "Does it have a moustache (Yes/No): Yes\n",
      "Does it have a tail (Yes/No): Yes\n",
      "Enter the weight: 55\n",
      "Predicted Label: human\n"
     ]
    }
   ],
   "source": [
    "import pandas as pd\n",
    "import joblib\n",
    "\n",
    "# Load the saved preprocessing and model files\n",
    "pipeline = joblib.load('model.pkl')\n",
    "label_encoder = joblib.load('label_encoder.pkl')\n",
    "\n",
    "# Set handle_unknown='ignore' for the label encoder\n",
    "label_encoder.handle_unknown = 'ignore'\n",
    "\n",
    "# Create a dictionary to map the label encoder classes to their original labels\n",
    "class_mapping = {i: label for i, label in enumerate(label_encoder.classes_)}\n",
    "\n",
    "# Get input from the user\n",
    "color = input(\"Enter the color: \")\n",
    "eye_color = input(\"Enter the eye color: \")\n",
    "height = float(input(\"Enter the height: \"))\n",
    "legs = int(input(\"Enter the number of legs: \"))\n",
    "moustache = input(\"Does it have a moustache (Yes/No): \")\n",
    "tail = input(\"Does it have a tail (Yes/No): \")\n",
    "weight = float(input(\"Enter the weight: \"))\n",
    "\n",
    "# Create a DataFrame with the user input\n",
    "data = pd.DataFrame({\n",
    "    'Color': [color],\n",
    "    'Eye_color': [eye_color],\n",
    "    'Height': [height],\n",
    "    'Legs': [legs],\n",
    "    'Moustache': [moustache],\n",
    "    'Tail': [tail],\n",
    "    'Weight': [weight]\n",
    "})\n",
    "\n",
    "# Check if the color category is known\n",
    "if color not in label_encoder.classes_:\n",
    "    color = 'Other'\n",
    "\n",
    "# Preprocess the input data using the saved preprocessing steps\n",
    "preprocessed_data = pipeline['preprocessor'].transform(data)\n",
    "\n",
    "# Make predictions using the trained model\n",
    "predicted_class = pipeline['classifier'].predict(preprocessed_data)\n",
    "\n",
    "# Map the predicted class label to its original label\n",
    "predicted_label = class_mapping[predicted_class[0]]\n",
    "\n",
    "# Print the predicted label\n",
    "print(\"Predicted Label:\", predicted_label)\n"
   ]
  },
  {
   "cell_type": "code",
   "execution_count": null,
   "id": "90bf9c8e",
   "metadata": {},
   "outputs": [],
   "source": []
  },
  {
   "cell_type": "code",
   "execution_count": 31,
   "id": "52aa54db",
   "metadata": {},
   "outputs": [
    {
     "name": "stdout",
     "output_type": "stream",
     "text": [
      "Human\n"
     ]
    }
   ],
   "source": [
    "if predicted_class==1:\n",
    "    print(\"Human\")\n",
    "else:\n",
    "    print(\"Cat\")"
   ]
  },
  {
   "cell_type": "markdown",
   "id": "773d026c",
   "metadata": {},
   "source": []
  }
 ],
 "metadata": {
  "kernelspec": {
   "display_name": "Python 3 (ipykernel)",
   "language": "python",
   "name": "python3"
  },
  "language_info": {
   "codemirror_mode": {
    "name": "ipython",
    "version": 3
   },
   "file_extension": ".py",
   "mimetype": "text/x-python",
   "name": "python",
   "nbconvert_exporter": "python",
   "pygments_lexer": "ipython3",
   "version": "3.10.6"
  }
 },
 "nbformat": 4,
 "nbformat_minor": 5
}
