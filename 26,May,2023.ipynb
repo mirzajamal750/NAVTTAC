{
 "cells": [
  {
   "cell_type": "markdown",
   "id": "2f951985",
   "metadata": {},
   "source": [
    "## today tasks\n",
    "### List\n",
    "### tuple \n",
    "### Dictionary\n",
    "### loops "
   ]
  },
  {
   "cell_type": "code",
   "execution_count": null,
   "id": "377ea26b",
   "metadata": {},
   "outputs": [],
   "source": [
    "\"\"\"Mutability:\n",
    "Lists: \n",
    "    Lists are mutable, meaning you can modify, add, or remove elements after creation.\n",
    "Tuples: \n",
    "    Tuples are immutable,which means their elements cannot be modified once they are assigned.\n",
    "Arrays:\n",
    "    Arrays can be mutable or immutable depending on the programming language or library. \n",
    "    In Python, the built-in array module provides mutable arrays, while NumPy arrays are mutable as well.\"\"\""
   ]
  },
  {
   "cell_type": "code",
   "execution_count": null,
   "id": "a1c70671",
   "metadata": {},
   "outputs": [],
   "source": [
    "\"\"\"Syntax:\n",
    "Lists: \n",
    "    Lists are defined using square brackets [], and elements are separated by commas.\n",
    "Tuples: \n",
    "    Tuples are defined using parentheses (), and elements are separated by commas.\n",
    "Arrays: \n",
    "    Arrays can be defined using different syntax depending on the programming language or library.\n",
    "    In Python, lists or NumPy arrays are commonly used to represent arrays.\"\"\""
   ]
  },
  {
   "cell_type": "code",
   "execution_count": null,
   "id": "6c4ec52a",
   "metadata": {},
   "outputs": [],
   "source": [
    "\"\"\"Usage:\n",
    "\n",
    "Lists: \n",
    "    Lists are versatile and commonly used for storing and manipulating collections of data. \n",
    "    They allow for dynamic resizing, and their elements can have different data types.\n",
    "Tuples: \n",
    "    Tuples are often used to represent a collection of related values that should not be changed.\n",
    "    They can be used to return multiple values from a function, as dictionary keys, or as elements in a set.\n",
    "Arrays: \n",
    "    Arrays are used when you need to store and manipulate homogeneous data, typically of the same data type.\n",
    "    They are often used for numerical computations, as they\n",
    "    provide efficient element-wise operations and memory storage.\"\"\""
   ]
  },
  {
   "cell_type": "code",
   "execution_count": null,
   "id": "dceaffd3",
   "metadata": {},
   "outputs": [],
   "source": [
    "\"\"\"Libraries and Features:\n",
    "\n",
    "Lists:  Lists are a built-in data structure in most programming languages and provide a wide range \n",
    "        of methods and functionalities.\n",
    "Tuples: Tuples are also available as a built-in data structure in many programming languages. \n",
    "        They are often used when immutability and indexing are important.\n",
    "Arrays: Arrays can be implemented using different libraries or modules in various programming languages.\n",
    "        For example, NumPy is a popular library in Python for efficient numerical computations using arrays.\n",
    "\n",
    "\"\"\""
   ]
  },
  {
   "cell_type": "code",
   "execution_count": 16,
   "id": "6dd961b2",
   "metadata": {},
   "outputs": [
    {
     "name": "stdout",
     "output_type": "stream",
     "text": [
      "Here are the set name as {'apple', 'Pineapple', 'banana', 1}\n"
     ]
    }
   ],
   "source": [
    "\"\"\"\n",
    "Sets:\n",
    "\n",
    "Sets are collections of unique elements, and they have distinct characteristics compared to the other data structures:\n",
    "\n",
    "Uniqueness: Sets only contain unique elements. Duplicate values are automatically eliminated when creating a set.\n",
    "\n",
    "Unordered: Sets are unordered, meaning the elements do not have a specific order or index.\n",
    "\n",
    "Mutable: Sets are mutable, allowing for the addition and removal of elements.\n",
    "\n",
    "Syntax: Sets are defined using curly braces {} or the set() constructor. Elements are separated by commas.\n",
    "\"\"\"\n",
    "\n",
    "fruits = {\"apple\", \"banana\",\"Pineapple\", 1,1}  # Creating a set using curly braces\n",
    "\n",
    "print(f\"Here are the set name as {fruits}\")  # Output: {'banana', 'orange', 'apple'}\n",
    "\n"
   ]
  },
  {
   "cell_type": "code",
   "execution_count": 17,
   "id": "e2d5b657",
   "metadata": {},
   "outputs": [
    {
     "data": {
      "text/plain": [
       "{1, 'Pineapple', 'apple', 'banana', 'grapes'}"
      ]
     },
     "execution_count": 17,
     "metadata": {},
     "output_type": "execute_result"
    }
   ],
   "source": [
    "fruits.add(\"grapes\")\n",
    "fruits"
   ]
  },
  {
   "cell_type": "code",
   "execution_count": 18,
   "id": "0e0b1cda",
   "metadata": {},
   "outputs": [],
   "source": [
    "fruits.remove(1)"
   ]
  },
  {
   "cell_type": "code",
   "execution_count": 22,
   "id": "b1970430",
   "metadata": {},
   "outputs": [
    {
     "data": {
      "text/plain": [
       "{'Pineapple', 'apple', 'banana', 'grapes'}"
      ]
     },
     "execution_count": 22,
     "metadata": {},
     "output_type": "execute_result"
    }
   ],
   "source": [
    "fruits"
   ]
  },
  {
   "cell_type": "code",
   "execution_count": 19,
   "id": "f30c194c",
   "metadata": {},
   "outputs": [
    {
     "ename": "TypeError",
     "evalue": "'set' object does not support item assignment",
     "output_type": "error",
     "traceback": [
      "\u001b[0;31m---------------------------------------------------------------------------\u001b[0m",
      "\u001b[0;31mTypeError\u001b[0m                                 Traceback (most recent call last)",
      "\u001b[0;32m/tmp/ipykernel_6952/480345302.py\u001b[0m in \u001b[0;36m<module>\u001b[0;34m\u001b[0m\n\u001b[0;32m----> 1\u001b[0;31m \u001b[0mfruits\u001b[0m\u001b[0;34m[\u001b[0m\u001b[0;36m2\u001b[0m\u001b[0;34m]\u001b[0m\u001b[0;34m=\u001b[0m\u001b[0;34m\"Green\"\u001b[0m\u001b[0;34m\u001b[0m\u001b[0;34m\u001b[0m\u001b[0m\n\u001b[0m",
      "\u001b[0;31mTypeError\u001b[0m: 'set' object does not support item assignment"
     ]
    }
   ],
   "source": [
    "fruits[2]=\"Green\""
   ]
  },
  {
   "cell_type": "code",
   "execution_count": 72,
   "id": "0fbddf6e",
   "metadata": {},
   "outputs": [
    {
     "name": "stdout",
     "output_type": "stream",
     "text": [
      "Add new element grape {'banana', 'orange', 'apple', 'grape'}\n"
     ]
    }
   ],
   "source": [
    "fruits.add(\"grape\")  # Adding an element to the set\n",
    "\n",
    "print(\"Add new element grape\",fruits)  # Output: {'banana', 'orange', 'apple', 'grape'}\n"
   ]
  },
  {
   "cell_type": "code",
   "execution_count": 73,
   "id": "d137753f",
   "metadata": {},
   "outputs": [
    {
     "name": "stdout",
     "output_type": "stream",
     "text": [
      "Removing the banana from the set {'orange', 'apple', 'grape'}\n"
     ]
    }
   ],
   "source": [
    "\n",
    "fruits.remove(\"banana\")  # Removing an element from the set\n",
    "\n",
    "print(\"Removing the banana from the set\",fruits)  # Output: {'orange', 'apple', 'grape'}"
   ]
  },
  {
   "cell_type": "code",
   "execution_count": 30,
   "id": "fec60b0e",
   "metadata": {},
   "outputs": [
    {
     "name": "stdout",
     "output_type": "stream",
     "text": [
      "Requirement already satisfied: numpy in /home/mirza/.local/lib/python3.10/site-packages (1.23.5)\r\n"
     ]
    }
   ],
   "source": [
    "!pip install numpy"
   ]
  },
  {
   "cell_type": "code",
   "execution_count": 11,
   "id": "a8c85223",
   "metadata": {},
   "outputs": [
    {
     "name": "stdout",
     "output_type": "stream",
     "text": [
      "<class 'list'>\n",
      "['cricket' 'football' 'baseball' '1.0' '11']\n",
      "baseball\n",
      "5\n"
     ]
    }
   ],
   "source": [
    "import numpy as np\n",
    "\n",
    "hobbies = [\"cricket\", \"football\", \"baseball\",1.0,11]\n",
    "array_hobbies = np.array(hobbies)\n",
    "\n",
    "print(type(hobbies))\n",
    "print(array_hobbies)\n",
    "# print(array_hobbies[2])\n",
    "print(hobbies[2])\n",
    "print(len(hobbies))"
   ]
  },
  {
   "cell_type": "code",
   "execution_count": 39,
   "id": "44b6255b",
   "metadata": {},
   "outputs": [
    {
     "name": "stdout",
     "output_type": "stream",
     "text": [
      "<class 'list'>\n"
     ]
    },
    {
     "data": {
      "text/plain": [
       "['apple', 'banana', 'orange', 'grape', 'watermelon']"
      ]
     },
     "execution_count": 39,
     "metadata": {},
     "output_type": "execute_result"
    }
   ],
   "source": [
    "fruits = [\"apple\", \"banana\", \"orange\", \"grape\", \"watermelon\"]\n",
    "\n",
    "print(type(fruits))\n",
    "fruits"
   ]
  },
  {
   "cell_type": "code",
   "execution_count": 47,
   "id": "41aebe9b",
   "metadata": {},
   "outputs": [
    {
     "data": {
      "text/plain": [
       "5"
      ]
     },
     "execution_count": 47,
     "metadata": {},
     "output_type": "execute_result"
    }
   ],
   "source": [
    "arr = [1, 2, 3, 4, 5, 6, 7, 8, 9, 10,11]\n",
    "half = len(arr) // 2\n",
    "first_half = arr[:half]\n",
    "second_half = arr[half:]\n",
    "\n",
    "# print(first_half)  \n",
    "# print(second_half) \n",
    "half"
   ]
  },
  {
   "cell_type": "code",
   "execution_count": 48,
   "id": "859837ea",
   "metadata": {},
   "outputs": [
    {
     "data": {
      "text/plain": [
       "[1, 2, 3, 4, 5]"
      ]
     },
     "execution_count": 48,
     "metadata": {},
     "output_type": "execute_result"
    }
   ],
   "source": [
    "first_half"
   ]
  },
  {
   "cell_type": "code",
   "execution_count": 49,
   "id": "ec56a2d3",
   "metadata": {},
   "outputs": [
    {
     "data": {
      "text/plain": [
       "[6, 7, 8, 9, 10, 11]"
      ]
     },
     "execution_count": 49,
     "metadata": {},
     "output_type": "execute_result"
    }
   ],
   "source": [
    "second_half"
   ]
  },
  {
   "cell_type": "code",
   "execution_count": 60,
   "id": "0d8b222e",
   "metadata": {},
   "outputs": [
    {
     "name": "stdout",
     "output_type": "stream",
     "text": [
      "[1, 2, 3, 4, 5, 6, 7]\n",
      "[8, 9, 10, 'AI', 'ML', 11, 12]\n",
      "[]\n"
     ]
    }
   ],
   "source": [
    "arr = [1, 2, 3, 4, 5, 6, 7, 8, 9, 10,\"AI\",\"ML\",11,12]\n",
    "third = len(arr) // 2\n",
    "first_third = arr[:third]\n",
    "second_third = arr[third:2*third]\n",
    "third_third = arr[2*third:]\n",
    "\n",
    "print(first_third)  \n",
    "print(second_third)  \n",
    "print(third_third)  \n"
   ]
  },
  {
   "cell_type": "code",
   "execution_count": 57,
   "id": "6c260cab",
   "metadata": {},
   "outputs": [
    {
     "data": {
      "text/plain": [
       "3"
      ]
     },
     "execution_count": 57,
     "metadata": {},
     "output_type": "execute_result"
    }
   ],
   "source": [
    "third"
   ]
  },
  {
   "cell_type": "code",
   "execution_count": 58,
   "id": "21ca3ccf",
   "metadata": {},
   "outputs": [
    {
     "data": {
      "text/plain": [
       "14"
      ]
     },
     "execution_count": 58,
     "metadata": {},
     "output_type": "execute_result"
    }
   ],
   "source": [
    "len(arr)"
   ]
  },
  {
   "cell_type": "code",
   "execution_count": 61,
   "id": "3fab3dbd",
   "metadata": {},
   "outputs": [
    {
     "name": "stdout",
     "output_type": "stream",
     "text": [
      "[1, 2, 3]\n",
      "[4, 5, 6, 7]\n",
      "[8, 9, 10]\n"
     ]
    }
   ],
   "source": [
    "arr = [1, 2, 3, 4, 5, 6, 7, 8, 9, 10]\n",
    "section1 = arr[:3]\n",
    "section2 = arr[3:7]\n",
    "section3 = arr[7:]\n",
    "\n",
    "print(section1) \n",
    "print(section2)  \n",
    "print(section3)  \n"
   ]
  },
  {
   "cell_type": "code",
   "execution_count": 63,
   "id": "c95d33f7",
   "metadata": {},
   "outputs": [
    {
     "data": {
      "text/plain": [
       "['apple', 'banana', 'orange', 'grape', 'watermelon']"
      ]
     },
     "execution_count": 63,
     "metadata": {},
     "output_type": "execute_result"
    }
   ],
   "source": [
    "fruits"
   ]
  },
  {
   "cell_type": "code",
   "execution_count": 64,
   "id": "267ee8af",
   "metadata": {},
   "outputs": [
    {
     "name": "stdout",
     "output_type": "stream",
     "text": [
      "<class 'list'>\n"
     ]
    }
   ],
   "source": [
    "print(type(fruits))"
   ]
  },
  {
   "cell_type": "code",
   "execution_count": 62,
   "id": "e515c826",
   "metadata": {},
   "outputs": [
    {
     "name": "stdout",
     "output_type": "stream",
     "text": [
      "True\n"
     ]
    }
   ],
   "source": [
    "for i in fruits:\n",
    "    if i==\"watermelon\":\n",
    "        print(\"True\")"
   ]
  },
  {
   "cell_type": "code",
   "execution_count": 65,
   "id": "56d09903",
   "metadata": {},
   "outputs": [
    {
     "name": "stdout",
     "output_type": "stream",
     "text": [
      "1\n",
      "2\n",
      "3\n",
      "4\n",
      "5\n",
      "6\n",
      "7\n",
      "8\n",
      "9\n"
     ]
    }
   ],
   "source": [
    "for i in range(1,10):\n",
    "    print(i)"
   ]
  },
  {
   "cell_type": "code",
   "execution_count": 75,
   "id": "6a5da38c",
   "metadata": {},
   "outputs": [],
   "source": [
    "fruits=['apple', 'banana', 'orange', 'grape', 'watermelon']"
   ]
  },
  {
   "cell_type": "code",
   "execution_count": 76,
   "id": "91ef5bb5",
   "metadata": {},
   "outputs": [
    {
     "name": "stdout",
     "output_type": "stream",
     "text": [
      "apple\n",
      "banana\n",
      "orange\n",
      "grape\n",
      "watermelon\n"
     ]
    }
   ],
   "source": [
    "for i in range (len(fruits)):\n",
    "    print(fruits[i])\n",
    "#     print(i)"
   ]
  },
  {
   "cell_type": "code",
   "execution_count": 82,
   "id": "d37db35a",
   "metadata": {},
   "outputs": [],
   "source": [
    "fruits[2]=\"Patato\"\n",
    "fruits.insert(4,\"Patato\")\n",
    "# print(fruits)\n",
    "# print(type(fruits))"
   ]
  },
  {
   "cell_type": "code",
   "execution_count": 83,
   "id": "e5407ed6",
   "metadata": {},
   "outputs": [
    {
     "name": "stdout",
     "output_type": "stream",
     "text": [
      "['apple', 'banana', 'Patato', 'grape', 'Patato', 'Patato', 'watermelon']\n"
     ]
    }
   ],
   "source": [
    "print(fruits)"
   ]
  },
  {
   "cell_type": "code",
   "execution_count": 84,
   "id": "9029c348",
   "metadata": {},
   "outputs": [
    {
     "name": "stdout",
     "output_type": "stream",
     "text": [
      "7\n"
     ]
    }
   ],
   "source": [
    "print(len(fruits))"
   ]
  },
  {
   "cell_type": "code",
   "execution_count": 86,
   "id": "93458f56",
   "metadata": {},
   "outputs": [
    {
     "name": "stdout",
     "output_type": "stream",
     "text": [
      "['apple', 'banana', 'Patato', 'grape', 'Patato', 'Mango', 'Mango', 'Patato', 'watermelon']\n"
     ]
    }
   ],
   "source": [
    "fruits.insert(5,\"Mango\")\n",
    "print(fruits)"
   ]
  },
  {
   "cell_type": "code",
   "execution_count": 92,
   "id": "e1b63865",
   "metadata": {},
   "outputs": [
    {
     "name": "stdout",
     "output_type": "stream",
     "text": [
      "<class 'tuple'>\n"
     ]
    },
    {
     "data": {
      "text/plain": [
       "2"
      ]
     },
     "execution_count": 92,
     "metadata": {},
     "output_type": "execute_result"
    }
   ],
   "source": [
    "fruits = (\"apple\",\"apple\", \"banana\", \"orange\", \"grape\", \"watermelon\")\n",
    "\n",
    "print(type(fruits))\n",
    "# print(fruits[2])\n",
    "# fruits[2]=\"Patato\"\n",
    "fruits.count(\"apple\")"
   ]
  },
  {
   "cell_type": "code",
   "execution_count": 93,
   "id": "6db0d15f",
   "metadata": {},
   "outputs": [
    {
     "name": "stdout",
     "output_type": "stream",
     "text": [
      "apple\n",
      "apple\n",
      "banana\n",
      "orange\n",
      "grape\n",
      "watermelon\n"
     ]
    }
   ],
   "source": [
    "for i in fruits:\n",
    "    print(i)"
   ]
  },
  {
   "cell_type": "code",
   "execution_count": 95,
   "id": "59e0043a",
   "metadata": {},
   "outputs": [
    {
     "name": "stdout",
     "output_type": "stream",
     "text": [
      "{'apple': 'red', 'banana': 'yellow', 'orange': 'orange', 'grape': 'purple', 'watermelon': 'green'}\n"
     ]
    }
   ],
   "source": [
    "fruits = {\n",
    "    \"apple\": \"red\",\n",
    "    \"banana\": \"yellow\",\n",
    "    \"orange\": \"orange\",\n",
    "    \"grape\": \"purple\",\n",
    "    \"watermelon\": \"green\"\n",
    "}\n",
    "\n",
    "print(fruits)\n"
   ]
  },
  {
   "cell_type": "code",
   "execution_count": 96,
   "id": "1f1cc870",
   "metadata": {},
   "outputs": [
    {
     "data": {
      "text/plain": [
       "dict_keys(['apple', 'banana', 'orange', 'grape', 'watermelon'])"
      ]
     },
     "execution_count": 96,
     "metadata": {},
     "output_type": "execute_result"
    }
   ],
   "source": [
    "fruits.keys()"
   ]
  },
  {
   "cell_type": "code",
   "execution_count": 97,
   "id": "1df93e63",
   "metadata": {},
   "outputs": [
    {
     "data": {
      "text/plain": [
       "dict_values(['red', 'yellow', 'orange', 'purple', 'green'])"
      ]
     },
     "execution_count": 97,
     "metadata": {},
     "output_type": "execute_result"
    }
   ],
   "source": [
    "fruits.values()"
   ]
  },
  {
   "cell_type": "code",
   "execution_count": 98,
   "id": "525cb237",
   "metadata": {},
   "outputs": [],
   "source": [
    "biodata={\n",
    "    \n",
    "    \"name\": \"Jamal\",\n",
    "    \"Education\": \"Engineering\",\n",
    "    \"Desgination\": \"ML Team Lead\",\n",
    "    \"email\":\"mirzajamal750@gmail.com\",\n",
    "    \"Place\":\"Islamabad\",\n",
    "    \"university\":\"FUI\"\n",
    "}"
   ]
  },
  {
   "cell_type": "code",
   "execution_count": 100,
   "id": "70506f09",
   "metadata": {},
   "outputs": [
    {
     "name": "stdout",
     "output_type": "stream",
     "text": [
      "{'name': 'Jamal', 'Education': 'Engineering', 'Desgination': 'ML Team Lead', 'email': 'mirzajamal750@gmail.com', 'Place': 'Islamabad', 'university': 'FUI'}\n"
     ]
    }
   ],
   "source": [
    "print(biodata)"
   ]
  },
  {
   "cell_type": "code",
   "execution_count": 102,
   "id": "ba483f57",
   "metadata": {},
   "outputs": [
    {
     "data": {
      "text/plain": [
       "6"
      ]
     },
     "execution_count": 102,
     "metadata": {},
     "output_type": "execute_result"
    }
   ],
   "source": [
    "len(biodata.items())"
   ]
  },
  {
   "cell_type": "code",
   "execution_count": 103,
   "id": "f0bec95b",
   "metadata": {},
   "outputs": [
    {
     "data": {
      "text/plain": [
       "dict_items([('name', 'Jamal'), ('Education', 'Engineering'), ('Desgination', 'ML Team Lead'), ('email', 'mirzajamal750@gmail.com'), ('Place', 'Islamabad'), ('university', 'FUI')])"
      ]
     },
     "execution_count": 103,
     "metadata": {},
     "output_type": "execute_result"
    }
   ],
   "source": [
    "biodata.items()"
   ]
  },
  {
   "cell_type": "code",
   "execution_count": 99,
   "id": "466dcd2d",
   "metadata": {},
   "outputs": [
    {
     "name": "stdout",
     "output_type": "stream",
     "text": [
      "Jamal\n"
     ]
    }
   ],
   "source": [
    "print(biodata.setdefault(\"name\"))"
   ]
  },
  {
   "cell_type": "code",
   "execution_count": 104,
   "id": "4e1887e9",
   "metadata": {},
   "outputs": [
    {
     "name": "stdout",
     "output_type": "stream",
     "text": [
      "Jamal\n",
      "Engineering\n",
      "ML Team Lead\n",
      "mirzajamal750@gmail.com\n",
      "Islamabad\n",
      "FUI\n"
     ]
    }
   ],
   "source": [
    "for i in biodata.values():\n",
    "    print(i)"
   ]
  },
  {
   "cell_type": "code",
   "execution_count": 106,
   "id": "0c89d36c",
   "metadata": {},
   "outputs": [
    {
     "name": "stdout",
     "output_type": "stream",
     "text": [
      "*\n",
      "-/*\n",
      "-/*\n",
      "-/*\n",
      "-/*\n",
      "-/*\n",
      "-/*\n",
      "-/*\n",
      "-/*\n",
      "-/*\n",
      "*\n",
      "-/*\n",
      "-/*\n",
      "-/*\n",
      "-/*\n",
      "-/*\n",
      "-/*\n",
      "-/*\n",
      "-/*\n",
      "-/*\n",
      "*\n",
      "-/*\n",
      "-/*\n",
      "-/*\n",
      "-/*\n",
      "-/*\n",
      "-/*\n",
      "-/*\n",
      "-/*\n",
      "-/*\n"
     ]
    }
   ],
   "source": [
    "for i in range(1,4):\n",
    "    print(\"*\")\n",
    "    for j in range(1,10):\n",
    "        print(\"-/*\")\n",
    "        "
   ]
  },
  {
   "cell_type": "code",
   "execution_count": 107,
   "id": "0509e049",
   "metadata": {},
   "outputs": [
    {
     "name": "stdout",
     "output_type": "stream",
     "text": [
      "*****\n",
      "****\n",
      "***\n",
      "**\n",
      "*\n"
     ]
    }
   ],
   "source": [
    "for i in range(5, 0, -1):\n",
    "    print(\"*\" * i)\n"
   ]
  },
  {
   "cell_type": "code",
   "execution_count": 111,
   "id": "d88e2787",
   "metadata": {},
   "outputs": [
    {
     "name": "stdout",
     "output_type": "stream",
     "text": [
      "*\n",
      "**\n",
      "***\n",
      "****\n",
      "*****\n"
     ]
    }
   ],
   "source": [
    "for i in range (1,6,1):\n",
    "    print(\"*\"*i)"
   ]
  },
  {
   "cell_type": "code",
   "execution_count": 1,
   "id": "e8576610",
   "metadata": {},
   "outputs": [
    {
     "name": "stdout",
     "output_type": "stream",
     "text": [
      "**********\n",
      "*********\n",
      "********\n",
      "*******\n",
      "******\n",
      "*****\n",
      "****\n",
      "***\n",
      "**\n",
      "*\n"
     ]
    },
    {
     "data": {
      "text/plain": [
       "' increment/decrement'"
      ]
     },
     "execution_count": 1,
     "metadata": {},
     "output_type": "execute_result"
    }
   ],
   "source": [
    "i = 10\n",
    "\"\"\" initalization\"\"\"\n",
    "\"\"\" condition\"\"\"\n",
    "while i > 0:\n",
    "    print(\"*\" * i)\n",
    "    i -= 1\n",
    "\"\"\" increment/decrement\"\"\"\n"
   ]
  },
  {
   "cell_type": "code",
   "execution_count": 106,
   "id": "27aa9f91",
   "metadata": {},
   "outputs": [
    {
     "name": "stdout",
     "output_type": "stream",
     "text": [
      "********************\n"
     ]
    }
   ],
   "source": [
    "i=20\n",
    "print(\"*\" * i)\n"
   ]
  },
  {
   "cell_type": "code",
   "execution_count": 114,
   "id": "c024faa6",
   "metadata": {},
   "outputs": [],
   "source": [
    "over_score=[3,5,9,14,12,0,25]\n"
   ]
  },
  {
   "cell_type": "code",
   "execution_count": 115,
   "id": "55874e06",
   "metadata": {},
   "outputs": [
    {
     "name": "stdout",
     "output_type": "stream",
     "text": [
      "7\n",
      "68\n"
     ]
    }
   ],
   "source": [
    "print(len(over_score))\n",
    "print(sum(over_score))"
   ]
  },
  {
   "cell_type": "code",
   "execution_count": 1,
   "id": "3b246b64",
   "metadata": {},
   "outputs": [
    {
     "name": "stdout",
     "output_type": "stream",
     "text": [
      "{'jamal': {1: {0, 'WD', 4, 'bowled', 6, 'No', 'free hit+6', 'catch'}, 2: {4, 'wicket'}, 3: {0, 1}, 4: {0, 'NO+FREEHIT', 6, 'out', 'catch'}}, 'hamza': {1: {0, 'WD', 4, 'bowled', 6, 'No', 'free hit+6'}, 2: {4, 'wicket'}, 3: {0, 1}, 4: {0, 'NO+FREEHIT', 6, 'out', 'catch'}}}\n"
     ]
    }
   ],
   "source": [
    "scoreboard = {\n",
    "    \"jamal\": {\n",
    "        1: {0, \"WD\", \"No\", \"free hit+6\", \"catch\", 4, \"bowled\", 6, 0},\n",
    "        2: {4,4,4,\"wicket\",\"wicket\",\"wicket\"},\n",
    "        3: {0,0,0,0,1,0},\n",
    "        4:{\"out\",\"NO+FREEHIT\",0,0,6,6,\"catch\"}\n",
    "    },\n",
    "    \"hamza\": {\n",
    "        1: {0, \"WD\", \"No\", \"free hit+6\", 0, 4, \"bowled\", 6, 0},\n",
    "        2: {4,4,4,\"wicket\",\"wicket\",\"wicket\"},\n",
    "        3: {0,0,0,0,1,0},\n",
    "        4:{\"out\",\"NO+FREEHIT\",0,\"catch\",6,6,\"out\"}\n",
    "        \n",
    "    }\n",
    "}\n",
    "\n",
    "print(scoreboard)\n"
   ]
  },
  {
   "cell_type": "code",
   "execution_count": 2,
   "id": "97bcf0e1",
   "metadata": {},
   "outputs": [
    {
     "name": "stdout",
     "output_type": "stream",
     "text": [
      "<built-in method keys of dict object at 0x7ff692fb91c0>\n",
      "2\n"
     ]
    }
   ],
   "source": [
    "print(scoreboard.keys)\n",
    "print(len(scoreboard))"
   ]
  },
  {
   "cell_type": "code",
   "execution_count": 6,
   "id": "61f722ab",
   "metadata": {},
   "outputs": [
    {
     "name": "stdout",
     "output_type": "stream",
     "text": [
      "Total No balls: 8\n"
     ]
    }
   ],
   "source": [
    "wicket_count = 0\n",
    "\n",
    "for player in scoreboard:\n",
    "    for inning in scoreboard[player]:\n",
    "        if \"out\" or \"wicket\" or \"catch\" or \"bowled\"  in scoreboard[player][inning]:\n",
    "            wicket_count += 1\n",
    "\n",
    "print(\"Total No balls:\", wicket_count)"
   ]
  },
  {
   "cell_type": "code",
   "execution_count": 15,
   "id": "e14efa47",
   "metadata": {},
   "outputs": [
    {
     "name": "stdout",
     "output_type": "stream",
     "text": [
      "Number of wickets taken by Jamal: 1\n",
      "Number of wickets taken by Hamza: 1\n",
      "Overall total wickets taken in the match: 2\n",
      "Overall 'WD' count: 2\n",
      "Overall 'NO' count: 2\n",
      "Total score of the match: 42\n",
      "Score given by Jamal: 21\n",
      "Score given by Hamza: 21\n"
     ]
    },
    {
     "data": {
      "text/plain": [
       "4"
      ]
     },
     "execution_count": 15,
     "metadata": {},
     "output_type": "execute_result"
    }
   ],
   "source": [
    "jamal_wickets = sum(\"wicket\" in innings for innings in scoreboard[\"jamal\"].values())\n",
    "print(\"Number of wickets taken by Jamal:\", jamal_wickets)\n",
    "hamza_wickets = sum(\"wicket\" in innings for innings in scoreboard[\"hamza\"].values())\n",
    "print(\"Number of wickets taken by Hamza:\", hamza_wickets)\n",
    "total_wickets = jamal_wickets + hamza_wickets\n",
    "print(\"Overall total wickets taken in the match:\", total_wickets)\n",
    "wd_count = sum(\"WD\" in innings for player in scoreboard.values() for innings in player.values())\n",
    "no_count = sum(\"No\" in innings for player in scoreboard.values() for innings in player.values())\n",
    "total_score = sum(score for player in scoreboard.values() for innings in player.values() for score in innings if isinstance(score, int))\n",
    "print(\"Overall 'WD' count:\", wd_count)\n",
    "print(\"Overall 'NO' count:\", no_count)\n",
    "print(\"Total score of the match:\", total_score)\n",
    "jamal_score = sum(score for innings in scoreboard[\"jamal\"].values() for score in innings if isinstance(score, int))\n",
    "print(\"Score given by Jamal:\", jamal_score)\n",
    "hamza_score = sum(score for innings in scoreboard[\"hamza\"].values() for score in innings if isinstance(score, int))\n",
    "print(\"Score given by Hamza:\", hamza_score)\n",
    "\n",
    "jamal_2nd_over_score = sum(score for score in scoreboard[\"jamal\"][2] if isinstance(score, int))\n",
    "hamza_2nd_over_score = sum(score for score in scoreboard[\"hamza\"][2] if isinstance(score, int))\n",
    "\n",
    "hamza_2nd_over_score\n"
   ]
  }
 ],
 "metadata": {
  "kernelspec": {
   "display_name": "Python 3 (ipykernel)",
   "language": "python",
   "name": "python3"
  },
  "language_info": {
   "codemirror_mode": {
    "name": "ipython",
    "version": 3
   },
   "file_extension": ".py",
   "mimetype": "text/x-python",
   "name": "python",
   "nbconvert_exporter": "python",
   "pygments_lexer": "ipython3",
   "version": "3.10.6"
  }
 },
 "nbformat": 4,
 "nbformat_minor": 5
}
