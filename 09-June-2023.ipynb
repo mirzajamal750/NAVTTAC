{
 "cells": [
  {
   "cell_type": "markdown",
   "id": "f64411b6",
   "metadata": {},
   "source": [
    "`<center><h1>Introduction to Pandas: A Powerful Data Manipulation and Analysis Library</h1></center>\n",
    "\n",
    "## Introduction\n",
    "Welcome to today's lecture on **\"Pandas of Python.\"** In this session, we will dive into the world of Pandas, a versatile library that is widely used for data manipulation and analysis in Python. Pandas provides powerful tools for handling structured data, making it an essential tool for data scientists and analysts. By the end of this lecture, you will have a solid foundation in Pandas and be equipped with the necessary skills to work with data effectively.\n",
    "\n",
    "## Agenda\n",
    "1. What is Pandas?\n",
    "2. Key Data Structures in Pandas\n",
    "   - Series\n",
    "   - DataFrame\n",
    "3. Loading and Saving Data\n",
    "4. Data Manipulation with Pandas\n",
    "   - Selection and Filtering\n",
    "   - Data Transformation\n",
    "   - Handling Missing Data\n",
    "   - Merging and Joining Data\n",
    "5. Exploratory Data Analysis with Pandas\n",
    "   - Descriptive Statistics\n",
    "   - Grouping and Aggregation\n",
    "   - Sorting and Ranking\n",
    "6. Advanced Functionalities\n",
    "   - Time Series Analysis\n",
    "   - Categorical Data Handling\n",
    "   - Applying Mathematical Functions\n",
    "7. Data Visualization with Pandas and Matplotlib\n",
    "8. Best Practices for Working with Pandas\n",
    "9. Conclusion and Next Steps\n",
    "\n",
    "## 1. What is Pandas?\n",
    "- Pandas is an open-source library for data manipulation and analysis in Python.\n",
    "- It provides high-performance, easy-to-use data structures and data analysis tools.\n",
    "- Pandas is built on top of NumPy, another popular library for numerical computing in Python.\n",
    "- It is widely used in data science, machine learning, and data analysis projects.\n",
    "\n",
    "## 2. Key Data Structures in Pandas\n",
    "### - Series\n",
    "- A one-dimensional labeled array capable of holding any data type.\n",
    "- Series can be created from a list, array, or dictionary.\n",
    "- It provides labeled indexing, which makes data manipulation and analysis more convenient.\n",
    "\n",
    "### - DataFrame\n",
    "- A two-dimensional labeled data structure, similar to a table in a relational database.\n",
    "- DataFrame consists of rows and columns, where each column can have a different data type.\n",
    "- It is widely used for data cleaning, exploration, and analysis tasks.\n",
    "- DataFrames can be created from various data sources like CSV files, Excel sheets, SQL databases, and more.\n",
    "\n",
    "## 3. Loading and Saving Data\n",
    "- Pandas supports reading data from and writing data to various file formats.\n",
    "- Common file formats include CSV, Excel, JSON, SQL databases, and more.\n",
    "- We will explore how to load data into Pandas DataFrames and save DataFrame contents to files.\n",
    "\n",
    "## 4. Data Manipulation with Pandas\n",
    "### - Selection and Filtering\n",
    "- Pandas provides powerful mechanisms to select and filter data based on conditions.\n",
    "- We will learn how to extract specific rows or columns from a DataFrame.\n",
    "\n",
    "### - Data Transformation\n",
    "- Pandas allows us to transform data by applying functions, mathematical operations, or custom operations on columns or rows.\n",
    "- We will explore how to perform these transformations efficiently.\n",
    "\n",
    "### - Handling Missing Data\n",
    "- Missing data is a common issue in real-world datasets.\n",
    "- Pandas provides functionalities to handle missing data, including filling missing values and removing rows or columns with missing data.\n",
    "\n",
    "### - Merging and Joining Data\n",
    "- Pandas allows us to combine multiple DataFrames based on common columns or indices.\n",
    "- We will learn how to merge and join DataFrames to create a unified dataset.\n",
    "\n",
    "## 5. Exploratory Data Analysis with Pandas\n",
    "### - Descriptive Statistics\n",
    "- Pandas provides easy-to-use methods for calculating descriptive statistics of numeric data.\n",
    "- We will explore functions like mean, median, standard deviation, and more.\n",
    "\n",
    "### - Grouping and Aggregation\n",
    "- Pandas supports grouping data based on one or more columns, enabling aggregation operations.\n",
    "- We will learn how to group data and perform aggregation functions like sum, count, and mean.\n",
    "\n",
    "### - Sorting and Ranking\n",
    "- Sorting data is crucial for understanding patterns and trends.\n",
    "- Pandas allows us to sort data based on one or more columns and rank the data accordingly.\n",
    "\n",
    "## 6. Advanced Functionalities\n",
    "### - Time Series Analysis\n",
    "- Pandas provides specialized tools for handling time series data.\n",
    "- We will explore how to work with dates, perform time-based indexing, and calculate rolling statistics.\n",
    "\n",
    "### - Categorical Data Handling\n",
    "- Categorical data requires special treatment during data analysis.\n",
    "- Pandas provides categorical data types and functions for handling categorical data effectively.\n",
    "\n",
    "### - Applying Mathematical Functions\n",
    "- Pandas allows us to apply mathematical functions or custom functions to data efficiently.\n",
    "- We will learn how to apply functions to columns or rows to derive meaningful insights.\n",
    "\n",
    "## 7. Data Visualization with Pandas and Matplotlib\n",
    "- While Pandas itself doesn't have built-in visualization capabilities, it integrates well with Matplotlib and other libraries.\n",
    "- We will explore how to create visualizations directly from Pandas DataFrames using Matplotlib.\n",
    "\n",
    "## 8. Best Practices for Working with Pandas\n",
    "- We will discuss some best practices to follow while working with Pandas to ensure efficient and effective data analysis.\n",
    "- These practices include optimizing memory usage, using vectorized operations, and writing efficient code.\n",
    "\n",
    "## 9. Conclusion and Next Steps\n",
    "- By the end of this lecture, you will have a solid understanding of Pandas and its capabilities for data manipulation and analysis.\n",
    "- You will be equipped with the necessary skills to explore and analyze datasets efficiently.\n",
    "- Take this knowledge and continue practicing and exploring more advanced topics to further enhance your data analysis skills.\n",
    "\n",
    "I hope this lecture on Pandas provides you with valuable insights and equips you with the necessary skills to work with data effectively. Best of luck with your future data-related endeavors!\n"
   ]
  },
  {
   "cell_type": "code",
   "execution_count": 2,
   "id": "6da39ea7",
   "metadata": {},
   "outputs": [
    {
     "data": {
      "text/plain": [
       "0    10\n",
       "1    20\n",
       "2    30\n",
       "3    40\n",
       "4    50\n",
       "dtype: int64"
      ]
     },
     "execution_count": 2,
     "metadata": {},
     "output_type": "execute_result"
    }
   ],
   "source": [
    "import pandas as pd\n",
    "import numpy as np\n",
    "\n",
    "# Step 1: Create an array\n",
    "data = np.array([10, 20, 30, 40, 50])\n",
    "\n",
    "# Step 2: Convert the array to a Series\n",
    "series = pd.Series(data)\n",
    "series"
   ]
  },
  {
   "cell_type": "code",
   "execution_count": 3,
   "id": "6cb0d31c",
   "metadata": {},
   "outputs": [],
   "source": [
    "\n",
    "# Step 3: Save the Series as a CSV file\n",
    "series.to_csv('data.csv', index=False)\n",
    "\n",
    "# Step 4: Save the Series as an Excel file\n",
    "series.to_excel('data.xlsx', index=False)\n"
   ]
  },
  {
   "cell_type": "code",
   "execution_count": 5,
   "id": "9fe8f8a0",
   "metadata": {},
   "outputs": [
    {
     "data": {
      "text/html": [
       "<div>\n",
       "<style scoped>\n",
       "    .dataframe tbody tr th:only-of-type {\n",
       "        vertical-align: middle;\n",
       "    }\n",
       "\n",
       "    .dataframe tbody tr th {\n",
       "        vertical-align: top;\n",
       "    }\n",
       "\n",
       "    .dataframe thead th {\n",
       "        text-align: right;\n",
       "    }\n",
       "</style>\n",
       "<table border=\"1\" class=\"dataframe\">\n",
       "  <thead>\n",
       "    <tr style=\"text-align: right;\">\n",
       "      <th></th>\n",
       "      <th>0</th>\n",
       "    </tr>\n",
       "  </thead>\n",
       "  <tbody>\n",
       "    <tr>\n",
       "      <th>0</th>\n",
       "      <td>10</td>\n",
       "    </tr>\n",
       "    <tr>\n",
       "      <th>1</th>\n",
       "      <td>20</td>\n",
       "    </tr>\n",
       "    <tr>\n",
       "      <th>2</th>\n",
       "      <td>30</td>\n",
       "    </tr>\n",
       "    <tr>\n",
       "      <th>3</th>\n",
       "      <td>40</td>\n",
       "    </tr>\n",
       "    <tr>\n",
       "      <th>4</th>\n",
       "      <td>50</td>\n",
       "    </tr>\n",
       "  </tbody>\n",
       "</table>\n",
       "</div>"
      ],
      "text/plain": [
       "    0\n",
       "0  10\n",
       "1  20\n",
       "2  30\n",
       "3  40\n",
       "4  50"
      ]
     },
     "execution_count": 5,
     "metadata": {},
     "output_type": "execute_result"
    }
   ],
   "source": [
    "data=pd.read_csv(\"data.csv\")\n",
    "data"
   ]
  },
  {
   "cell_type": "code",
   "execution_count": 7,
   "id": "a18281f9",
   "metadata": {},
   "outputs": [
    {
     "data": {
      "text/html": [
       "<div>\n",
       "<style scoped>\n",
       "    .dataframe tbody tr th:only-of-type {\n",
       "        vertical-align: middle;\n",
       "    }\n",
       "\n",
       "    .dataframe tbody tr th {\n",
       "        vertical-align: top;\n",
       "    }\n",
       "\n",
       "    .dataframe thead th {\n",
       "        text-align: right;\n",
       "    }\n",
       "</style>\n",
       "<table border=\"1\" class=\"dataframe\">\n",
       "  <thead>\n",
       "    <tr style=\"text-align: right;\">\n",
       "      <th></th>\n",
       "      <th>0</th>\n",
       "    </tr>\n",
       "  </thead>\n",
       "  <tbody>\n",
       "    <tr>\n",
       "      <th>0</th>\n",
       "      <td>10</td>\n",
       "    </tr>\n",
       "    <tr>\n",
       "      <th>1</th>\n",
       "      <td>20</td>\n",
       "    </tr>\n",
       "    <tr>\n",
       "      <th>2</th>\n",
       "      <td>30</td>\n",
       "    </tr>\n",
       "    <tr>\n",
       "      <th>3</th>\n",
       "      <td>40</td>\n",
       "    </tr>\n",
       "    <tr>\n",
       "      <th>4</th>\n",
       "      <td>50</td>\n",
       "    </tr>\n",
       "  </tbody>\n",
       "</table>\n",
       "</div>"
      ],
      "text/plain": [
       "    0\n",
       "0  10\n",
       "1  20\n",
       "2  30\n",
       "3  40\n",
       "4  50"
      ]
     },
     "execution_count": 7,
     "metadata": {},
     "output_type": "execute_result"
    }
   ],
   "source": [
    "data1=pd.read_excel(\"data.xlsx\")\n",
    "data1"
   ]
  },
  {
   "cell_type": "code",
   "execution_count": 21,
   "id": "ce24611f",
   "metadata": {},
   "outputs": [
    {
     "name": "stdout",
     "output_type": "stream",
     "text": [
      "   Numbers    Names  Roll Numbers\n",
      "0       10     John           101\n",
      "1       20     Emma           102\n",
      "2       30  Michael           103\n",
      "3       40   Sophia           104\n",
      "4       50  William           105\n"
     ]
    },
    {
     "data": {
      "text/plain": [
       "2"
      ]
     },
     "execution_count": 21,
     "metadata": {},
     "output_type": "execute_result"
    }
   ],
   "source": [
    "import pandas as pd\n",
    "import numpy as np\n",
    "\n",
    "# Step 1: Create an array of numbers, names, and roll numbers\n",
    "numbers = np.array([10, 20, 30, 40, 50])\n",
    "names = np.array(['John', 'Emma', 'Michael', 'Sophia', 'William'])\n",
    "roll_numbers = np.array([101, 102, 103, 104, 105])\n",
    "\n",
    "# Step 2: Convert arrays into Series\n",
    "numbers_series = pd.Series(numbers, name='Numbers')\n",
    "names_series = pd.Series(names, name='Names')\n",
    "roll_numbers_series = pd.Series(roll_numbers, name='Roll Numbers')\n",
    "\n",
    "# Step 3: Merge the Series into a single DataFrame\n",
    "df = pd.concat([numbers_series, names_series, roll_numbers_series], axis=1)\n",
    "\n",
    "# Step 4: Print the merged DataFrame\n",
    "print(df)\n",
    "df.ndim"
   ]
  },
  {
   "cell_type": "code",
   "execution_count": 35,
   "id": "086137aa",
   "metadata": {},
   "outputs": [],
   "source": [
    "import pandas as pd\n",
    "import numpy as np\n",
    "\n",
    "# Step 1: Create an array of numbers, names, and roll numbers\n",
    "numbers = np.array([10, 20, 30, 40, 50])\n",
    "names = np.array(['John', 'Emma', 'Michael', 'Sophia', 'William'])\n",
    "roll_numbers = np.array([101, 102, 103, 104, 105])\n",
    "\n",
    "# Step 2: Convert arrays into Series\n",
    "numbers_series = pd.Series(numbers, name='Numbers')\n",
    "names_series = pd.Series(names, name='Names')\n",
    "roll_numbers_series = pd.Series(roll_numbers, name='Roll Numbers')\n",
    "\n",
    "# Step 3: Merge the Series into a single DataFrame\n",
    "df = pd.concat([numbers_series, names_series, roll_numbers_series], axis=1)\n",
    "\n",
    "# Step 4: Save the DataFrame in different file formats\n",
    "df.to_excel('merged_data.xlsx', index=False)  # Save as XLSX\n",
    "df.to_csv('merged_data.csv', index=False)  # Save as CSV\n",
    "df.to_json('merged_data.json', orient='records')  # Save as JSON\n",
    "# df.to_parquet('merged_data.parquet', engine='pyarrow')  # Save as Parquet\n",
    "#df.to_feather('merged_data.feather')  # Save as Feather\n",
    "\n",
    "# Optional: Save as HTML for viewing in a web browser\n",
    "df.to_html('merged_data.html', index=False)\n",
    "\n",
    "# Optional: Save as Markdown for documentation purposes\n",
    "#df.to_markdown('merged_data.md', index=False)\n"
   ]
  },
  {
   "cell_type": "code",
   "execution_count": 23,
   "id": "791a6afe",
   "metadata": {},
   "outputs": [
    {
     "name": "stdout",
     "output_type": "stream",
     "text": [
      "Requirement already satisfied: pyarrow in /home/mirza/anaconda3/lib/python3.10/site-packages (11.0.0)\r\n",
      "Requirement already satisfied: numpy>=1.16.6 in /home/mirza/.local/lib/python3.10/site-packages (from pyarrow) (1.23.5)\r\n"
     ]
    }
   ],
   "source": [
    "!pip install pyarrow"
   ]
  },
  {
   "cell_type": "code",
   "execution_count": 36,
   "id": "180dea3c",
   "metadata": {},
   "outputs": [
    {
     "data": {
      "text/html": [
       "<div>\n",
       "<style scoped>\n",
       "    .dataframe tbody tr th:only-of-type {\n",
       "        vertical-align: middle;\n",
       "    }\n",
       "\n",
       "    .dataframe tbody tr th {\n",
       "        vertical-align: top;\n",
       "    }\n",
       "\n",
       "    .dataframe thead th {\n",
       "        text-align: right;\n",
       "    }\n",
       "</style>\n",
       "<table border=\"1\" class=\"dataframe\">\n",
       "  <thead>\n",
       "    <tr style=\"text-align: right;\">\n",
       "      <th></th>\n",
       "      <th>Roll Number</th>\n",
       "      <th>Student Name</th>\n",
       "      <th>Maths Marks</th>\n",
       "      <th>Science Marks</th>\n",
       "      <th>English Marks</th>\n",
       "    </tr>\n",
       "  </thead>\n",
       "  <tbody>\n",
       "    <tr>\n",
       "      <th>0</th>\n",
       "      <td>1</td>\n",
       "      <td>John</td>\n",
       "      <td>85</td>\n",
       "      <td>90</td>\n",
       "      <td>78</td>\n",
       "    </tr>\n",
       "    <tr>\n",
       "      <th>1</th>\n",
       "      <td>2</td>\n",
       "      <td>Emma</td>\n",
       "      <td>92</td>\n",
       "      <td>88</td>\n",
       "      <td>85</td>\n",
       "    </tr>\n",
       "    <tr>\n",
       "      <th>2</th>\n",
       "      <td>3</td>\n",
       "      <td>Michael</td>\n",
       "      <td>78</td>\n",
       "      <td>92</td>\n",
       "      <td>88</td>\n",
       "    </tr>\n",
       "    <tr>\n",
       "      <th>3</th>\n",
       "      <td>4</td>\n",
       "      <td>Sophia</td>\n",
       "      <td>90</td>\n",
       "      <td>85</td>\n",
       "      <td>90</td>\n",
       "    </tr>\n",
       "    <tr>\n",
       "      <th>4</th>\n",
       "      <td>5</td>\n",
       "      <td>William</td>\n",
       "      <td>88</td>\n",
       "      <td>80</td>\n",
       "      <td>92</td>\n",
       "    </tr>\n",
       "  </tbody>\n",
       "</table>\n",
       "</div>"
      ],
      "text/plain": [
       "   Roll Number Student Name  Maths Marks  Science Marks  English Marks\n",
       "0            1         John           85             90             78\n",
       "1            2         Emma           92             88             85\n",
       "2            3      Michael           78             92             88\n",
       "3            4       Sophia           90             85             90\n",
       "4            5      William           88             80             92"
      ]
     },
     "execution_count": 36,
     "metadata": {},
     "output_type": "execute_result"
    }
   ],
   "source": [
    "import pandas as pd\n",
    "\n",
    "# Step 1: Create a dictionary of student data\n",
    "data = {\n",
    "    'Roll Number': [1, 2, 3, 4, 5],\n",
    "    'Student Name': ['John', 'Emma', 'Michael', 'Sophia', 'William'],\n",
    "    'Maths Marks': [85, 92, 78, 90, 88],\n",
    "    'Science Marks': [90, 88, 92, 85, 80],\n",
    "    'English Marks': [78, 85, 88, 90, 92]\n",
    "}\n",
    "\n",
    "# Step 2: Create a DataFrame\n",
    "df = pd.DataFrame(data)\n",
    "df_series=pd.Series(data)\n",
    "df"
   ]
  },
  {
   "cell_type": "code",
   "execution_count": 9,
   "id": "48ebe304",
   "metadata": {},
   "outputs": [
    {
     "data": {
      "text/plain": [
       "Roll Number                             [1, 2, 3, 4, 5]\n",
       "Student Name     [John, Emma, Michael, Sophia, William]\n",
       "Maths Marks                        [85, 92, 78, 90, 88]\n",
       "Science Marks                      [90, 88, 92, 85, 80]\n",
       "English Marks                      [78, 85, 88, 90, 92]\n",
       "dtype: object"
      ]
     },
     "execution_count": 9,
     "metadata": {},
     "output_type": "execute_result"
    }
   ],
   "source": [
    "df_series"
   ]
  },
  {
   "cell_type": "markdown",
   "id": "1ce8a21b",
   "metadata": {},
   "source": [
    "\"\"\"df[['Maths Marks', 'Science Marks', 'English Marks']] selects the columns 'Maths Marks', 'Science Marks', \n",
    "and 'English Marks' from the DataFrame df. This creates a new DataFrame with only these selected columns.\n",
    "\n",
    ".mean() calculates the mean for each column in the selected DataFrame.\n",
    "By default, it calculates the mean along the column axis, \n",
    "resulting in a Series containing the mean values for each column.\n",
    "\n",
    "The first .mean() calculates the mean of the mean values obtained in step 2. \n",
    "This will give us the average of all the mean values, representing the class average.\n",
    "\n",
    "So, by applying the .mean().mean() operations,\n",
    "we obtain the average of the means of the columns 'Maths Marks', 'Science Marks', \n",
    "and 'English Marks', which represents the class average.\"\"\""
   ]
  },
  {
   "cell_type": "code",
   "execution_count": 39,
   "id": "6d6fde8e",
   "metadata": {},
   "outputs": [
    {
     "data": {
      "text/plain": [
       "0    84.333333\n",
       "1    88.333333\n",
       "2    86.000000\n",
       "3    88.333333\n",
       "4    86.666667\n",
       "Name: Percentage, dtype: float64"
      ]
     },
     "execution_count": 39,
     "metadata": {},
     "output_type": "execute_result"
    }
   ],
   "source": [
    "\n",
    "# Step 3: Calculate the percentage and average\n",
    "df['Percentage'] = df[['Maths Marks', 'Science Marks', 'English Marks']].mean(axis=1)\n",
    "class_average = df[['Maths Marks', 'Science Marks', 'English Marks']].mean().mean()\n",
    "class_average\n",
    "df[\"Percentage\"]"
   ]
  },
  {
   "cell_type": "code",
   "execution_count": 38,
   "id": "1484e462",
   "metadata": {},
   "outputs": [],
   "source": [
    "# Step 4: Save the DataFrame as a CSV file\n",
    "df.to_csv('student_data.csv', index=False)\n",
    "\n",
    "# Step 5: Save the DataFrame as an Excel file\n",
    "df.to_excel('student_data.xlsx', index=False)\n"
   ]
  },
  {
   "cell_type": "markdown",
   "id": "56d46bfe",
   "metadata": {},
   "source": [
    "# iloc & loc"
   ]
  },
  {
   "cell_type": "code",
   "execution_count": 11,
   "id": "3c5fe523",
   "metadata": {},
   "outputs": [],
   "source": [
    "import pandas as pd\n",
    "\n",
    "# Create a sample DataFrame\n",
    "data = {\n",
    "    'Name': ['John', 'Emma', 'Michael', 'Sophia', 'William'],\n",
    "    'Age': [25, 30, 28, 32, 27],\n",
    "    'City': ['New York', 'London', 'Paris', 'Tokyo', 'Sydney']\n",
    "}\n",
    "\n"
   ]
  },
  {
   "cell_type": "code",
   "execution_count": 41,
   "id": "43064994",
   "metadata": {},
   "outputs": [
    {
     "data": {
      "text/html": [
       "<div>\n",
       "<style scoped>\n",
       "    .dataframe tbody tr th:only-of-type {\n",
       "        vertical-align: middle;\n",
       "    }\n",
       "\n",
       "    .dataframe tbody tr th {\n",
       "        vertical-align: top;\n",
       "    }\n",
       "\n",
       "    .dataframe thead th {\n",
       "        text-align: right;\n",
       "    }\n",
       "</style>\n",
       "<table border=\"1\" class=\"dataframe\">\n",
       "  <thead>\n",
       "    <tr style=\"text-align: right;\">\n",
       "      <th></th>\n",
       "      <th>Roll Number</th>\n",
       "      <th>Student Name</th>\n",
       "      <th>Maths Marks</th>\n",
       "      <th>Science Marks</th>\n",
       "      <th>English Marks</th>\n",
       "    </tr>\n",
       "  </thead>\n",
       "  <tbody>\n",
       "    <tr>\n",
       "      <th>0</th>\n",
       "      <td>1</td>\n",
       "      <td>John</td>\n",
       "      <td>85</td>\n",
       "      <td>90</td>\n",
       "      <td>78</td>\n",
       "    </tr>\n",
       "    <tr>\n",
       "      <th>1</th>\n",
       "      <td>2</td>\n",
       "      <td>Emma</td>\n",
       "      <td>92</td>\n",
       "      <td>88</td>\n",
       "      <td>85</td>\n",
       "    </tr>\n",
       "    <tr>\n",
       "      <th>2</th>\n",
       "      <td>3</td>\n",
       "      <td>Michael</td>\n",
       "      <td>78</td>\n",
       "      <td>92</td>\n",
       "      <td>88</td>\n",
       "    </tr>\n",
       "    <tr>\n",
       "      <th>3</th>\n",
       "      <td>4</td>\n",
       "      <td>Sophia</td>\n",
       "      <td>90</td>\n",
       "      <td>85</td>\n",
       "      <td>90</td>\n",
       "    </tr>\n",
       "    <tr>\n",
       "      <th>4</th>\n",
       "      <td>5</td>\n",
       "      <td>William</td>\n",
       "      <td>88</td>\n",
       "      <td>80</td>\n",
       "      <td>92</td>\n",
       "    </tr>\n",
       "  </tbody>\n",
       "</table>\n",
       "</div>"
      ],
      "text/plain": [
       "   Roll Number Student Name  Maths Marks  Science Marks  English Marks\n",
       "0            1         John           85             90             78\n",
       "1            2         Emma           92             88             85\n",
       "2            3      Michael           78             92             88\n",
       "3            4       Sophia           90             85             90\n",
       "4            5      William           88             80             92"
      ]
     },
     "execution_count": 41,
     "metadata": {},
     "output_type": "execute_result"
    }
   ],
   "source": [
    "df = pd.DataFrame(data)\n",
    "df\n"
   ]
  },
  {
   "cell_type": "code",
   "execution_count": 42,
   "id": "d227512b",
   "metadata": {},
   "outputs": [
    {
     "name": "stdout",
     "output_type": "stream",
     "text": [
      "Using iloc:\n",
      "Roll Number         2\n",
      "Student Name     Emma\n",
      "Maths Marks        92\n",
      "Science Marks      88\n",
      "English Marks      85\n",
      "Name: 1, dtype: object\n"
     ]
    }
   ],
   "source": [
    "# Using .iloc[] for selecting rows and columns by integer positions\n",
    "print(\"Using iloc:\")\n",
    "row_1 = df.loc[1]\n",
    "print(row_1)\n"
   ]
  },
  {
   "cell_type": "code",
   "execution_count": 28,
   "id": "a6e47fe0",
   "metadata": {},
   "outputs": [
    {
     "name": "stdout",
     "output_type": "stream",
     "text": [
      "      Name  Age    City\n",
      "1     Emma   30  London\n",
      "2  Michael   28   Paris\n",
      "3   Sophia   32   Tokyo\n"
     ]
    }
   ],
   "source": [
    "# Select the first row\n",
    "rows_2_to_4 = df.iloc[1:4]  # Select rows from index 1 to 3 (exclusive)\n",
    "print(rows_2_to_4)\n",
    "\n"
   ]
  },
  {
   "cell_type": "code",
   "execution_count": 29,
   "id": "7f1aac20",
   "metadata": {},
   "outputs": [
    {
     "name": "stdout",
     "output_type": "stream",
     "text": [
      "0    25\n",
      "1    30\n",
      "2    28\n",
      "3    32\n",
      "4    27\n",
      "Name: Age, dtype: int64\n"
     ]
    }
   ],
   "source": [
    "col_2 = df.iloc[:, 1]  # Select the second column\n",
    "print(col_2)"
   ]
  },
  {
   "cell_type": "code",
   "execution_count": 23,
   "id": "474113f6",
   "metadata": {},
   "outputs": [
    {
     "name": "stdout",
     "output_type": "stream",
     "text": [
      "\n",
      "Using loc:\n",
      "Name      Emma\n",
      "Age         30\n",
      "City    London\n",
      "Name: 1, dtype: object\n"
     ]
    }
   ],
   "source": [
    "\n",
    "print(\"\\nUsing loc:\")\n",
    "# Using .loc[] for selecting rows and columns by labels\n",
    "row_2 = df.loc[1]  # Select the row with index label 1\n",
    "print(row_2)\n"
   ]
  },
  {
   "cell_type": "code",
   "execution_count": 24,
   "id": "41a68992",
   "metadata": {},
   "outputs": [
    {
     "name": "stdout",
     "output_type": "stream",
     "text": [
      "      Name  Age    City\n",
      "1     Emma   30  London\n",
      "2  Michael   28   Paris\n",
      "3   Sophia   32   Tokyo\n"
     ]
    }
   ],
   "source": [
    "rows_2_to_4 = df.loc[1:3]  # Select rows from index label 1 to 3 (inclusive)\n",
    "print(rows_2_to_4)\n"
   ]
  },
  {
   "cell_type": "code",
   "execution_count": 26,
   "id": "8b68916b",
   "metadata": {},
   "outputs": [
    {
     "name": "stdout",
     "output_type": "stream",
     "text": [
      "0    New York\n",
      "1      London\n",
      "2       Paris\n",
      "3       Tokyo\n",
      "4      Sydney\n",
      "Name: City, dtype: object\n"
     ]
    }
   ],
   "source": [
    "col_city = df.loc[:, 'City']  # Select the 'City' column\n",
    "print(col_city)\n",
    "\n"
   ]
  },
  {
   "cell_type": "code",
   "execution_count": 37,
   "id": "9b35ae12",
   "metadata": {},
   "outputs": [
    {
     "data": {
      "text/html": [
       "<div>\n",
       "<style scoped>\n",
       "    .dataframe tbody tr th:only-of-type {\n",
       "        vertical-align: middle;\n",
       "    }\n",
       "\n",
       "    .dataframe tbody tr th {\n",
       "        vertical-align: top;\n",
       "    }\n",
       "\n",
       "    .dataframe thead th {\n",
       "        text-align: right;\n",
       "    }\n",
       "</style>\n",
       "<table border=\"1\" class=\"dataframe\">\n",
       "  <thead>\n",
       "    <tr style=\"text-align: right;\">\n",
       "      <th></th>\n",
       "      <th>Name</th>\n",
       "      <th>Age</th>\n",
       "      <th>City</th>\n",
       "    </tr>\n",
       "  </thead>\n",
       "  <tbody>\n",
       "    <tr>\n",
       "      <th>0</th>\n",
       "      <td>John</td>\n",
       "      <td>25</td>\n",
       "      <td>New York</td>\n",
       "    </tr>\n",
       "    <tr>\n",
       "      <th>1</th>\n",
       "      <td>Emma</td>\n",
       "      <td>30</td>\n",
       "      <td>London</td>\n",
       "    </tr>\n",
       "    <tr>\n",
       "      <th>2</th>\n",
       "      <td>Michael</td>\n",
       "      <td>28</td>\n",
       "      <td>Paris</td>\n",
       "    </tr>\n",
       "    <tr>\n",
       "      <th>3</th>\n",
       "      <td>Sophia</td>\n",
       "      <td>32</td>\n",
       "      <td>Tokyo</td>\n",
       "    </tr>\n",
       "    <tr>\n",
       "      <th>4</th>\n",
       "      <td>William</td>\n",
       "      <td>27</td>\n",
       "      <td>Sydney</td>\n",
       "    </tr>\n",
       "  </tbody>\n",
       "</table>\n",
       "</div>"
      ],
      "text/plain": [
       "      Name  Age      City\n",
       "0     John   25  New York\n",
       "1     Emma   30    London\n",
       "2  Michael   28     Paris\n",
       "3   Sophia   32     Tokyo\n",
       "4  William   27    Sydney"
      ]
     },
     "execution_count": 37,
     "metadata": {},
     "output_type": "execute_result"
    }
   ],
   "source": [
    "import pandas as pd\n",
    "\n",
    "# Create a sample DataFrame\n",
    "data = {\n",
    "    'Name': ['John', 'Emma', 'Michael', 'Sophia', 'William'],\n",
    "    'Age': [25, 30, 28, 32, 27],\n",
    "    'City': ['New York', 'London', 'Paris', 'Tokyo', 'Sydney']\n",
    "}\n",
    "\n",
    "df = pd.DataFrame(data)\n",
    "df"
   ]
  },
  {
   "cell_type": "code",
   "execution_count": 39,
   "id": "c9573b68",
   "metadata": {},
   "outputs": [
    {
     "name": "stdout",
     "output_type": "stream",
     "text": [
      "Subset using iloc:\n",
      "\n",
      "Subset using loc:\n",
      "     Name    City\n",
      "1    Emma  London\n",
      "3  Sophia   Tokyo\n"
     ]
    }
   ],
   "source": [
    "# Using .iloc[] for selecting specific rows and columns by integer positions\n",
    "subset_1 = df.iloc[[0, 2, 4], [1, 2]]  # Select rows 0, 2, 4 and columns 1, 2\n",
    "\n",
    "# Using .loc[] for selecting specific rows and columns by labels\n",
    "subset_2 = df.loc[[1, 3], ['Name', 'City']]  # Select rows with index label 1, 3 and columns 'Name', 'City'\n",
    "\n",
    "print(\"Subset using iloc:\")\n",
    "# print(subset_1)\n",
    "\n",
    "print(\"\\nSubset using loc:\")\n",
    "print(subset_2)\n"
   ]
  },
  {
   "cell_type": "code",
   "execution_count": 40,
   "id": "72211bee",
   "metadata": {},
   "outputs": [
    {
     "name": "stdout",
     "output_type": "stream",
     "text": [
      "Subset of rows where Age is greater than 27:\n",
      "      Name  Age    City\n",
      "1     Emma   30  London\n",
      "2  Michael   28   Paris\n",
      "3   Sophia   32   Tokyo\n"
     ]
    }
   ],
   "source": [
    "import pandas as pd\n",
    "\n",
    "# Create a sample DataFrame\n",
    "data = {\n",
    "    'Name': ['John', 'Emma', 'Michael', 'Sophia', 'William'],\n",
    "    'Age': [25, 30, 28, 32, 27],\n",
    "    'City': ['New York', 'London', 'Paris', 'Tokyo', 'Sydney']\n",
    "}\n",
    "\n",
    "df = pd.DataFrame(data)\n",
    "\n",
    "# Select rows where Age is greater than 27 using .loc[]\n",
    "subset = df.loc[df['Age'] > 27]\n",
    "\n",
    "print(\"Subset of rows where Age is greater than 27:\")\n",
    "print(subset)\n"
   ]
  },
  {
   "cell_type": "code",
   "execution_count": 41,
   "id": "28ceefa0",
   "metadata": {},
   "outputs": [
    {
     "name": "stdout",
     "output_type": "stream",
     "text": [
      "Subset using iloc with slicing:\n",
      "      Name  Age\n",
      "1     Emma   30\n",
      "2  Michael   28\n",
      "3   Sophia   32\n"
     ]
    }
   ],
   "source": [
    "import pandas as pd\n",
    "\n",
    "# Create a sample DataFrame\n",
    "data = {\n",
    "    'Name': ['John', 'Emma', 'Michael', 'Sophia', 'William'],\n",
    "    'Age': [25, 30, 28, 32, 27],\n",
    "    'City': ['New York', 'London', 'Paris', 'Tokyo', 'Sydney']\n",
    "}\n",
    "\n",
    "df = pd.DataFrame(data)\n",
    "\n",
    "# Select a subset of rows and columns using slicing with .iloc[]\n",
    "subset = df.iloc[1:4, 0:2]  # Select rows 1 to 3 and columns 0 to 1\n",
    "\n",
    "print(\"Subset using iloc with slicing:\")\n",
    "print(subset)\n"
   ]
  },
  {
   "cell_type": "code",
   "execution_count": 51,
   "id": "0fa9dd03",
   "metadata": {},
   "outputs": [
    {
     "data": {
      "text/html": [
       "<div>\n",
       "<style scoped>\n",
       "    .dataframe tbody tr th:only-of-type {\n",
       "        vertical-align: middle;\n",
       "    }\n",
       "\n",
       "    .dataframe tbody tr th {\n",
       "        vertical-align: top;\n",
       "    }\n",
       "\n",
       "    .dataframe thead th {\n",
       "        text-align: right;\n",
       "    }\n",
       "</style>\n",
       "<table border=\"1\" class=\"dataframe\">\n",
       "  <thead>\n",
       "    <tr style=\"text-align: right;\">\n",
       "      <th></th>\n",
       "      <th>Name</th>\n",
       "      <th>Age</th>\n",
       "      <th>City</th>\n",
       "      <th>Salary</th>\n",
       "      <th>Gender</th>\n",
       "      <th>Rating</th>\n",
       "    </tr>\n",
       "  </thead>\n",
       "  <tbody>\n",
       "    <tr>\n",
       "      <th>0</th>\n",
       "      <td>John</td>\n",
       "      <td>25</td>\n",
       "      <td>New York</td>\n",
       "      <td>50000</td>\n",
       "      <td>Male</td>\n",
       "      <td>4.5</td>\n",
       "    </tr>\n",
       "    <tr>\n",
       "      <th>1</th>\n",
       "      <td>Emma</td>\n",
       "      <td>30</td>\n",
       "      <td>London</td>\n",
       "      <td>60000</td>\n",
       "      <td>Female</td>\n",
       "      <td>3.8</td>\n",
       "    </tr>\n",
       "    <tr>\n",
       "      <th>2</th>\n",
       "      <td>Michael</td>\n",
       "      <td>28</td>\n",
       "      <td>Paris</td>\n",
       "      <td>55000</td>\n",
       "      <td>Male</td>\n",
       "      <td>4.2</td>\n",
       "    </tr>\n",
       "    <tr>\n",
       "      <th>3</th>\n",
       "      <td>Sophia</td>\n",
       "      <td>32</td>\n",
       "      <td>Tokyo</td>\n",
       "      <td>65000</td>\n",
       "      <td>Female</td>\n",
       "      <td>3.9</td>\n",
       "    </tr>\n",
       "    <tr>\n",
       "      <th>4</th>\n",
       "      <td>William</td>\n",
       "      <td>27</td>\n",
       "      <td>Sydney</td>\n",
       "      <td>52000</td>\n",
       "      <td>Male</td>\n",
       "      <td>4.7</td>\n",
       "    </tr>\n",
       "    <tr>\n",
       "      <th>5</th>\n",
       "      <td>Asif</td>\n",
       "      <td>39</td>\n",
       "      <td>Lahore</td>\n",
       "      <td>30000</td>\n",
       "      <td>Male</td>\n",
       "      <td>3.7</td>\n",
       "    </tr>\n",
       "  </tbody>\n",
       "</table>\n",
       "</div>"
      ],
      "text/plain": [
       "      Name  Age      City  Salary  Gender  Rating\n",
       "0     John   25  New York   50000    Male     4.5\n",
       "1     Emma   30    London   60000  Female     3.8\n",
       "2  Michael   28     Paris   55000    Male     4.2\n",
       "3   Sophia   32     Tokyo   65000  Female     3.9\n",
       "4  William   27    Sydney   52000    Male     4.7\n",
       "5     Asif   39    Lahore   30000    Male     3.7"
      ]
     },
     "execution_count": 51,
     "metadata": {},
     "output_type": "execute_result"
    }
   ],
   "source": [
    "import pandas as pd\n",
    "\n",
    "# Create a sample DataFrame\n",
    "data = {\n",
    "    'Name': ['John', 'Emma', 'Michael', 'Sophia', 'William', \"Asif\"],\n",
    "    'Age': [25, 30, 28, 32, 27,39],\n",
    "    'City': ['New York', 'London', 'Paris', 'Tokyo', 'Sydney',\"Lahore\"],\n",
    "    'Salary': [50000, 60000, 55000, 65000, 52000, 30000],\n",
    "    'Gender': ['Male', 'Female', 'Male', 'Female', 'Male',\"Male\"],\n",
    "    'Rating': [4.5, 3.8, 4.2, 3.9, 4.7,3.7]\n",
    "}\n",
    "\n",
    "df = pd.DataFrame(data)\n",
    "df\n"
   ]
  },
  {
   "cell_type": "code",
   "execution_count": 54,
   "id": "fe5791c8",
   "metadata": {},
   "outputs": [
    {
     "name": "stdout",
     "output_type": "stream",
     "text": [
      "First few rows:\n"
     ]
    },
    {
     "data": {
      "text/html": [
       "<div>\n",
       "<style scoped>\n",
       "    .dataframe tbody tr th:only-of-type {\n",
       "        vertical-align: middle;\n",
       "    }\n",
       "\n",
       "    .dataframe tbody tr th {\n",
       "        vertical-align: top;\n",
       "    }\n",
       "\n",
       "    .dataframe thead th {\n",
       "        text-align: right;\n",
       "    }\n",
       "</style>\n",
       "<table border=\"1\" class=\"dataframe\">\n",
       "  <thead>\n",
       "    <tr style=\"text-align: right;\">\n",
       "      <th></th>\n",
       "      <th>Name</th>\n",
       "      <th>Age</th>\n",
       "      <th>City</th>\n",
       "      <th>Salary</th>\n",
       "      <th>Gender</th>\n",
       "      <th>Rating</th>\n",
       "    </tr>\n",
       "  </thead>\n",
       "  <tbody>\n",
       "    <tr>\n",
       "      <th>0</th>\n",
       "      <td>John</td>\n",
       "      <td>25</td>\n",
       "      <td>New York</td>\n",
       "      <td>50000</td>\n",
       "      <td>Male</td>\n",
       "      <td>4.5</td>\n",
       "    </tr>\n",
       "    <tr>\n",
       "      <th>1</th>\n",
       "      <td>Emma</td>\n",
       "      <td>30</td>\n",
       "      <td>London</td>\n",
       "      <td>60000</td>\n",
       "      <td>Female</td>\n",
       "      <td>3.8</td>\n",
       "    </tr>\n",
       "  </tbody>\n",
       "</table>\n",
       "</div>"
      ],
      "text/plain": [
       "   Name  Age      City  Salary  Gender  Rating\n",
       "0  John   25  New York   50000    Male     4.5\n",
       "1  Emma   30    London   60000  Female     3.8"
      ]
     },
     "execution_count": 54,
     "metadata": {},
     "output_type": "execute_result"
    }
   ],
   "source": [
    "# Display the first few rows using head()\n",
    "print(\"First few rows:\")\n",
    "df.head(2)\n",
    "\n"
   ]
  },
  {
   "cell_type": "code",
   "execution_count": 55,
   "id": "22ebf4b4",
   "metadata": {},
   "outputs": [
    {
     "name": "stdout",
     "output_type": "stream",
     "text": [
      "\n",
      "Last few rows:\n",
      "      Name  Age    City  Salary  Gender  Rating\n",
      "1     Emma   30  London   60000  Female     3.8\n",
      "2  Michael   28   Paris   55000    Male     4.2\n",
      "3   Sophia   32   Tokyo   65000  Female     3.9\n",
      "4  William   27  Sydney   52000    Male     4.7\n",
      "5     Asif   39  Lahore   30000    Male     3.7\n",
      "\n",
      "Number of unique values in each column:\n",
      "Name      6\n",
      "Age       6\n",
      "City      6\n",
      "Salary    6\n",
      "Gender    2\n",
      "Rating    6\n",
      "dtype: int64\n"
     ]
    }
   ],
   "source": [
    "# Display the last few rows using tail()\n",
    "print(\"\\nLast few rows:\")\n",
    "print(df.tail())\n",
    "\n"
   ]
  },
  {
   "cell_type": "code",
   "execution_count": 56,
   "id": "7a5dafa6",
   "metadata": {},
   "outputs": [
    {
     "name": "stdout",
     "output_type": "stream",
     "text": [
      "\n",
      "Number of unique values in each column:\n",
      "Name      6\n",
      "Age       6\n",
      "City      6\n",
      "Salary    6\n",
      "Gender    2\n",
      "Rating    6\n",
      "dtype: int64\n"
     ]
    }
   ],
   "source": [
    "# Get the number of unique values in each column using nunique()\n",
    "print(\"\\nNumber of unique values in each column:\")\n",
    "print(df.nunique())\n"
   ]
  },
  {
   "cell_type": "code",
   "execution_count": 57,
   "id": "b1786c7d",
   "metadata": {},
   "outputs": [
    {
     "name": "stdout",
     "output_type": "stream",
     "text": [
      "\n",
      "Value counts of 'Gender' column:\n",
      "Male      4\n",
      "Female    2\n",
      "Name: Gender, dtype: int64\n"
     ]
    }
   ],
   "source": [
    "\n",
    "# Get the value counts of a specific column using value_counts()\n",
    "print(\"\\nValue counts of 'Gender' column:\")\n",
    "print(df['Gender'].value_counts())\n",
    "\n",
    "\n",
    "\n",
    "\n"
   ]
  },
  {
   "cell_type": "code",
   "execution_count": 58,
   "id": "ebc71aa6",
   "metadata": {},
   "outputs": [
    {
     "name": "stdout",
     "output_type": "stream",
     "text": [
      "\n",
      "Length of the DataFrame:\n",
      "6\n"
     ]
    }
   ],
   "source": [
    "\n",
    "# Get the length of the DataFrame using len()\n",
    "print(\"\\nLength of the DataFrame:\")\n",
    "print(len(df))\n",
    "\n",
    "#"
   ]
  },
  {
   "cell_type": "code",
   "execution_count": 60,
   "id": "7b453bb0",
   "metadata": {},
   "outputs": [
    {
     "name": "stdout",
     "output_type": "stream",
     "text": [
      "\n",
      "DataFrame with added 'Bonus' column:\n",
      "      Name  Age      City  Salary  Gender  Rating  Bonus Padded_Name\n",
      "0     John   25  New York   50000    Male     4.5  51000  John******\n",
      "1     Emma   30    London   60000  Female     3.8  61000  Emma******\n",
      "2  Michael   28     Paris   55000    Male     4.2  56000  Michael***\n",
      "3   Sophia   32     Tokyo   65000  Female     3.9  66000  Sophia****\n",
      "4  William   27    Sydney   52000    Male     4.7  53000  William***\n",
      "5     Asif   39    Lahore   30000    Male     3.7  31000  Asif******\n"
     ]
    }
   ],
   "source": [
    " #Apply a custom function to a column using apply()\n",
    "def add_bonus(salary):\n",
    "    return salary + 1000\n",
    "\n",
    "df['Bonus'] = df['Salary'].apply(add_bonus)\n",
    "print(\"\\nDataFrame with added 'Bonus' column:\")\n",
    "print(df)\n",
    "\n"
   ]
  },
  {
   "cell_type": "code",
   "execution_count": 62,
   "id": "3e2922c7",
   "metadata": {},
   "outputs": [
    {
     "name": "stdout",
     "output_type": "stream",
     "text": [
      "\n",
      "Column names:\n",
      "Index(['Name', 'Age', 'City', 'Salary', 'Gender', 'Rating', 'Bonus',\n",
      "       'Padded_Name'],\n",
      "      dtype='object')\n"
     ]
    }
   ],
   "source": [
    "# Get column names using columns\n",
    "print(\"\\nColumn names:\")\n",
    "print(df.columns)\n"
   ]
  },
  {
   "cell_type": "code",
   "execution_count": 64,
   "id": "50ccce5a",
   "metadata": {},
   "outputs": [
    {
     "name": "stdout",
     "output_type": "stream",
     "text": [
      "\n",
      "Index names:\n",
      "RangeIndex(start=0, stop=6, step=1)\n"
     ]
    }
   ],
   "source": [
    "\n",
    "# Get index names using index\n",
    "print(\"\\nIndex names:\")\n",
    "print(df.index)\n"
   ]
  },
  {
   "cell_type": "code",
   "execution_count": 65,
   "id": "83104c0b",
   "metadata": {},
   "outputs": [
    {
     "name": "stdout",
     "output_type": "stream",
     "text": [
      "\n",
      "DataFrame sorted by 'Salary':\n",
      "      Name  Age      City  Salary  Gender  Rating  Bonus Padded_Name\n",
      "3   Sophia   32     Tokyo   65000  Female     3.9  66000  Sophia****\n",
      "1     Emma   30    London   60000  Female     3.8  61000  Emma******\n",
      "2  Michael   28     Paris   55000    Male     4.2  56000  Michael***\n",
      "4  William   27    Sydney   52000    Male     4.7  53000  William***\n",
      "0     John   25  New York   50000    Male     4.5  51000  John******\n",
      "5     Asif   39    Lahore   30000    Male     3.7  31000  Asif******\n"
     ]
    }
   ],
   "source": [
    "\n",
    "# Sort values based on a specific column using sort_values()\n",
    "sorted_df = df.sort_values('Salary', ascending=False)\n",
    "print(\"\\nDataFrame sorted by 'Salary':\")\n",
    "print(sorted_df)\n",
    "\n"
   ]
  },
  {
   "cell_type": "code",
   "execution_count": 66,
   "id": "9c756eb3",
   "metadata": {},
   "outputs": [
    {
     "name": "stdout",
     "output_type": "stream",
     "text": [
      "\n",
      "Null value check:\n",
      "    Name    Age   City  Salary  Gender  Rating  Bonus  Padded_Name\n",
      "0  False  False  False   False   False   False  False        False\n",
      "1  False  False  False   False   False   False  False        False\n",
      "2  False  False  False   False   False   False  False        False\n",
      "3  False  False  False   False   False   False  False        False\n",
      "4  False  False  False   False   False   False  False        False\n",
      "5  False  False  False   False   False   False  False        False\n"
     ]
    }
   ],
   "source": [
    "\n",
    "# Check for null values using isnull()\n",
    "print(\"\\nNull value check:\")\n",
    "print(df.isnull())\n"
   ]
  },
  {
   "cell_type": "code",
   "execution_count": 67,
   "id": "54272dba",
   "metadata": {},
   "outputs": [
    {
     "name": "stdout",
     "output_type": "stream",
     "text": [
      "\n",
      "DataFrame with null values replaced with zero:\n",
      "      Name  Age      City  Salary  Gender  Rating  Bonus Padded_Name\n",
      "0     John   25  New York   50000    Male     4.5  51000  John******\n",
      "1     Emma   30    London   60000  Female     3.8  61000  Emma******\n",
      "2  Michael   28     Paris   55000    Male     4.2  56000  Michael***\n",
      "3   Sophia   32     Tokyo   65000  Female     3.9  66000  Sophia****\n",
      "4  William   27    Sydney   52000    Male     4.7  53000  William***\n",
      "5     Asif   39    Lahore   30000    Male     3.7  31000  Asif******\n"
     ]
    }
   ],
   "source": [
    "\n",
    "# Replace null values with zero using fillna()\n",
    "df_filled = df.fillna(0)\n",
    "print(\"\\nDataFrame with null values replaced with zero:\")\n",
    "print(df_filled)\n"
   ]
  },
  {
   "cell_type": "code",
   "execution_count": 69,
   "id": "b8ffd67b",
   "metadata": {},
   "outputs": [
    {
     "name": "stdout",
     "output_type": "stream",
     "text": [
      "\n",
      "Mean Salary: 52000.0\n"
     ]
    }
   ],
   "source": [
    "\n",
    "# Calculate mean of a column using mean()\n",
    "mean_salary = df['Salary'].mean()\n",
    "print(\"\\nMean Salary:\", mean_salary)\n"
   ]
  },
  {
   "cell_type": "code",
   "execution_count": 71,
   "id": "df6b9da8",
   "metadata": {},
   "outputs": [
    {
     "name": "stdout",
     "output_type": "stream",
     "text": [
      "Median Salary: 53500.0\n"
     ]
    }
   ],
   "source": [
    "\n",
    "# Calculate median of a column using median()\n",
    "median_salary = df['Salary'].median()\n",
    "print(\"Median Salary:\", median_salary)\n"
   ]
  },
  {
   "cell_type": "code",
   "execution_count": 73,
   "id": "62d6dddd",
   "metadata": {},
   "outputs": [
    {
     "name": "stdout",
     "output_type": "stream",
     "text": [
      "Mode of 'Gender' column:\n",
      "0    Male\n",
      "Name: Gender, dtype: object\n"
     ]
    }
   ],
   "source": [
    "\n",
    "# Calculate mode of a column using mode()\n",
    "mode_gender = df['Gender'].mode()\n",
    "print(\"Mode of 'Gender' column:\")\n",
    "print(mode_gender)\n"
   ]
  },
  {
   "cell_type": "code",
   "execution_count": 75,
   "id": "1dd03291",
   "metadata": {},
   "outputs": [
    {
     "name": "stdout",
     "output_type": "stream",
     "text": [
      "\n",
      "DataFrame with padded 'Name' column:\n",
      "      Name  Age      City  Salary  Gender  Rating  Bonus Padded_Name\n",
      "0     John   25  New York   50000    Male     4.5  51000  John******\n",
      "1     Emma   30    London   60000  Female     3.8  61000  Emma******\n",
      "2  Michael   28     Paris   55000    Male     4.2  56000  Michael***\n",
      "3   Sophia   32     Tokyo   65000  Female     3.9  66000  Sophia****\n",
      "4  William   27    Sydney   52000    Male     4.7  53000  William***\n",
      "5     Asif   39    Lahore   30000    Male     3.7  31000  Asif******\n"
     ]
    }
   ],
   "source": [
    "\n",
    "# Pad values in a column using str.pad()\n",
    "df['Padded_Name'] = df['Name'].str.pad(width=10, side='right', fillchar='*')\n",
    "print(\"\\nDataFrame with padded 'Name' column:\")\n",
    "print(df)\n"
   ]
  },
  {
   "cell_type": "code",
   "execution_count": 77,
   "id": "6f6b273a",
   "metadata": {},
   "outputs": [
    {
     "name": "stdout",
     "output_type": "stream",
     "text": [
      "\n",
      "Copied DataFrame:\n",
      "      Name  Age      City  Salary  Gender  Rating  Bonus Padded_Name\n",
      "0     John   25  New York   50000    Male     4.5  51000  John******\n",
      "1     Emma   30    London   60000  Female     3.8  61000  Emma******\n",
      "2  Michael   28     Paris   55000    Male     4.2  56000  Michael***\n",
      "3   Sophia   32     Tokyo   65000  Female     3.9  66000  Sophia****\n",
      "4  William   27    Sydney   52000    Male     4.7  53000  William***\n",
      "5     Asif   39    Lahore   30000    Male     3.7  31000  Asif******\n"
     ]
    }
   ],
   "source": [
    "\n",
    "# Copy rows and columns to a new DataFrame using copy()\n",
    "df_copy = df.copy()\n",
    "print(\"\\nCopied DataFrame:\")\n",
    "print(df_copy)\n"
   ]
  },
  {
   "cell_type": "code",
   "execution_count": 80,
   "id": "d9cf760c",
   "metadata": {},
   "outputs": [
    {
     "name": "stdout",
     "output_type": "stream",
     "text": [
      "\n",
      "DataFrame with dropped rows:\n",
      "      Name  Age      City  Salary  Gender  Rating  Bonus Padded_Name\n",
      "0     John   25  New York   50000    Male     4.5  51000  John******\n",
      "1     Emma   30    London   60000  Female     3.8  61000  Emma******\n",
      "2  Michael   28     Paris   55000    Male     4.2  56000  Michael***\n",
      "3   Sophia   32     Tokyo   65000  Female     3.9  66000  Sophia****\n",
      "4  William   27    Sydney   52000    Male     4.7  53000  William***\n",
      "5     Asif   39    Lahore   30000    Male     3.7  31000  Asif******\n"
     ]
    }
   ],
   "source": [
    "\n",
    "# Drop rows with null values using dropna()\n",
    "df_dropped_rows = df.dropna(axis=0)\n",
    "print(\"\\nDataFrame with dropped rows:\")\n",
    "print(df_dropped_rows)\n",
    "\n",
    "\n"
   ]
  },
  {
   "cell_type": "code",
   "execution_count": 81,
   "id": "02f3c145",
   "metadata": {},
   "outputs": [
    {
     "name": "stdout",
     "output_type": "stream",
     "text": [
      "\n",
      "DataFrame with dropped columns:\n",
      "      Name  Age      City  Salary  Gender  Rating  Bonus Padded_Name\n",
      "0     John   25  New York   50000    Male     4.5  51000  John******\n",
      "1     Emma   30    London   60000  Female     3.8  61000  Emma******\n",
      "2  Michael   28     Paris   55000    Male     4.2  56000  Michael***\n",
      "3   Sophia   32     Tokyo   65000  Female     3.9  66000  Sophia****\n",
      "4  William   27    Sydney   52000    Male     4.7  53000  William***\n",
      "5     Asif   39    Lahore   30000    Male     3.7  31000  Asif******\n"
     ]
    }
   ],
   "source": [
    "# Drop columns with null values using dropna()\n",
    "df_dropped_columns = df.dropna(axis=1)\n",
    "print(\"\\nDataFrame with dropped columns:\")\n",
    "print(df_dropped_columns)"
   ]
  }
 ],
 "metadata": {
  "kernelspec": {
   "display_name": "Python 3 (ipykernel)",
   "language": "python",
   "name": "python3"
  },
  "language_info": {
   "codemirror_mode": {
    "name": "ipython",
    "version": 3
   },
   "file_extension": ".py",
   "mimetype": "text/x-python",
   "name": "python",
   "nbconvert_exporter": "python",
   "pygments_lexer": "ipython3",
   "version": "3.10.6"
  }
 },
 "nbformat": 4,
 "nbformat_minor": 5
}
