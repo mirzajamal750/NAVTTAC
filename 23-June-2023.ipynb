{
 "cells": [
  {
   "cell_type": "markdown",
   "id": "61364523",
   "metadata": {},
   "source": [
    "![Machine Learning Pipeline](images/55.jpeg)"
   ]
  },
  {
   "cell_type": "code",
   "execution_count": null,
   "id": "6b4f90a3",
   "metadata": {},
   "outputs": [],
   "source": []
  }
 ],
 "metadata": {
  "kernelspec": {
   "display_name": "Python 3 (ipykernel)",
   "language": "python",
   "name": "python3"
  },
  "language_info": {
   "codemirror_mode": {
    "name": "ipython",
    "version": 3
   },
   "file_extension": ".py",
   "mimetype": "text/x-python",
   "name": "python",
   "nbconvert_exporter": "python",
   "pygments_lexer": "ipython3",
   "version": "3.10.6"
  }
 },
 "nbformat": 4,
 "nbformat_minor": 5
}
