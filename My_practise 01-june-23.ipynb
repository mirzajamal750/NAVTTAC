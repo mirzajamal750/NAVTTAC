{
 "cells": [
  {
   "cell_type": "code",
   "execution_count": 1,
   "id": "4575df25",
   "metadata": {},
   "outputs": [],
   "source": [
    "def preprocessing():\n",
    "    name=str(input(\"Please Enter your name\"))\n",
    "    F_name=str(input(\"Please Enter your Father name\"))\n",
    "    Edu=str(input(\"Plesae Enter your Education \"))\n",
    "    return self.name,self.F_name,Edu\n",
    "def Model():\n",
    "    preprocessing()\n",
    "    ID_num=str(input(\"Please Enter Your ID card Number\"))\n",
    "    cell_number=int(input(\"Please Enter you Cellphone Number\"))\n",
    "    return ID_num,cell_number\n",
    "def Validation():\n",
    "    \n",
    "    Model()\n",
    "    address=str(input(\"Enter you address\"))\n",
    "    return address\n",
    "def visualisation():\n",
    "    Validation()\n",
    "    Temp_add=str(input(\"Enter you office address\"))\n",
    "    return Temp_add\n",
    "def moniting():\n",
    "    visualisation()\n",
    "    return name, F_name\n",
    "def main():\n",
    "    moniting()"
   ]
  },
  {
   "cell_type": "markdown",
   "id": "0a9aee33",
   "metadata": {},
   "source": [
    "<center> \n",
    "<B> <H1> __init__:\n",
    "<h4> The __init__ method is a special method in Python classes that is automatically called when an object of the class is instantiated. It is used to initialize the attributes of the object. It takes the self parameter, which refers to the instance of the class being created, along with any additional parameters needed to set the initial state of the object."
   ]
  },
  {
   "cell_type": "code",
   "execution_count": 14,
   "id": "2b4ee98b",
   "metadata": {},
   "outputs": [
    {
     "name": "stdout",
     "output_type": "stream",
     "text": [
      "Please enter your name: J\n",
      "Please enter your Job: j\n",
      "Please enter your skill: j\n",
      "Please enter your education: j\n",
      "Name: J\n",
      "Job: j\n",
      "Education: j\n",
      "Skill: j\n"
     ]
    }
   ],
   "source": [
    "class Person:\n",
    "    def __init__(self, name, Job, skill, edu):\n",
    "        self.name = name\n",
    "        self.age = Job\n",
    "        self.skill = skill\n",
    "        self.edu = edu\n",
    "    \n",
    "    def bio(self):\n",
    "        print(f\"Name: {self.name}\")\n",
    "        print(f\"Job: {self.Job}\")\n",
    "        print(f\"Education: {self.edu}\")\n",
    "        print(f\"Skill: {self.skill}\")\n",
    "name = input(\"Please enter your name: \")\n",
    "Job = str(input(\"Please enter your Job: \"))\n",
    "skill = input(\"Please enter your skill: \")\n",
    "edu = input(\"Please enter your education: \")\n",
    "\n",
    "person1 = Person(name, Job, skill, edu)\n",
    "person1.bio()\n",
    "\n",
    "\n"
   ]
  },
  {
   "cell_type": "markdown",
   "id": "db7becce",
   "metadata": {},
   "source": [
    "# Abstract Method and Class: \n",
    "<h4>An abstract method is a method declared in a class but does not contain any implementation. It serves as a placeholder and must be overridden by any concrete subclass. An abstract class is a class that contains one or more abstract methods. Abstract classes cannot be instantiated directly and are meant to be subclassed."
   ]
  },
  {
   "cell_type": "code",
   "execution_count": 24,
   "id": "fa3f7e32",
   "metadata": {},
   "outputs": [
    {
     "name": "stdout",
     "output_type": "stream",
     "text": [
      "20\n"
     ]
    }
   ],
   "source": [
    "from abc import ABC, abstractmethod\n",
    "\n",
    "class Shape():\n",
    "#     @abstractmethod\n",
    "    def area(self):\n",
    "        pass\n",
    "\n",
    "class Rectangle(Shape):\n",
    "    def __init__(self, width, height):\n",
    "        self.width = width\n",
    "        self.height = height\n",
    "    \n",
    "    def area(self):\n",
    "        return self.width * self.height\n",
    "\n",
    "rectangle = Rectangle(4, 5)\n",
    "print(rectangle.area())  # Output: 20\n"
   ]
  },
  {
   "cell_type": "markdown",
   "id": "691331ba",
   "metadata": {},
   "source": [
    "# Empty Class:\n",
    "<h4>An empty class is a class that doesn't have any attributes or methods defined. It is simply a placeholder and can be used as a base class for other classes or for organizational purposes.\n"
   ]
  },
  {
   "cell_type": "code",
   "execution_count": 91,
   "id": "9e33e249",
   "metadata": {},
   "outputs": [],
   "source": [
    "class EmptyClass:\n",
    "    pass\n",
    "\n",
    "obj = EmptyClass()\n",
    "\"\"\" read \"\"\""
   ]
  },
  {
   "cell_type": "markdown",
   "id": "14bc5d84",
   "metadata": {},
   "source": [
    "# Data Class:\n",
    "<h4>A data class is a class primarily used for storing data, and it provides automatic implementation of commonly used methods like __init__(), __repr__(), __eq__(), etc. It is a convenient way to define a class that is mainly used for holding data rather than implementing complex behaviors."
   ]
  },
  {
   "cell_type": "code",
   "execution_count": 92,
   "id": "961c2123",
   "metadata": {},
   "outputs": [
    {
     "name": "stdout",
     "output_type": "stream",
     "text": [
      "Person(name='John', age=25)\n"
     ]
    }
   ],
   "source": [
    "from dataclasses import dataclass\n",
    "\n",
    "@dataclass\n",
    "class Person:\n",
    "    name: str\n",
    "    age: int\n",
    "\n",
    "person = Person(\"John\", 25)\n",
    "print(person)  # Output: Person(name='John', age=25)\n"
   ]
  },
  {
   "cell_type": "markdown",
   "id": "457a6259",
   "metadata": {},
   "source": [
    "# Keyword Arguments:\n",
    "<h4>Keyword arguments allow you to pass arguments to a function using the name of the parameter instead of the position. It provides more clarity and flexibility when calling functions, especially when dealing with functions that have a large number of parameters or default values."
   ]
  },
  {
   "cell_type": "code",
   "execution_count": 93,
   "id": "a2bcd5be",
   "metadata": {},
   "outputs": [
    {
     "name": "stdout",
     "output_type": "stream",
     "text": [
      "Hello, John!\n"
     ]
    }
   ],
   "source": [
    "def greet(name, message):\n",
    "    print(f\"{message}, {name}!\")\n",
    "\n",
    "greet(name=\"John++\", message=\"Hello\")  # Output: Hello, John!\n"
   ]
  },
  {
   "cell_type": "code",
   "execution_count": 90,
   "id": "f0a5cf3d",
   "metadata": {},
   "outputs": [
    {
     "name": "stdout",
     "output_type": "stream",
     "text": [
      "Hello, John!\n"
     ]
    }
   ],
   "source": [
    "def greet(name, message):\n",
    "    print(f\"{message}, {name}!\")\n",
    "\n",
    "greet(name=\"John\", message=\"Hello\")  # Output: Hello, John!\n"
   ]
  },
  {
   "cell_type": "code",
   "execution_count": 76,
   "id": "c6bf7fff",
   "metadata": {},
   "outputs": [
    {
     "name": "stdout",
     "output_type": "stream",
     "text": [
      "Name: John\n",
      "Age: 25\n",
      "Name: Alice\n",
      "Age: 18\n",
      "Grade: A\n",
      "Name: Mike\n",
      "Age: 35\n",
      "Company: XYZ Corp\n"
     ]
    }
   ],
   "source": [
    "class Person:\n",
    "    def __init__(self, name, age):\n",
    "        self.name = name\n",
    "        self.age = age\n",
    "\n",
    "    def bio(self):\n",
    "        print(f\"Name: {self.name}\")\n",
    "        print(f\"Age: {self.age}\")\n",
    "\n",
    "\n",
    "class Student(Person):\n",
    "    def __init__(self, name, age, grade):\n",
    "        super().__init__(name, age)\n",
    "        self.grade = grade\n",
    "\n",
    "    def bio(self):\n",
    "        super().bio()\n",
    "        print(f\"Grade: {self.grade}\")\n",
    "\n",
    "\n",
    "class Employee(Person):\n",
    "    def __init__(self, name, age, company):\n",
    "        super().__init__(name, age)\n",
    "        self.company = company\n",
    "\n",
    "    def bio(self):\n",
    "        super().bio()\n",
    "        print(f\"Company: {self.company}\")\n",
    "\n",
    "\n",
    "person1 = Person(\"John\", 25)\n",
    "person1.bio()\n",
    "\n",
    "student1 = Student(\"Alice\", 18, \"A\")\n",
    "student1.bio()\n",
    "\n",
    "employee1 = Employee(\"Mike\", 35, \"XYZ Corp\")\n",
    "employee1.bio()\n"
   ]
  },
  {
   "cell_type": "markdown",
   "id": "418ab6f1",
   "metadata": {},
   "source": [
    "<h4>In this example, the Person class is the superclass, and the Student and Employee classes are subclasses that inherit from Person. Each class has its own implementation of the bio() method, which allows them to provide specific details related to their type. This is an example of inheritance, where the subclasses inherit attributes and methods from the superclass.\n",
    "\n",
    "Polymorphism can be seen in the bio() method, as the same method name is used in both the Person class and its subclasses (Student and Employee). Depending on the type of object, the appropriate implementation of the bio() method is called, demonstrating polymorphic behavior."
   ]
  },
  {
   "cell_type": "markdown",
   "id": "9eefb942",
   "metadata": {},
   "source": [
    "# Polymorphism\n",
    "<h3>refers to the ability of objects of different classes to be used interchangeably based on a common interface."
   ]
  },
  {
   "cell_type": "code",
   "execution_count": 77,
   "id": "197cb704",
   "metadata": {},
   "outputs": [],
   "source": [
    "class Person:\n",
    "    def __init__(self, name, age):\n",
    "        self.name = name\n",
    "        self.age = age\n",
    "    \n",
    "    def introduce(self):\n",
    "        print(f\"Hi, my name is {self.name}.\")\n",
    "\n",
    "class Student(Person):\n",
    "    def __init__(self, name, age, grade):\n",
    "        super().__init__(name, age)\n",
    "        self.grade = grade\n",
    "    \n",
    "    def introduce(self):\n",
    "        print(f\"I am a student in grade {self.grade}.\")\n",
    "    \n",
    "class Employee(Person):\n",
    "    def __init__(self, name, age, company):\n",
    "        super().__init__(name, age)\n",
    "        self.company = company\n",
    "    \n",
    "    def introduce(self):\n",
    "        print(f\"I work at {self.company}.\")\n"
   ]
  },
  {
   "cell_type": "code",
   "execution_count": 78,
   "id": "18d0a61e",
   "metadata": {},
   "outputs": [
    {
     "name": "stdout",
     "output_type": "stream",
     "text": [
      "Hi, my name is John.\n",
      "I am a student in grade 10.\n",
      "I work at ABC Corp.\n"
     ]
    }
   ],
   "source": [
    "person1 = Person(\"John\", 25)\n",
    "student1 = Student(\"Alice\", 18, 10)\n",
    "employee1 = Employee(\"Bob\", 30, \"ABC Corp\")\n",
    "\n",
    "person1.introduce()   # Output: Hi, my name is John.\n",
    "student1.introduce()  # Output: I am a student in grade 10.\n",
    "employee1.introduce() # Output: I work at ABC Corp.\n"
   ]
  },
  {
   "cell_type": "markdown",
   "id": "6b361d23",
   "metadata": {},
   "source": [
    "<h1> Method Overriding:\n",
    "    <h3>In this example, the Shape class has a method area() which is overridden in the Rectangle and Circle subclasses. Each subclass provides its own implementation of the area() method based on its specific shape. When we call the area() method on objects of Rectangle and Circle, the overridden method in the respective subclass is invoked, resulting in different outputs."
   ]
  },
  {
   "cell_type": "code",
   "execution_count": 80,
   "id": "f7287d30",
   "metadata": {},
   "outputs": [
    {
     "name": "stdout",
     "output_type": "stream",
     "text": [
      "15\n",
      "50.24\n"
     ]
    }
   ],
   "source": [
    "class Shape:\n",
    "    def area(self):\n",
    "        pass\n",
    "\n",
    "class Rectangle(Shape):\n",
    "    def __init__(self, width, height):\n",
    "        self.width = width\n",
    "        self.height = height\n",
    "    \n",
    "    def area(self):\n",
    "        return self.width * self.height\n",
    "\n",
    "class Circle(Shape):\n",
    "    def __init__(self, radius):\n",
    "        self.radius = radius\n",
    "    \n",
    "    def area(self):\n",
    "        return 3.14 * self.radius * self.radius\n",
    "\n",
    "rectangle = Rectangle(5, 3)\n",
    "circle = Circle(4)\n",
    "\n",
    "print(rectangle.area())  # Output: 15\n",
    "print(circle.area())     # Output: 50.24\n",
    "      # Output: 9\n"
   ]
  },
  {
   "cell_type": "markdown",
   "id": "3236d97c",
   "metadata": {},
   "source": [
    "<h1> <center> *args and **kwargs</center></h1>\n",
    "<h3><b>*args is used to pass a variable number of positional arguments to a function.\n",
    "    The *args parameter allows you to accept any number of positional arguments and access them as a tuple within the function.\n"
   ]
  },
  {
   "cell_type": "markdown",
   "id": "bf22fdac",
   "metadata": {},
   "source": [
    "<h3>**kwargs is used to pass a variable number of keyword arguments to a function. \n",
    "    The **kwargs parameter allows you to accept any number of keyword arguments and access them as a dictionary within the function."
   ]
  },
  {
   "cell_type": "code",
   "execution_count": 25,
   "id": "b3d37cac",
   "metadata": {},
   "outputs": [
    {
     "name": "stdout",
     "output_type": "stream",
     "text": [
      "6\n",
      "151\n"
     ]
    }
   ],
   "source": [
    "def sum_numbers(*args):\n",
    "    total = 0\n",
    "    for num in args:\n",
    "        total += num\n",
    "    return total\n",
    "\n",
    "print(sum_numbers(1, 2, 3))     # Output: 6\n",
    "print(sum_numbers(4, 5, 6, 7,65,64,10,10,10+))  # Output: 22\n"
   ]
  },
  {
   "cell_type": "code",
   "execution_count": 86,
   "id": "c2fbf0a5",
   "metadata": {},
   "outputs": [
    {
     "name": "stdout",
     "output_type": "stream",
     "text": [
      "name: John\n",
      "age: 25\n",
      "city: New York\n"
     ]
    }
   ],
   "source": [
    "def print_details(**kwargs):\n",
    "    for key, value in kwargs.items():\n",
    "        print(f\"{key}: {value}\")\n",
    "\n",
    "print_details(name=\"John\", age=25, city=\"New York\")\n"
   ]
  },
  {
   "cell_type": "code",
   "execution_count": null,
   "id": "4fa0fbd9",
   "metadata": {},
   "outputs": [],
   "source": []
  },
  {
   "cell_type": "code",
   "execution_count": 28,
   "id": "b9b534ee",
   "metadata": {},
   "outputs": [
    {
     "name": "stdout",
     "output_type": "stream",
     "text": [
      "Please enter your name: Mirza Muhammad Jamal Nasir\n",
      "Please enter your father's name: Mirza Abdul Nasir \n",
      "Please enter your education: BCSE\n",
      "Please enter your ID card number: 37407-0383748-5\n",
      "Please enter your cellphone number: 03002942750\n",
      "Please enter your address: Islamabad\n",
      "Please enter your office address: Lahore\n",
      "Name: Mirza Muhammad Jamal Nasir\n",
      "Father's Name: Mirza Abdul Nasir \n",
      "Education: BCSE\n",
      "ID Card Number: 37407-0383748-5\n",
      "Cellphone Number: 3002942750\n",
      "Address: Islamabad\n",
      "Office Address: Lahore\n"
     ]
    }
   ],
   "source": [
    "class Person:\n",
    "    def __init__(self, name, father_name):\n",
    "        self.name = name\n",
    "        self.father_name = father_name\n",
    "\n",
    "class Education:\n",
    "    def __init__(self, degree):\n",
    "        self.degree = degree\n",
    "\n",
    "class IDCard:\n",
    "    def __init__(self, id_number):\n",
    "        self.id_number = id_number\n",
    "\n",
    "class Cellphone:\n",
    "    def __init__(self, cell_number):\n",
    "        self.cell_number = cell_number\n",
    "\n",
    "class Address:\n",
    "    def __init__(self, address):\n",
    "        self.address = address\n",
    "\n",
    "class OfficeAddress:\n",
    "    def __init__(self, office_address):\n",
    "        self.office_address = office_address\n",
    "\n",
    "def preprocessing():\n",
    "    name = input(\"Please enter your name: \")\n",
    "    father_name = input(\"Please enter your father's name: \")\n",
    "    return Person(name, father_name)\n",
    "\n",
    "def Model(person):\n",
    "    degree = input(\"Please enter your education: \")\n",
    "    return Education(degree)\n",
    "\n",
    "def Validation(education):\n",
    "    id_number = input(\"Please enter your ID card number: \")\n",
    "    cell_number = int(input(\"Please enter your cellphone number: \"))\n",
    "    return IDCard(id_number), Cellphone(cell_number)\n",
    "\n",
    "def visualisation(id_card, cellphone):\n",
    "    address = input(\"Please enter your address: \")\n",
    "    return Address(address)\n",
    "\n",
    "def monitoring(person, id_card, cellphone, address):\n",
    "    office_address = input(\"Please enter your office address: \")\n",
    "    return OfficeAddress(office_address)\n",
    "\n",
    "def main():\n",
    "    person = preprocessing()\n",
    "    education = Model(person)\n",
    "    id_card, cellphone = Validation(education)\n",
    "    address = visualisation(id_card, cellphone)\n",
    "    office_address = monitoring(person, id_card, cellphone, address)\n",
    "\n",
    "    # Access the attributes of objects\n",
    "    print(\"Name:\", person.name)\n",
    "    print(\"Father's Name:\", person.father_name)\n",
    "    print(\"Education:\", education.degree)\n",
    "    print(\"ID Card Number:\", id_card.id_number)\n",
    "    print(\"Cellphone Number:\", cellphone.cell_number)\n",
    "    print(\"Address:\", address.address)\n",
    "    print(\"Office Address:\", office_address.office_address)\n",
    "\n",
    "main()\n"
   ]
  },
  {
   "cell_type": "markdown",
   "id": "e8a01647",
   "metadata": {},
   "source": [
    "## Here's an example to illustrate polymorphism:"
   ]
  },
  {
   "cell_type": "code",
   "execution_count": 25,
   "id": "6c84eeae",
   "metadata": {},
   "outputs": [
    {
     "name": "stdout",
     "output_type": "stream",
     "text": [
      "Area: 20\n",
      "Area: 28.26\n"
     ]
    }
   ],
   "source": [
    "class Shape:\n",
    "    def area(self):\n",
    "        pass\n",
    "\n",
    "class Rectangle(Shape):\n",
    "    def __init__(self, length, width):\n",
    "        self.length = length\n",
    "        self.width = width\n",
    "\n",
    "    def area(self):\n",
    "        return self.length * self.width\n",
    "\n",
    "class Circle(Shape):\n",
    "    def __init__(self, radius):\n",
    "        self.radius = radius\n",
    "\n",
    "    def area(self):\n",
    "        return 3.14 * self.radius**2\n",
    "\n",
    "shapes = [Rectangle(4, 5), Circle(3)]\n",
    "\n",
    "for shape in shapes:\n",
    "    print(\"Area:\", shape.area())\n"
   ]
  },
  {
   "cell_type": "code",
   "execution_count": 26,
   "id": "72ae4f4b",
   "metadata": {},
   "outputs": [
    {
     "name": "stdout",
     "output_type": "stream",
     "text": [
      "Please enter your name: jama;\n",
      "Please enter your father's name: nasir\n",
      "Please enter your education: bcse\n",
      "Please enter your ID card number: 43sdff\n",
      "Please enter your cellphone number: 535\n",
      "Please enter your address: fsdfsvdvesd\n",
      "Please enter your office address: g4tersdf\n",
      "Name: jama;\n",
      "Father's Name: nasir\n",
      "Education: bcse\n",
      "ID Card Number: 43sdff\n",
      "Cellphone Number: 535\n",
      "Address: fsdfsvdvesd\n",
      "Office Address: g4tersdf\n"
     ]
    }
   ],
   "source": [
    "class Person:\n",
    "    def __init__(self, name, father_name):\n",
    "        self.name = name\n",
    "        self.father_name = father_name\n",
    "\n",
    "class Education:\n",
    "    def __init__(self, degree):\n",
    "        self.degree = degree\n",
    "\n",
    "class IDCard:\n",
    "    def __init__(self, id_number):\n",
    "        self.id_number = id_number\n",
    "\n",
    "class Cellphone:\n",
    "    def __init__(self, cell_number):\n",
    "        self.cell_number = cell_number\n",
    "\n",
    "class Address:\n",
    "    def __init__(self, address):\n",
    "        self.address = address\n",
    "\n",
    "class OfficeAddress:\n",
    "    def __init__(self, office_address):\n",
    "        self.office_address = office_address\n",
    "\n",
    "def preprocessing():\n",
    "    name = input(\"Please enter your name: \")\n",
    "    father_name = input(\"Please enter your father's name: \")\n",
    "    return Person(name, father_name)\n",
    "\n",
    "def Model(person):\n",
    "    degree = input(\"Please enter your education: \")\n",
    "    return Education(degree)\n",
    "\n",
    "def Validation(education):\n",
    "    id_number = input(\"Please enter your ID card number: \")\n",
    "    cell_number = int(input(\"Please enter your cellphone number: \"))\n",
    "    return IDCard(id_number), Cellphone(cell_number)\n",
    "\n",
    "def visualisation(id_card, cellphone):\n",
    "    address = input(\"Please enter your address: \")\n",
    "    return Address(address)\n",
    "\n",
    "def monitoring(person, id_card, cellphone, address):\n",
    "    office_address = input(\"Please enter your office address: \")\n",
    "    return OfficeAddress(office_address)\n",
    "\n",
    "def main():\n",
    "    person = preprocessing()\n",
    "    education = Model(person)\n",
    "    id_card, cellphone = Validation(education)\n",
    "    address = visualisation(id_card, cellphone)\n",
    "    office_address = monitoring(person, id_card, cellphone, address)\n",
    "\n",
    "    # Access the attributes of objects\n",
    "    print(\"Name:\", person.name)\n",
    "    print(\"Father's Name:\", person.father_name)\n",
    "    print(\"Education:\", education.degree)\n",
    "    print(\"ID Card Number:\", id_card.id_number)\n",
    "    print(\"Cellphone Number:\", cellphone.cell_number)\n",
    "    print(\"Address:\", address.address)\n",
    "    print(\"Office Address:\", office_address.office_address)\n",
    "\n",
    "main()\n"
   ]
  },
  {
   "cell_type": "markdown",
   "id": "00f7fdee",
   "metadata": {},
   "source": [
    "### The main functionality is encapsulated within a class called Application. The Application class has instance variables to store the objects created from the other classes.\n",
    "\n",
    "### The methods preprocessing(), model(), validation(), visualisation(), and monitoring() are defined within the Application class and are responsible for initializing the respective objects.\n",
    "\n",
    "### The main() method is called to execute the sequence of operations, similar to the previous code's main() function.\n",
    "\n",
    "### By organizing the code within classes, you encapsulate related functionality and provide a clear structure for the application."
   ]
  },
  {
   "cell_type": "code",
   "execution_count": 27,
   "id": "09b7e39b",
   "metadata": {},
   "outputs": [
    {
     "name": "stdout",
     "output_type": "stream",
     "text": [
      "Please enter your name: Mirza Muhammad Jamal Nasir\n",
      "Please enter your father's name: Mirza Abdul Nasir\n",
      "Please enter your education: BCSE\n",
      "Please enter your ID card number: 37407-0383748-5\n",
      "Please enter your cellphone number: 03002942750\n",
      "Please enter your address: Islamabad\n",
      "Please enter your office address: Lahore\n",
      "Name: Mirza Muhammad Jamal Nasir\n",
      "Father's Name: Mirza Abdul Nasir\n",
      "Education: BCSE\n",
      "ID Card Number: 37407-0383748-5\n",
      "Cellphone Number: 3002942750\n",
      "Address: Islamabad\n",
      "Office Address: Lahore\n"
     ]
    }
   ],
   "source": [
    "class Person:\n",
    "    def __init__(self, name, father_name):\n",
    "        self.name = name\n",
    "        self.father_name = father_name\n",
    "\n",
    "class Education:\n",
    "    def __init__(self, degree):\n",
    "        self.degree = degree\n",
    "\n",
    "class IDCard:\n",
    "    def __init__(self, id_number):\n",
    "        self.id_number = id_number\n",
    "\n",
    "class Cellphone:\n",
    "    def __init__(self, cell_number):\n",
    "        self.cell_number = cell_number\n",
    "\n",
    "class Address:\n",
    "    def __init__(self, address):\n",
    "        self.address = address\n",
    "\n",
    "class OfficeAddress:\n",
    "    def __init__(self, office_address):\n",
    "        self.office_address = office_address\n",
    "\n",
    "class Application:\n",
    "    def __init__(self):\n",
    "        self.person = None\n",
    "        self.education = None\n",
    "        self.id_card = None\n",
    "        self.cellphone = None\n",
    "        self.address = None\n",
    "        self.office_address = None\n",
    "\n",
    "    def preprocessing(self):\n",
    "        name = input(\"Please enter your name: \")\n",
    "        father_name = input(\"Please enter your father's name: \")\n",
    "        self.person = Person(name, father_name)\n",
    "\n",
    "    def model(self):\n",
    "        degree = input(\"Please enter your education: \")\n",
    "        self.education = Education(degree)\n",
    "\n",
    "    def validation(self):\n",
    "        id_number = input(\"Please enter your ID card number: \")\n",
    "        cell_number = int(input(\"Please enter your cellphone number: \"))\n",
    "        self.id_card = IDCard(id_number)\n",
    "        self.cellphone = Cellphone(cell_number)\n",
    "\n",
    "    def visualisation(self):\n",
    "        address = input(\"Please enter your address: \")\n",
    "        self.address = Address(address)\n",
    "\n",
    "    def monitoring(self):\n",
    "        office_address = input(\"Please enter your office address: \")\n",
    "        self.office_address = OfficeAddress(office_address)\n",
    "\n",
    "    def main(self):\n",
    "        self.preprocessing()\n",
    "        self.model()\n",
    "        self.validation()\n",
    "        self.visualisation()\n",
    "        self.monitoring()\n",
    "\n",
    "        # Access the attributes of objects\n",
    "        print(\"Name:\", self.person.name)\n",
    "        print(\"Father's Name:\", self.person.father_name)\n",
    "        print(\"Education:\", self.education.degree)\n",
    "        print(\"ID Card Number:\", self.id_card.id_number)\n",
    "        print(\"Cellphone Number:\", self.cellphone.cell_number)\n",
    "        print(\"Address:\", self.address.address)\n",
    "        print(\"Office Address:\", self.office_address.office_address)\n",
    "\n",
    "app = Application()\n",
    "app.main()\n"
   ]
  },
  {
   "cell_type": "markdown",
   "id": "6369a56e",
   "metadata": {},
   "source": [
    "# this code demonstrates the use of classes, inheritance, polymorphism, and object composition to model and manage different types of information within an application.\""
   ]
  },
  {
   "cell_type": "code",
   "execution_count": 39,
   "id": "63bce11c",
   "metadata": {},
   "outputs": [
    {
     "name": "stdout",
     "output_type": "stream",
     "text": [
      "Please enter your name: M\n",
      "Please enter your father's name: M\n",
      "Please enter your education: M\n",
      "Please enter your ID card number: 4\n",
      "Please enter your cellphone number: 4\n",
      "Please enter your address: M\n",
      "Please enter your office address: M\n",
      "Name: M\n",
      "Father's Name: M\n",
      "Education: M\n",
      "ID Card Number: 4\n",
      "Cellphone Number: 4\n",
      "Address: M\n",
      "Office Address: M\n"
     ]
    }
   ],
   "source": [
    "class Person:\n",
    "    def __init__(self, name=None, father_name=None):\n",
    "        self.name = name\n",
    "        self.father_name = father_name\n",
    "\n",
    "    def get_details(self):\n",
    "        return f\"Name: {self.name}\\nFather's Name: {self.father_name}\"\n",
    "\n",
    "class Information:\n",
    "    def __init__(self, data_type):\n",
    "        self.data_type = data_type\n",
    "\n",
    "    def get_details(self):\n",
    "        return f\"{self.data_type}: {self.get_info()}\"\n",
    "\n",
    "    def get_info(self):\n",
    "        pass\n",
    "\n",
    "class Education(Information):\n",
    "    def __init__(self, degree):\n",
    "        super().__init__(\"Education\")\n",
    "        self.degree = degree\n",
    "\n",
    "    def get_info(self):\n",
    "        return self.degree\n",
    "\n",
    "class IDCard(Information):\n",
    "    def __init__(self, id_number):\n",
    "        super().__init__(\"ID Card Number\")\n",
    "        self.id_number = id_number\n",
    "\n",
    "    def get_info(self):\n",
    "        return self.id_number\n",
    "\n",
    "class Cellphone(Information):\n",
    "    def __init__(self, cell_number):\n",
    "        super().__init__(\"Cellphone Number\")\n",
    "        self.cell_number = cell_number\n",
    "\n",
    "    def get_info(self):\n",
    "        return self.cell_number\n",
    "\n",
    "class Address(Information):\n",
    "    def __init__(self, address):\n",
    "        super().__init__(\"Address\")\n",
    "        self.address = address\n",
    "\n",
    "    def get_info(self):\n",
    "        return self.address\n",
    "\n",
    "class OfficeAddress(Information):\n",
    "    def __init__(self, office_address):\n",
    "        super().__init__(\"Office Address\")\n",
    "        self.office_address = office_address\n",
    "\n",
    "    def get_info(self):\n",
    "        return self.office_address\n",
    "\n",
    "class Application:\n",
    "    def __init__(self):\n",
    "        self.objects = []\n",
    "\n",
    "    def preprocessing(self):\n",
    "        name = input(\"Please enter your name: \")\n",
    "        father_name = input(\"Please enter your father's name: \")\n",
    "        self.objects.append(Person(name, father_name))\n",
    "\n",
    "    def model(self):\n",
    "        degree = input(\"Please enter your education: \")\n",
    "        self.objects.append(Education(degree))\n",
    "\n",
    "    def validation(self):\n",
    "        id_number = input(\"Please enter your ID card number: \")\n",
    "        cell_number = int(input(\"Please enter your cellphone number: \"))\n",
    "        self.objects.append(IDCard(id_number))\n",
    "        self.objects.append(Cellphone(cell_number))\n",
    "\n",
    "    def visualisation(self):\n",
    "        address = input(\"Please enter your address: \")\n",
    "        self.objects.append(Address(address))\n",
    "\n",
    "    def monitoring(self):\n",
    "        office_address = input(\"Please enter your office address: \")\n",
    "        self.objects.append(OfficeAddress(office_address))\n",
    "\n",
    "    def main(self):\n",
    "        self.preprocessing()\n",
    "        self.model()\n",
    "        self.validation()\n",
    "        self.visualisation()\n",
    "        self.monitoring()\n",
    "\n",
    "        # Access the details using polymorphism\n",
    "        for obj in self.objects:\n",
    "            print(obj.get_details())\n",
    "\n",
    "if __name__ == \"__main__\":\n",
    "    app = Application()\n",
    "    app.main()\n"
   ]
  },
  {
   "cell_type": "markdown",
   "id": "58feb495",
   "metadata": {},
   "source": [
    "# Just Inheritance"
   ]
  },
  {
   "cell_type": "code",
   "execution_count": 41,
   "id": "b1a44407",
   "metadata": {},
   "outputs": [
    {
     "name": "stdout",
     "output_type": "stream",
     "text": [
      "Please enter your name: M\n",
      "Please enter your father's name: M\n",
      "Please enter your education: M\n",
      "Please enter your ID card number: M\n",
      "Please enter your cellphone number: 5\n",
      "Please enter your address: m\n",
      "Please enter your office address: m\n",
      "Name: M\n",
      "Father's Name: M\n",
      "Education: M\n",
      "ID Card Number: M\n",
      "Cellphone Number: 5\n",
      "Address: m\n",
      "Office Address: m\n"
     ]
    }
   ],
   "source": [
    "class Person:\n",
    "    def __init__(self, name=None, father_name=None):\n",
    "        self.name = name\n",
    "        self.father_name = father_name\n",
    "\n",
    "    def get_details(self):\n",
    "        return f\"Name: {self.name}\\nFather's Name: {self.father_name}\"\n",
    "\n",
    "\n",
    "class Information:\n",
    "    def __init__(self, data_type, data):\n",
    "        self.data_type = data_type\n",
    "        self.data = data\n",
    "\n",
    "    def get_details(self):\n",
    "        return f\"{self.data_type}: {self.data}\"\n",
    "\n",
    "\n",
    "class Application:\n",
    "    def __init__(self):\n",
    "        self.objects = []\n",
    "\n",
    "    def preprocessing(self):\n",
    "        name = input(\"Please enter your name: \")\n",
    "        father_name = input(\"Please enter your father's name: \")\n",
    "        self.objects.append(Person(name, father_name))\n",
    "\n",
    "    def model(self):\n",
    "        degree = input(\"Please enter your education: \")\n",
    "        self.objects.append(Information(\"Education\", degree))\n",
    "\n",
    "    def validation(self):\n",
    "        id_number = input(\"Please enter your ID card number: \")\n",
    "        cell_number = int(input(\"Please enter your cellphone number: \"))\n",
    "        self.objects.append(Information(\"ID Card Number\", id_number))\n",
    "        self.objects.append(Information(\"Cellphone Number\", cell_number))\n",
    "\n",
    "    def visualisation(self):\n",
    "        address = input(\"Please enter your address: \")\n",
    "        self.objects.append(Information(\"Address\", address))\n",
    "\n",
    "    def monitoring(self):\n",
    "        office_address = input(\"Please enter your office address: \")\n",
    "        self.objects.append(Information(\"Office Address\", office_address))\n",
    "\n",
    "    def main(self):\n",
    "        self.preprocessing()\n",
    "        self.model()\n",
    "        self.validation()\n",
    "        self.visualisation()\n",
    "        self.monitoring()\n",
    "\n",
    "        # Access the details using polymorphism\n",
    "        for obj in self.objects:\n",
    "            print(obj.get_details())\n",
    "\n",
    "\n",
    "if __name__ == \"__main__\":\n",
    "    app = Application()\n",
    "    app.main()\n"
   ]
  },
  {
   "cell_type": "markdown",
   "id": "6a511f79",
   "metadata": {},
   "source": [
    "# polymorphism "
   ]
  },
  {
   "cell_type": "code",
   "execution_count": 42,
   "id": "81aa3c97",
   "metadata": {},
   "outputs": [
    {
     "name": "stdout",
     "output_type": "stream",
     "text": [
      "Please enter your name: M\n",
      "Please enter your father's name: m\n",
      "Please enter your education: m\n",
      "Please enter your ID card number: 3\n",
      "Please enter your cellphone number: 3\n",
      "Please enter your address: m\n",
      "Please enter your office address: m\n",
      "Name: M\n",
      "Father's Name: m\n",
      "Education: m\n",
      "ID Card Number: 3\n",
      "Cellphone Number: 3\n",
      "Address: m\n",
      "Office Address: m\n"
     ]
    }
   ],
   "source": [
    "class Person:\n",
    "    def __init__(self, name=None, father_name=None):\n",
    "        self.name = name\n",
    "        self.father_name = father_name\n",
    "\n",
    "    def get_details(self):\n",
    "        return f\"Name: {self.name}\\nFather's Name: {self.father_name}\"\n",
    "\n",
    "\n",
    "class Information:\n",
    "    def __init__(self, data_type, data):\n",
    "        self.data_type = data_type\n",
    "        self.data = data\n",
    "\n",
    "    def get_details(self):\n",
    "        return f\"{self.data_type}: {self.data}\"\n",
    "\n",
    "\n",
    "class Application:\n",
    "    def __init__(self):\n",
    "        self.objects = []\n",
    "\n",
    "    def preprocessing(self):\n",
    "        name = input(\"Please enter your name: \")\n",
    "        father_name = input(\"Please enter your father's name: \")\n",
    "        self.objects.append(Person(name, father_name))\n",
    "\n",
    "    def model(self):\n",
    "        degree = input(\"Please enter your education: \")\n",
    "        self.objects.append(Information(\"Education\", degree))\n",
    "\n",
    "    def validation(self):\n",
    "        id_number = input(\"Please enter your ID card number: \")\n",
    "        cell_number = int(input(\"Please enter your cellphone number: \"))\n",
    "        self.objects.append(Information(\"ID Card Number\", id_number))\n",
    "        self.objects.append(Information(\"Cellphone Number\", cell_number))\n",
    "\n",
    "    def visualisation(self):\n",
    "        address = input(\"Please enter your address: \")\n",
    "        self.objects.append(Information(\"Address\", address))\n",
    "\n",
    "    def monitoring(self):\n",
    "        office_address = input(\"Please enter your office address: \")\n",
    "        self.objects.append(Information(\"Office Address\", office_address))\n",
    "\n",
    "    def main(self):\n",
    "        self.preprocessing()\n",
    "        self.model()\n",
    "        self.validation()\n",
    "        self.visualisation()\n",
    "        self.monitoring()\n",
    "\n",
    "        # Access the details using polymorphism\n",
    "        for obj in self.objects:\n",
    "            print(obj.get_details())\n",
    "\n",
    "\n",
    "if __name__ == \"__main__\":\n",
    "    app = Application()\n",
    "    app.main()\n"
   ]
  },
  {
   "cell_type": "code",
   "execution_count": 43,
   "id": "1e28f929",
   "metadata": {},
   "outputs": [
    {
     "name": "stdout",
     "output_type": "stream",
     "text": [
      "Woof!\n",
      "Meow!\n",
      "8\n",
      "2\n"
     ]
    }
   ],
   "source": [
    "# Example with classes and methods\n",
    "\n",
    "class Animal:\n",
    "    def sound(self):\n",
    "        pass\n",
    "\n",
    "class Dog(Animal):\n",
    "    def sound(self):\n",
    "        return \"Woof!\"\n",
    "\n",
    "class Cat(Animal):\n",
    "    def sound(self):\n",
    "        return \"Meow!\"\n",
    "\n",
    "# Polymorphic behavior through method overriding\n",
    "animals = [Dog(), Cat()]\n",
    "for animal in animals:\n",
    "    print(animal.sound())\n",
    "\n",
    "# Example with just methods\n",
    "\n",
    "def add(a, b):\n",
    "    return a + b\n",
    "\n",
    "def subtract(a, b):\n",
    "    return a - b\n",
    "\n",
    "# Polymorphic behavior through function overloading\n",
    "def calculate(operation, a, b):\n",
    "    return operation(a, b)\n",
    "\n",
    "# Call calculate with different operations\n",
    "print(calculate(add, 5, 3))\n",
    "print(calculate(subtract, 5, 3))\n"
   ]
  },
  {
   "cell_type": "code",
   "execution_count": 135,
   "id": "73aeab2a",
   "metadata": {},
   "outputs": [
    {
     "data": {
      "image/png": "[encoded data removed]",
      "text/plain": [
       "<Figure size 432x288 with 1 Axes>"
      ]
     },
     "metadata": {
      "needs_background": "light"
     },
     "output_type": "display_data"
    },
    {
     "data": {
      "image/png": "[encoded data removed]",
      "text/plain": [
       "<Figure size 432x288 with 1 Axes>"
      ]
     },
     "metadata": {
      "needs_background": "light"
     },
     "output_type": "display_data"
    },
    {
     "data": {
      "image/png": "[encoded data removed]",
      "text/plain": [
       "<Figure size 432x288 with 1 Axes>"
      ]
     },
     "metadata": {
      "needs_background": "light"
     },
     "output_type": "display_data"
    },
    {
     "data": {
      "image/png": "[encoded data removed]",
      "text/plain": [
       "<Figure size 432x288 with 1 Axes>"
      ]
     },
     "metadata": {
      "needs_background": "light"
     },
     "output_type": "display_data"
    },
    {
     "data": {
      "image/png": "[encoded data removed]",
      "text/plain": [
       "<Figure size 432x288 with 1 Axes>"
      ]
     },
     "metadata": {
      "needs_background": "light"
     },
     "output_type": "display_data"
    }
   ],
   "source": [
    "import matplotlib.pyplot as plt\n",
    "import numpy as np\n",
    "import statistics\n",
    "\n",
    "# Dataset\n",
    "scores =  [12, 15, 18, 20, 22, 25, 28, 30, 35, 40, 45, 50]\n",
    "salaries = [30000, 40000, 50000, 70000, 90000]\n",
    "\n",
    "# Measures of Central Tendency Visualization\n",
    "\n",
    "# Mean\n",
    "mean = np.mean(scores)\n",
    "plt.bar(scores, 1, color='lightblue')\n",
    "plt.axhline(mean, color='red', linestyle='--', label='Mean')\n",
    "plt.xlabel('Scores')\n",
    "plt.ylabel('Frequency')\n",
    "plt.title('Mean Visualization')\n",
    "plt.legend()\n",
    "plt.show()\n",
    "\n",
    "# Median\n",
    "median = np.median(scores)\n",
    "plt.bar(scores, 1, color='lightblue')\n",
    "plt.axhline(median, color='red', linestyle='--', label='Median')\n",
    "plt.xlabel('Scores')\n",
    "plt.ylabel('Frequency')\n",
    "plt.title('Median Visualization')\n",
    "plt.legend()\n",
    "plt.show()\n",
    "\n",
    "# Mode\n",
    "mode = statistics.mode(scores)\n",
    "plt.bar(scores, 1, color='lightblue')\n",
    "plt.axhline(mode, color='red', linestyle='--', label='Mode')\n",
    "plt.xlabel('Scores')\n",
    "plt.ylabel('Frequency')\n",
    "plt.title('Mode Visualization')\n",
    "plt.legend()\n",
    "plt.show()\n",
    "\n",
    "# Measures of Dispersion Visualization\n",
    "\n",
    "# Range\n",
    "range_val = max(salaries) - min(salaries)\n",
    "plt.bar([0], [range_val], color='lightgreen')\n",
    "plt.xlabel('Range')\n",
    "plt.ylabel('Value')\n",
    "plt.title('Range Visualization')\n",
    "plt.show()\n",
    "\n",
    "# Variance and Standard Deviation\n",
    "variance = np.var(salaries)\n",
    "std_deviation = np.std(salaries)\n",
    "plt.bar(['Variance', 'Std. Deviation'], [variance, std_deviation], color='lightblue')\n",
    "plt.xlabel('Measures')\n",
    "plt.ylabel('Value')\n",
    "plt.title('Variance and Standard Deviation Visualization')\n",
    "plt.show()\n"
   ]
  },
  {
   "cell_type": "code",
   "execution_count": null,
   "id": "5c542f44",
   "metadata": {},
   "outputs": [],
   "source": []
  },
  {
   "cell_type": "code",
   "execution_count": 134,
   "id": "3b676ddb",
   "metadata": {},
   "outputs": [
    {
     "data": {
      "image/png": "[encoded data removed]",
      "text/plain": [
       "<Figure size 432x288 with 1 Axes>"
      ]
     },
     "metadata": {
      "needs_background": "light"
     },
     "output_type": "display_data"
    }
   ],
   "source": [
    "import matplotlib.pyplot as plt\n",
    "import numpy as np\n",
    "import statistics\n",
    "\n",
    "# Dataset\n",
    "data = [12, 15, 18, 20, 22, 25, 28, 30, 35, 40, 45, 50]\n",
    "\n",
    "# Measures of Central Tendency Visualization\n",
    "\n",
    "# Mean\n",
    "mean = np.mean(scores)\n",
    "\n",
    "# Median\n",
    "median = np.median(scores)\n",
    "\n",
    "# Mode\n",
    "mode = statistics.mode(scores)\n",
    "\n",
    "plt.bar(scores, 1, color='lightblue', label='Scores')\n",
    "plt.axhline(mean, color='red', linestyle='--', label='Mean')\n",
    "plt.axhline(median, color='green', linestyle='--', label='Median')\n",
    "plt.axhline(mode, color='blue', linestyle='--', label='Mode')\n",
    "\n",
    "plt.xlabel('Scores')\n",
    "plt.ylabel('Frequency')\n",
    "plt.title('Measures of Central Tendency Visualization')\n",
    "plt.legend()\n",
    "plt.show()\n"
   ]
  },
  {
   "cell_type": "code",
   "execution_count": 133,
   "id": "ea66b163",
   "metadata": {},
   "outputs": [
    {
     "data": {
      "image/png": "[encoded data removed]",
      "text/plain": [
       "<Figure size 432x288 with 1 Axes>"
      ]
     },
     "metadata": {
      "needs_background": "light"
     },
     "output_type": "display_data"
    }
   ],
   "source": [
    "import matplotlib.pyplot as plt\n",
    "import numpy as np\n",
    "import statistics\n",
    "\n",
    "# Dataset\n",
    "data = [12, 15, 18, 20, 22, 25, 28, 30, 35, 40, 45, 50]\n",
    "# Measures of Central Tendency Visualization\n",
    "\n",
    "# Mean\n",
    "mean = np.mean(scores)\n",
    "\n",
    "# Median\n",
    "median = np.median(scores)\n",
    "\n",
    "# Mode\n",
    "mode = statistics.mode(scores)\n",
    "\n",
    "plt.bar(scores, 1, color='lightblue', label='Scores')\n",
    "plt.scatter(mean, 0, color='red', marker='o', label='Mean')\n",
    "plt.scatter(median, 0, color='green', marker='o', label='Median')\n",
    "plt.scatter(mode, 0, color='blue', marker='o', label='Mode')\n",
    "\n",
    "plt.xlabel('Scores')\n",
    "plt.ylabel('Frequency')\n",
    "plt.title('Measures of Central Tendency Visualization')\n",
    "plt.legend()\n",
    "plt.show()\n"
   ]
  },
  {
   "cell_type": "code",
   "execution_count": 131,
   "id": "696eba34",
   "metadata": {},
   "outputs": [
    {
     "data": {
      "image/png": "[encoded data removed]",
      "text/plain": [
       "<Figure size 720x432 with 4 Axes>"
      ]
     },
     "metadata": {
      "needs_background": "light"
     },
     "output_type": "display_data"
    }
   ],
   "source": [
    "import numpy as np\n",
    "import matplotlib.pyplot as plt\n",
    "from scipy.stats import skew, kurtosis\n",
    "\n",
    "# Dataset\n",
    "data = [12, 15, 18, 20, 22, 25, 28, 30, 35, 40, 45, 50]\n",
    "# Variance and Standard Deviation\n",
    "variance = np.var(data)\n",
    "std_deviation = np.std(data)\n",
    "\n",
    "# Coefficient of Variation\n",
    "coefficient_of_variation = (std_deviation / np.mean(data)) * 100\n",
    "\n",
    "# Skewness and Kurtosis\n",
    "skewness = skew(data)\n",
    "kurt = kurtosis(data)\n",
    "\n",
    "# Plotting\n",
    "plt.figure(figsize=(10, 6))\n",
    "\n",
    "# Variance\n",
    "plt.subplot(2, 2, 1)\n",
    "plt.title('Variance')\n",
    "plt.bar(0, variance)\n",
    "plt.xticks([])\n",
    "plt.ylabel('Value')\n",
    "\n",
    "# Standard Deviation\n",
    "plt.subplot(2, 2, 2)\n",
    "plt.title('Standard Deviation')\n",
    "plt.bar(0, std_deviation)\n",
    "plt.xticks([])\n",
    "plt.ylabel('Value')\n",
    "\n",
    "# Coefficient of Variation\n",
    "plt.subplot(2, 2, 3)\n",
    "plt.title('Coefficient of Variation')\n",
    "plt.bar(0, coefficient_of_variation)\n",
    "plt.xticks([])\n",
    "plt.ylabel('Value')\n",
    "\n",
    "# Skewness\n",
    "plt.subplot(2, 2, 4)\n",
    "plt.title('Skewness and Kurtosis')\n",
    "plt.bar(0, skewness, label='Skewness')\n",
    "plt.bar(1, kurt, label='Kurtosis')\n",
    "plt.xticks([0, 1], ['Skewness', 'Kurtosis'])\n",
    "plt.ylabel('Value')\n",
    "\n",
    "plt.tight_layout()\n",
    "plt.legend()\n",
    "plt.show()\n",
    "# Dataset\n",
    "data = [12, 15, 18, 20, 22, 25, 28, 30, 35, 40, 45, 50]"
   ]
  },
  {
   "cell_type": "code",
   "execution_count": 129,
   "id": "dc254b01",
   "metadata": {},
   "outputs": [
    {
     "data": {
      "image/png": "[encoded data removed]",
      "text/plain": [
       "<Figure size 720x432 with 4 Axes>"
      ]
     },
     "metadata": {
      "needs_background": "light"
     },
     "output_type": "display_data"
    }
   ],
   "source": [
    "import numpy as np\n",
    "import matplotlib.pyplot as plt\n",
    "from scipy.stats import skew, kurtosis\n",
    "\n",
    "# Dataset\n",
    "data = [12, 15, 18, 20, 22, 25, 28, 30, 35, 40, 45, 50]\n",
    "# Variance and Standard Deviation\n",
    "variance = np.var(data)\n",
    "std_dev = np.std(data)\n",
    "\n",
    "# Coefficient of Variation\n",
    "coefficient_of_variation = (std_dev / np.mean(data)) * 100\n",
    "\n",
    "# Skewness and Kurtosis\n",
    "data_skewness = skew(data)\n",
    "data_kurtosis = kurtosis(data)\n",
    "\n",
    "# Plotting\n",
    "plt.figure(figsize=(10, 6))\n",
    "\n",
    "# Variance and Standard Deviation\n",
    "plt.subplot(2, 2, 1)\n",
    "plt.bar(0, variance, color='blue')\n",
    "plt.xlabel('Variance')\n",
    "plt.ylabel('Value')\n",
    "\n",
    "plt.subplot(2, 2, 2)\n",
    "plt.bar(0, std_dev, color='green')\n",
    "plt.xlabel('Standard Deviation')\n",
    "plt.ylabel('Value')\n",
    "\n",
    "# Coefficient of Variation\n",
    "plt.subplot(2, 2, 3)\n",
    "plt.bar(0, coefficient_of_variation, color='red')\n",
    "plt.xlabel('Coefficient of Variation')\n",
    "plt.ylabel('Value')\n",
    "\n",
    "# Skewness and Kurtosis\n",
    "plt.subplot(2, 2, 4)\n",
    "plt.bar(0, data_skewness, color='orange', label='Skewness')\n",
    "plt.bar(1, data_kurtosis, color='purple', label='Kurtosis')\n",
    "plt.xticks([0, 1], ['Skewness', 'Kurtosis'])\n",
    "plt.ylabel('Value')\n",
    "\n",
    "plt.tight_layout()\n",
    "plt.legend()\n",
    "plt.show()\n"
   ]
  },
  {
   "cell_type": "code",
   "execution_count": 128,
   "id": "b8e9dc90",
   "metadata": {},
   "outputs": [
    {
     "data": {
      "image/png": "[encoded data removed]",
      "text/plain": [
       "<Figure size 720x432 with 3 Axes>"
      ]
     },
     "metadata": {
      "needs_background": "light"
     },
     "output_type": "display_data"
    }
   ],
   "source": [
    "import numpy as np\n",
    "import matplotlib.pyplot as plt\n",
    "\n",
    "# Dataset\n",
    "data = [12, 15, 18, 20, 22, 25, 28, 30, 35, 40, 45, 50]\n",
    "\n",
    "# Z-score\n",
    "z_scores = (data - np.mean(data)) / np.std(data)\n",
    "\n",
    "# Percentiles\n",
    "percentiles = np.percentile(data, [25, 50, 75])\n",
    "\n",
    "# Quartiles\n",
    "quartiles = np.percentile(data, [25, 50, 75])\n",
    "\n",
    "# Plotting\n",
    "plt.figure(figsize=(10, 6))\n",
    "\n",
    "# Z-score\n",
    "plt.subplot(2, 2, 1)\n",
    "plt.plot(range(len(data)), z_scores, marker='o', linestyle='-', color='blue')\n",
    "plt.xlabel('Data Point')\n",
    "plt.ylabel('Z-score')\n",
    "\n",
    "# Percentiles\n",
    "plt.subplot(2, 2, 2)\n",
    "plt.bar(range(3), percentiles, color='green')\n",
    "plt.xticks(range(3), ['25%', '50%', '75%'])\n",
    "plt.xlabel('Percentile')\n",
    "plt.ylabel('Value')\n",
    "\n",
    "# Quartiles\n",
    "plt.subplot(2, 2, 3)\n",
    "plt.bar(range(3), quartiles, color='red')\n",
    "plt.xticks(range(3), ['Q1', 'Q2', 'Q3'])\n",
    "plt.xlabel('Quartile')\n",
    "plt.ylabel('Value')\n",
    "\n",
    "plt.tight_layout()\n",
    "plt.show()\n"
   ]
  },
  {
   "cell_type": "code",
   "execution_count": 136,
   "id": "d00e2fdc",
   "metadata": {},
   "outputs": [
    {
     "name": "stdout",
     "output_type": "stream",
     "text": [
      "Correlation Coefficient: -0.9999999999999999\n"
     ]
    }
   ],
   "source": [
    "import numpy as np\n",
    "\n",
    "# Sample data\n",
    "x = [1, 2, 3, 4, 5]\n",
    "y = [5, 4, 3, 2, 1]\n",
    "\n",
    "# Calculate correlation coefficient\n",
    "corr_coef = np.corrcoef(x, y)[0, 1]\n",
    "\n",
    "print(\"Correlation Coefficient:\", corr_coef)\n"
   ]
  }
 ],
 "metadata": {
  "kernelspec": {
   "display_name": "Python 3 (ipykernel)",
   "language": "python",
   "name": "python3"
  },
  "language_info": {
   "codemirror_mode": {
    "name": "ipython",
    "version": 3
   },
   "file_extension": ".py",
   "mimetype": "text/x-python",
   "name": "python",
   "nbconvert_exporter": "python",
   "pygments_lexer": "ipython3",
   "version": "3.10.6"
  }
 },
 "nbformat": 4,
 "nbformat_minor": 5
}
