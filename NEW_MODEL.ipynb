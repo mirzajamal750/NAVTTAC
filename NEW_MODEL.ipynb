{
 "cells": [
  {
   "cell_type": "code",
   "execution_count": 1,
   "metadata": {
    "id": "MHMCOr85hmRF"
   },
   "outputs": [],
   "source": [
    "import pandas as pd\n",
    "import numpy as np\n",
    "from sklearn.preprocessing import StandardScaler"
   ]
  },
  {
   "cell_type": "code",
   "execution_count": 2,
   "metadata": {
    "id": "vw6W0cm0iF4G"
   },
   "outputs": [],
   "source": [
    "df=pd.read_csv(\"Lucky_day1.csv\")"
   ]
  },
  {
   "cell_type": "code",
   "execution_count": 3,
   "metadata": {
    "colab": {
     "base_uri": "https://localhost:8080/",
     "height": 236
    },
    "id": "3Ad20rN7ip8Q",
    "outputId": "a0c10fe5-69b9-47a5-cc10-12f1fcaa8cac"
   },
   "outputs": [
    {
     "data": {
      "text/html": [
       "<div>\n",
       "<style scoped>\n",
       "    .dataframe tbody tr th:only-of-type {\n",
       "        vertical-align: middle;\n",
       "    }\n",
       "\n",
       "    .dataframe tbody tr th {\n",
       "        vertical-align: top;\n",
       "    }\n",
       "\n",
       "    .dataframe thead th {\n",
       "        text-align: right;\n",
       "    }\n",
       "</style>\n",
       "<table border=\"1\" class=\"dataframe\">\n",
       "  <thead>\n",
       "    <tr style=\"text-align: right;\">\n",
       "      <th></th>\n",
       "      <th>Date</th>\n",
       "      <th>Number 1</th>\n",
       "      <th>Number 2</th>\n",
       "      <th>Number 3</th>\n",
       "      <th>Number 4</th>\n",
       "      <th>Number 5</th>\n",
       "      <th>Number 6</th>\n",
       "      <th>Number 7</th>\n",
       "      <th>Number 8</th>\n",
       "      <th>Number 9</th>\n",
       "      <th>...</th>\n",
       "      <th>Number 11</th>\n",
       "      <th>Number 12</th>\n",
       "      <th>Number 13</th>\n",
       "      <th>Number 14</th>\n",
       "      <th>Number 15</th>\n",
       "      <th>Number 16</th>\n",
       "      <th>Number 17</th>\n",
       "      <th>Number 18</th>\n",
       "      <th>Number 19</th>\n",
       "      <th>Number 20</th>\n",
       "    </tr>\n",
       "  </thead>\n",
       "  <tbody>\n",
       "    <tr>\n",
       "      <th>0</th>\n",
       "      <td>2023-07-23</td>\n",
       "      <td>1</td>\n",
       "      <td>3</td>\n",
       "      <td>8</td>\n",
       "      <td>17</td>\n",
       "      <td>19</td>\n",
       "      <td>21</td>\n",
       "      <td>31</td>\n",
       "      <td>35</td>\n",
       "      <td>41</td>\n",
       "      <td>...</td>\n",
       "      <td>48</td>\n",
       "      <td>50</td>\n",
       "      <td>66</td>\n",
       "      <td>67</td>\n",
       "      <td>68</td>\n",
       "      <td>69</td>\n",
       "      <td>70</td>\n",
       "      <td>72</td>\n",
       "      <td>76</td>\n",
       "      <td>79</td>\n",
       "    </tr>\n",
       "    <tr>\n",
       "      <th>1</th>\n",
       "      <td>2023-07-22</td>\n",
       "      <td>6</td>\n",
       "      <td>13</td>\n",
       "      <td>26</td>\n",
       "      <td>31</td>\n",
       "      <td>33</td>\n",
       "      <td>35</td>\n",
       "      <td>37</td>\n",
       "      <td>39</td>\n",
       "      <td>41</td>\n",
       "      <td>...</td>\n",
       "      <td>46</td>\n",
       "      <td>49</td>\n",
       "      <td>51</td>\n",
       "      <td>52</td>\n",
       "      <td>59</td>\n",
       "      <td>60</td>\n",
       "      <td>62</td>\n",
       "      <td>69</td>\n",
       "      <td>77</td>\n",
       "      <td>80</td>\n",
       "    </tr>\n",
       "    <tr>\n",
       "      <th>2</th>\n",
       "      <td>2023-07-21</td>\n",
       "      <td>2</td>\n",
       "      <td>3</td>\n",
       "      <td>5</td>\n",
       "      <td>7</td>\n",
       "      <td>9</td>\n",
       "      <td>14</td>\n",
       "      <td>17</td>\n",
       "      <td>24</td>\n",
       "      <td>30</td>\n",
       "      <td>...</td>\n",
       "      <td>39</td>\n",
       "      <td>49</td>\n",
       "      <td>54</td>\n",
       "      <td>58</td>\n",
       "      <td>60</td>\n",
       "      <td>62</td>\n",
       "      <td>67</td>\n",
       "      <td>68</td>\n",
       "      <td>70</td>\n",
       "      <td>72</td>\n",
       "    </tr>\n",
       "    <tr>\n",
       "      <th>3</th>\n",
       "      <td>2023-07-20</td>\n",
       "      <td>2</td>\n",
       "      <td>12</td>\n",
       "      <td>13</td>\n",
       "      <td>14</td>\n",
       "      <td>20</td>\n",
       "      <td>25</td>\n",
       "      <td>32</td>\n",
       "      <td>39</td>\n",
       "      <td>40</td>\n",
       "      <td>...</td>\n",
       "      <td>42</td>\n",
       "      <td>48</td>\n",
       "      <td>50</td>\n",
       "      <td>53</td>\n",
       "      <td>59</td>\n",
       "      <td>71</td>\n",
       "      <td>74</td>\n",
       "      <td>75</td>\n",
       "      <td>79</td>\n",
       "      <td>80</td>\n",
       "    </tr>\n",
       "    <tr>\n",
       "      <th>4</th>\n",
       "      <td>2023-07-19</td>\n",
       "      <td>3</td>\n",
       "      <td>11</td>\n",
       "      <td>13</td>\n",
       "      <td>15</td>\n",
       "      <td>20</td>\n",
       "      <td>30</td>\n",
       "      <td>33</td>\n",
       "      <td>39</td>\n",
       "      <td>41</td>\n",
       "      <td>...</td>\n",
       "      <td>50</td>\n",
       "      <td>54</td>\n",
       "      <td>57</td>\n",
       "      <td>61</td>\n",
       "      <td>64</td>\n",
       "      <td>72</td>\n",
       "      <td>74</td>\n",
       "      <td>75</td>\n",
       "      <td>77</td>\n",
       "      <td>78</td>\n",
       "    </tr>\n",
       "    <tr>\n",
       "      <th>...</th>\n",
       "      <td>...</td>\n",
       "      <td>...</td>\n",
       "      <td>...</td>\n",
       "      <td>...</td>\n",
       "      <td>...</td>\n",
       "      <td>...</td>\n",
       "      <td>...</td>\n",
       "      <td>...</td>\n",
       "      <td>...</td>\n",
       "      <td>...</td>\n",
       "      <td>...</td>\n",
       "      <td>...</td>\n",
       "      <td>...</td>\n",
       "      <td>...</td>\n",
       "      <td>...</td>\n",
       "      <td>...</td>\n",
       "      <td>...</td>\n",
       "      <td>...</td>\n",
       "      <td>...</td>\n",
       "      <td>...</td>\n",
       "      <td>...</td>\n",
       "    </tr>\n",
       "    <tr>\n",
       "      <th>3696</th>\n",
       "      <td>2013-01-07</td>\n",
       "      <td>3</td>\n",
       "      <td>4</td>\n",
       "      <td>8</td>\n",
       "      <td>10</td>\n",
       "      <td>18</td>\n",
       "      <td>19</td>\n",
       "      <td>20</td>\n",
       "      <td>28</td>\n",
       "      <td>29</td>\n",
       "      <td>...</td>\n",
       "      <td>45</td>\n",
       "      <td>47</td>\n",
       "      <td>48</td>\n",
       "      <td>50</td>\n",
       "      <td>55</td>\n",
       "      <td>67</td>\n",
       "      <td>69</td>\n",
       "      <td>72</td>\n",
       "      <td>77</td>\n",
       "      <td>79</td>\n",
       "    </tr>\n",
       "    <tr>\n",
       "      <th>3697</th>\n",
       "      <td>2013-01-05</td>\n",
       "      <td>1</td>\n",
       "      <td>2</td>\n",
       "      <td>7</td>\n",
       "      <td>8</td>\n",
       "      <td>17</td>\n",
       "      <td>23</td>\n",
       "      <td>24</td>\n",
       "      <td>30</td>\n",
       "      <td>34</td>\n",
       "      <td>...</td>\n",
       "      <td>38</td>\n",
       "      <td>48</td>\n",
       "      <td>49</td>\n",
       "      <td>53</td>\n",
       "      <td>56</td>\n",
       "      <td>64</td>\n",
       "      <td>65</td>\n",
       "      <td>66</td>\n",
       "      <td>70</td>\n",
       "      <td>73</td>\n",
       "    </tr>\n",
       "    <tr>\n",
       "      <th>3698</th>\n",
       "      <td>2013-01-04</td>\n",
       "      <td>4</td>\n",
       "      <td>7</td>\n",
       "      <td>9</td>\n",
       "      <td>14</td>\n",
       "      <td>19</td>\n",
       "      <td>20</td>\n",
       "      <td>21</td>\n",
       "      <td>25</td>\n",
       "      <td>28</td>\n",
       "      <td>...</td>\n",
       "      <td>34</td>\n",
       "      <td>35</td>\n",
       "      <td>40</td>\n",
       "      <td>44</td>\n",
       "      <td>60</td>\n",
       "      <td>65</td>\n",
       "      <td>72</td>\n",
       "      <td>73</td>\n",
       "      <td>75</td>\n",
       "      <td>79</td>\n",
       "    </tr>\n",
       "    <tr>\n",
       "      <th>3699</th>\n",
       "      <td>2013-01-03</td>\n",
       "      <td>5</td>\n",
       "      <td>7</td>\n",
       "      <td>15</td>\n",
       "      <td>16</td>\n",
       "      <td>23</td>\n",
       "      <td>27</td>\n",
       "      <td>28</td>\n",
       "      <td>30</td>\n",
       "      <td>31</td>\n",
       "      <td>...</td>\n",
       "      <td>41</td>\n",
       "      <td>43</td>\n",
       "      <td>46</td>\n",
       "      <td>48</td>\n",
       "      <td>54</td>\n",
       "      <td>65</td>\n",
       "      <td>67</td>\n",
       "      <td>69</td>\n",
       "      <td>76</td>\n",
       "      <td>78</td>\n",
       "    </tr>\n",
       "    <tr>\n",
       "      <th>3700</th>\n",
       "      <td>2013-01-02</td>\n",
       "      <td>1</td>\n",
       "      <td>5</td>\n",
       "      <td>6</td>\n",
       "      <td>11</td>\n",
       "      <td>12</td>\n",
       "      <td>22</td>\n",
       "      <td>24</td>\n",
       "      <td>31</td>\n",
       "      <td>35</td>\n",
       "      <td>...</td>\n",
       "      <td>45</td>\n",
       "      <td>48</td>\n",
       "      <td>51</td>\n",
       "      <td>59</td>\n",
       "      <td>66</td>\n",
       "      <td>68</td>\n",
       "      <td>69</td>\n",
       "      <td>74</td>\n",
       "      <td>76</td>\n",
       "      <td>79</td>\n",
       "    </tr>\n",
       "  </tbody>\n",
       "</table>\n",
       "<p>3701 rows × 21 columns</p>\n",
       "</div>"
      ],
      "text/plain": [
       "            Date  Number 1  Number 2  Number 3  Number 4  Number 5  Number 6  \\\n",
       "0     2023-07-23         1         3         8        17        19        21   \n",
       "1     2023-07-22         6        13        26        31        33        35   \n",
       "2     2023-07-21         2         3         5         7         9        14   \n",
       "3     2023-07-20         2        12        13        14        20        25   \n",
       "4     2023-07-19         3        11        13        15        20        30   \n",
       "...          ...       ...       ...       ...       ...       ...       ...   \n",
       "3696  2013-01-07         3         4         8        10        18        19   \n",
       "3697  2013-01-05         1         2         7         8        17        23   \n",
       "3698  2013-01-04         4         7         9        14        19        20   \n",
       "3699  2013-01-03         5         7        15        16        23        27   \n",
       "3700  2013-01-02         1         5         6        11        12        22   \n",
       "\n",
       "      Number 7  Number 8  Number 9  ...  Number 11  Number 12  Number 13  \\\n",
       "0           31        35        41  ...         48         50         66   \n",
       "1           37        39        41  ...         46         49         51   \n",
       "2           17        24        30  ...         39         49         54   \n",
       "3           32        39        40  ...         42         48         50   \n",
       "4           33        39        41  ...         50         54         57   \n",
       "...        ...       ...       ...  ...        ...        ...        ...   \n",
       "3696        20        28        29  ...         45         47         48   \n",
       "3697        24        30        34  ...         38         48         49   \n",
       "3698        21        25        28  ...         34         35         40   \n",
       "3699        28        30        31  ...         41         43         46   \n",
       "3700        24        31        35  ...         45         48         51   \n",
       "\n",
       "      Number 14  Number 15  Number 16  Number 17  Number 18  Number 19  \\\n",
       "0            67         68         69         70         72         76   \n",
       "1            52         59         60         62         69         77   \n",
       "2            58         60         62         67         68         70   \n",
       "3            53         59         71         74         75         79   \n",
       "4            61         64         72         74         75         77   \n",
       "...         ...        ...        ...        ...        ...        ...   \n",
       "3696         50         55         67         69         72         77   \n",
       "3697         53         56         64         65         66         70   \n",
       "3698         44         60         65         72         73         75   \n",
       "3699         48         54         65         67         69         76   \n",
       "3700         59         66         68         69         74         76   \n",
       "\n",
       "      Number 20  \n",
       "0            79  \n",
       "1            80  \n",
       "2            72  \n",
       "3            80  \n",
       "4            78  \n",
       "...         ...  \n",
       "3696         79  \n",
       "3697         73  \n",
       "3698         79  \n",
       "3699         78  \n",
       "3700         79  \n",
       "\n",
       "[3701 rows x 21 columns]"
      ]
     },
     "execution_count": 3,
     "metadata": {},
     "output_type": "execute_result"
    }
   ],
   "source": [
    "df"
   ]
  },
  {
   "cell_type": "code",
   "execution_count": 4,
   "metadata": {
    "id": "4O7oYgSuip35"
   },
   "outputs": [],
   "source": [
    "new_df=df[[\"Number 1\",\"Number 2\",\"Number 3\",\"Number 4\",\"Number 5\",\"Number 6\",\"Number 7\",\"Number 8\",\"Number 9\",\"Number 10\",\"Number 11\",\"Number 12\",\"Number 13\",\"Number 14\",\"Number 15\",\"Number 16\",\"Number 17\",\"Number 18\",\"Number 19\",\"Number 20\"]]"
   ]
  },
  {
   "cell_type": "code",
   "execution_count": 5,
   "metadata": {
    "id": "nkHK_bOVip1n"
   },
   "outputs": [],
   "source": [
    "scaler=StandardScaler().fit(new_df.values)"
   ]
  },
  {
   "cell_type": "code",
   "execution_count": 6,
   "metadata": {
    "id": "NizbPpHaipyu"
   },
   "outputs": [],
   "source": [
    "transformed_dataset=scaler.transform(new_df.values)"
   ]
  },
  {
   "cell_type": "code",
   "execution_count": 7,
   "metadata": {
    "id": "yndCWbEukfKF"
   },
   "outputs": [],
   "source": [
    "fransformed_df=pd.DataFrame(data=transformed_dataset, index=new_df.index)"
   ]
  },
  {
   "cell_type": "code",
   "execution_count": null,
   "metadata": {
    "id": "HUH2uZwqips3"
   },
   "outputs": [],
   "source": []
  },
  {
   "cell_type": "code",
   "execution_count": 8,
   "metadata": {
    "id": "oojWVIxkippZ"
   },
   "outputs": [],
   "source": [
    "number_of_row=new_df.shape[0]\n",
    "window_length=7\n",
    "number_of_features=new_df.values.shape[1]"
   ]
  },
  {
   "cell_type": "markdown",
   "metadata": {
    "id": "DuWOEuBClho9"
   },
   "source": [
    "###Creating train dataset and labels for each row"
   ]
  },
  {
   "cell_type": "code",
   "execution_count": 9,
   "metadata": {
    "id": "Q-byYzJ4ipmi"
   },
   "outputs": [],
   "source": [
    "train=np.empty([number_of_row-window_length,window_length,number_of_features],dtype=float)\n",
    "\n",
    "label =np.empty([number_of_row-window_length,number_of_features],dtype=float)\n",
    "\n",
    "window_length=7\n",
    "\n",
    "for i in range(0,number_of_row-window_length):\n",
    "  train[i]=fransformed_df.iloc[i:i+window_length,0:number_of_features]\n",
    "  label[i]=fransformed_df.iloc[i+window_length:i+window_length+1 ,0:number_of_features]"
   ]
  },
  {
   "cell_type": "code",
   "execution_count": null,
   "metadata": {
    "id": "lErmtglNuYT7"
   },
   "outputs": [],
   "source": []
  },
  {
   "cell_type": "code",
   "execution_count": 10,
   "metadata": {
    "colab": {
     "base_uri": "https://localhost:8080/"
    },
    "id": "jDWowTfEmtxI",
    "outputId": "47bc8112-1e8f-42f8-dd15-7e784deb4c6c"
   },
   "outputs": [
    {
     "data": {
      "text/plain": [
       "(3694, 7, 20)"
      ]
     },
     "execution_count": 10,
     "metadata": {},
     "output_type": "execute_result"
    }
   ],
   "source": [
    "train.shape"
   ]
  },
  {
   "cell_type": "code",
   "execution_count": 11,
   "metadata": {
    "colab": {
     "base_uri": "https://localhost:8080/"
    },
    "id": "nWsedAMKnDu9",
    "outputId": "39279661-d2a0-4e90-e8e7-d5f8f182d988"
   },
   "outputs": [
    {
     "data": {
      "text/plain": [
       "(3694, 20)"
      ]
     },
     "execution_count": 11,
     "metadata": {},
     "output_type": "execute_result"
    }
   ],
   "source": [
    "label.shape"
   ]
  },
  {
   "cell_type": "markdown",
   "metadata": {
    "id": "Fj6tGcPgB0VP"
   },
   "source": [
    "##lstm final"
   ]
  },
  {
   "cell_type": "code",
   "execution_count": 12,
   "metadata": {
    "id": "dTGVVHYOB2QX"
   },
   "outputs": [
    {
     "name": "stderr",
     "output_type": "stream",
     "text": [
      "2023-07-24 21:48:19.178087: I tensorflow/tsl/cuda/cudart_stub.cc:28] Could not find cuda drivers on your machine, GPU will not be used.\n",
      "2023-07-24 21:48:19.236538: I tensorflow/tsl/cuda/cudart_stub.cc:28] Could not find cuda drivers on your machine, GPU will not be used.\n",
      "2023-07-24 21:48:19.237309: I tensorflow/core/platform/cpu_feature_guard.cc:182] This TensorFlow binary is optimized to use available CPU instructions in performance-critical operations.\n",
      "To enable the following instructions: AVX2 FMA, in other operations, rebuild TensorFlow with the appropriate compiler flags.\n",
      "2023-07-24 21:48:20.156119: W tensorflow/compiler/tf2tensorrt/utils/py_utils.cc:38] TF-TRT Warning: Could not find TensorRT\n"
     ]
    }
   ],
   "source": [
    "from keras.models import Sequential\n",
    "from keras.layers import LSTM,Dense,Bidirectional,Dropout"
   ]
  },
  {
   "cell_type": "code",
   "execution_count": 13,
   "metadata": {
    "colab": {
     "base_uri": "https://localhost:8080/",
     "height": 87
    },
    "id": "3hXFclOsB2LU",
    "outputId": "6b2d1b6d-0694-4e3f-ba16-e027963d3fa5"
   },
   "outputs": [],
   "source": [
    "# model=Sequential()\n",
    "# model.add(Bidirectional(LSTM(240,input_shape=(window_length,number_of_features),\n",
    "#                                  return_sequences=True)))\n",
    "# model.add(Dropout(0.2))\n",
    "# model.add(Bidirectional(LSTM(240,input_shape=(window_length,number_of_features),\n",
    "#                                  return_sequences=True)))\n",
    "# model.add(Dropout(0.2))\n",
    "# model.add(Bidirectional(LSTM(240,input_shape=(window_length,number_of_features),\n",
    "#                                  return_sequences=True)))\n",
    "# model.add(Dropout(0.2))\n",
    "# model.add(Bidirectional(LSTM(240,input_shape=(window_length,number_of_features),\n",
    "#                                  return_sequences=True)))\n",
    "# model.add(Bidirectional(LSTM(240,input_shape=(window_length,number_of_features),\n",
    "#                                  return_sequences=False)))\n",
    "# model.add(Dense(59))\n",
    "# model.add(Dense(number_of_features))\n",
    "# model.compile(loss=\"mse\",optimizer='rmsprop', metrics=['accuracy'])"
   ]
  },
  {
   "cell_type": "code",
   "execution_count": 14,
   "metadata": {},
   "outputs": [
    {
     "name": "stderr",
     "output_type": "stream",
     "text": [
      "2023-07-24 21:48:21.113947: E tensorflow/compiler/xla/stream_executor/cuda/cuda_driver.cc:266] failed call to cuInit: CUDA_ERROR_NO_DEVICE: no CUDA-capable device is detected\n"
     ]
    }
   ],
   "source": [
    "from tensorflow.keras.models import Sequential\n",
    "from tensorflow.keras.layers import LSTM, Bidirectional, Dense, Dropout, BatchNormalization, Activation\n",
    "from tensorflow.keras.callbacks import EarlyStopping\n",
    "\n",
    "# Assuming you have defined 'window_length', 'number_of_features', and 'output_shape'\n",
    "\n",
    "model = Sequential()\n",
    "model.add(Bidirectional(LSTM(512, input_shape=(window_length, number_of_features), return_sequences=True)))\n",
    "model.add(Dropout(0.2))\n",
    "model.add(Bidirectional(LSTM(256, return_sequences=True)))\n",
    "model.add(Dropout(0.2))\n",
    "model.add(Bidirectional(LSTM(128, return_sequences=True)))\n",
    "model.add(Dropout(0.2))\n",
    "model.add(Bidirectional(LSTM(68, return_sequences=False)))\n",
    "model.add(Dense(128))\n",
    "model.add(BatchNormalization())\n",
    "model.add(Activation('relu'))  # Add a ReLU activation for better non-linearity\n",
    "model.add(Dense(number_of_features, activation='linear'))  # Linear activation for regression task\n",
    "\n",
    "# Compile the model with a suitable optimizer\n",
    "optimizer = 'adam'  # 'adam' is generally a good choice for optimization\n",
    "model.compile(loss='mse', optimizer=optimizer, metrics=['mae'])  # Using 'mae' for more meaningful metric\n",
    "\n",
    "# Implement early stopping to prevent overfitting and save training time\n",
    "early_stopping = EarlyStopping(patience=5, restore_best_weights=True)\n"
   ]
  },
  {
   "cell_type": "code",
   "execution_count": null,
   "metadata": {
    "colab": {
     "base_uri": "https://localhost:8080/",
     "height": 35
    },
    "id": "NfKn7Prr4dav",
    "outputId": "280257ea-17f9-435a-bc1e-8fb0679d2433",
    "scrolled": false
   },
   "outputs": [
    {
     "name": "stdout",
     "output_type": "stream",
     "text": [
      "Epoch 1/300\n"
     ]
    },
    {
     "name": "stderr",
     "output_type": "stream",
     "text": [
      "2023-07-24 21:48:22.219882: I tensorflow/core/common_runtime/executor.cc:1197] [/device:CPU:0] (DEBUG INFO) Executor start aborting (this does not indicate an error and you can ignore this message): INVALID_ARGUMENT: You must feed a value for placeholder tensor 'gradients/split_2_grad/concat/split_2/split_dim' with dtype int32\n",
      "\t [[{{node gradients/split_2_grad/concat/split_2/split_dim}}]]\n",
      "2023-07-24 21:48:22.221864: I tensorflow/core/common_runtime/executor.cc:1197] [/device:CPU:0] (DEBUG INFO) Executor start aborting (this does not indicate an error and you can ignore this message): INVALID_ARGUMENT: You must feed a value for placeholder tensor 'gradients/split_grad/concat/split/split_dim' with dtype int32\n",
      "\t [[{{node gradients/split_grad/concat/split/split_dim}}]]\n",
      "2023-07-24 21:48:22.223316: I tensorflow/core/common_runtime/executor.cc:1197] [/device:CPU:0] (DEBUG INFO) Executor start aborting (this does not indicate an error and you can ignore this message): INVALID_ARGUMENT: You must feed a value for placeholder tensor 'gradients/split_1_grad/concat/split_1/split_dim' with dtype int32\n",
      "\t [[{{node gradients/split_1_grad/concat/split_1/split_dim}}]]\n",
      "2023-07-24 21:48:22.412451: I tensorflow/core/common_runtime/executor.cc:1197] [/device:CPU:0] (DEBUG INFO) Executor start aborting (this does not indicate an error and you can ignore this message): INVALID_ARGUMENT: You must feed a value for placeholder tensor 'gradients/ReverseV2_grad/ReverseV2/ReverseV2/axis' with dtype int32 and shape [1]\n",
      "\t [[{{node gradients/ReverseV2_grad/ReverseV2/ReverseV2/axis}}]]\n",
      "2023-07-24 21:48:22.489151: I tensorflow/core/common_runtime/executor.cc:1197] [/device:CPU:0] (DEBUG INFO) Executor start aborting (this does not indicate an error and you can ignore this message): INVALID_ARGUMENT: You must feed a value for placeholder tensor 'gradients/split_2_grad/concat/split_2/split_dim' with dtype int32\n",
      "\t [[{{node gradients/split_2_grad/concat/split_2/split_dim}}]]\n",
      "2023-07-24 21:48:22.490986: I tensorflow/core/common_runtime/executor.cc:1197] [/device:CPU:0] (DEBUG INFO) Executor start aborting (this does not indicate an error and you can ignore this message): INVALID_ARGUMENT: You must feed a value for placeholder tensor 'gradients/split_grad/concat/split/split_dim' with dtype int32\n",
      "\t [[{{node gradients/split_grad/concat/split/split_dim}}]]\n",
      "2023-07-24 21:48:22.492546: I tensorflow/core/common_runtime/executor.cc:1197] [/device:CPU:0] (DEBUG INFO) Executor start aborting (this does not indicate an error and you can ignore this message): INVALID_ARGUMENT: You must feed a value for placeholder tensor 'gradients/split_1_grad/concat/split_1/split_dim' with dtype int32\n",
      "\t [[{{node gradients/split_1_grad/concat/split_1/split_dim}}]]\n",
      "2023-07-24 21:48:22.931707: I tensorflow/core/common_runtime/executor.cc:1197] [/device:CPU:0] (DEBUG INFO) Executor start aborting (this does not indicate an error and you can ignore this message): INVALID_ARGUMENT: You must feed a value for placeholder tensor 'gradients/split_2_grad/concat/split_2/split_dim' with dtype int32\n",
      "\t [[{{node gradients/split_2_grad/concat/split_2/split_dim}}]]\n",
      "2023-07-24 21:48:22.933471: I tensorflow/core/common_runtime/executor.cc:1197] [/device:CPU:0] (DEBUG INFO) Executor start aborting (this does not indicate an error and you can ignore this message): INVALID_ARGUMENT: You must feed a value for placeholder tensor 'gradients/split_grad/concat/split/split_dim' with dtype int32\n",
      "\t [[{{node gradients/split_grad/concat/split/split_dim}}]]\n",
      "2023-07-24 21:48:22.934813: I tensorflow/core/common_runtime/executor.cc:1197] [/device:CPU:0] (DEBUG INFO) Executor start aborting (this does not indicate an error and you can ignore this message): INVALID_ARGUMENT: You must feed a value for placeholder tensor 'gradients/split_1_grad/concat/split_1/split_dim' with dtype int32\n",
      "\t [[{{node gradients/split_1_grad/concat/split_1/split_dim}}]]\n",
      "2023-07-24 21:48:23.090873: I tensorflow/core/common_runtime/executor.cc:1197] [/device:CPU:0] (DEBUG INFO) Executor start aborting (this does not indicate an error and you can ignore this message): INVALID_ARGUMENT: You must feed a value for placeholder tensor 'gradients/ReverseV2_grad/ReverseV2/ReverseV2/axis' with dtype int32 and shape [1]\n",
      "\t [[{{node gradients/ReverseV2_grad/ReverseV2/ReverseV2/axis}}]]\n",
      "2023-07-24 21:48:23.146540: I tensorflow/core/common_runtime/executor.cc:1197] [/device:CPU:0] (DEBUG INFO) Executor start aborting (this does not indicate an error and you can ignore this message): INVALID_ARGUMENT: You must feed a value for placeholder tensor 'gradients/split_2_grad/concat/split_2/split_dim' with dtype int32\n",
      "\t [[{{node gradients/split_2_grad/concat/split_2/split_dim}}]]\n",
      "2023-07-24 21:48:23.148195: I tensorflow/core/common_runtime/executor.cc:1197] [/device:CPU:0] (DEBUG INFO) Executor start aborting (this does not indicate an error and you can ignore this message): INVALID_ARGUMENT: You must feed a value for placeholder tensor 'gradients/split_grad/concat/split/split_dim' with dtype int32\n",
      "\t [[{{node gradients/split_grad/concat/split/split_dim}}]]\n",
      "2023-07-24 21:48:23.149546: I tensorflow/core/common_runtime/executor.cc:1197] [/device:CPU:0] (DEBUG INFO) Executor start aborting (this does not indicate an error and you can ignore this message): INVALID_ARGUMENT: You must feed a value for placeholder tensor 'gradients/split_1_grad/concat/split_1/split_dim' with dtype int32\n",
      "\t [[{{node gradients/split_1_grad/concat/split_1/split_dim}}]]\n",
      "2023-07-24 21:48:23.540950: I tensorflow/core/common_runtime/executor.cc:1197] [/device:CPU:0] (DEBUG INFO) Executor start aborting (this does not indicate an error and you can ignore this message): INVALID_ARGUMENT: You must feed a value for placeholder tensor 'gradients/split_2_grad/concat/split_2/split_dim' with dtype int32\n",
      "\t [[{{node gradients/split_2_grad/concat/split_2/split_dim}}]]\n",
      "2023-07-24 21:48:23.542637: I tensorflow/core/common_runtime/executor.cc:1197] [/device:CPU:0] (DEBUG INFO) Executor start aborting (this does not indicate an error and you can ignore this message): INVALID_ARGUMENT: You must feed a value for placeholder tensor 'gradients/split_grad/concat/split/split_dim' with dtype int32\n",
      "\t [[{{node gradients/split_grad/concat/split/split_dim}}]]\n",
      "2023-07-24 21:48:23.543893: I tensorflow/core/common_runtime/executor.cc:1197] [/device:CPU:0] (DEBUG INFO) Executor start aborting (this does not indicate an error and you can ignore this message): INVALID_ARGUMENT: You must feed a value for placeholder tensor 'gradients/split_1_grad/concat/split_1/split_dim' with dtype int32\n",
      "\t [[{{node gradients/split_1_grad/concat/split_1/split_dim}}]]\n",
      "2023-07-24 21:48:23.699704: I tensorflow/core/common_runtime/executor.cc:1197] [/device:CPU:0] (DEBUG INFO) Executor start aborting (this does not indicate an error and you can ignore this message): INVALID_ARGUMENT: You must feed a value for placeholder tensor 'gradients/ReverseV2_grad/ReverseV2/ReverseV2/axis' with dtype int32 and shape [1]\n",
      "\t [[{{node gradients/ReverseV2_grad/ReverseV2/ReverseV2/axis}}]]\n",
      "2023-07-24 21:48:23.754386: I tensorflow/core/common_runtime/executor.cc:1197] [/device:CPU:0] (DEBUG INFO) Executor start aborting (this does not indicate an error and you can ignore this message): INVALID_ARGUMENT: You must feed a value for placeholder tensor 'gradients/split_2_grad/concat/split_2/split_dim' with dtype int32\n",
      "\t [[{{node gradients/split_2_grad/concat/split_2/split_dim}}]]\n",
      "2023-07-24 21:48:23.756614: I tensorflow/core/common_runtime/executor.cc:1197] [/device:CPU:0] (DEBUG INFO) Executor start aborting (this does not indicate an error and you can ignore this message): INVALID_ARGUMENT: You must feed a value for placeholder tensor 'gradients/split_grad/concat/split/split_dim' with dtype int32\n",
      "\t [[{{node gradients/split_grad/concat/split/split_dim}}]]\n",
      "2023-07-24 21:48:23.758370: I tensorflow/core/common_runtime/executor.cc:1197] [/device:CPU:0] (DEBUG INFO) Executor start aborting (this does not indicate an error and you can ignore this message): INVALID_ARGUMENT: You must feed a value for placeholder tensor 'gradients/split_1_grad/concat/split_1/split_dim' with dtype int32\n",
      "\t [[{{node gradients/split_1_grad/concat/split_1/split_dim}}]]\n"
     ]
    },
    {
     "name": "stderr",
     "output_type": "stream",
     "text": [
      "2023-07-24 21:48:24.023059: I tensorflow/core/common_runtime/executor.cc:1197] [/device:CPU:0] (DEBUG INFO) Executor start aborting (this does not indicate an error and you can ignore this message): INVALID_ARGUMENT: You must feed a value for placeholder tensor 'gradients/split_2_grad/concat/split_2/split_dim' with dtype int32\n",
      "\t [[{{node gradients/split_2_grad/concat/split_2/split_dim}}]]\n",
      "2023-07-24 21:48:24.024899: I tensorflow/core/common_runtime/executor.cc:1197] [/device:CPU:0] (DEBUG INFO) Executor start aborting (this does not indicate an error and you can ignore this message): INVALID_ARGUMENT: You must feed a value for placeholder tensor 'gradients/split_grad/concat/split/split_dim' with dtype int32\n",
      "\t [[{{node gradients/split_grad/concat/split/split_dim}}]]\n",
      "2023-07-24 21:48:24.026356: I tensorflow/core/common_runtime/executor.cc:1197] [/device:CPU:0] (DEBUG INFO) Executor start aborting (this does not indicate an error and you can ignore this message): INVALID_ARGUMENT: You must feed a value for placeholder tensor 'gradients/split_1_grad/concat/split_1/split_dim' with dtype int32\n",
      "\t [[{{node gradients/split_1_grad/concat/split_1/split_dim}}]]\n",
      "2023-07-24 21:48:24.304521: I tensorflow/core/common_runtime/executor.cc:1197] [/device:CPU:0] (DEBUG INFO) Executor start aborting (this does not indicate an error and you can ignore this message): INVALID_ARGUMENT: You must feed a value for placeholder tensor 'gradients/ReverseV2_grad/ReverseV2/ReverseV2/axis' with dtype int32 and shape [1]\n",
      "\t [[{{node gradients/ReverseV2_grad/ReverseV2/ReverseV2/axis}}]]\n",
      "2023-07-24 21:48:24.364604: I tensorflow/core/common_runtime/executor.cc:1197] [/device:CPU:0] (DEBUG INFO) Executor start aborting (this does not indicate an error and you can ignore this message): INVALID_ARGUMENT: You must feed a value for placeholder tensor 'gradients/split_2_grad/concat/split_2/split_dim' with dtype int32\n",
      "\t [[{{node gradients/split_2_grad/concat/split_2/split_dim}}]]\n",
      "2023-07-24 21:48:24.365967: I tensorflow/core/common_runtime/executor.cc:1197] [/device:CPU:0] (DEBUG INFO) Executor start aborting (this does not indicate an error and you can ignore this message): INVALID_ARGUMENT: You must feed a value for placeholder tensor 'gradients/split_grad/concat/split/split_dim' with dtype int32\n",
      "\t [[{{node gradients/split_grad/concat/split/split_dim}}]]\n",
      "2023-07-24 21:48:24.367700: I tensorflow/core/common_runtime/executor.cc:1197] [/device:CPU:0] (DEBUG INFO) Executor start aborting (this does not indicate an error and you can ignore this message): INVALID_ARGUMENT: You must feed a value for placeholder tensor 'gradients/split_1_grad/concat/split_1/split_dim' with dtype int32\n",
      "\t [[{{node gradients/split_1_grad/concat/split_1/split_dim}}]]\n",
      "2023-07-24 21:48:24.690906: I tensorflow/core/common_runtime/executor.cc:1197] [/device:CPU:0] (DEBUG INFO) Executor start aborting (this does not indicate an error and you can ignore this message): INVALID_ARGUMENT: You must feed a value for placeholder tensor 'gradients/split_2_grad/concat/split_2/split_dim' with dtype int32\n",
      "\t [[{{node gradients/split_2_grad/concat/split_2/split_dim}}]]\n",
      "2023-07-24 21:48:24.693849: I tensorflow/core/common_runtime/executor.cc:1197] [/device:CPU:0] (DEBUG INFO) Executor start aborting (this does not indicate an error and you can ignore this message): INVALID_ARGUMENT: You must feed a value for placeholder tensor 'gradients/split_grad/concat/split/split_dim' with dtype int32\n",
      "\t [[{{node gradients/split_grad/concat/split/split_dim}}]]\n",
      "2023-07-24 21:48:24.696202: I tensorflow/core/common_runtime/executor.cc:1197] [/device:CPU:0] (DEBUG INFO) Executor start aborting (this does not indicate an error and you can ignore this message): INVALID_ARGUMENT: You must feed a value for placeholder tensor 'gradients/split_1_grad/concat/split_1/split_dim' with dtype int32\n",
      "\t [[{{node gradients/split_1_grad/concat/split_1/split_dim}}]]\n",
      "2023-07-24 21:48:24.936552: I tensorflow/core/common_runtime/executor.cc:1197] [/device:CPU:0] (DEBUG INFO) Executor start aborting (this does not indicate an error and you can ignore this message): INVALID_ARGUMENT: You must feed a value for placeholder tensor 'gradients/ReverseV2_grad/ReverseV2/ReverseV2/axis' with dtype int32 and shape [1]\n",
      "\t [[{{node gradients/ReverseV2_grad/ReverseV2/ReverseV2/axis}}]]\n",
      "2023-07-24 21:48:25.013596: I tensorflow/core/common_runtime/executor.cc:1197] [/device:CPU:0] (DEBUG INFO) Executor start aborting (this does not indicate an error and you can ignore this message): INVALID_ARGUMENT: You must feed a value for placeholder tensor 'gradients/split_2_grad/concat/split_2/split_dim' with dtype int32\n",
      "\t [[{{node gradients/split_2_grad/concat/split_2/split_dim}}]]\n",
      "2023-07-24 21:48:25.015094: I tensorflow/core/common_runtime/executor.cc:1197] [/device:CPU:0] (DEBUG INFO) Executor start aborting (this does not indicate an error and you can ignore this message): INVALID_ARGUMENT: You must feed a value for placeholder tensor 'gradients/split_grad/concat/split/split_dim' with dtype int32\n",
      "\t [[{{node gradients/split_grad/concat/split/split_dim}}]]\n",
      "2023-07-24 21:48:25.016464: I tensorflow/core/common_runtime/executor.cc:1197] [/device:CPU:0] (DEBUG INFO) Executor start aborting (this does not indicate an error and you can ignore this message): INVALID_ARGUMENT: You must feed a value for placeholder tensor 'gradients/split_1_grad/concat/split_1/split_dim' with dtype int32\n",
      "\t [[{{node gradients/split_1_grad/concat/split_1/split_dim}}]]\n",
      "2023-07-24 21:48:25.251868: I tensorflow/core/common_runtime/executor.cc:1197] [/device:CPU:0] (DEBUG INFO) Executor start aborting (this does not indicate an error and you can ignore this message): INVALID_ARGUMENT: You must feed a value for placeholder tensor 'gradients/split_2_grad/concat/split_2/split_dim' with dtype int32\n",
      "\t [[{{node gradients/split_2_grad/concat/split_2/split_dim}}]]\n",
      "2023-07-24 21:48:25.254684: I tensorflow/core/common_runtime/executor.cc:1197] [/device:CPU:0] (DEBUG INFO) Executor start aborting (this does not indicate an error and you can ignore this message): INVALID_ARGUMENT: You must feed a value for placeholder tensor 'gradients/split_grad/concat/split/split_dim' with dtype int32\n",
      "\t [[{{node gradients/split_grad/concat/split/split_dim}}]]\n",
      "2023-07-24 21:48:25.256290: I tensorflow/core/common_runtime/executor.cc:1197] [/device:CPU:0] (DEBUG INFO) Executor start aborting (this does not indicate an error and you can ignore this message): INVALID_ARGUMENT: You must feed a value for placeholder tensor 'gradients/split_1_grad/concat/split_1/split_dim' with dtype int32\n",
      "\t [[{{node gradients/split_1_grad/concat/split_1/split_dim}}]]\n",
      "2023-07-24 21:48:25.485033: I tensorflow/core/common_runtime/executor.cc:1197] [/device:CPU:0] (DEBUG INFO) Executor start aborting (this does not indicate an error and you can ignore this message): INVALID_ARGUMENT: You must feed a value for placeholder tensor 'gradients/ReverseV2_grad/ReverseV2/ReverseV2/axis' with dtype int32 and shape [1]\n",
      "\t [[{{node gradients/ReverseV2_grad/ReverseV2/ReverseV2/axis}}]]\n",
      "2023-07-24 21:48:25.560834: I tensorflow/core/common_runtime/executor.cc:1197] [/device:CPU:0] (DEBUG INFO) Executor start aborting (this does not indicate an error and you can ignore this message): INVALID_ARGUMENT: You must feed a value for placeholder tensor 'gradients/split_2_grad/concat/split_2/split_dim' with dtype int32\n",
      "\t [[{{node gradients/split_2_grad/concat/split_2/split_dim}}]]\n",
      "2023-07-24 21:48:25.562511: I tensorflow/core/common_runtime/executor.cc:1197] [/device:CPU:0] (DEBUG INFO) Executor start aborting (this does not indicate an error and you can ignore this message): INVALID_ARGUMENT: You must feed a value for placeholder tensor 'gradients/split_grad/concat/split/split_dim' with dtype int32\n",
      "\t [[{{node gradients/split_grad/concat/split/split_dim}}]]\n",
      "2023-07-24 21:48:25.563981: I tensorflow/core/common_runtime/executor.cc:1197] [/device:CPU:0] (DEBUG INFO) Executor start aborting (this does not indicate an error and you can ignore this message): INVALID_ARGUMENT: You must feed a value for placeholder tensor 'gradients/split_1_grad/concat/split_1/split_dim' with dtype int32\n",
      "\t [[{{node gradients/split_1_grad/concat/split_1/split_dim}}]]\n"
     ]
    },
    {
     "name": "stderr",
     "output_type": "stream",
     "text": [
      "2023-07-24 21:48:25.864326: I tensorflow/core/common_runtime/executor.cc:1197] [/device:CPU:0] (DEBUG INFO) Executor start aborting (this does not indicate an error and you can ignore this message): INVALID_ARGUMENT: You must feed a value for placeholder tensor 'gradients/split_2_grad/concat/split_2/split_dim' with dtype int32\n",
      "\t [[{{node gradients/split_2_grad/concat/split_2/split_dim}}]]\n",
      "2023-07-24 21:48:25.866909: I tensorflow/core/common_runtime/executor.cc:1197] [/device:CPU:0] (DEBUG INFO) Executor start aborting (this does not indicate an error and you can ignore this message): INVALID_ARGUMENT: You must feed a value for placeholder tensor 'gradients/split_grad/concat/split/split_dim' with dtype int32\n",
      "\t [[{{node gradients/split_grad/concat/split/split_dim}}]]\n",
      "2023-07-24 21:48:25.869190: I tensorflow/core/common_runtime/executor.cc:1197] [/device:CPU:0] (DEBUG INFO) Executor start aborting (this does not indicate an error and you can ignore this message): INVALID_ARGUMENT: You must feed a value for placeholder tensor 'gradients/split_1_grad/concat/split_1/split_dim' with dtype int32\n",
      "\t [[{{node gradients/split_1_grad/concat/split_1/split_dim}}]]\n",
      "2023-07-24 21:48:26.094858: I tensorflow/core/common_runtime/executor.cc:1197] [/device:CPU:0] (DEBUG INFO) Executor start aborting (this does not indicate an error and you can ignore this message): INVALID_ARGUMENT: You must feed a value for placeholder tensor 'gradients/ReverseV2_grad/ReverseV2/ReverseV2/axis' with dtype int32 and shape [1]\n",
      "\t [[{{node gradients/ReverseV2_grad/ReverseV2/ReverseV2/axis}}]]\n",
      "2023-07-24 21:48:26.155625: I tensorflow/core/common_runtime/executor.cc:1197] [/device:CPU:0] (DEBUG INFO) Executor start aborting (this does not indicate an error and you can ignore this message): INVALID_ARGUMENT: You must feed a value for placeholder tensor 'gradients/split_2_grad/concat/split_2/split_dim' with dtype int32\n",
      "\t [[{{node gradients/split_2_grad/concat/split_2/split_dim}}]]\n",
      "2023-07-24 21:48:26.157126: I tensorflow/core/common_runtime/executor.cc:1197] [/device:CPU:0] (DEBUG INFO) Executor start aborting (this does not indicate an error and you can ignore this message): INVALID_ARGUMENT: You must feed a value for placeholder tensor 'gradients/split_grad/concat/split/split_dim' with dtype int32\n",
      "\t [[{{node gradients/split_grad/concat/split/split_dim}}]]\n",
      "2023-07-24 21:48:26.158481: I tensorflow/core/common_runtime/executor.cc:1197] [/device:CPU:0] (DEBUG INFO) Executor start aborting (this does not indicate an error and you can ignore this message): INVALID_ARGUMENT: You must feed a value for placeholder tensor 'gradients/split_1_grad/concat/split_1/split_dim' with dtype int32\n",
      "\t [[{{node gradients/split_1_grad/concat/split_1/split_dim}}]]\n",
      "2023-07-24 21:48:26.386961: I tensorflow/core/common_runtime/executor.cc:1197] [/device:CPU:0] (DEBUG INFO) Executor start aborting (this does not indicate an error and you can ignore this message): INVALID_ARGUMENT: You must feed a value for placeholder tensor 'gradients/split_2_grad/concat/split_2/split_dim' with dtype int32\n",
      "\t [[{{node gradients/split_2_grad/concat/split_2/split_dim}}]]\n",
      "2023-07-24 21:48:26.388901: I tensorflow/core/common_runtime/executor.cc:1197] [/device:CPU:0] (DEBUG INFO) Executor start aborting (this does not indicate an error and you can ignore this message): INVALID_ARGUMENT: You must feed a value for placeholder tensor 'gradients/split_grad/concat/split/split_dim' with dtype int32\n",
      "\t [[{{node gradients/split_grad/concat/split/split_dim}}]]\n",
      "2023-07-24 21:48:26.390258: I tensorflow/core/common_runtime/executor.cc:1197] [/device:CPU:0] (DEBUG INFO) Executor start aborting (this does not indicate an error and you can ignore this message): INVALID_ARGUMENT: You must feed a value for placeholder tensor 'gradients/split_1_grad/concat/split_1/split_dim' with dtype int32\n",
      "\t [[{{node gradients/split_1_grad/concat/split_1/split_dim}}]]\n",
      "2023-07-24 21:48:26.574942: I tensorflow/core/common_runtime/executor.cc:1197] [/device:CPU:0] (DEBUG INFO) Executor start aborting (this does not indicate an error and you can ignore this message): INVALID_ARGUMENT: You must feed a value for placeholder tensor 'gradients/ReverseV2_grad/ReverseV2/ReverseV2/axis' with dtype int32 and shape [1]\n",
      "\t [[{{node gradients/ReverseV2_grad/ReverseV2/ReverseV2/axis}}]]\n",
      "2023-07-24 21:48:26.657354: I tensorflow/core/common_runtime/executor.cc:1197] [/device:CPU:0] (DEBUG INFO) Executor start aborting (this does not indicate an error and you can ignore this message): INVALID_ARGUMENT: You must feed a value for placeholder tensor 'gradients/split_2_grad/concat/split_2/split_dim' with dtype int32\n",
      "\t [[{{node gradients/split_2_grad/concat/split_2/split_dim}}]]\n",
      "2023-07-24 21:48:26.659692: I tensorflow/core/common_runtime/executor.cc:1197] [/device:CPU:0] (DEBUG INFO) Executor start aborting (this does not indicate an error and you can ignore this message): INVALID_ARGUMENT: You must feed a value for placeholder tensor 'gradients/split_grad/concat/split/split_dim' with dtype int32\n",
      "\t [[{{node gradients/split_grad/concat/split/split_dim}}]]\n",
      "2023-07-24 21:48:26.662200: I tensorflow/core/common_runtime/executor.cc:1197] [/device:CPU:0] (DEBUG INFO) Executor start aborting (this does not indicate an error and you can ignore this message): INVALID_ARGUMENT: You must feed a value for placeholder tensor 'gradients/split_1_grad/concat/split_1/split_dim' with dtype int32\n",
      "\t [[{{node gradients/split_1_grad/concat/split_1/split_dim}}]]\n",
      "2023-07-24 21:48:27.351806: I tensorflow/core/common_runtime/executor.cc:1197] [/device:CPU:0] (DEBUG INFO) Executor start aborting (this does not indicate an error and you can ignore this message): INVALID_ARGUMENT: You must feed a value for placeholder tensor 'gradients/ReverseV2_grad/ReverseV2/ReverseV2/axis' with dtype int32 and shape [1]\n",
      "\t [[{{node gradients/ReverseV2_grad/ReverseV2/ReverseV2/axis}}]]\n",
      "2023-07-24 21:48:27.877720: I tensorflow/core/common_runtime/executor.cc:1197] [/device:CPU:0] (DEBUG INFO) Executor start aborting (this does not indicate an error and you can ignore this message): INVALID_ARGUMENT: You must feed a value for placeholder tensor 'gradients/ReverseV2_grad/ReverseV2/ReverseV2/axis' with dtype int32 and shape [1]\n",
      "\t [[{{node gradients/ReverseV2_grad/ReverseV2/ReverseV2/axis}}]]\n",
      "2023-07-24 21:48:28.470665: I tensorflow/core/common_runtime/executor.cc:1197] [/device:CPU:0] (DEBUG INFO) Executor start aborting (this does not indicate an error and you can ignore this message): INVALID_ARGUMENT: You must feed a value for placeholder tensor 'gradients/ReverseV2_grad/ReverseV2/ReverseV2/axis' with dtype int32 and shape [1]\n",
      "\t [[{{node gradients/ReverseV2_grad/ReverseV2/ReverseV2/axis}}]]\n",
      "2023-07-24 21:48:29.058953: I tensorflow/core/common_runtime/executor.cc:1197] [/device:CPU:0] (DEBUG INFO) Executor start aborting (this does not indicate an error and you can ignore this message): INVALID_ARGUMENT: You must feed a value for placeholder tensor 'gradients/ReverseV2_grad/ReverseV2/ReverseV2/axis' with dtype int32 and shape [1]\n",
      "\t [[{{node gradients/ReverseV2_grad/ReverseV2/ReverseV2/axis}}]]\n",
      "2023-07-24 21:48:30.045998: I tensorflow/core/common_runtime/executor.cc:1197] [/device:CPU:0] (DEBUG INFO) Executor start aborting (this does not indicate an error and you can ignore this message): INVALID_ARGUMENT: You must feed a value for placeholder tensor 'gradients/split_2_grad/concat/split_2/split_dim' with dtype int32\n",
      "\t [[{{node gradients/split_2_grad/concat/split_2/split_dim}}]]\n",
      "2023-07-24 21:48:30.047728: I tensorflow/core/common_runtime/executor.cc:1197] [/device:CPU:0] (DEBUG INFO) Executor start aborting (this does not indicate an error and you can ignore this message): INVALID_ARGUMENT: You must feed a value for placeholder tensor 'gradients/split_grad/concat/split/split_dim' with dtype int32\n",
      "\t [[{{node gradients/split_grad/concat/split/split_dim}}]]\n",
      "2023-07-24 21:48:30.049179: I tensorflow/core/common_runtime/executor.cc:1197] [/device:CPU:0] (DEBUG INFO) Executor start aborting (this does not indicate an error and you can ignore this message): INVALID_ARGUMENT: You must feed a value for placeholder tensor 'gradients/split_1_grad/concat/split_1/split_dim' with dtype int32\n",
      "\t [[{{node gradients/split_1_grad/concat/split_1/split_dim}}]]\n"
     ]
    },
    {
     "name": "stderr",
     "output_type": "stream",
     "text": [
      "2023-07-24 21:48:30.341937: I tensorflow/core/common_runtime/executor.cc:1197] [/device:CPU:0] (DEBUG INFO) Executor start aborting (this does not indicate an error and you can ignore this message): INVALID_ARGUMENT: You must feed a value for placeholder tensor 'gradients/ReverseV2_grad/ReverseV2/ReverseV2/axis' with dtype int32 and shape [1]\n",
      "\t [[{{node gradients/ReverseV2_grad/ReverseV2/ReverseV2/axis}}]]\n",
      "2023-07-24 21:48:30.399535: I tensorflow/core/common_runtime/executor.cc:1197] [/device:CPU:0] (DEBUG INFO) Executor start aborting (this does not indicate an error and you can ignore this message): INVALID_ARGUMENT: You must feed a value for placeholder tensor 'gradients/split_2_grad/concat/split_2/split_dim' with dtype int32\n",
      "\t [[{{node gradients/split_2_grad/concat/split_2/split_dim}}]]\n",
      "2023-07-24 21:48:30.400955: I tensorflow/core/common_runtime/executor.cc:1197] [/device:CPU:0] (DEBUG INFO) Executor start aborting (this does not indicate an error and you can ignore this message): INVALID_ARGUMENT: You must feed a value for placeholder tensor 'gradients/split_grad/concat/split/split_dim' with dtype int32\n",
      "\t [[{{node gradients/split_grad/concat/split/split_dim}}]]\n",
      "2023-07-24 21:48:30.402291: I tensorflow/core/common_runtime/executor.cc:1197] [/device:CPU:0] (DEBUG INFO) Executor start aborting (this does not indicate an error and you can ignore this message): INVALID_ARGUMENT: You must feed a value for placeholder tensor 'gradients/split_1_grad/concat/split_1/split_dim' with dtype int32\n",
      "\t [[{{node gradients/split_1_grad/concat/split_1/split_dim}}]]\n",
      "2023-07-24 21:48:30.635359: I tensorflow/core/common_runtime/executor.cc:1197] [/device:CPU:0] (DEBUG INFO) Executor start aborting (this does not indicate an error and you can ignore this message): INVALID_ARGUMENT: You must feed a value for placeholder tensor 'gradients/split_2_grad/concat/split_2/split_dim' with dtype int32\n",
      "\t [[{{node gradients/split_2_grad/concat/split_2/split_dim}}]]\n",
      "2023-07-24 21:48:30.637070: I tensorflow/core/common_runtime/executor.cc:1197] [/device:CPU:0] (DEBUG INFO) Executor start aborting (this does not indicate an error and you can ignore this message): INVALID_ARGUMENT: You must feed a value for placeholder tensor 'gradients/split_grad/concat/split/split_dim' with dtype int32\n",
      "\t [[{{node gradients/split_grad/concat/split/split_dim}}]]\n",
      "2023-07-24 21:48:30.638401: I tensorflow/core/common_runtime/executor.cc:1197] [/device:CPU:0] (DEBUG INFO) Executor start aborting (this does not indicate an error and you can ignore this message): INVALID_ARGUMENT: You must feed a value for placeholder tensor 'gradients/split_1_grad/concat/split_1/split_dim' with dtype int32\n",
      "\t [[{{node gradients/split_1_grad/concat/split_1/split_dim}}]]\n",
      "2023-07-24 21:48:30.802763: I tensorflow/core/common_runtime/executor.cc:1197] [/device:CPU:0] (DEBUG INFO) Executor start aborting (this does not indicate an error and you can ignore this message): INVALID_ARGUMENT: You must feed a value for placeholder tensor 'gradients/ReverseV2_grad/ReverseV2/ReverseV2/axis' with dtype int32 and shape [1]\n",
      "\t [[{{node gradients/ReverseV2_grad/ReverseV2/ReverseV2/axis}}]]\n",
      "2023-07-24 21:48:30.864685: I tensorflow/core/common_runtime/executor.cc:1197] [/device:CPU:0] (DEBUG INFO) Executor start aborting (this does not indicate an error and you can ignore this message): INVALID_ARGUMENT: You must feed a value for placeholder tensor 'gradients/split_2_grad/concat/split_2/split_dim' with dtype int32\n",
      "\t [[{{node gradients/split_2_grad/concat/split_2/split_dim}}]]\n",
      "2023-07-24 21:48:30.866747: I tensorflow/core/common_runtime/executor.cc:1197] [/device:CPU:0] (DEBUG INFO) Executor start aborting (this does not indicate an error and you can ignore this message): INVALID_ARGUMENT: You must feed a value for placeholder tensor 'gradients/split_grad/concat/split/split_dim' with dtype int32\n",
      "\t [[{{node gradients/split_grad/concat/split/split_dim}}]]\n",
      "2023-07-24 21:48:30.868138: I tensorflow/core/common_runtime/executor.cc:1197] [/device:CPU:0] (DEBUG INFO) Executor start aborting (this does not indicate an error and you can ignore this message): INVALID_ARGUMENT: You must feed a value for placeholder tensor 'gradients/split_1_grad/concat/split_1/split_dim' with dtype int32\n",
      "\t [[{{node gradients/split_1_grad/concat/split_1/split_dim}}]]\n",
      "2023-07-24 21:48:31.113613: I tensorflow/core/common_runtime/executor.cc:1197] [/device:CPU:0] (DEBUG INFO) Executor start aborting (this does not indicate an error and you can ignore this message): INVALID_ARGUMENT: You must feed a value for placeholder tensor 'gradients/split_2_grad/concat/split_2/split_dim' with dtype int32\n",
      "\t [[{{node gradients/split_2_grad/concat/split_2/split_dim}}]]\n",
      "2023-07-24 21:48:31.115950: I tensorflow/core/common_runtime/executor.cc:1197] [/device:CPU:0] (DEBUG INFO) Executor start aborting (this does not indicate an error and you can ignore this message): INVALID_ARGUMENT: You must feed a value for placeholder tensor 'gradients/split_grad/concat/split/split_dim' with dtype int32\n",
      "\t [[{{node gradients/split_grad/concat/split/split_dim}}]]\n",
      "2023-07-24 21:48:31.117368: I tensorflow/core/common_runtime/executor.cc:1197] [/device:CPU:0] (DEBUG INFO) Executor start aborting (this does not indicate an error and you can ignore this message): INVALID_ARGUMENT: You must feed a value for placeholder tensor 'gradients/split_1_grad/concat/split_1/split_dim' with dtype int32\n",
      "\t [[{{node gradients/split_1_grad/concat/split_1/split_dim}}]]\n",
      "2023-07-24 21:48:31.335790: I tensorflow/core/common_runtime/executor.cc:1197] [/device:CPU:0] (DEBUG INFO) Executor start aborting (this does not indicate an error and you can ignore this message): INVALID_ARGUMENT: You must feed a value for placeholder tensor 'gradients/ReverseV2_grad/ReverseV2/ReverseV2/axis' with dtype int32 and shape [1]\n",
      "\t [[{{node gradients/ReverseV2_grad/ReverseV2/ReverseV2/axis}}]]\n",
      "2023-07-24 21:48:31.407210: I tensorflow/core/common_runtime/executor.cc:1197] [/device:CPU:0] (DEBUG INFO) Executor start aborting (this does not indicate an error and you can ignore this message): INVALID_ARGUMENT: You must feed a value for placeholder tensor 'gradients/split_2_grad/concat/split_2/split_dim' with dtype int32\n",
      "\t [[{{node gradients/split_2_grad/concat/split_2/split_dim}}]]\n",
      "2023-07-24 21:48:31.408762: I tensorflow/core/common_runtime/executor.cc:1197] [/device:CPU:0] (DEBUG INFO) Executor start aborting (this does not indicate an error and you can ignore this message): INVALID_ARGUMENT: You must feed a value for placeholder tensor 'gradients/split_grad/concat/split/split_dim' with dtype int32\n",
      "\t [[{{node gradients/split_grad/concat/split/split_dim}}]]\n",
      "2023-07-24 21:48:31.410192: I tensorflow/core/common_runtime/executor.cc:1197] [/device:CPU:0] (DEBUG INFO) Executor start aborting (this does not indicate an error and you can ignore this message): INVALID_ARGUMENT: You must feed a value for placeholder tensor 'gradients/split_1_grad/concat/split_1/split_dim' with dtype int32\n",
      "\t [[{{node gradients/split_1_grad/concat/split_1/split_dim}}]]\n",
      "2023-07-24 21:48:31.696357: I tensorflow/core/common_runtime/executor.cc:1197] [/device:CPU:0] (DEBUG INFO) Executor start aborting (this does not indicate an error and you can ignore this message): INVALID_ARGUMENT: You must feed a value for placeholder tensor 'gradients/split_2_grad/concat/split_2/split_dim' with dtype int32\n",
      "\t [[{{node gradients/split_2_grad/concat/split_2/split_dim}}]]\n",
      "2023-07-24 21:48:31.698562: I tensorflow/core/common_runtime/executor.cc:1197] [/device:CPU:0] (DEBUG INFO) Executor start aborting (this does not indicate an error and you can ignore this message): INVALID_ARGUMENT: You must feed a value for placeholder tensor 'gradients/split_grad/concat/split/split_dim' with dtype int32\n",
      "\t [[{{node gradients/split_grad/concat/split/split_dim}}]]\n",
      "2023-07-24 21:48:31.701025: I tensorflow/core/common_runtime/executor.cc:1197] [/device:CPU:0] (DEBUG INFO) Executor start aborting (this does not indicate an error and you can ignore this message): INVALID_ARGUMENT: You must feed a value for placeholder tensor 'gradients/split_1_grad/concat/split_1/split_dim' with dtype int32\n",
      "\t [[{{node gradients/split_1_grad/concat/split_1/split_dim}}]]\n"
     ]
    },
    {
     "name": "stderr",
     "output_type": "stream",
     "text": [
      "2023-07-24 21:48:31.946333: I tensorflow/core/common_runtime/executor.cc:1197] [/device:CPU:0] (DEBUG INFO) Executor start aborting (this does not indicate an error and you can ignore this message): INVALID_ARGUMENT: You must feed a value for placeholder tensor 'gradients/ReverseV2_grad/ReverseV2/ReverseV2/axis' with dtype int32 and shape [1]\n",
      "\t [[{{node gradients/ReverseV2_grad/ReverseV2/ReverseV2/axis}}]]\n",
      "2023-07-24 21:48:32.003985: I tensorflow/core/common_runtime/executor.cc:1197] [/device:CPU:0] (DEBUG INFO) Executor start aborting (this does not indicate an error and you can ignore this message): INVALID_ARGUMENT: You must feed a value for placeholder tensor 'gradients/split_2_grad/concat/split_2/split_dim' with dtype int32\n",
      "\t [[{{node gradients/split_2_grad/concat/split_2/split_dim}}]]\n",
      "2023-07-24 21:48:32.005465: I tensorflow/core/common_runtime/executor.cc:1197] [/device:CPU:0] (DEBUG INFO) Executor start aborting (this does not indicate an error and you can ignore this message): INVALID_ARGUMENT: You must feed a value for placeholder tensor 'gradients/split_grad/concat/split/split_dim' with dtype int32\n",
      "\t [[{{node gradients/split_grad/concat/split/split_dim}}]]\n",
      "2023-07-24 21:48:32.006805: I tensorflow/core/common_runtime/executor.cc:1197] [/device:CPU:0] (DEBUG INFO) Executor start aborting (this does not indicate an error and you can ignore this message): INVALID_ARGUMENT: You must feed a value for placeholder tensor 'gradients/split_1_grad/concat/split_1/split_dim' with dtype int32\n",
      "\t [[{{node gradients/split_1_grad/concat/split_1/split_dim}}]]\n",
      "2023-07-24 21:48:32.798099: I tensorflow/core/common_runtime/executor.cc:1197] [/device:CPU:0] (DEBUG INFO) Executor start aborting (this does not indicate an error and you can ignore this message): INVALID_ARGUMENT: You must feed a value for placeholder tensor 'gradients/ReverseV2_grad/ReverseV2/ReverseV2/axis' with dtype int32 and shape [1]\n",
      "\t [[{{node gradients/ReverseV2_grad/ReverseV2/ReverseV2/axis}}]]\n",
      "2023-07-24 21:48:33.460330: I tensorflow/core/common_runtime/executor.cc:1197] [/device:CPU:0] (DEBUG INFO) Executor start aborting (this does not indicate an error and you can ignore this message): INVALID_ARGUMENT: You must feed a value for placeholder tensor 'gradients/ReverseV2_grad/ReverseV2/ReverseV2/axis' with dtype int32 and shape [1]\n",
      "\t [[{{node gradients/ReverseV2_grad/ReverseV2/ReverseV2/axis}}]]\n",
      "2023-07-24 21:48:33.966730: I tensorflow/core/common_runtime/executor.cc:1197] [/device:CPU:0] (DEBUG INFO) Executor start aborting (this does not indicate an error and you can ignore this message): INVALID_ARGUMENT: You must feed a value for placeholder tensor 'gradients/ReverseV2_grad/ReverseV2/ReverseV2/axis' with dtype int32 and shape [1]\n",
      "\t [[{{node gradients/ReverseV2_grad/ReverseV2/ReverseV2/axis}}]]\n",
      "2023-07-24 21:48:34.463356: I tensorflow/core/common_runtime/executor.cc:1197] [/device:CPU:0] (DEBUG INFO) Executor start aborting (this does not indicate an error and you can ignore this message): INVALID_ARGUMENT: You must feed a value for placeholder tensor 'gradients/ReverseV2_grad/ReverseV2/ReverseV2/axis' with dtype int32 and shape [1]\n",
      "\t [[{{node gradients/ReverseV2_grad/ReverseV2/ReverseV2/axis}}]]\n"
     ]
    },
    {
     "name": "stdout",
     "output_type": "stream",
     "text": [
      "37/37 [==============================] - 23s 171ms/step - loss: 1.0605 - mae: 0.7923\n",
      "Epoch 2/300\n",
      "37/37 [==============================] - 6s 167ms/step - loss: 0.9776 - mae: 0.7646\n",
      "Epoch 3/300\n",
      "37/37 [==============================] - 6s 172ms/step - loss: 0.9638 - mae: 0.7590\n",
      "Epoch 4/300\n",
      "37/37 [==============================] - 6s 174ms/step - loss: 0.9710 - mae: 0.7591\n",
      "Epoch 5/300\n",
      "37/37 [==============================] - 6s 173ms/step - loss: 0.9773 - mae: 0.7626\n",
      "Epoch 6/300\n",
      "37/37 [==============================] - 7s 188ms/step - loss: 0.9574 - mae: 0.7569\n",
      "Epoch 7/300\n",
      "37/37 [==============================] - 7s 179ms/step - loss: 0.9583 - mae: 0.7573\n",
      "Epoch 8/300\n",
      "37/37 [==============================] - 6s 175ms/step - loss: 0.9549 - mae: 0.7564\n",
      "Epoch 9/300\n",
      "37/37 [==============================] - 7s 184ms/step - loss: 0.9537 - mae: 0.7555\n",
      "Epoch 10/300\n",
      "37/37 [==============================] - 7s 179ms/step - loss: 0.9472 - mae: 0.7535\n",
      "Epoch 11/300\n",
      "37/37 [==============================] - 6s 176ms/step - loss: 0.9516 - mae: 0.7549\n",
      "Epoch 12/300\n",
      "37/37 [==============================] - 7s 183ms/step - loss: 0.9452 - mae: 0.7527\n",
      "Epoch 13/300\n",
      "37/37 [==============================] - 6s 174ms/step - loss: 0.9375 - mae: 0.7516\n",
      "Epoch 14/300\n",
      "37/37 [==============================] - 7s 176ms/step - loss: 0.9344 - mae: 0.7490\n",
      "Epoch 15/300\n",
      "37/37 [==============================] - 6s 173ms/step - loss: 0.9298 - mae: 0.7491\n",
      "Epoch 16/300\n",
      "37/37 [==============================] - 6s 165ms/step - loss: 0.9366 - mae: 0.7497\n",
      "Epoch 17/300\n",
      "37/37 [==============================] - 6s 165ms/step - loss: 0.9257 - mae: 0.7445\n",
      "Epoch 18/300\n",
      "37/37 [==============================] - 6s 165ms/step - loss: 0.9329 - mae: 0.7466\n",
      "Epoch 19/300\n",
      "37/37 [==============================] - 6s 174ms/step - loss: 0.9124 - mae: 0.7386\n",
      "Epoch 20/300\n",
      "37/37 [==============================] - 7s 184ms/step - loss: 0.9005 - mae: 0.7370\n",
      "Epoch 21/300\n",
      "37/37 [==============================] - 7s 187ms/step - loss: 0.9001 - mae: 0.7364\n",
      "Epoch 22/300\n",
      "37/37 [==============================] - 7s 191ms/step - loss: 0.8958 - mae: 0.7336\n",
      "Epoch 23/300\n",
      "37/37 [==============================] - 7s 190ms/step - loss: 0.8879 - mae: 0.7318\n",
      "Epoch 24/300\n",
      "37/37 [==============================] - 7s 189ms/step - loss: 0.8665 - mae: 0.7208\n",
      "Epoch 25/300\n",
      "37/37 [==============================] - 7s 191ms/step - loss: 0.8538 - mae: 0.7190\n",
      "Epoch 26/300\n",
      "37/37 [==============================] - 7s 187ms/step - loss: 0.8478 - mae: 0.7150\n",
      "Epoch 27/300\n",
      "37/37 [==============================] - 7s 179ms/step - loss: 0.8207 - mae: 0.7018\n",
      "Epoch 28/300\n",
      "37/37 [==============================] - 6s 172ms/step - loss: 0.7665 - mae: 0.6840\n",
      "Epoch 29/300\n",
      "37/37 [==============================] - 7s 186ms/step - loss: 0.7154 - mae: 0.6589\n",
      "Epoch 30/300\n",
      "37/37 [==============================] - 7s 182ms/step - loss: 0.7075 - mae: 0.6507\n",
      "Epoch 31/300\n",
      "37/37 [==============================] - 7s 193ms/step - loss: 0.6657 - mae: 0.6341\n",
      "Epoch 32/300\n",
      "37/37 [==============================] - 7s 183ms/step - loss: 0.6273 - mae: 0.6175\n",
      "Epoch 33/300\n",
      "37/37 [==============================] - 7s 182ms/step - loss: 0.5716 - mae: 0.5877\n",
      "Epoch 34/300\n",
      "37/37 [==============================] - 7s 187ms/step - loss: 0.5140 - mae: 0.5556\n",
      "Epoch 35/300\n",
      "37/37 [==============================] - 7s 186ms/step - loss: 0.4720 - mae: 0.5348\n",
      "Epoch 36/300\n",
      "37/37 [==============================] - 7s 184ms/step - loss: 0.4134 - mae: 0.5008\n",
      "Epoch 37/300\n",
      "37/37 [==============================] - 7s 184ms/step - loss: 0.3769 - mae: 0.4784\n",
      "Epoch 38/300\n",
      "37/37 [==============================] - 7s 188ms/step - loss: 0.3390 - mae: 0.4536\n",
      "Epoch 39/300\n",
      "37/37 [==============================] - 7s 188ms/step - loss: 0.3113 - mae: 0.4347\n",
      "Epoch 40/300\n",
      "37/37 [==============================] - 7s 189ms/step - loss: 0.2820 - mae: 0.4144\n",
      "Epoch 41/300\n",
      "37/37 [==============================] - 7s 189ms/step - loss: 0.2527 - mae: 0.3929\n",
      "Epoch 42/300\n",
      "37/37 [==============================] - 7s 185ms/step - loss: 0.2356 - mae: 0.3779\n",
      "Epoch 43/300\n",
      "37/37 [==============================] - 7s 181ms/step - loss: 0.2147 - mae: 0.3618\n",
      "Epoch 44/300\n",
      "37/37 [==============================] - 7s 180ms/step - loss: 0.1922 - mae: 0.3422\n",
      "Epoch 45/300\n",
      "37/37 [==============================] - 7s 190ms/step - loss: 0.1825 - mae: 0.3330\n",
      "Epoch 46/300\n",
      "37/37 [==============================] - 7s 193ms/step - loss: 0.1704 - mae: 0.3221\n",
      "Epoch 47/300\n",
      "37/37 [==============================] - 7s 197ms/step - loss: 0.1638 - mae: 0.3157\n",
      "Epoch 48/300\n",
      "37/37 [==============================] - 7s 196ms/step - loss: 0.1593 - mae: 0.3084\n",
      "Epoch 49/300\n",
      "37/37 [==============================] - 7s 200ms/step - loss: 0.1518 - mae: 0.3031\n",
      "Epoch 50/300\n",
      "37/37 [==============================] - 7s 195ms/step - loss: 0.1394 - mae: 0.2911\n",
      "Epoch 51/300\n",
      "37/37 [==============================] - 7s 200ms/step - loss: 0.1335 - mae: 0.2852\n",
      "Epoch 52/300\n",
      "37/37 [==============================] - 7s 200ms/step - loss: 0.1253 - mae: 0.2763\n",
      "Epoch 53/300\n",
      "37/37 [==============================] - 7s 200ms/step - loss: 0.1199 - mae: 0.2708\n",
      "Epoch 54/300\n",
      "37/37 [==============================] - 8s 207ms/step - loss: 0.1145 - mae: 0.2646\n",
      "Epoch 55/300\n",
      "37/37 [==============================] - 8s 203ms/step - loss: 0.1129 - mae: 0.2623\n",
      "Epoch 56/300\n",
      "37/37 [==============================] - 7s 196ms/step - loss: 0.1042 - mae: 0.2520\n",
      "Epoch 57/300\n",
      "37/37 [==============================] - 7s 188ms/step - loss: 0.0999 - mae: 0.2469\n",
      "Epoch 58/300\n",
      "37/37 [==============================] - 7s 187ms/step - loss: 0.1025 - mae: 0.2497\n",
      "Epoch 59/300\n",
      "37/37 [==============================] - 7s 188ms/step - loss: 0.0984 - mae: 0.2454\n",
      "Epoch 60/300\n",
      "37/37 [==============================] - 7s 180ms/step - loss: 0.0920 - mae: 0.2366\n",
      "Epoch 61/300\n",
      "37/37 [==============================] - 7s 187ms/step - loss: 0.0898 - mae: 0.2331\n",
      "Epoch 62/300\n",
      "37/37 [==============================] - 7s 186ms/step - loss: 0.0889 - mae: 0.2331\n",
      "Epoch 63/300\n",
      "37/37 [==============================] - 7s 182ms/step - loss: 0.0855 - mae: 0.2287\n",
      "Epoch 64/300\n",
      "37/37 [==============================] - 7s 185ms/step - loss: 0.0827 - mae: 0.2246\n",
      "Epoch 65/300\n",
      "37/37 [==============================] - 7s 185ms/step - loss: 0.0805 - mae: 0.2223\n",
      "Epoch 66/300\n",
      "37/37 [==============================] - 7s 190ms/step - loss: 0.0793 - mae: 0.2199\n",
      "Epoch 67/300\n",
      "37/37 [==============================] - 7s 188ms/step - loss: 0.0785 - mae: 0.2193\n",
      "Epoch 68/300\n",
      "37/37 [==============================] - 7s 191ms/step - loss: 0.0753 - mae: 0.2152\n",
      "Epoch 69/300\n",
      "37/37 [==============================] - 7s 197ms/step - loss: 0.0732 - mae: 0.2123\n",
      "Epoch 70/300\n",
      "37/37 [==============================] - 7s 186ms/step - loss: 0.0746 - mae: 0.2141\n",
      "Epoch 71/300\n",
      "37/37 [==============================] - 7s 190ms/step - loss: 0.0716 - mae: 0.2097\n",
      "Epoch 72/300\n",
      "37/37 [==============================] - 7s 192ms/step - loss: 0.0738 - mae: 0.2125\n",
      "Epoch 73/300\n",
      "37/37 [==============================] - 7s 189ms/step - loss: 0.0678 - mae: 0.2042\n",
      "Epoch 74/300\n",
      "37/37 [==============================] - 7s 189ms/step - loss: 0.0654 - mae: 0.2002\n",
      "Epoch 75/300\n",
      "37/37 [==============================] - 7s 190ms/step - loss: 0.0665 - mae: 0.2017\n",
      "Epoch 76/300\n",
      "37/37 [==============================] - 8s 203ms/step - loss: 0.0636 - mae: 0.1978\n",
      "Epoch 77/300\n",
      "37/37 [==============================] - 8s 206ms/step - loss: 0.0631 - mae: 0.1970\n",
      "Epoch 78/300\n",
      "37/37 [==============================] - 7s 189ms/step - loss: 0.0648 - mae: 0.1993\n",
      "Epoch 79/300\n",
      "37/37 [==============================] - 7s 202ms/step - loss: 0.0605 - mae: 0.1935\n",
      "Epoch 80/300\n",
      "37/37 [==============================] - 7s 196ms/step - loss: 0.0617 - mae: 0.1952\n",
      "Epoch 81/300\n",
      "37/37 [==============================] - 7s 189ms/step - loss: 0.0626 - mae: 0.1966\n",
      "Epoch 82/300\n",
      "37/37 [==============================] - 7s 194ms/step - loss: 0.0588 - mae: 0.1901\n",
      "Epoch 83/300\n",
      "37/37 [==============================] - 7s 195ms/step - loss: 0.0601 - mae: 0.1922\n",
      "Epoch 84/300\n",
      "37/37 [==============================] - 7s 199ms/step - loss: 0.0629 - mae: 0.1964\n",
      "Epoch 85/300\n"
     ]
    },
    {
     "name": "stdout",
     "output_type": "stream",
     "text": [
      "37/37 [==============================] - 7s 190ms/step - loss: 0.0578 - mae: 0.1893\n",
      "Epoch 86/300\n",
      "37/37 [==============================] - 7s 193ms/step - loss: 0.0559 - mae: 0.1853\n",
      "Epoch 87/300\n",
      "37/37 [==============================] - 7s 183ms/step - loss: 0.0581 - mae: 0.1893\n",
      "Epoch 88/300\n",
      "37/37 [==============================] - 7s 180ms/step - loss: 0.0550 - mae: 0.1847\n",
      "Epoch 89/300\n",
      "37/37 [==============================] - 6s 174ms/step - loss: 0.0516 - mae: 0.1780\n",
      "Epoch 90/300\n",
      "37/37 [==============================] - 7s 179ms/step - loss: 0.0529 - mae: 0.1808\n",
      "Epoch 91/300\n",
      "37/37 [==============================] - 7s 176ms/step - loss: 0.0521 - mae: 0.1795\n",
      "Epoch 92/300\n",
      "37/37 [==============================] - 7s 177ms/step - loss: 0.0517 - mae: 0.1788\n",
      "Epoch 93/300\n",
      "37/37 [==============================] - 7s 188ms/step - loss: 0.0516 - mae: 0.1787\n",
      "Epoch 94/300\n",
      "37/37 [==============================] - 7s 193ms/step - loss: 0.0500 - mae: 0.1760\n",
      "Epoch 95/300\n",
      "37/37 [==============================] - 7s 186ms/step - loss: 0.0498 - mae: 0.1754\n",
      "Epoch 96/300\n",
      "37/37 [==============================] - 7s 177ms/step - loss: 0.0479 - mae: 0.1729\n",
      "Epoch 97/300\n",
      "37/37 [==============================] - 7s 179ms/step - loss: 0.0477 - mae: 0.1721\n",
      "Epoch 98/300\n",
      "37/37 [==============================] - 7s 179ms/step - loss: 0.0487 - mae: 0.1734\n",
      "Epoch 99/300\n",
      "37/37 [==============================] - 6s 175ms/step - loss: 0.0482 - mae: 0.1726\n",
      "Epoch 100/300\n",
      "37/37 [==============================] - 7s 184ms/step - loss: 0.0479 - mae: 0.1726\n",
      "Epoch 101/300\n",
      "37/37 [==============================] - 7s 181ms/step - loss: 0.0476 - mae: 0.1715\n",
      "Epoch 102/300\n",
      "37/37 [==============================] - 7s 180ms/step - loss: 0.0502 - mae: 0.1761\n",
      "Epoch 103/300\n",
      "37/37 [==============================] - 7s 177ms/step - loss: 0.0499 - mae: 0.1760\n",
      "Epoch 104/300\n",
      "37/37 [==============================] - 6s 175ms/step - loss: 0.0457 - mae: 0.1679\n",
      "Epoch 105/300\n",
      "37/37 [==============================] - 7s 187ms/step - loss: 0.0496 - mae: 0.1745\n",
      "Epoch 106/300\n",
      "37/37 [==============================] - 6s 175ms/step - loss: 0.0443 - mae: 0.1654\n",
      "Epoch 107/300\n",
      "37/37 [==============================] - 7s 191ms/step - loss: 0.0487 - mae: 0.1739\n",
      "Epoch 108/300\n",
      "37/37 [==============================] - 7s 195ms/step - loss: 0.0453 - mae: 0.1674\n",
      "Epoch 109/300\n",
      "37/37 [==============================] - 6s 172ms/step - loss: 0.0429 - mae: 0.1628\n",
      "Epoch 110/300\n",
      "37/37 [==============================] - 7s 177ms/step - loss: 0.0469 - mae: 0.1701\n",
      "Epoch 111/300\n",
      "37/37 [==============================] - 6s 169ms/step - loss: 0.0442 - mae: 0.1654\n",
      "Epoch 112/300\n",
      "37/37 [==============================] - 7s 188ms/step - loss: 0.0438 - mae: 0.1652\n",
      "Epoch 113/300\n",
      "37/37 [==============================] - 7s 190ms/step - loss: 0.0409 - mae: 0.1592\n",
      "Epoch 114/300\n",
      "37/37 [==============================] - 6s 170ms/step - loss: 0.0421 - mae: 0.1621\n",
      "Epoch 115/300\n",
      "37/37 [==============================] - 6s 173ms/step - loss: 0.0425 - mae: 0.1622\n",
      "Epoch 116/300\n",
      "37/37 [==============================] - 7s 179ms/step - loss: 0.0420 - mae: 0.1612\n",
      "Epoch 117/300\n",
      "37/37 [==============================] - 7s 180ms/step - loss: 0.0416 - mae: 0.1604\n",
      "Epoch 118/300\n",
      "37/37 [==============================] - 7s 182ms/step - loss: 0.0464 - mae: 0.1689\n",
      "Epoch 119/300\n",
      "37/37 [==============================] - 7s 185ms/step - loss: 0.0435 - mae: 0.1639\n",
      "Epoch 120/300\n",
      "37/37 [==============================] - 7s 196ms/step - loss: 0.0438 - mae: 0.1650\n",
      "Epoch 121/300\n",
      "37/37 [==============================] - 6s 174ms/step - loss: 0.0399 - mae: 0.1573\n",
      "Epoch 122/300\n",
      "37/37 [==============================] - 6s 170ms/step - loss: 0.0391 - mae: 0.1556\n",
      "Epoch 123/300\n",
      "37/37 [==============================] - 6s 169ms/step - loss: 0.0410 - mae: 0.1599\n",
      "Epoch 124/300\n",
      "37/37 [==============================] - 6s 169ms/step - loss: 0.0401 - mae: 0.1578\n",
      "Epoch 125/300\n",
      "37/37 [==============================] - 6s 168ms/step - loss: 0.0401 - mae: 0.1585\n",
      "Epoch 126/300\n",
      "37/37 [==============================] - 6s 169ms/step - loss: 0.0399 - mae: 0.1578\n",
      "Epoch 127/300\n",
      "37/37 [==============================] - 7s 177ms/step - loss: 0.0411 - mae: 0.1595\n",
      "Epoch 128/300\n",
      "37/37 [==============================] - 6s 169ms/step - loss: 0.0398 - mae: 0.1570\n",
      "Epoch 129/300\n",
      "37/37 [==============================] - 7s 195ms/step - loss: 0.0383 - mae: 0.1541\n",
      "Epoch 130/300\n",
      "37/37 [==============================] - 7s 186ms/step - loss: 0.0417 - mae: 0.1607\n",
      "Epoch 131/300\n",
      "37/37 [==============================] - 6s 172ms/step - loss: 0.0361 - mae: 0.1497\n",
      "Epoch 132/300\n",
      "37/37 [==============================] - 6s 175ms/step - loss: 0.0373 - mae: 0.1521\n",
      "Epoch 133/300\n",
      "37/37 [==============================] - 7s 180ms/step - loss: 0.0388 - mae: 0.1554\n",
      "Epoch 134/300\n",
      "37/37 [==============================] - 6s 173ms/step - loss: 0.0377 - mae: 0.1538\n",
      "Epoch 135/300\n",
      "37/37 [==============================] - 6s 170ms/step - loss: 0.0397 - mae: 0.1570\n",
      "Epoch 136/300\n",
      "37/37 [==============================] - 6s 166ms/step - loss: 0.0381 - mae: 0.1536\n",
      "Epoch 137/300\n",
      "37/37 [==============================] - 6s 168ms/step - loss: 0.0370 - mae: 0.1514\n",
      "Epoch 138/300\n",
      "37/37 [==============================] - 6s 170ms/step - loss: 0.0370 - mae: 0.1515\n",
      "Epoch 139/300\n",
      "37/37 [==============================] - 6s 172ms/step - loss: 0.0367 - mae: 0.1515\n",
      "Epoch 140/300\n",
      "37/37 [==============================] - 6s 169ms/step - loss: 0.0358 - mae: 0.1491\n",
      "Epoch 141/300\n",
      "37/37 [==============================] - 6s 171ms/step - loss: 0.0366 - mae: 0.1507\n",
      "Epoch 142/300\n",
      "37/37 [==============================] - 6s 166ms/step - loss: 0.0359 - mae: 0.1480\n",
      "Epoch 143/300\n",
      "37/37 [==============================] - 6s 166ms/step - loss: 0.0343 - mae: 0.1463\n",
      "Epoch 144/300\n",
      "37/37 [==============================] - 6s 167ms/step - loss: 0.0377 - mae: 0.1531\n",
      "Epoch 145/300\n",
      "37/37 [==============================] - 6s 166ms/step - loss: 0.0338 - mae: 0.1448\n",
      "Epoch 146/300\n",
      "37/37 [==============================] - 6s 167ms/step - loss: 0.0364 - mae: 0.1503\n",
      "Epoch 147/300\n",
      "37/37 [==============================] - 7s 177ms/step - loss: 0.0361 - mae: 0.1494\n",
      "Epoch 148/300\n",
      "37/37 [==============================] - 6s 174ms/step - loss: 0.0361 - mae: 0.1491\n",
      "Epoch 149/300\n",
      "37/37 [==============================] - 7s 179ms/step - loss: 0.0362 - mae: 0.1497\n",
      "Epoch 150/300\n",
      "37/37 [==============================] - 6s 174ms/step - loss: 0.0355 - mae: 0.1489\n",
      "Epoch 151/300\n",
      "37/37 [==============================] - 6s 174ms/step - loss: 0.0355 - mae: 0.1487\n",
      "Epoch 152/300\n",
      "37/37 [==============================] - 6s 170ms/step - loss: 0.0324 - mae: 0.1422\n",
      "Epoch 153/300\n",
      "37/37 [==============================] - 6s 175ms/step - loss: 0.0339 - mae: 0.1451\n",
      "Epoch 154/300\n",
      "37/37 [==============================] - 7s 182ms/step - loss: 0.0323 - mae: 0.1417\n",
      "Epoch 155/300\n",
      "37/37 [==============================] - 6s 171ms/step - loss: 0.0316 - mae: 0.1398\n",
      "Epoch 156/300\n",
      "37/37 [==============================] - 6s 172ms/step - loss: 0.0333 - mae: 0.1441\n",
      "Epoch 157/300\n",
      "37/37 [==============================] - 6s 169ms/step - loss: 0.0342 - mae: 0.1455\n",
      "Epoch 158/300\n",
      "37/37 [==============================] - 6s 175ms/step - loss: 0.0380 - mae: 0.1523\n",
      "Epoch 159/300\n",
      "37/37 [==============================] - 6s 171ms/step - loss: 0.0403 - mae: 0.1565\n",
      "Epoch 160/300\n",
      "37/37 [==============================] - 6s 171ms/step - loss: 0.0430 - mae: 0.1634\n",
      "Epoch 161/300\n",
      "31/37 [========================>.....] - ETA: 1s - loss: 0.0369 - mae: 0.1508"
     ]
    }
   ],
   "source": [
    "\n",
    "model.fit(train,label,batch_size=100,epochs=300)\n"
   ]
  },
  {
   "cell_type": "code",
   "execution_count": null,
   "metadata": {
    "colab": {
     "base_uri": "https://localhost:8080/",
     "height": 35
    },
    "id": "bMCgL6cQB_tD",
    "outputId": "e40cc3c5-f4a6-4ee8-e7a3-fe7ce8a52148"
   },
   "outputs": [],
   "source": [
    "\"\"\"\n",
    "import pickle\n",
    "file_path = '/content/drive/MyDrive/lottery prediction/LSTM_final.pkl'\n",
    "\n",
    "# Save the model using pickle\n",
    "with open(file_path, 'wb') as file:\n",
    "    pickle.dump(model, file)\n",
    "    \n",
    "    \"\"\"\n",
    "\n",
    "import pickle\n",
    "file_path = 'LSTM_final.pkl'\n",
    "\n",
    "# Save the model using pickle\n",
    "with open(file_path, 'wb') as file:\n",
    "    pickle.dump(model, file)"
   ]
  },
  {
   "cell_type": "markdown",
   "metadata": {
    "id": "gIWLDKcd1N4x"
   },
   "source": [
    "##Test"
   ]
  },
  {
   "cell_type": "code",
   "execution_count": null,
   "metadata": {
    "colab": {
     "base_uri": "https://localhost:8080/",
     "height": 549
    },
    "id": "vxdJa6LpnVQV",
    "outputId": "a53d4391-1b4e-425d-a9ba-6bde9b1b2259"
   },
   "outputs": [],
   "source": [
    "df.head(15)"
   ]
  },
  {
   "cell_type": "code",
   "execution_count": null,
   "metadata": {
    "id": "D08zrLTvvTWJ"
   },
   "outputs": [],
   "source": [
    "l = []\n",
    "for index, row in df.iterrows():\n",
    "    l2 = []\n",
    "    for i in range(1, 21):  # Assuming \"Number 1\" to \"Number 15\" are column names\n",
    "        l2.append(row[f\"Number {i}\"])\n",
    "    l.append(l2)"
   ]
  },
  {
   "cell_type": "code",
   "execution_count": null,
   "metadata": {
    "colab": {
     "base_uri": "https://localhost:8080/"
    },
    "id": "UNpdrjOQ0Ngw",
    "outputId": "b17bca66-256a-4074-b033-f8ed2700766a"
   },
   "outputs": [],
   "source": [
    "print(l[1:8] )\n",
    "print(len(l[1:8]))"
   ]
  },
  {
   "cell_type": "code",
   "execution_count": null,
   "metadata": {
    "id": "tvXHM2wF-xvx",
    "scrolled": false
   },
   "outputs": [],
   "source": [
    "import pickle\n",
    "\n",
    "file_path = 'LSTM_final.pkl'\n",
    "\n",
    "# Load the saved model using pickle\n",
    "with open(file_path, 'rb') as file:\n",
    "    modell = pickle.load(file)"
   ]
  },
  {
   "cell_type": "code",
   "execution_count": null,
   "metadata": {
    "id": "QS5XTa_0nVNR"
   },
   "outputs": [],
   "source": [
    "to_predict=np.array( l[1:8] )\n",
    "scaled_to_predict=scaler.transform(to_predict)"
   ]
  },
  {
   "cell_type": "code",
   "execution_count": null,
   "metadata": {
    "colab": {
     "base_uri": "https://localhost:8080/"
    },
    "id": "Izx_cxF_qxc3",
    "outputId": "c4576536-0082-4433-d124-5df84e7571b4",
    "scrolled": false
   },
   "outputs": [],
   "source": [
    "#prediction\n",
    "\n",
    "scaled_predicted_output_1=modell.predict(np.array([scaled_to_predict]))\n",
    "print(scaler.inverse_transform(scaled_predicted_output_1).astype(int)[0])"
   ]
  },
  {
   "cell_type": "code",
   "execution_count": null,
   "metadata": {
    "colab": {
     "base_uri": "https://localhost:8080/"
    },
    "id": "XOhQsh_P01RG",
    "outputId": "236f42c1-694e-4c1e-ad0f-47cf64f143bd"
   },
   "outputs": [],
   "source": [
    "#original\n",
    "l[0]"
   ]
  },
  {
   "cell_type": "code",
   "execution_count": null,
   "metadata": {
    "colab": {
     "base_uri": "https://localhost:8080/"
    },
    "id": "FZWVjn3wAGED",
    "outputId": "018f3331-fe1c-4d17-e235-b4d64b764a31"
   },
   "outputs": [],
   "source": [
    "#prediction\n",
    "to_predict=np.array( l[2:9] )\n",
    "scaled_to_predict=scaler.transform(to_predict)\n",
    "scaled_predicted_output_1=modell.predict(np.array([scaled_to_predict]))\n",
    "print(scaler.inverse_transform(scaled_predicted_output_1).astype(int)[0])"
   ]
  },
  {
   "cell_type": "code",
   "execution_count": null,
   "metadata": {
    "colab": {
     "base_uri": "https://localhost:8080/"
    },
    "id": "Af5kyzse05JQ",
    "outputId": "8c201c74-cfd6-4d59-cd56-dcf1729e52b5"
   },
   "outputs": [],
   "source": [
    "#original\n",
    "l[1]"
   ]
  },
  {
   "cell_type": "code",
   "execution_count": null,
   "metadata": {
    "colab": {
     "base_uri": "https://localhost:8080/"
    },
    "id": "GD8Iw7rfAVZa",
    "outputId": "ac9ed0ce-9ce8-419b-aada-7074a5720ab8"
   },
   "outputs": [],
   "source": [
    "#prediction\n",
    "to_predict=np.array( l[3:10] )\n",
    "scaled_to_predict=scaler.transform(to_predict)\n",
    "scaled_predicted_output_1=modell.predict(np.array([scaled_to_predict]))\n",
    "pred=scaler.inverse_transform(scaled_predicted_output_1).astype(int)[0]\n",
    "print(len(pred))"
   ]
  },
  {
   "cell_type": "code",
   "execution_count": null,
   "metadata": {
    "colab": {
     "base_uri": "https://localhost:8080/"
    },
    "id": "TOcy8t34AeAp",
    "outputId": "33a72fcc-afb7-4f21-922d-d5937608f703"
   },
   "outputs": [],
   "source": [
    "#original\n",
    "l[2]"
   ]
  },
  {
   "cell_type": "code",
   "execution_count": null,
   "metadata": {
    "id": "FYT4LNMWAgmW"
   },
   "outputs": [],
   "source": []
  }
 ],
 "metadata": {
  "accelerator": "GPU",
  "colab": {
   "provenance": []
  },
  "kernelspec": {
   "display_name": "Python 3 (ipykernel)",
   "language": "python",
   "name": "python3"
  },
  "language_info": {
   "codemirror_mode": {
    "name": "ipython",
    "version": 3
   },
   "file_extension": ".py",
   "mimetype": "text/x-python",
   "name": "python",
   "nbconvert_exporter": "python",
   "pygments_lexer": "ipython3",
   "version": "3.10.6"
  }
 },
 "nbformat": 4,
 "nbformat_minor": 1
}
