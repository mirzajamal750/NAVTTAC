{
 "cells": [
  {
   "cell_type": "code",
   "execution_count": 3,
   "id": "ed5ff2a6",
   "metadata": {},
   "outputs": [],
   "source": [
    "import numpy as np\n",
    "from sklearn.datasets import fetch_openml\n",
    "from sklearn.model_selection import train_test_split\n",
    "from sklearn.linear_model import LinearRegression\n",
    "import matplotlib.pyplot as plt\n",
    "\n",
    "# Load the MNIST dataset\n",
    "mnist = fetch_openml(name='mnist_784', version=1)\n",
    "X, y = mnist['data'], mnist['target']\n",
    "\n",
    "\n"
   ]
  },
  {
   "cell_type": "code",
   "execution_count": null,
   "id": "9568d8a7",
   "metadata": {},
   "outputs": [],
   "source": [
    "# Convert the target labels to integers\n",
    "y = y.astype(int)\n",
    "\n",
    "# Extract a single feature (average pixel intensity)\n",
    "X_features = np.mean(X, axis=1).reshape(-1, 1)\n",
    "\n",
    "# Split the dataset into training and testing sets\n",
    "X_train, X_test, y_train, y_test = train_test_split(X_features, y, test_size=0.2, random_state=42)\n"
   ]
  },
  {
   "cell_type": "code",
   "execution_count": null,
   "id": "a5349276",
   "metadata": {},
   "outputs": [],
   "source": [
    "\n",
    "# Perform linear regression\n",
    "model = LinearRegression()\n",
    "model.fit(X_train, y_train)\n"
   ]
  },
  {
   "cell_type": "code",
   "execution_count": null,
   "id": "f7f7044c",
   "metadata": {},
   "outputs": [],
   "source": [
    "\n",
    "# Make predictions on the test set\n",
    "y_pred = model.predict(X_test)\n",
    "\n",
    "# Calculate the mean squared error\n",
    "mse = np.mean((y_pred - y_test) ** 2)\n",
    "print(\"Mean Squared Error:\", mse)\n",
    "\n",
    "# Plot a random image and the corresponding regression line\n",
    "random_idx = np.random.randint(0, len(X_features))\n",
    "random_image = X[random_idx].reshape(28, 28)\n",
    "\n",
    "plt.imshow(random_image, cmap='gray')\n",
    "plt.title(f\"Actual Digit: {y[random_idx]}, Predicted Digit: {int(model.predict(X_features[random_idx].reshape(1, -1))[0])}\")\n",
    "plt.show()"
   ]
  }
 ],
 "metadata": {
  "kernelspec": {
   "display_name": "Python 3 (ipykernel)",
   "language": "python",
   "name": "python3"
  },
  "language_info": {
   "codemirror_mode": {
    "name": "ipython",
    "version": 3
   },
   "file_extension": ".py",
   "mimetype": "text/x-python",
   "name": "python",
   "nbconvert_exporter": "python",
   "pygments_lexer": "ipython3",
   "version": "3.10.6"
  }
 },
 "nbformat": 4,
 "nbformat_minor": 5
}
