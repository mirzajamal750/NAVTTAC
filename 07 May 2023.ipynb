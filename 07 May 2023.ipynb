{
 "cells": [
  {
   "cell_type": "markdown",
   "id": "91206f73",
   "metadata": {},
   "source": [
    "<center><h1>I. What is Data?</h1></center>\n",
    "<h3><b>Data refers to a collection of facts, statistics, or information that are represented in various formats such as numbers, text, images, or multimedia. Data is the raw material from which meaningful insights can be derived through analysis and interpretation. It plays a vital role in decision-making, problem-solving, research, and numerous other applications across industries.</b></h3>\n",
    "\n",
    "<u>II. Importance of Data:</u>\n",
    "\n",
    "Data holds immense importance in today's digital age. Here are a few reasons why data is valuable:\n",
    "\n",
    "<u>Decision-Making:</u>\n",
    "Data-driven decision-making allows organizations to make informed choices based on factual evidence rather than intuition or guesswork.\n",
    "\n",
    "<u>Insights and Patterns:</u>\n",
    "Analyzing data helps in identifying trends, patterns, and correlations, enabling businesses to uncover valuable insights and gain a competitive edge.\n",
    "\n",
    "<u>Innovation:</u>\n",
    "Data fuels innovation by providing a foundation for developing new products, services, and technologies.\n",
    "\n",
    "<u>Performance Evaluation:</u>\n",
    "Data enables the measurement and evaluation of performance metrics, allowing organizations to assess their progress and make necessary improvements.\n",
    "\n",
    "III. <u>Types of Data:</u>\n",
    "\n",
    "Data can be classified into different types based on its nature, structure, and purpose. Let's explore the most common types:\n",
    "\n",
    "<u>Qualitative Data:</u>\n",
    "Qualitative data describes non-numerical information or attributes. It is subjective in nature and often obtained through interviews, observations, or open-ended survey responses. Examples include opinions, preferences, emotions, and textual descriptions.\n",
    "\n",
    "<u>Quantitative Data:</u>\n",
    "Quantitative data consists of numerical values and objective measurements. It is obtained through methods such as surveys, experiments, or sensors. Examples include height, weight, temperature, sales figures, or test scores. Quantitative data can further be categorized as:\n",
    "\n",
    "- <u>Discrete Data:</u>\n",
    "Discrete data can only take on specific values within a defined range, usually as whole numbers. Examples include the number of students in a class or the number of cars in a parking lot.\n",
    "\n",
    "- <u>Continuous Data:</u>\n",
    "Continuous data can take on any value within a given range. It often involves measurements and can be represented as decimals or fractions. Examples include temperature, time, or distance.\n",
    "\n",
    "<u>Categorical Data:</u>\n",
    "Categorical data represents information grouped into specific categories or labels. It doesn't have any inherent numerical value. Examples include gender, marital status, colors, or product categories.\n",
    "\n",
    "<u>Time-Series Data:</u>\n",
    "Time-series data captures observations or measurements taken over a sequence of time intervals. It helps analyze patterns and trends over time. Examples include stock market prices, weather data, or website traffic.\n",
    "\n",
    "<u>Spatial Data:</u>\n",
    "Spatial data refers to information associated with specific geographic locations. It includes maps, satellite imagery, GPS coordinates, or any data with a spatial component.</h3>\n"
   ]
  },
  {
   "cell_type": "markdown",
   "id": "55e04b51",
   "metadata": {},
   "source": [
    "<center><h1>Measurement of Central Tendency</h1></center>\n",
    "\n",
    "<u><b><h2>Introduction:</h2></b></u>\n",
    "\n",
    "<h3>In our exploration of data analysis, we now turn our attention to the measurement of central tendency. Central tendency is a statistical concept that aims to identify a representative or central value around which data tends to cluster. It provides insights into the typical or average value of a dataset. In this lecture, we will discuss three common measures of central tendency: the mean, median, and mode. Let's delve into each of these measures and understand how they help us analyze data.</h3>\n",
    "\n",
    "<ul>\n",
    "<li><h3>I. Mean:</h3></li>\n",
    "The mean, often referred to as the average, is a measure of central tendency that calculates the sum of all values in a dataset divided by the number of values. It is commonly used when dealing with continuous numerical data. The formula for calculating the mean is as follows:\n",
    "\n",
    "Mean = (Sum of all values) / (Number of values)\n",
    "\n",
    "The mean is sensitive to extreme values, making it susceptible to outliers. Therefore, it is important to be mindful of outliers' potential influence on the mean when interpreting data.\n",
    "\n",
    "<li><h3>II. Median:</h3></li>\n",
    "The median is another measure of central tendency that determines the middle value in a dataset when it is arranged in ascending or descending order. To calculate the median, follow these steps:\n",
    "\n",
    "Sort the dataset in ascending or descending order.\n",
    "If the dataset has an odd number of values, the median is the middle value.\n",
    "If the dataset has an even number of values, the median is the average of the two middle values.\n",
    "\n",
    "The median is less affected by extreme values and is particularly useful when dealing with skewed or non-symmetrical distributions. It divides the dataset into two equal halves, with 50% of the data falling below and 50% above the median.\n",
    "\n",
    "<li><h3>III. Mode:</h3></li>\n",
    "The mode represents the value or values that occur most frequently in a dataset. It is applicable to both numerical and categorical data. In some cases, a dataset may have multiple modes (bimodal, trimodal, etc.), or there may be no mode if all values are unique.\n",
    "\n",
    "The mode is useful for identifying the most common observation or category in a dataset. It can be particularly handy when dealing with categorical data, such as preferences, colors, or types of products.\n",
    "</ul>\n"
   ]
  },
  {
   "cell_type": "code",
   "execution_count": 1,
   "id": "a32c4ce8",
   "metadata": {},
   "outputs": [
    {
     "name": "stdout",
     "output_type": "stream",
     "text": [
      "Mean: 25.125\n",
      "Median: 23.5\n",
      "Mode: [33]\n"
     ]
    }
   ],
   "source": [
    "import numpy as np\n",
    "from scipy import stats\n",
    "\n",
    "# Example dataset\n",
    "dataset = np.array([10,12,12, 15, 18, 20,19, 22,33, 25,33, 30, 35, 40, 45,33])\n",
    "\n",
    "# Mean\n",
    "mean = np.mean(dataset)\n",
    "print(\"Mean:\", mean)\n",
    "\n",
    "# Median\n",
    "median = np.median(dataset)\n",
    "print(\"Median:\", median)\n",
    "\n",
    "# Mode\n",
    "mode = stats.mode(dataset)\n",
    "print(\"Mode:\", mode.mode)\n"
   ]
  },
  {
   "cell_type": "markdown",
   "id": "5caed3a0",
   "metadata": {},
   "source": [
    "# Measurement of Dispersion\n",
    "\n",
    "**Introduction:**\n",
    "\n",
    "In our exploration of data analysis, we now shift our focus to the measurement of dispersion. Dispersion is a statistical concept that quantifies the spread or variability of data points in a dataset. It provides valuable insights into how the individual values are distributed around the central tendency measures we discussed earlier. In this lecture, we will cover three common measures of dispersion: the range, variance, and standard deviation. Let's delve into each of these measures and understand their significance in analyzing data variability.\n",
    "\n",
    "## I. Range:\n",
    "\n",
    "The range is the simplest measure of dispersion, representing the difference between the maximum and minimum values in a dataset. To calculate the range, follow these steps:\n",
    "\n",
    "- Identify the maximum value in the dataset.\n",
    "- Identify the minimum value in the dataset.\n",
    "- Subtract the minimum value from the maximum value.\n",
    "\n",
    "The range provides a quick overview of the spread between the extreme values in a dataset. However, it only considers two data points and may not provide a comprehensive understanding of the entire dataset.\n",
    "\n",
    "## II. Variance:\n",
    "\n",
    "The variance measures the average squared deviation of each data point from the mean. It provides a more comprehensive understanding of data dispersion. The formula for calculating the variance is as follows:\n",
    "\n",
    "Variance = Σ((X - μ)^2) / N\n",
    "\n",
    "Here:\n",
    "- X represents each data point in the dataset.\n",
    "- μ represents the mean of the dataset.\n",
    "- N represents the total number of data points.\n",
    "\n",
    "A higher variance indicates a wider spread of data points around the mean, while a lower variance suggests a narrower spread.\n",
    "\n",
    "## III. Standard Deviation:\n",
    "\n",
    "The standard deviation is the square root of the variance and is widely used due to its intuitive interpretation. It measures the average distance between each data point and the mean. The formula for calculating the standard deviation is as follows:\n",
    "\n",
    "Standard Deviation (σ) = √(Variance)\n",
    "Here, σ represents the standard deviation.\n",
    "\n",
    "These mathematical formulas allow us to calculate the range, variance, and standard deviation, which provide valuable insights into the dispersion and variability of data points in a dataset.\n",
    "\n",
    "Please note that these formulas assume the dataset represents the entire population. If the dataset is a sample from a larger population, you may need to apply different formulas for calculating sample variance and sample standard deviation.\n",
    "\n",
    "The standard deviation is expressed in the same units as the data, making it easier to interpret. A higher standard deviation indicates greater variability in the dataset, while a lower standard deviation suggests less variability.\n"
   ]
  },
  {
   "cell_type": "code",
   "execution_count": 8,
   "id": "db834ed1",
   "metadata": {},
   "outputs": [
    {
     "name": "stdout",
     "output_type": "stream",
     "text": [
      "Range: 35\n",
      "Variance: 120.56198347107438\n",
      "Standard Deviation: 10.980072106824908\n"
     ]
    }
   ],
   "source": [
    "import numpy as np\n",
    "\n",
    "# Example dataset\n",
    "dataset = np.array([10, 12, 15, 18, 20, 22, 25, 30, 35, 40, 45])\n",
    "\n",
    "# Range\n",
    "range_val = np.max(dataset) - np.min(dataset)\n",
    "print(\"Range:\", range_val)\n",
    "\n",
    "# Variance\n",
    "variance = np.var(dataset)\n",
    "print(\"Variance:\", variance)\n",
    "\n",
    "# Standard Deviation\n",
    "std_dev = np.std(dataset)\n",
    "print(\"Standard Deviation:\", std_dev)\n"
   ]
  },
  {
   "cell_type": "markdown",
   "id": "1f525f7d",
   "metadata": {},
   "source": [
    "<center><h1>Measurement of Position</h1></center>\n",
    "\n",
    "<h3><u>Introduction:</u></h3>\n",
    "\n",
    "In data analysis, the measurement of position refers to techniques used to identify the relative position of a particular value within a dataset. It provides insights into how a specific value compares to other values in the dataset. In this lecture, we will discuss three common measures of position: percentiles, quartiles, and z-scores. Let's explore each of these measures and understand their significance in analyzing data.\n",
    "\n",
    "<h3><u>I. Percentiles:</u></h3>\n",
    "\n",
    "Percentiles are measures of position that divide a dataset into equal or unequal parts. They represent the value below which a certain percentage of data falls. Percentiles are useful in understanding the distribution and relative standing of a specific value within a dataset. The calculation of percentiles involves the following steps:\n",
    "\n",
    "1. Sort the dataset in ascending order.\n",
    "2. Determine the desired percentile (e.g., 25th percentile, 50th percentile, etc.).\n",
    "3. Calculate the index (I) using the formula: I = (P/100) * (n + 1), where P is the desired percentile and n is the total number of data points.\n",
    "4. If the index is an integer, the percentile is the value at that index in the sorted dataset. If the index is not an integer, the percentile is the average of the values at the integer part of the index and the next integer.\n",
    "\n",
    "Example: Consider the dataset [12, 18, 20, 23, 29, 32, 36, 40, 42, 50]. To find the 75th percentile, we follow the steps:\n",
    "\n",
    "1. Sort the dataset in ascending order: [12, 18, 20, 23, 29, 32, 36, 40, 42, 50].\n",
    "2. Calculate the index: I = (75/100) * (10 + 1) = 8.25.\n",
    "3. Since the index is not an integer, the 75th percentile is the average of the values at the 8th and 9th indices: (36 + 40) / 2 = 38.\n",
    "\n",
    "The 75th percentile of this dataset is 38.\n",
    "\n",
    "<h3><u>II. Quartiles:</u></h3>\n",
    "\n",
    "Quartiles are a specific type of percentiles that divide a dataset into four equal parts. They are commonly used in box plots to display the spread and distribution of data. The three quartiles, denoted as Q1, Q2 (median), and Q3, represent the values that divide the dataset into quarters. The calculation of quartiles involves the following steps:\n",
    "\n",
    "1. Sort the dataset in ascending order.\n",
    "2. Calculate the index for each quartile using the formulas: \n",
    "   - Q1 index = (25/100) * (n + 1)\n",
    "   - Q2 (median) index = (50/100) * (n + 1)\n",
    "   - Q3 index = (75/100) * (n + 1)\n",
    "   (where n is the total number of data points)\n",
    "3. Determine the quartile values based on the calculated indices.\n",
    "\n",
    "Example: Consider the dataset [12, 18, 20, 23, 29, 32, 36, 40, 42, 50]. To calculate the quartiles, we follow the steps:\n",
    "\n",
    "1. Sort the dataset in ascending order: [12, 18, 20, 23, 29, 32, 36, 40, 42, 50].\n",
    "2. Calculate the indices:\n",
    "   - Q1 index = (25/100) * (10 + 1) = 2.75.\n",
    "   - Q2 (median) index = (50/100) * (10 + 1) = 5.5.\n",
    "   - Q3 index = (75/100) * (10 + 1) = 8.25.\n",
    "3. Determine the quartile values:\n",
    "   - Q1: Average of values at the 2nd and 3rd indices: (18 + 20) / 2 = 19.\n",
    "   - Q2 (median): Value at the 5th index: 29.\n",
    "   - Q3: Average of values at the 8th and 9th indices: (40 + 42) / 2 = 41.\n",
    "\n",
    "The quartiles of this dataset are Q1 = 19, Q2 = 29, and Q3 = 41.\n",
    "\n",
    "<h3><u>III. Z-Scores:</u></h3>\n",
    "\n",
    "Z-scores, also known as standard scores, measure the relative position of a value within a dataset in terms of standard deviations. They indicate how many standard deviations a particular value is above or below the mean of the dataset. The calculation of the z-score involves the following steps:\n",
    "\n",
    "1. Calculate the mean (μ) and standard deviation (σ) of the dataset.\n",
    "2. Subtract the mean from the value of interest.\n",
    "3. Divide the result by the standard deviation.\n",
    "\n",
    "Example: Consider the dataset [12, 18, 20, 23, 29, 32, 36, 40, 42, 50]. To calculate the z-score of the value 32, we follow the steps:\n",
    "\n",
    "1. Calculate the mean and standard deviation of the dataset:\n",
    "   - Mean (μ) = (12 + 18 + 20 + 23 + 29 + 32 + 36 + 40 + 42 + 50) / 10 = 31.2.\n",
    "   - Standard Deviation (σ) = √[Σ(X - μ)^2 / n] = √[(430.8) / 10] ≈ 6.56.\n",
    "2. Calculate the z-score:\n",
    "   - Z-score = (32 - 31.2) / 6.56 ≈ 0.122.\n",
    "\n",
    "The z-score of the value 32 in this dataset is approximately 0.122.\n",
    "\n",
    "By utilizing percentiles, quartiles, and z-scores, analysts can gain valuable insights into the relative position and distribution of data values within a dataset.\n"
   ]
  },
  {
   "cell_type": "code",
   "execution_count": 9,
   "id": "56d4e888",
   "metadata": {},
   "outputs": [
    {
     "name": "stdout",
     "output_type": "stream",
     "text": [
      "75th Percentile: 39.0\n",
      "Q1: 20.75\n",
      "Median: 30.5\n",
      "Q3: 39.0\n",
      "Z-score: 0.15777338201913338\n"
     ]
    }
   ],
   "source": [
    "import numpy as np\n",
    "\n",
    "# Example dataset\n",
    "dataset = np.array([12, 18, 20, 23, 29, 32, 36, 40, 42, 50])\n",
    "\n",
    "# Percentiles\n",
    "percentile_75 = np.percentile(dataset, 75)\n",
    "print(\"75th Percentile:\", percentile_75)\n",
    "\n",
    "# Quartiles\n",
    "quartiles = np.percentile(dataset, [25, 50, 75])\n",
    "q1, median, q3 = quartiles\n",
    "print(\"Q1:\", q1)\n",
    "print(\"Median:\", median)\n",
    "print(\"Q3:\", q3)\n",
    "\n",
    "# Z-scores\n",
    "mean = np.mean(dataset)\n",
    "std_dev = np.std(dataset)\n",
    "value = 32\n",
    "z_score = (value - mean) / std_dev\n",
    "print(\"Z-score:\", z_score)\n"
   ]
  },
  {
   "cell_type": "markdown",
   "id": "b0c206e8",
   "metadata": {},
   "source": [
    "## Measure of Position Example\n",
    "\n",
    "Imagine you are a data analyst working for a retail company. Your task is to analyze the sales data of a particular product over a period of time. The dataset you are working with contains the daily sales figures for that product.\n",
    "\n",
    "\n",
    "1. Calculating the 75th percentile:\n",
    "   - We use the 75th percentile to identify the sales value below which 75% of the sales figures lie. This helps us understand the distribution of sales and identify the sales performance threshold for the top quartile of days.\n",
    "\n",
    "2. Calculating the quartiles:\n",
    "   - We calculate the quartiles (Q1, median, Q3) to understand the distribution of sales across different percentiles. This information helps us identify the sales performance threshold for the bottom, middle, and top 25% of days.\n",
    "\n",
    "3. Printing the quartiles:\n",
    "   - We extract the quartile values and print them. This allows us to see the specific sales values that represent the first quartile (Q1), median, and third quartile (Q3). We can use these values to understand the sales distribution and identify any outliers or trends in the data.\n",
    "\n",
    "4 Calculating the z-score:\n",
    "   - We calculate the z-score for a specific sales value, in this case, 32. The z-score tells us how many standard deviations away from the mean this value is. This helps us assess whether the sales value is above or below the average and provides insight into its relative position within the dataset.\n",
    "\n",
    "In this real-world scenario, the example demonstrates how we can use measures of position, such as percentiles, quartiles, and z-scores, to analyze and understand the sales performance of a product. These measures help us identify the sales thresholds for different percentile groups, detect outliers, and assess the relative performance of individual sales figures within the dataset. This analysis can aid in decision-making, such as identifying high-performing days or investigating potential anomalies in sales data.\n"
   ]
  },
  {
   "cell_type": "markdown",
   "id": "638e7b50",
   "metadata": {},
   "source": [
    "# Correlation Coefficient\n",
    "\n",
    "## Introduction:\n",
    "In data analysis, the correlation coefficient is a statistical measure that quantifies the relationship between two variables. It provides valuable insights into how changes in one variable are associated with changes in another variable. A correlation coefficient value ranges between -1 and 1, where -1 indicates a perfect negative correlation, 1 indicates a perfect positive correlation, and 0 indicates no correlation.\n",
    "\n",
    "# Calculation of Correlation Coefficient\n",
    "\n",
    "To calculate the correlation coefficient (Pearson's r) between two variables, follow these steps:\n",
    "\n",
    "1. Compute the means of the two variables: x̄ (mean of x) and ȳ (mean of y).\n",
    "\n",
    "2. Calculate the deviation of each data point from the mean:\n",
    "   - For each data point in x, subtract the mean of x: xi - x̄.\n",
    "   - For each data point in y, subtract the mean of y: yi - ȳ.\n",
    "\n",
    "3. Square each deviation:\n",
    "   - Square each deviation obtained in step 2: (xi - x̄)^2 and (yi - ȳ)^2.\n",
    "\n",
    "4. Sum the squared deviations:\n",
    "   - Sum all the squared deviations obtained in step 3: Σ(xi - x̄)^2 and Σ(yi - ȳ)^2.\n",
    "\n",
    "5. Calculate the product of the deviations:\n",
    "   - For each data point, multiply the deviation of x by the deviation of y: (xi - x̄)(yi - ȳ).\n",
    "\n",
    "6. Sum the product of the deviations:\n",
    "   - Sum all the products of deviations obtained in step 5: Σ(xi - x̄)(yi - ȳ).\n",
    "\n",
    "7. Calculate the correlation coefficient:\n",
    "   - Use the formula: r = Σ(xi - x̄)(yi - ȳ) / √(Σ(xi - x̄)^2 * Σ(yi - ȳ)^2).\n",
    "\n",
    "The resulting value r is the correlation coefficient, which ranges between -1 and 1. It quantifies the strength and direction of the linear relationship between the two variables. A positive r indicates a positive correlation, a negative r indicates a negative correlation, and r close to 0 indicates a weak or no correlation.\n",
    "\n",
    "## Interpretation of Correlation Coefficient:\n",
    "The correlation coefficient can be interpreted as follows:\n",
    "- If the correlation coefficient is close to -1 or 1, it indicates a strong correlation between the variables.\n",
    "- If the correlation coefficient is close to 0, it indicates a weak or no correlation between the variables.\n",
    "\n",
    "## Example:\n",
    "Let's consider an example to illustrate the calculation and interpretation of the correlation coefficient.\n",
    "\n",
    "Suppose we want to analyze the relationship between the hours of study (independent variable) and the exam scores (dependent variable) of a group of students. We collect data for 10 students and obtain the following results:\n",
    "\n",
    "| Student | Hours of Study (x) | Exam Score (y) |\n",
    "|---------|-------------------|----------------|\n",
    "| 1       | 3                 | 75             |\n",
    "| 2       | 5                 | 83             |\n",
    "| 3       | 2                 | 60             |\n",
    "| 4       | 8                 | 92             |\n",
    "| 5       | 6                 | 85             |\n",
    "| 6       | 4                 | 78             |\n",
    "| 7       | 7                 | 90             |\n",
    "| 8       | 3                 | 70             |\n",
    "| 9       | 1                 | 50             |\n",
    "| 10      | 9                 | 95             |\n",
    "\n",
    "Using the given data, we can calculate the correlation coefficient (Pearson's r) to assess the relationship between hours of study and exam scores.\n",
    "\n",
    "Interpretation:\n",
    "In this example, after calculating the correlation coefficient, let's assume we find that the correlation coefficient is 0.85. This indicates a strong positive correlation between hours of study and exam scores. It suggests that as the number of hours of study increases, the exam scores tend to increase as well. The closer the correlation coefficient is to 1, the stronger the positive linear relationship between the variables.\n",
    "\n",
    "Understanding the correlation coefficient helps us determine the extent of the relationship between two variables. It aids in identifying patterns, making predictions, and understanding the impact of one variable on another.\n"
   ]
  },
  {
   "cell_type": "code",
   "execution_count": 2,
   "id": "2ccc512c",
   "metadata": {},
   "outputs": [
    {
     "name": "stdout",
     "output_type": "stream",
     "text": [
      "Correlation Coefficient: 0.8340576562282991\n"
     ]
    },
    {
     "data": {
      "text/plain": [
       "'The function returns a correlation matrix, and we extract the value at the intersection of the first row and second column (index 0, 1) to get the correlation coefficient. Finally, we print the correlation coefficient.'"
      ]
     },
     "execution_count": 2,
     "metadata": {},
     "output_type": "execute_result"
    }
   ],
   "source": [
    "import numpy as np\n",
    "\n",
    "# Sample data\n",
    "x = np.array([5, 10, 15, 10, 25])\n",
    "y = np.array([15, 20, 25, 30, 35])\n",
    "\n",
    "# Calculate the correlation coefficient\n",
    "correlation_coefficient = np.corrcoef(x, y)[0, 1]\n",
    "\n",
    "print(\"Correlation Coefficient:\", correlation_coefficient)\n",
    "\"\"\"The function returns a correlation matrix, and we extract the value at the intersection of the first row and second column (index 0, 1) to get the correlation coefficient. Finally, we print the correlation coefficient.\"\"\"\n"
   ]
  },
  {
   "cell_type": "markdown",
   "id": "99a067c9",
   "metadata": {},
   "source": [
    "In the context of the np.corrcoef() function in NumPy, the correlation coefficient matrix returned is a 2D array. The value [0, 1] refers to the element at the intersection of the first row ([0]) and the second column ([1]) of that matrix.\n",
    "\n",
    "The correlation coefficient matrix is a square matrix where each element represents the correlation coefficient between two variables. In this case, [0, 1] specifically represents the correlation coefficient between the first variable (x) and the second variable (y).\n",
    "\n",
    "Therefore, when we access the element at index [0, 1] in the correlation coefficient matrix, we are retrieving the correlation coefficient between x and y."
   ]
  },
  {
   "cell_type": "code",
   "execution_count": 34,
   "id": "5691a4c0",
   "metadata": {},
   "outputs": [
    {
     "name": "stdout",
     "output_type": "stream",
     "text": [
      "Correlation Matrix:\n",
      "[[1. 1. 1.]\n",
      " [1. 1. 1.]\n",
      " [1. 1. 1.]]\n"
     ]
    }
   ],
   "source": [
    "import numpy as np\n",
    "\n",
    "# Sample data\n",
    "x = np.array([1, 2, 3, 4, 5])\n",
    "y = np.array([2, 4, 6, 8, 10])\n",
    "z = np.array([3, 6, 9, 12, 15])\n",
    "\n",
    "# Stack variables vertically\n",
    "data = np.vstack((x, y, z))\n",
    "\n",
    "# Calculate the correlation matrix\n",
    "correlation_matrix = np.corrcoef(data)\n",
    "\n",
    "print(\"Correlation Matrix:\")\n",
    "print(correlation_matrix)\n",
    "\n"
   ]
  },
  {
   "cell_type": "code",
   "execution_count": 52,
   "id": "0f526c77",
   "metadata": {},
   "outputs": [
    {
     "data": {
      "image/png": "[encoded data removed]",
      "text/plain": [
       "<Figure size 720x720 with 1 Axes>"
      ]
     },
     "metadata": {
      "needs_background": "light"
     },
     "output_type": "display_data"
    },
    {
     "data": {
      "image/png": "[encoded data removed]",
      "text/plain": [
       "<Figure size 432x432 with 1 Axes>"
      ]
     },
     "metadata": {
      "needs_background": "light"
     },
     "output_type": "display_data"
    },
    {
     "data": {
      "image/png": "[encoded data removed]",
      "text/plain": [
       "<Figure size 720x288 with 2 Axes>"
      ]
     },
     "metadata": {
      "needs_background": "light"
     },
     "output_type": "display_data"
    }
   ],
   "source": [
    "import numpy as np\n",
    "import matplotlib.pyplot as plt\n",
    "\n",
    "# Generate some random data\n",
    "np.random.seed(0)\n",
    "x = np.random.rand(100)\n",
    "y = np.random.rand(100)\n",
    "\n",
    "# Univariate plot (Histogram)\n",
    "plt.figure(figsize=(10, 10))\n",
    "plt.hist(x, bins=20, color='blue', alpha=0.5)\n",
    "plt.xlabel('X')\n",
    "plt.ylabel('Frequency')\n",
    "plt.title('Univariate Plot')\n",
    "plt.show()\n",
    "\n",
    "# Bivariate plot (Scatter plot)\n",
    "plt.figure(figsize=(6, 6))\n",
    "plt.scatter(x, y, color='red', alpha=0.5)\n",
    "plt.xlabel('X')\n",
    "plt.ylabel('Y')\n",
    "plt.title('Bivariate Plot')\n",
    "plt.show()\n",
    "\n",
    "# Multi-plots (Line plot and Bar plot)\n",
    "plt.figure(figsize=(10, 4))\n",
    "\n",
    "# Line plot\n",
    "plt.subplot(1, 2, 1)\n",
    "x_line = np.linspace(0, 10, 100)\n",
    "y_line = np.sin(x_line)\n",
    "plt.plot(x_line, y_line, color='green')\n",
    "plt.xlabel('X')\n",
    "plt.ylabel('Y')\n",
    "plt.title('Line Plot')\n",
    "\n",
    "# Bar plot\n",
    "plt.subplot(1, 2, 2)\n",
    "categories = ['A', 'B', 'C', 'D']\n",
    "values = [20, 35, 30, 15]\n",
    "plt.bar(categories, values, color='purple')\n",
    "plt.xlabel('Categories')\n",
    "plt.ylabel('Values')\n",
    "plt.title('Bar Plot')\n",
    "\n",
    "plt.tight_layout()\n",
    "plt.show()\n"
   ]
  },
  {
   "cell_type": "code",
   "execution_count": 46,
   "id": "97caba10",
   "metadata": {},
   "outputs": [
    {
     "data": {
      "text/plain": [
       "array([0.53627454, 0.68027015, 0.60917758, 0.098478  , 0.09202759,\n",
       "       0.05596583, 0.08653249, 0.23717329, 0.83951297, 0.52237053,\n",
       "       0.51307486, 0.64983197, 0.54459088, 0.0324653 , 0.58015172,\n",
       "       0.77108905, 0.37622657, 0.49102474, 0.98163968, 0.24465141,\n",
       "       0.3743232 , 0.04565964, 0.31006764, 0.8315194 , 0.80702284,\n",
       "       0.64002416, 0.3681024 , 0.3127533 , 0.80183615, 0.07044719,\n",
       "       0.68357296, 0.38072924, 0.63393096, 0.92687909, 0.85394012,\n",
       "       0.49767798, 0.42783438, 0.82255945, 0.73822658, 0.44714384,\n",
       "       0.96890304, 0.36316126, 0.39753349, 0.73868266, 0.44908343,\n",
       "       0.93728436, 0.25723349, 0.38175981, 0.69714162, 0.8970701 ,\n",
       "       0.12105988, 0.24154569, 0.22826361, 0.48950933, 0.89152268,\n",
       "       0.35810748, 0.38523742, 0.91672702, 0.11381664, 0.63112554,\n",
       "       0.132815  , 0.37424458, 0.32440486, 0.68011554, 0.79553475,\n",
       "       0.50393361, 0.29624239, 0.88596227, 0.35187056, 0.73839034,\n",
       "       0.55536126, 0.20151771, 0.5485191 , 0.51964283, 0.34878266,\n",
       "       0.02461996, 0.1488293 , 0.13185204, 0.70791746, 0.70907211,\n",
       "       0.61174841, 0.67190702, 0.44751587, 0.69607717, 0.37832614,\n",
       "       0.10003205, 0.96025678, 0.07243445, 0.01930061, 0.97957325,\n",
       "       0.14847809, 0.25870232, 0.21552881, 0.5799124 , 0.97575169,\n",
       "       0.2730089 , 0.97007507, 0.02549735, 0.88804371, 0.70860884])"
      ]
     },
     "execution_count": 46,
     "metadata": {},
     "output_type": "execute_result"
    }
   ],
   "source": [
    "x = np.random.rand(100)\n",
    "x"
   ]
  },
  {
   "cell_type": "markdown",
   "id": "5b90245a",
   "metadata": {},
   "source": [
    "<h2>Probability and its Types in Statistical Analysis</h2>\n",
    "<h3>Joint Probability:</h3>\n",
    "<p><b>Definition:</b> Probability of two or more events occurring together.</p>\n",
    "<p><b>Example:</b> Considering variables X (temperature) and Y (humidity), the <b>joint probability</b> P(X and Y) represents the likelihood of a specific combination of temperature and humidity, such as high temperature and low humidity.</p>\n",
    "<h3>Marginal Probability:</h3>\n",
    "<p><b>Definition:</b> Probability of a single event occurring without considering other events.</p>\n",
    "<p><b>Example:</b> If we have a joint probability distribution for variables X and Y, the <b>marginal probability</b> P(X) represents the probability distribution of X alone by summing or integrating over all possible values of Y.</p>\n",
    "<h3>Conditional Probability:</h3>\n",
    "<p><b>Definition:</b> Probability of an event occurring given that another event has already occurred.</p>\n",
    "<p><b>Example:</b> Given that it is already raining (event A), the <b>conditional probability</b> calculates the probability of observing heavy traffic (event B). It quantifies how the probability of event B changes when we have additional information about event A.</p>\n",
    "<h3>Probability Distributions:</h3>\n",
    "<p><b>Definition:</b> Mathematical representations of the likelihood of different outcomes in a random experiment or variable.</p>\n",
    "<p><b>Example:</b> <b>Probability distributions</b> provide a framework for modeling and analyzing data, making predictions, and estimating unknown parameters. Common probability distributions include the Normal distribution (continuous variables) and the Binomial distribution (discrete variables).</p>\n",
    "<h3>Bayesian Probability:</h3>\n",
    "<p><b>Definition:</b> Statistical framework that updates beliefs or assigns probabilities based on prior knowledge and new evidence.</p>\n",
    "<p><b>Example:</b> <b>Bayesian probability</b> allows us to incorporate prior information and revise probabilities as new data becomes available. It is useful when we have limited data or prior knowledge that can influence the analysis.</p>\n",
    "<p>To illustrate these concepts statistically, let's consider an example: Suppose we want to analyze the relationship between the study hours (X) and the exam scores (Y) of a group of students. We can collect data on the number of hours each student studied and their corresponding exam scores. By calculating the joint probability distribution of X and Y, we can understand the likelihood of specific combinations of study hours and exam scores. The marginal probability distributions of X and Y can provide insights into the overall distribution of study hours and exam scores independently. Additionally, by calculating conditional probabilities, we can examine how the probability of achieving a certain exam score changes given different levels of study hours.</p>"
   ]
  },
  {
   "cell_type": "code",
   "execution_count": 92,
   "id": "483a7291",
   "metadata": {},
   "outputs": [
    {
     "name": "stdout",
     "output_type": "stream",
     "text": [
      "Joint Probability: 0.09\n"
     ]
    }
   ],
   "source": [
    "\"\"\"Joint Probability:\"\"\"\n",
    "import numpy as np\n",
    "\n",
    "# Generate random data for variables X and Y\n",
    "X = np.random.randint(1, 7, size=100)  # Dice roll outcome\n",
    "Y = np.random.choice(['H', 'T'], size=100)  # Coin toss outcome\n",
    "\n",
    "# Calculate the joint probability of specific combinations\n",
    "joint_probability = np.sum((X == 6) & (Y == 'H')) / len(X)\n",
    "\n",
    "print(\"Joint Probability:\", joint_probability)\n"
   ]
  },
  {
   "cell_type": "code",
   "execution_count": 93,
   "id": "cd993b55",
   "metadata": {},
   "outputs": [
    {
     "name": "stdout",
     "output_type": "stream",
     "text": [
      "Marginal Probability of X:\n",
      "X = 1 : 0.0\n",
      "X = 2 : 0.2\n",
      "X = 3 : 0.22\n",
      "X = 4 : 0.16\n",
      "X = 5 : 0.17\n",
      "X = 6 : 0.13\n",
      "X = 7 : 0.12\n"
     ]
    }
   ],
   "source": [
    "\"\"\"Marginal Probability:\"\"\"\n",
    "import numpy as np\n",
    "\n",
    "# Generate random data for variables X and Y\n",
    "X = np.random.randint(1, 7, size=100)  # Dice roll outcome\n",
    "Y = np.random.choice(['H', 'T'], size=100)  # Coin toss outcome\n",
    "\n",
    "# Calculate the marginal probability distribution of X\n",
    "marginal_probability_X = np.bincount(X) / len(X)\n",
    "\n",
    "print(\"Marginal Probability of X:\")\n",
    "for i, p in enumerate(marginal_probability_X):\n",
    "    print(\"X =\", i+1, \":\", p)\n"
   ]
  },
  {
   "cell_type": "code",
   "execution_count": 95,
   "id": "52fcf7e4",
   "metadata": {},
   "outputs": [
    {
     "name": "stdout",
     "output_type": "stream",
     "text": [
      "Conditional Probability (Y='H' | X=4): 0.5789473684210527\n"
     ]
    }
   ],
   "source": [
    "\"\"\"Conditional Probability:\"\"\"\n",
    "import numpy as np\n",
    "\n",
    "# Generate random data for variables X and Y\n",
    "X = np.random.randint(1, 7, size=100)  # Dice roll outcome\n",
    "Y = np.random.choice(['H', 'T'], size=100)  # Coin toss outcome\n",
    "\n",
    "# Calculate the conditional probability of Y given X=4\n",
    "conditional_probability = np.sum(Y[X == 4] == 'H') / np.sum(X == 4)\n",
    "\n",
    "print(\"Conditional Probability (Y='H' | X=4):\", conditional_probability)\n"
   ]
  },
  {
   "cell_type": "code",
   "execution_count": 103,
   "id": "bdad6a41",
   "metadata": {},
   "outputs": [
    {
     "data": {
      "image/png": "[encoded data removed]",
      "text/plain": [
       "<Figure size 432x288 with 1 Axes>"
      ]
     },
     "metadata": {
      "needs_background": "light"
     },
     "output_type": "display_data"
    }
   ],
   "source": [
    "\"\"\"Probability Distributions\"\"\"\n",
    "import numpy as np\n",
    "import matplotlib.pyplot as plt\n",
    "\n",
    "# Generate data from a normal distribution\n",
    "data = np.random.normal(loc=0, scale=1, size=1000)\n",
    "\n",
    "# Plot the histogram to visualize the probability distribution\n",
    "plt.hist(data, bins=30, density=True, alpha=0.5)\n",
    "plt.xlabel(\"Variable X\")\n",
    "plt.ylabel(\"Probability\")\n",
    "plt.title(\"Normal Distribution\")\n",
    "plt.show()\n"
   ]
  },
  {
   "cell_type": "code",
   "execution_count": 110,
   "id": "a53a141f",
   "metadata": {},
   "outputs": [
    {
     "data": {
      "image/png": "[encoded data removed]",
      "text/plain": [
       "<Figure size 432x288 with 1 Axes>"
      ]
     },
     "metadata": {
      "needs_background": "light"
     },
     "output_type": "display_data"
    }
   ],
   "source": [
    "\"\"\"Bayesian Probability:\"\"\"\n",
    "from scipy.stats import beta\n",
    "\n",
    "# Prior distribution\n",
    "prior_alpha = 2\n",
    "prior_beta = 2\n",
    "prior_distribution = beta(prior_alpha, prior_beta)\n",
    "\n",
    "# Observations\n",
    "observations = [1, 0, 1, 1, 0]\n",
    "\n",
    "# Update the prior distribution with the observations\n",
    "posterior_alpha = prior_alpha + sum(observations)\n",
    "posterior_beta = prior_beta + len(observations) - sum(observations)\n",
    "posterior_distribution = beta(posterior_alpha, posterior_beta)\n",
    "\n",
    "# Plot the prior and posterior distributions\n",
    "x = np.linspace(0, 1, 100)\n",
    "plt.plot(x, prior_distribution.pdf(x), label=\"Prior\")\n",
    "plt.plot(x, posterior_distribution.pdf(x), label=\"Posterior\")\n",
    "plt.xlabel(\"Probability\")\n",
    "plt.ylabel(\"Density\")\n",
    "plt.title(\"Bayesian Probability\")\n",
    "plt.legend()\n",
    "plt.show()\n"
   ]
  },
  {
   "cell_type": "code",
   "execution_count": 111,
   "id": "1f301529",
   "metadata": {},
   "outputs": [
    {
     "name": "stdout",
     "output_type": "stream",
     "text": [
      "[[0. 0. 0. 0.]\n",
      " [0. 0. 0. 0.]\n",
      " [0. 0. 0. 0.]]\n",
      "[[1. 1. 1.]\n",
      " [1. 1. 1.]]\n",
      "[[7 7]\n",
      " [7 7]]\n",
      "[0 2 4 6 8]\n"
     ]
    }
   ],
   "source": [
    "import numpy as np\n",
    "\n",
    "# Create an array of zeros\n",
    "zeros_array = np.zeros((3, 4))\n",
    "print(zeros_array)\n",
    "\n",
    "# Create an array of ones\n",
    "ones_array = np.ones((2, 3))\n",
    "print(ones_array)\n",
    "\n",
    "# Create an array filled with a specific value\n",
    "full_array = np.full((2, 2), 7)\n",
    "print(full_array)\n",
    "\n",
    "# Create an array with a sequence of values\n",
    "range_array = np.arange(0, 10, 2)\n",
    "print(range_array)\n"
   ]
  },
  {
   "cell_type": "code",
   "execution_count": 112,
   "id": "8906e442",
   "metadata": {},
   "outputs": [
    {
     "name": "stdout",
     "output_type": "stream",
     "text": [
      "[[0.62163005 0.24693274 0.4628038  0.38188671]\n",
      " [0.10745579 0.34826545 0.56448161 0.48321987]\n",
      " [0.15924072 0.21797935 0.9421374  0.19022691]]\n",
      "[[ 0.50484521  0.03090163  0.78931771]\n",
      " [ 0.82532129 -0.12163399  0.83580479]]\n",
      "[[9 1]\n",
      " [7 5]]\n"
     ]
    }
   ],
   "source": [
    "import numpy as np\n",
    "\n",
    "# Generate an array of random values between 0 and 1\n",
    "random_array = np.random.rand(3, 4)\n",
    "print(random_array)\n",
    "\n",
    "# Generate an array of random values from a standard normal distribution\n",
    "normal_array = np.random.randn(2, 3)\n",
    "print(normal_array)\n",
    "\n",
    "# Generate an array of random integers between a specified range\n",
    "int_array = np.random.randint(1, 10, size=(2, 2))\n",
    "print(int_array)\n"
   ]
  },
  {
   "cell_type": "markdown",
   "id": "29dfc61d",
   "metadata": {},
   "source": [
    "<h2>Attributes and Methods of NumPy Arrays</h2>\n",
    "<p>In NumPy, arrays have various attributes and methods that provide useful information and perform operations on the arrays. Here are some commonly used attributes and methods:</p>\n",
    "<ul>\n",
    "    <li><b>reshape(new_shape):</b> Reshapes the array into a new shape specified by new_shape. It returns a new array with the modified shape without changing the original array.</li>\n",
    "    <li><b>max():</b> Returns the maximum value in the array.</li>\n",
    "    <li><b>min():</b> Returns the minimum value in the array.</li>\n",
    "    <li><b>argmax():</b> Returns the index of the maximum value in the array.</li>\n",
    "    <li><b>argmin():</b> Returns the index of the minimum value in the array.</li>\n",
    "    <li><b>shape:</b> Returns a tuple representing the shape of the array.</li>\n",
    "    <li><b>dtype:</b> Returns the data type of the array.</li>\n",
    "    <li><b>size:</b> Returns the total number of elements in the array.</li>\n",
    "    <li><b>ndim:</b> Returns the number of dimensions of the array.</li>\n",
    "</ul>\n",
    "<p>Here's an example that demonstrates these attributes and methods:</p>"
   ]
  },
  {
   "cell_type": "code",
   "execution_count": 114,
   "id": "6fc47eb9",
   "metadata": {},
   "outputs": [
    {
     "name": "stdout",
     "output_type": "stream",
     "text": [
      "Reshaped Array:\n",
      " [[1 3 2]\n",
      " [5 4 6]]\n",
      "Maximum Value: 6\n",
      "Minimum Value: 1\n",
      "Index of Maximum Value: 5\n",
      "Index of Minimum Value: 0\n",
      "Array Shape: (6,)\n",
      "Array Data Type: int64\n",
      "Array Size: 6\n",
      "Number of Dimensions: 1\n"
     ]
    }
   ],
   "source": [
    "import numpy as np\n",
    "\n",
    "# Create a 1D array\n",
    "arr = np.array([1, 3, 2, 5, 4, 6])\n",
    "\n",
    "# Reshape the array into a 2D array with 2 rows and 3 columns\n",
    "reshaped_arr = arr.reshape((2, 3))\n",
    "print(\"Reshaped Array:\\n\", reshaped_arr)\n",
    "\n",
    "# Find the maximum value in the array\n",
    "max_value = arr.max()\n",
    "print(\"Maximum Value:\", max_value)\n",
    "\n",
    "# Find the minimum value in the array\n",
    "min_value = arr.min()\n",
    "print(\"Minimum Value:\", min_value)\n",
    "\n",
    "# Find the index of the maximum value in the array\n",
    "max_index = arr.argmax()\n",
    "print(\"Index of Maximum Value:\", max_index)\n",
    "\n",
    "# Find the index of the minimum value in the array\n",
    "min_index = arr.argmin()\n",
    "print(\"Index of Minimum Value:\", min_index)\n",
    "\n",
    "# Get the shape of the array\n",
    "array_shape = arr.shape\n",
    "print(\"Array Shape:\", array_shape)\n",
    "\n",
    "# Get the data type of the array\n",
    "array_dtype = arr.dtype\n",
    "print(\"Array Data Type:\", array_dtype)\n",
    "\n",
    "# Get the size of the array\n",
    "array_size = arr.size\n",
    "print(\"Array Size:\", array_size)\n",
    "\n",
    "# Get the number of dimensions of the array\n",
    "array_ndim = arr.ndim\n",
    "print(\"Number of Dimensions:\", array_ndim)\n"
   ]
  },
  {
   "cell_type": "markdown",
   "id": "e4e6aa05",
   "metadata": {},
   "source": [
    "<h2>Copying Arrays:</h2>\n",
    "<p><u><b>When working with arrays, it's important to understand how copying works.</b></u> In Python, variables are references to objects, so assigning an array to a new variable does not create a copy but rather creates a new reference to the same array. To create a copy of an array, you can use the <code>copy()</code> method or the <code>array.copy()</code> syntax.</p>\n",
    "<h2>Appending Elements:</h2>\n",
    "<p><u><b>To add elements to an existing array, you can use the <code>append()</code> method.</b></u> It appends the elements at the end of the array and returns a new array with the added elements. Note that this operation creates a new array and does not modify the original array in place.</p>\n",
    "<h2>Inserting Elements:</h2>\n",
    "<p><u><b>The <code>insert()</code> method allows you to insert elements at a specified position in an array.</b></u> It takes two arguments: the index at which the element should be inserted and the value of the element. Similar to <code>append()</code>, the <code>insert()</code> method returns a new array with the inserted element.</p>\n",
    "<h2>Sorting Arrays:</h2>\n",
    "<p><u><b>NumPy provides the <code>sort()</code> method to sort the elements of an array in ascending order.</b></u> By default, it performs an in-place sort, modifying the original array. If you want to create a new sorted array without modifying the original array, you can use the <code>numpy.sort()</code> function.</p>\n",
    "<h2>Removing Elements:</h2>\n",
    "<p><u><b>To remove elements from an array, you can use the <code>delete()</code> function.</b></u> It takes the array and the indices of the elements to be removed as arguments and returns a new array with the specified elements removed. Similar to other methods, <code>delete()</code> does not modify the original array.</p>\n",
    "<h2>Combining Arrays:</h2>\n",
    "<p><u><b>There are several ways to combine arrays in NumPy.</b></u> The most common method is concatenation, which can be done using the <code>concatenate()</code> function. It takes a sequence of arrays and the axis along which the arrays should be concatenated and returns a new array.</p>\n",
    "<h2>Concatenating Arrays:</h2>\n",
    "<p><u><b>Concatenation is the process of joining arrays along an existing axis.</b></u> In NumPy, you can use the <code>concatenate()</code> function to concatenate arrays along a specified axis. It takes a sequence of arrays and the axis argument and returns a new array.</p>\n",
    "<p>Here's an example that demonstrates these operations on arrays:</p>"
   ]
  },
  {
   "cell_type": "code",
   "execution_count": 120,
   "id": "09959e3e",
   "metadata": {},
   "outputs": [
    {
     "data": {
      "text/plain": [
       "array([1, 2, 3])"
      ]
     },
     "execution_count": 120,
     "metadata": {},
     "output_type": "execute_result"
    }
   ],
   "source": [
    "import numpy as np\n",
    "\n",
    "# Copying Arrays\n",
    "arr1 = np.array([1, 2, 3])\n",
    "arr1"
   ]
  },
  {
   "cell_type": "code",
   "execution_count": 122,
   "id": "5dc1d8d6",
   "metadata": {},
   "outputs": [
    {
     "data": {
      "text/plain": [
       "array([1, 2, 3])"
      ]
     },
     "execution_count": 122,
     "metadata": {},
     "output_type": "execute_result"
    }
   ],
   "source": [
    "arr2 = arr1.copy()\n",
    "arr2\n"
   ]
  },
  {
   "cell_type": "code",
   "execution_count": 123,
   "id": "fae76fab",
   "metadata": {},
   "outputs": [
    {
     "data": {
      "text/plain": [
       "array([1, 2, 3, 4, 5])"
      ]
     },
     "execution_count": 123,
     "metadata": {},
     "output_type": "execute_result"
    }
   ],
   "source": [
    "# Appending Elements\n",
    "arr3 = np.append(arr1, [4, 5])\n",
    "arr3\n"
   ]
  },
  {
   "cell_type": "code",
   "execution_count": 126,
   "id": "04284abd",
   "metadata": {},
   "outputs": [
    {
     "data": {
      "text/plain": [
       "array([ 1, 10,  2,  3])"
      ]
     },
     "execution_count": 126,
     "metadata": {},
     "output_type": "execute_result"
    }
   ],
   "source": [
    "# Inserting Elements\n",
    "arr4 = np.insert(arr1, 1, 10)\n",
    "arr4\n"
   ]
  },
  {
   "cell_type": "code",
   "execution_count": 128,
   "id": "d2ab6048",
   "metadata": {},
   "outputs": [
    {
     "data": {
      "text/plain": [
       "array([1, 2, 3])"
      ]
     },
     "execution_count": 128,
     "metadata": {},
     "output_type": "execute_result"
    }
   ],
   "source": [
    "# Sorting Arrays\n",
    "arr5 = np.array([3, 1, 2])\n",
    "sorted_arr = np.sort(arr5)\n",
    "sorted_arr\n"
   ]
  },
  {
   "cell_type": "code",
   "execution_count": 129,
   "id": "61747f41",
   "metadata": {},
   "outputs": [
    {
     "data": {
      "text/plain": [
       "array([1, 3])"
      ]
     },
     "execution_count": 129,
     "metadata": {},
     "output_type": "execute_result"
    }
   ],
   "source": [
    "# Removing Elements\n",
    "arr6 = np.delete(arr1, 1)\n",
    "arr6\n"
   ]
  },
  {
   "cell_type": "code",
   "execution_count": 130,
   "id": "f0ff8c93",
   "metadata": {},
   "outputs": [
    {
     "data": {
      "text/plain": [
       "array([1, 2, 3, 4, 5, 6])"
      ]
     },
     "execution_count": 130,
     "metadata": {},
     "output_type": "execute_result"
    }
   ],
   "source": [
    "# Combining Arrays\n",
    "arr7 = np.array([1, 2, 3])\n",
    "arr8 = np.array([4, 5, 6])\n",
    "combined_arr = np.concatenate((arr7, arr8))\n",
    "combined_arr\n"
   ]
  },
  {
   "cell_type": "code",
   "execution_count": 134,
   "id": "184f621d",
   "metadata": {},
   "outputs": [
    {
     "data": {
      "text/plain": [
       "array([[1, 2],\n",
       "       [3, 4],\n",
       "       [5, 6]])"
      ]
     },
     "execution_count": 134,
     "metadata": {},
     "output_type": "execute_result"
    }
   ],
   "source": [
    "# Concatenating Arrays\n",
    "arr9 = np.array([[1, 2], [3, 4]])\n",
    "arr10 = np.array([[5, 6]])\n",
    "concatenated_arr = np.concatenate((arr9, arr10), axis=0)\n",
    "concatenated_arr\n"
   ]
  },
  {
   "cell_type": "markdown",
   "id": "b2c06c07",
   "metadata": {},
   "source": [
    "<h2>Loading and Saving of NumPy Arrays</h2>\n",
    "<p><u><b>Loading NumPy Arrays:</b></u> NumPy provides functions to load data from files into arrays. The most commonly used function is <code>numpy.load()</code>, which loads arrays from .npy files. You can also use <code>numpy.loadtxt()</code> to load arrays from text files.</p>\n",
    "<p><u><b>Saving NumPy Arrays:</b></u> To save NumPy arrays to files, you can use <code>numpy.save()</code> or <code>numpy.savetxt()</code>. <code>numpy.save()</code> saves arrays in .npy format, while <code>numpy.savetxt()</code> saves arrays in plain text format.</p>\n",
    "<h2>Indexing and Selection of NumPy Arrays</h2>\n",
    "<p><u><b>Indexing 1D Arrays:</b></u> You can access individual elements of a 1D array using indexing. The index starts from 0 for the first element, and negative indexing can be used to access elements from the end of the array.</p>\n",
    "<p><u><b>Indexing 2D Arrays:</b></u> For 2D arrays, you can access elements using row and column indices. The syntax is <code>array[row_index, column_index]</code>. You can also use slicing to access a subset of the array.</p>\n",
    "<h2>Logical Selection in NumPy Arrays</h2>\n",
    "<p><u><b>Logical Selection:</b></u> NumPy allows you to perform logical operations on arrays and use the results to select specific elements. You can create a boolean array by applying a condition to the original array, and then use this boolean array to select elements that satisfy the condition.</p>\n",
    "<h2>Broadcasting in NumPy</h2>\n",
    "<p><u><b>Broadcasting:</b></u> Broadcasting is a powerful feature in NumPy that allows arrays of different shapes to be used in arithmetic operations. It eliminates the need for explicit loops and enables efficient element-wise calculations.</p>\n",
    "<p>Here's an example that demonstrates these concepts:</p>\n"
   ]
  },
  {
   "cell_type": "code",
   "execution_count": 137,
   "id": "1fa2edb7",
   "metadata": {},
   "outputs": [
    {
     "name": "stdout",
     "output_type": "stream",
     "text": [
      "3\n"
     ]
    }
   ],
   "source": [
    "import numpy as np\n",
    "\n",
    "# Loading and Saving of NumPy Arrays\n",
    "# arr1 = np.load('array.npy')\n",
    "# arr2 = np.loadtxt('data.txt')\n",
    "\n",
    "# np.save('saved_array.npy', arr1)\n",
    "# np.savetxt('saved_data.txt', arr2)\n",
    "\n",
    "# Indexing and Selection of NumPy Arrays\n",
    "arr3 = np.array([1, 2, 3, 4, 5])\n",
    "print(arr3[2])  # Accessing an element\n"
   ]
  },
  {
   "cell_type": "code",
   "execution_count": 138,
   "id": "530880f1",
   "metadata": {},
   "outputs": [
    {
     "name": "stdout",
     "output_type": "stream",
     "text": [
      "[2 3 4]\n"
     ]
    }
   ],
   "source": [
    "print(arr3[1:4])  # Slicing\n",
    "\n"
   ]
  },
  {
   "cell_type": "code",
   "execution_count": 140,
   "id": "d5a737d7",
   "metadata": {},
   "outputs": [
    {
     "name": "stdout",
     "output_type": "stream",
     "text": [
      "6\n",
      "[2 5 8]\n"
     ]
    }
   ],
   "source": [
    "arr4 = np.array([[1, 2, 3], [4, 5, 6], [7, 8, 9]])\n",
    "print(arr4[1, 2])  # Accessing an element in a 2D array\n",
    "print(arr4[:, 1])  # Slicing rows/columns\n",
    "\n"
   ]
  },
  {
   "cell_type": "code",
   "execution_count": 142,
   "id": "4d47c4e2",
   "metadata": {},
   "outputs": [
    {
     "name": "stdout",
     "output_type": "stream",
     "text": [
      "[4 5]\n"
     ]
    }
   ],
   "source": [
    "# Logical Selection in NumPy Arrays\n",
    "arr5 = np.array([1, 2, 3, 4, 5])\n",
    "condition = arr5 > 3\n",
    "selected_elements = arr5[condition]\n",
    "print(selected_elements)\n",
    "\n"
   ]
  },
  {
   "cell_type": "code",
   "execution_count": 143,
   "id": "2972fb3b",
   "metadata": {},
   "outputs": [
    {
     "name": "stdout",
     "output_type": "stream",
     "text": [
      "[[2 4 6]\n",
      " [5 7 9]]\n"
     ]
    }
   ],
   "source": [
    "# Broadcasting in NumPy\n",
    "arr6 = np.array([1, 2, 3])\n",
    "arr7 = np.array([[1, 2, 3], [4, 5, 6]])\n",
    "result = arr6 + arr7\n",
    "print(result)\n"
   ]
  },
  {
   "cell_type": "code",
   "execution_count": 144,
   "id": "41dfed52",
   "metadata": {},
   "outputs": [
    {
     "name": "stdout",
     "output_type": "stream",
     "text": [
      "Loaded Data:\n",
      "[[0.92784066 0.99142989 0.98574519 0.29678577 0.05191972]\n",
      " [0.59002284 0.88070615 0.72356571 0.54211961 0.26404745]\n",
      " [0.01100491 0.65593717 0.71127781 0.21246293 0.77193514]\n",
      " [0.39962806 0.89065725 0.75685764 0.09702328 0.556011  ]\n",
      " [0.16300424 0.56587942 0.57131782 0.29328582 0.6012829 ]]\n"
     ]
    }
   ],
   "source": [
    "import numpy as np\n",
    "\n",
    "# Generate random data\n",
    "data = np.random.rand(5, 5)\n",
    "\n",
    "# Save data to .npy file\n",
    "np.save(\"random_data.npy\", data)\n",
    "\n",
    "# Read data from .npy file\n",
    "loaded_data = np.load(\"random_data.npy\")\n",
    "\n",
    "# Print the loaded data\n",
    "print(\"Loaded Data:\")\n",
    "print(loaded_data)\n"
   ]
  },
  {
   "cell_type": "code",
   "execution_count": 145,
   "id": "0162d4a6",
   "metadata": {},
   "outputs": [
    {
     "name": "stdout",
     "output_type": "stream",
     "text": [
      "Original Array: [1 2 3 4 5]\n",
      "Type-casted Array: [1. 2. 3. 4. 5.]\n",
      "Addition: [2 3 4 5 6]\n",
      "Subtraction: [0 1 2 3 4]\n",
      "Multiplication: [ 2  4  6  8 10]\n",
      "Division: [0.5 1.  1.5 2.  2.5]\n",
      "Power: [ 1  4  9 16 25]\n",
      "Square Root: [1.         1.41421356 1.73205081 2.         2.23606798]\n",
      "Exponential: [  2.71828183   7.3890561   20.08553692  54.59815003 148.4131591 ]\n",
      "Maximum Value: 5\n",
      "Sine: [ 0.84147098  0.90929743  0.14112001 -0.7568025  -0.95892427]\n"
     ]
    }
   ],
   "source": [
    "import numpy as np\n",
    "\n",
    "# Create an array of integers\n",
    "arr = np.array([1, 2, 3, 4, 5])\n",
    "\n",
    "# Type casting: convert the array to float\n",
    "float_arr = arr.astype(float)\n",
    "\n",
    "print(\"Original Array:\", arr)\n",
    "print(\"Type-casted Array:\", float_arr)\n",
    "\n",
    "# Arithmetic operations\n",
    "addition = arr + 1\n",
    "subtraction = arr - 1\n",
    "multiplication = arr * 2\n",
    "division = arr / 2\n",
    "power = arr ** 2\n",
    "\n",
    "print(\"Addition:\", addition)\n",
    "print(\"Subtraction:\", subtraction)\n",
    "print(\"Multiplication:\", multiplication)\n",
    "print(\"Division:\", division)\n",
    "print(\"Power:\", power)\n",
    "\n",
    "# Universal array functions\n",
    "sqrt = np.sqrt(arr)\n",
    "exp = np.exp(arr)\n",
    "maximum = np.max(arr)\n",
    "sine = np.sin(arr)\n",
    "\n",
    "print(\"Square Root:\", sqrt)\n",
    "print(\"Exponential:\", exp)\n",
    "print(\"Maximum Value:\", maximum)\n",
    "print(\"Sine:\", sine)\n"
   ]
  }
 ],
 "metadata": {
  "kernelspec": {
   "display_name": "Python 3 (ipykernel)",
   "language": "python",
   "name": "python3"
  },
  "language_info": {
   "codemirror_mode": {
    "name": "ipython",
    "version": 3
   },
   "file_extension": ".py",
   "mimetype": "text/x-python",
   "name": "python",
   "nbconvert_exporter": "python",
   "pygments_lexer": "ipython3",
   "version": "3.10.6"
  }
 },
 "nbformat": 4,
 "nbformat_minor": 5
}
