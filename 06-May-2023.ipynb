{
 "cells": [
  {
   "cell_type": "markdown",
   "id": "755d9982",
   "metadata": {},
   "source": [
    "# Numpy"
   ]
  },
  {
   "cell_type": "markdown",
   "id": "f264b695",
   "metadata": {},
   "source": [
    "#### NumPy, which stands for Numerical Python,\n",
    "#### is a powerful Python library used for numerical computing.\n",
    "#### It provides a multidimensional array object, various tools for working with arrays, \n",
    "#### and a collection of mathematical functions to efficiently operate on these arrays. \n",
    "#### NumPy is a fundamental package for scientific computing in Python\n",
    "#### and is widely used in fields such as data analysis, machine learning, and numerical simulations.\n",
    "\n",
    "#### The main object in NumPy is the ndarray (N-dimensional array), which is a homogeneous collection of elements of the same data type. These arrays allow efficient storage and manipulation of large sets of numerical data. NumPy also provides functions for creating and manipulating these arrays, as well as performing mathematical operations on them.\n",
    "\n",
    "#### Here are some of the key features and functions of NumPy:\n",
    "\n",
    "#### Multidimensional Array: \n",
    "    NumPy provides the ndarray object, which allows efficient manipulation of arrays of any dimensionality. \n",
    "    This makes it easy to work with matrices, vectors, and higher-dimensional data.\n",
    "\n",
    "#### Mathematical Functions: \n",
    "    NumPy offers a comprehensive set of mathematical functions that operate element-wise on arrays.\n",
    "    These functions include basic arithmetic operations, trigonometric functions, \n",
    "    logarithmic functions, statistical functions, and more.\n",
    "\n",
    "#### Broadcasting: \n",
    "    \n",
    "    NumPy enables operations between arrays of different shapes and sizes through a mechanism called broadcasting.\n",
    "    It automatically handles the alignment and computation of arrays with different dimensions,\n",
    "    making it convenient to perform element-wise operations.\n",
    "\n",
    "#### Array Manipulation: \n",
    "    NumPy provides functions to reshape, concatenate, split, and transpose arrays. \n",
    "    These operations are essential for transforming and rearranging data in various ways.\n",
    "\n",
    "#### Array Operations: \n",
    "    NumPy supports various operations on arrays, such as sorting, searching, indexing, slicing, and masking. \n",
    "    These capabilities make it easy to extract specific elements or subsets from arrays.\n",
    "\n",
    "#### Linear Algebra: \n",
    "    NumPy includes a comprehensive set of functions for linear algebra operations, \n",
    "    such as matrix multiplication, matrix factorization, eigenvalues, and eigenvectors computations. \n",
    "    These functions are essential for many scientific and engineering applications.\n",
    "\n",
    "#### Random Number Generation: \n",
    "    NumPy features a random module that provides functions for generating random numbers \n",
    "    with different distributions. \n",
    "    This is useful for tasks such as simulations, statistical analysis, and generating random data.\n",
    "\n",
    "#### To use NumPy in your Python code, you need to import it at the beginning of your script \n",
    "#### or notebook using the following import statement:\n",
    "\n",
    "\n"
   ]
  },
  {
   "cell_type": "code",
   "execution_count": 1,
   "id": "c3428043",
   "metadata": {},
   "outputs": [
    {
     "name": "stdout",
     "output_type": "stream",
     "text": [
      "Requirement already satisfied: numpy in /home/mirza/.local/lib/python3.10/site-packages (1.23.5)\r\n"
     ]
    }
   ],
   "source": [
    "!pip install numpy"
   ]
  },
  {
   "cell_type": "code",
   "execution_count": 2,
   "id": "32900ab6",
   "metadata": {},
   "outputs": [],
   "source": [
    "import numpy as np"
   ]
  },
  {
   "cell_type": "code",
   "execution_count": 8,
   "id": "d8a28bc8",
   "metadata": {},
   "outputs": [
    {
     "data": {
      "text/plain": [
       "6"
      ]
     },
     "execution_count": 8,
     "metadata": {},
     "output_type": "execute_result"
    }
   ],
   "source": [
    "test=np.array([1,3,5,6])\n",
    "test.max()"
   ]
  },
  {
   "cell_type": "code",
   "execution_count": 15,
   "id": "1941954d",
   "metadata": {},
   "outputs": [],
   "source": [
    "test=[1,30,2,0,5,\"Ali\",\"khan\",\"Moiz\"]\n",
    "num=[]\n",
    "string=[]\n",
    "for i in test:\n",
    "    if isinstance(i, int):\n",
    "        num.append(i)\n",
    "        \n",
    "    else:\n",
    "        string.append(i)\n"
   ]
  },
  {
   "cell_type": "code",
   "execution_count": 17,
   "id": "01885a0f",
   "metadata": {},
   "outputs": [],
   "source": [
    "num.sort()"
   ]
  },
  {
   "cell_type": "code",
   "execution_count": 18,
   "id": "87eb93a4",
   "metadata": {},
   "outputs": [
    {
     "data": {
      "text/plain": [
       "[0, 1, 2, 5, 30]"
      ]
     },
     "execution_count": 18,
     "metadata": {},
     "output_type": "execute_result"
    }
   ],
   "source": [
    "num"
   ]
  },
  {
   "cell_type": "code",
   "execution_count": 27,
   "id": "79fc4885",
   "metadata": {},
   "outputs": [],
   "source": [
    "# Create a 1-dimensional array\n",
    "arr1 = np.array([1, 2, 3, 4, 5])"
   ]
  },
  {
   "cell_type": "code",
   "execution_count": 28,
   "id": "bace5a70",
   "metadata": {},
   "outputs": [
    {
     "data": {
      "text/plain": [
       "array([1, 2, 3, 4, 5])"
      ]
     },
     "execution_count": 28,
     "metadata": {},
     "output_type": "execute_result"
    }
   ],
   "source": [
    "arr1"
   ]
  },
  {
   "cell_type": "code",
   "execution_count": 23,
   "id": "28ecae2a",
   "metadata": {},
   "outputs": [],
   "source": [
    "# Create a 2-dimensional array\n",
    "arr2 = np.array([[[1, 2, 3], [4, 5, 6], [7, 8, 9]]])"
   ]
  },
  {
   "cell_type": "code",
   "execution_count": 24,
   "id": "11a1adcf",
   "metadata": {},
   "outputs": [
    {
     "data": {
      "text/plain": [
       "array([[[1, 2, 3],\n",
       "        [4, 5, 6],\n",
       "        [7, 8, 9]]])"
      ]
     },
     "execution_count": 24,
     "metadata": {},
     "output_type": "execute_result"
    }
   ],
   "source": [
    "arr2"
   ]
  },
  {
   "cell_type": "code",
   "execution_count": 25,
   "id": "a9f2e410",
   "metadata": {},
   "outputs": [
    {
     "data": {
      "text/plain": [
       "3"
      ]
     },
     "execution_count": 25,
     "metadata": {},
     "output_type": "execute_result"
    }
   ],
   "source": [
    "arr2.ndim"
   ]
  },
  {
   "cell_type": "code",
   "execution_count": 36,
   "id": "9909e6ce",
   "metadata": {},
   "outputs": [],
   "source": [
    "result1 = arr1 * 2"
   ]
  },
  {
   "cell_type": "code",
   "execution_count": 38,
   "id": "f7848e77",
   "metadata": {},
   "outputs": [
    {
     "data": {
      "text/plain": [
       "array([ 2,  4,  6,  8, 10])"
      ]
     },
     "execution_count": 38,
     "metadata": {},
     "output_type": "execute_result"
    }
   ],
   "source": [
    "result1"
   ]
  },
  {
   "cell_type": "code",
   "execution_count": 41,
   "id": "e7405602",
   "metadata": {},
   "outputs": [
    {
     "data": {
      "text/plain": [
       "array([[[1, 2, 3],\n",
       "        [4, 5, 6],\n",
       "        [7, 8, 9]]])"
      ]
     },
     "execution_count": 41,
     "metadata": {},
     "output_type": "execute_result"
    }
   ],
   "source": [
    "arr2"
   ]
  },
  {
   "cell_type": "code",
   "execution_count": 42,
   "id": "dafb9857",
   "metadata": {},
   "outputs": [],
   "source": [
    "result2 = np.sin(arr2)\n"
   ]
  },
  {
   "cell_type": "code",
   "execution_count": 43,
   "id": "20bd0790",
   "metadata": {},
   "outputs": [
    {
     "data": {
      "text/plain": [
       "array([[[ 0.84147098,  0.90929743,  0.14112001],\n",
       "        [-0.7568025 , -0.95892427, -0.2794155 ],\n",
       "        [ 0.6569866 ,  0.98935825,  0.41211849]]])"
      ]
     },
     "execution_count": 43,
     "metadata": {},
     "output_type": "execute_result"
    }
   ],
   "source": [
    "result2"
   ]
  },
  {
   "cell_type": "code",
   "execution_count": 20,
   "id": "661b440f",
   "metadata": {},
   "outputs": [],
   "source": [
    "result3 = np.cos(arr2)"
   ]
  },
  {
   "cell_type": "code",
   "execution_count": 21,
   "id": "fb7824ac",
   "metadata": {},
   "outputs": [
    {
     "data": {
      "text/plain": [
       "array([[ 0.54030231, -0.41614684, -0.9899925 ],\n",
       "       [-0.65364362,  0.28366219,  0.96017029],\n",
       "       [ 0.75390225, -0.14550003, -0.91113026]])"
      ]
     },
     "execution_count": 21,
     "metadata": {},
     "output_type": "execute_result"
    }
   ],
   "source": [
    "result3"
   ]
  },
  {
   "cell_type": "code",
   "execution_count": 74,
   "id": "de093865",
   "metadata": {},
   "outputs": [],
   "source": [
    "result4 = np.tan([[arr2]])"
   ]
  },
  {
   "cell_type": "code",
   "execution_count": 75,
   "id": "765e1922",
   "metadata": {},
   "outputs": [
    {
     "data": {
      "text/plain": [
       "array([[[[[ 1.55740772, -2.18503986, -0.14254654],\n",
       "          [ 1.15782128, -3.38051501, -0.29100619],\n",
       "          [ 0.87144798, -6.79971146, -0.45231566]]]]])"
      ]
     },
     "execution_count": 75,
     "metadata": {},
     "output_type": "execute_result"
    }
   ],
   "source": [
    "result4"
   ]
  },
  {
   "cell_type": "code",
   "execution_count": 60,
   "id": "da8cd7f9",
   "metadata": {},
   "outputs": [],
   "source": [
    "trry=[[1,2,3,4,\"Nan\",5]]\n"
   ]
  },
  {
   "cell_type": "code",
   "execution_count": 71,
   "id": "ea7196a4",
   "metadata": {},
   "outputs": [],
   "source": [
    "result5 = np.isnan(result4)"
   ]
  },
  {
   "cell_type": "code",
   "execution_count": 72,
   "id": "0da779df",
   "metadata": {},
   "outputs": [
    {
     "data": {
      "text/plain": [
       "array([[[[False, False, False],\n",
       "         [False, False, False],\n",
       "         [False, False, False]]]])"
      ]
     },
     "execution_count": 72,
     "metadata": {},
     "output_type": "execute_result"
    }
   ],
   "source": [
    "result5"
   ]
  },
  {
   "cell_type": "code",
   "execution_count": 77,
   "id": "31610d28",
   "metadata": {},
   "outputs": [
    {
     "data": {
      "text/plain": [
       "(1, 1, 1, 3, 3)"
      ]
     },
     "execution_count": 77,
     "metadata": {},
     "output_type": "execute_result"
    }
   ],
   "source": [
    "result4.shape"
   ]
  },
  {
   "cell_type": "code",
   "execution_count": 85,
   "id": "d499ef94",
   "metadata": {},
   "outputs": [
    {
     "data": {
      "text/plain": [
       "array([[1, 2, 3, 4, 5]])"
      ]
     },
     "execution_count": 85,
     "metadata": {},
     "output_type": "execute_result"
    }
   ],
   "source": [
    "# Reshape the array\n",
    "reshaped_arr = arr1.reshape(1, 5)\n",
    "reshaped_arr"
   ]
  },
  {
   "cell_type": "code",
   "execution_count": 79,
   "id": "5b4fe4e5",
   "metadata": {},
   "outputs": [
    {
     "data": {
      "text/plain": [
       "array([[1, 2, 3, 4, 5]])"
      ]
     },
     "execution_count": 79,
     "metadata": {},
     "output_type": "execute_result"
    }
   ],
   "source": [
    "reshaped_arr"
   ]
  },
  {
   "cell_type": "code",
   "execution_count": 80,
   "id": "cf615879",
   "metadata": {},
   "outputs": [
    {
     "data": {
      "text/plain": [
       "2"
      ]
     },
     "execution_count": 80,
     "metadata": {},
     "output_type": "execute_result"
    }
   ],
   "source": [
    "reshaped_arr.ndim"
   ]
  },
  {
   "cell_type": "code",
   "execution_count": 95,
   "id": "481d6d69",
   "metadata": {},
   "outputs": [
    {
     "data": {
      "text/plain": [
       "array([[20, 17, 13,  5,  9,  6]])"
      ]
     },
     "execution_count": 95,
     "metadata": {},
     "output_type": "execute_result"
    }
   ],
   "source": [
    "quiz=np.array([[20,17,13,5,9,6]])\n",
    "quiz"
   ]
  },
  {
   "cell_type": "code",
   "execution_count": 98,
   "id": "8ae2d86e",
   "metadata": {},
   "outputs": [
    {
     "data": {
      "text/plain": [
       "array([[20, 17],\n",
       "       [13,  5],\n",
       "       [ 9,  6]])"
      ]
     },
     "execution_count": 98,
     "metadata": {},
     "output_type": "execute_result"
    }
   ],
   "source": [
    "quiz.reshape(-1,2)"
   ]
  },
  {
   "cell_type": "code",
   "execution_count": 102,
   "id": "5e504e52",
   "metadata": {},
   "outputs": [
    {
     "data": {
      "text/plain": [
       "array([[20],\n",
       "       [17],\n",
       "       [13],\n",
       "       [ 5],\n",
       "       [ 9],\n",
       "       [ 6]])"
      ]
     },
     "execution_count": 102,
     "metadata": {},
     "output_type": "execute_result"
    }
   ],
   "source": [
    "quiz.transpose()"
   ]
  },
  {
   "cell_type": "code",
   "execution_count": 100,
   "id": "c6de966f",
   "metadata": {},
   "outputs": [
    {
     "data": {
      "text/plain": [
       "2"
      ]
     },
     "execution_count": 100,
     "metadata": {},
     "output_type": "execute_result"
    }
   ],
   "source": [
    "quiz.ndim"
   ]
  },
  {
   "cell_type": "code",
   "execution_count": 56,
   "id": "56c54e06",
   "metadata": {},
   "outputs": [
    {
     "data": {
      "text/plain": [
       "dtype('int64')"
      ]
     },
     "execution_count": 56,
     "metadata": {},
     "output_type": "execute_result"
    }
   ],
   "source": [
    "reshaped_arr.dtype"
   ]
  },
  {
   "cell_type": "code",
   "execution_count": 101,
   "id": "b0f021ce",
   "metadata": {},
   "outputs": [
    {
     "data": {
      "text/plain": [
       "array([[[ 0.84147098],\n",
       "        [-0.7568025 ],\n",
       "        [ 0.6569866 ]],\n",
       "\n",
       "       [[ 0.90929743],\n",
       "        [-0.95892427],\n",
       "        [ 0.98935825]],\n",
       "\n",
       "       [[ 0.14112001],\n",
       "        [-0.2794155 ],\n",
       "        [ 0.41211849]]])"
      ]
     },
     "execution_count": 101,
     "metadata": {},
     "output_type": "execute_result"
    }
   ],
   "source": [
    "result2.transpose()"
   ]
  },
  {
   "cell_type": "code",
   "execution_count": 60,
   "id": "e4596643",
   "metadata": {},
   "outputs": [
    {
     "data": {
      "text/plain": [
       "array([[ 0.84147098,  0.90929743,  0.14112001],\n",
       "       [-0.7568025 , -0.95892427, -0.2794155 ],\n",
       "       [ 0.6569866 ,  0.98935825,  0.41211849]])"
      ]
     },
     "execution_count": 60,
     "metadata": {},
     "output_type": "execute_result"
    }
   ],
   "source": [
    "result2"
   ]
  },
  {
   "cell_type": "code",
   "execution_count": 62,
   "id": "7fd8b4c3",
   "metadata": {},
   "outputs": [
    {
     "data": {
      "text/plain": [
       "5.0"
      ]
     },
     "execution_count": 62,
     "metadata": {},
     "output_type": "execute_result"
    }
   ],
   "source": [
    "# Compute the mean of the array\n",
    "mean_value = np.mean(arr2)\n",
    "mean_value"
   ]
  },
  {
   "cell_type": "code",
   "execution_count": 63,
   "id": "fb994cce",
   "metadata": {},
   "outputs": [
    {
     "data": {
      "text/plain": [
       "0.21724549801193113"
      ]
     },
     "execution_count": 63,
     "metadata": {},
     "output_type": "execute_result"
    }
   ],
   "source": [
    "# Compute the mean of the array\n",
    "mean_value = np.mean(result2)\n",
    "mean_value"
   ]
  },
  {
   "cell_type": "code",
   "execution_count": 137,
   "id": "42ce3c7f",
   "metadata": {},
   "outputs": [
    {
     "data": {
      "text/plain": [
       "array([[[[[0.7146573 , 0.26490433],\n",
       "          [0.15066881, 0.39919882]],\n",
       "\n",
       "         [[0.10454145, 0.66008216],\n",
       "          [0.1855954 , 0.7912181 ]]],\n",
       "\n",
       "\n",
       "        [[[0.39463038, 0.03966952],\n",
       "          [0.10187056, 0.61124719]],\n",
       "\n",
       "         [[0.48047063, 0.2048038 ],\n",
       "          [0.46889679, 0.11965149]]]],\n",
       "\n",
       "\n",
       "\n",
       "       [[[[0.94859688, 0.48357467],\n",
       "          [0.24948301, 0.62450103]],\n",
       "\n",
       "         [[0.93768901, 0.76601963],\n",
       "          [0.77185702, 0.72760388]]],\n",
       "\n",
       "\n",
       "        [[[0.13526894, 0.75926133],\n",
       "          [0.96091066, 0.3330899 ]],\n",
       "\n",
       "         [[0.16961815, 0.63986495],\n",
       "          [0.53778978, 0.46026438]]]],\n",
       "\n",
       "\n",
       "\n",
       "       [[[[0.00669761, 0.97969957],\n",
       "          [0.73168131, 0.30723009]],\n",
       "\n",
       "         [[0.43726366, 0.94069781],\n",
       "          [0.9093014 , 0.01033381]]],\n",
       "\n",
       "\n",
       "        [[[0.07759597, 0.79503089],\n",
       "          [0.81766019, 0.69781707]],\n",
       "\n",
       "         [[0.39541757, 0.31389489],\n",
       "          [0.88890148, 0.04951043]]]],\n",
       "\n",
       "\n",
       "\n",
       "       [[[[0.98514268, 0.7652908 ],\n",
       "          [0.90633407, 0.25113209]],\n",
       "\n",
       "         [[0.1470607 , 0.77419853],\n",
       "          [0.16294426, 0.67440154]]],\n",
       "\n",
       "\n",
       "        [[[0.58867806, 0.71407575],\n",
       "          [0.75126063, 0.4904564 ]],\n",
       "\n",
       "         [[0.27482198, 0.58429401],\n",
       "          [0.73093693, 0.98778196]]]],\n",
       "\n",
       "\n",
       "\n",
       "       [[[[0.55019034, 0.32216692],\n",
       "          [0.26801575, 0.69956752]],\n",
       "\n",
       "         [[0.39022888, 0.95482919],\n",
       "          [0.52007033, 0.13859715]]],\n",
       "\n",
       "\n",
       "        [[[0.18645293, 0.61302882],\n",
       "          [0.26754364, 0.12705779]],\n",
       "\n",
       "         [[0.58334525, 0.81423168],\n",
       "          [0.46026437, 0.86491017]]]]])"
      ]
     },
     "execution_count": 137,
     "metadata": {},
     "output_type": "execute_result"
    }
   ],
   "source": [
    "# Generate random numbers\n",
    "random_array = np.random.rand(5,2,2,2,2)\n",
    "random_array"
   ]
  },
  {
   "cell_type": "code",
   "execution_count": 138,
   "id": "eb308c50",
   "metadata": {},
   "outputs": [
    {
     "data": {
      "text/plain": [
       "5"
      ]
     },
     "execution_count": 138,
     "metadata": {},
     "output_type": "execute_result"
    }
   ],
   "source": [
    "random_array.ndim"
   ]
  },
  {
   "cell_type": "code",
   "execution_count": 139,
   "id": "5e5506f4",
   "metadata": {},
   "outputs": [
    {
     "data": {
      "text/plain": [
       "5"
      ]
     },
     "execution_count": 139,
     "metadata": {},
     "output_type": "execute_result"
    }
   ],
   "source": [
    "len(random_array)"
   ]
  },
  {
   "cell_type": "code",
   "execution_count": 78,
   "id": "822bcdfe",
   "metadata": {},
   "outputs": [
    {
     "data": {
      "text/plain": [
       "array([[1, 2, 3, 4, 5]])"
      ]
     },
     "execution_count": 78,
     "metadata": {},
     "output_type": "execute_result"
    }
   ],
   "source": [
    "reshaped_arr"
   ]
  },
  {
   "cell_type": "code",
   "execution_count": 79,
   "id": "74167cf4",
   "metadata": {},
   "outputs": [
    {
     "data": {
      "text/plain": [
       "array([[1, 2, 3],\n",
       "       [4, 5, 6],\n",
       "       [7, 8, 9]])"
      ]
     },
     "execution_count": 79,
     "metadata": {},
     "output_type": "execute_result"
    }
   ],
   "source": [
    "arr2"
   ]
  },
  {
   "cell_type": "code",
   "execution_count": 77,
   "id": "73e465d5",
   "metadata": {},
   "outputs": [
    {
     "ename": "ValueError",
     "evalue": "shapes (1,5) and (3,3) not aligned: 5 (dim 1) != 3 (dim 0)",
     "output_type": "error",
     "traceback": [
      "\u001b[0;31m---------------------------------------------------------------------------\u001b[0m",
      "\u001b[0;31mValueError\u001b[0m                                Traceback (most recent call last)",
      "\u001b[0;32m/tmp/ipykernel_4440/863020191.py\u001b[0m in \u001b[0;36m<module>\u001b[0;34m\u001b[0m\n\u001b[1;32m      1\u001b[0m \u001b[0;31m# Perform linear algebra operations\u001b[0m\u001b[0;34m\u001b[0m\u001b[0;34m\u001b[0m\u001b[0m\n\u001b[0;32m----> 2\u001b[0;31m \u001b[0mproduct\u001b[0m \u001b[0;34m=\u001b[0m \u001b[0mnp\u001b[0m\u001b[0;34m.\u001b[0m\u001b[0mdot\u001b[0m\u001b[0;34m(\u001b[0m\u001b[0mreshaped_arr\u001b[0m\u001b[0;34m,\u001b[0m \u001b[0marr2\u001b[0m\u001b[0;34m)\u001b[0m\u001b[0;34m\u001b[0m\u001b[0;34m\u001b[0m\u001b[0m\n\u001b[0m",
      "\u001b[0;32m~/.local/lib/python3.10/site-packages/numpy/core/overrides.py\u001b[0m in \u001b[0;36mdot\u001b[0;34m(*args, **kwargs)\u001b[0m\n",
      "\u001b[0;31mValueError\u001b[0m: shapes (1,5) and (3,3) not aligned: 5 (dim 1) != 3 (dim 0)"
     ]
    }
   ],
   "source": [
    "# Perform linear algebra operations\n",
    "product = np.dot(reshaped_arr, arr2)"
   ]
  },
  {
   "cell_type": "code",
   "execution_count": 81,
   "id": "4e18f5c6",
   "metadata": {},
   "outputs": [
    {
     "name": "stdout",
     "output_type": "stream",
     "text": [
      "[11 12 13 14 15]\n",
      "[[ 0.84147098  0.90929743  0.14112001]\n",
      " [-0.7568025  -0.95892427 -0.2794155 ]\n",
      " [ 0.6569866   0.98935825  0.41211849]]\n",
      "[[1 2 3 4 5]]\n",
      "5.0\n",
      "[[0.00521537 0.69779507 0.51194799]\n",
      " [0.77247084 0.88862299 0.11130008]\n",
      " [0.20307493 0.23144078 0.97257557]]\n"
     ]
    }
   ],
   "source": [
    "# Compute the mean of the array\n",
    "mean_value = np.mean(arr2)\n",
    "\n",
    "# Generate random numbers\n",
    "random_array = np.random.rand(3, 3)\n",
    "\n",
    "# Perform linear algebra operations\n",
    "# product = np.dot(arr2, reshaped_arr)\n",
    "\n",
    "# Print the results\n",
    "print(result1)\n",
    "print(result2)\n",
    "print(reshaped_arr)\n",
    "print(mean_value)\n",
    "print(random_array)\n",
    "# print(product)"
   ]
  },
  {
   "cell_type": "code",
   "execution_count": 82,
   "id": "9eff2943",
   "metadata": {},
   "outputs": [
    {
     "name": "stdout",
     "output_type": "stream",
     "text": [
      "21\n",
      "[ 6 15]\n"
     ]
    }
   ],
   "source": [
    "import numpy as np\n",
    "\n",
    "arr = np.array([[1, 2, 3], [4, 5, 6]])\n",
    "total_sum = np.sum(arr)\n",
    "row_sums = np.sum(arr, axis=1)\n",
    "\n",
    "print(total_sum)  # Output: 21\n",
    "print(row_sums)   # Output: [6 15]\n"
   ]
  },
  {
   "cell_type": "code",
   "execution_count": 83,
   "id": "b1e356ad",
   "metadata": {},
   "outputs": [
    {
     "name": "stdout",
     "output_type": "stream",
     "text": [
      "3.5\n",
      "[2. 5.]\n"
     ]
    }
   ],
   "source": [
    "import numpy as np\n",
    "\n",
    "arr = np.array([[1, 2, 3], [4, 5, 6]])\n",
    "average = np.mean(arr)\n",
    "row_means = np.mean(arr, axis=1)\n",
    "\n",
    "print(average)    # Output: 3.5\n",
    "print(row_means)  # Output: [2. 5.]\n"
   ]
  },
  {
   "cell_type": "code",
   "execution_count": 169,
   "id": "48e6562c",
   "metadata": {},
   "outputs": [
    {
     "name": "stdout",
     "output_type": "stream",
     "text": [
      "70\n",
      "[ 4  2 30]\n"
     ]
    }
   ],
   "source": [
    "import numpy as np\n",
    "\n",
    "arr = np.array([[10, 2, 30], [4, 5, 60],[7,8,70]])\n",
    "max_val = np.max(arr)\n",
    "col_min = np.min(arr, axis=0)\n",
    "\n",
    "print(max_val)    # Output: 6\n",
    "print(col_min)   # Output: [1 2 3]\n"
   ]
  },
  {
   "cell_type": "code",
   "execution_count": 85,
   "id": "1cdc137a",
   "metadata": {},
   "outputs": [
    {
     "name": "stdout",
     "output_type": "stream",
     "text": [
      "[ 0.   2.5  5.   7.5 10. ]\n"
     ]
    }
   ],
   "source": [
    "import numpy as np\n",
    "\n",
    "values = np.linspace(0, 10, num=5)\n",
    "\n",
    "print(values)  # Output: [ 0.   2.5  5.   7.5 10. ]\n"
   ]
  },
  {
   "cell_type": "code",
   "execution_count": 86,
   "id": "c483a352",
   "metadata": {},
   "outputs": [
    {
     "name": "stdout",
     "output_type": "stream",
     "text": [
      "[1 2 3 4 5 6 7 8 9]\n"
     ]
    }
   ],
   "source": [
    "import numpy as np\n",
    "\n",
    "arr1 = np.array([1, 2, 3])\n",
    "arr2 = np.array([4, 5, 6])\n",
    "arr3 = np.array([7, 8, 9])\n",
    "\n",
    "# Concatenate along the 0th axis (default)\n",
    "result = np.concatenate((arr1, arr2, arr3))\n",
    "\n",
    "print(result)\n",
    "# Output: [1 2 3 4 5 6 7 8 9]\n"
   ]
  },
  {
   "cell_type": "code",
   "execution_count": 87,
   "id": "8864588c",
   "metadata": {},
   "outputs": [
    {
     "name": "stdout",
     "output_type": "stream",
     "text": [
      "[[1 2 3]\n",
      " [4 5 6]\n",
      " [7 8 9]]\n"
     ]
    }
   ],
   "source": [
    "import numpy as np\n",
    "\n",
    "arr1 = np.array([[1, 2, 3]])\n",
    "arr2 = np.array([[4, 5, 6]])\n",
    "arr3 = np.array([[7, 8, 9]])\n",
    "\n",
    "# Vertically stack arrays\n",
    "result = np.vstack((arr1, arr2, arr3))\n",
    "\n",
    "print(result)\n",
    "# Output:\n",
    "# [[1 2 3]\n",
    "#  [4 5 6]\n",
    "#  [7 8 9]]\n"
   ]
  },
  {
   "cell_type": "code",
   "execution_count": 88,
   "id": "62348f1d",
   "metadata": {},
   "outputs": [
    {
     "name": "stdout",
     "output_type": "stream",
     "text": [
      "[1 2 3 4 5 6 7 8 9]\n"
     ]
    }
   ],
   "source": [
    "import numpy as np\n",
    "\n",
    "arr1 = np.array([1, 2, 3])\n",
    "arr2 = np.array([4, 5, 6])\n",
    "arr3 = np.array([7, 8, 9])\n",
    "\n",
    "# Horizontally stack arrays\n",
    "result = np.hstack((arr1, arr2, arr3))\n",
    "\n",
    "print(result)\n",
    "# Output: [1 2 3 4 5 6 7 8 9]\n"
   ]
  },
  {
   "cell_type": "code",
   "execution_count": 89,
   "id": "35b8f079",
   "metadata": {},
   "outputs": [
    {
     "name": "stdout",
     "output_type": "stream",
     "text": [
      "[[19 22]\n",
      " [43 50]]\n"
     ]
    }
   ],
   "source": [
    "import numpy as np\n",
    "\n",
    "# Create two matrices\n",
    "matrix1 = np.array([[1, 2], [3, 4]])\n",
    "matrix2 = np.array([[5, 6], [7, 8]])\n",
    "\n",
    "# Perform matrix multiplication\n",
    "result = np.dot(matrix1, matrix2)\n",
    "\n",
    "print(result)\n",
    "# Output:\n",
    "# [[19 22]\n",
    "#  [43 50]]\n"
   ]
  },
  {
   "cell_type": "code",
   "execution_count": 90,
   "id": "fd2de6e1",
   "metadata": {},
   "outputs": [
    {
     "name": "stdout",
     "output_type": "stream",
     "text": [
      "[[-2.   1. ]\n",
      " [ 1.5 -0.5]]\n"
     ]
    }
   ],
   "source": [
    "import numpy as np\n",
    "\n",
    "# Create a matrix\n",
    "matrix = np.array([[1, 2], [3, 4]])\n",
    "\n",
    "# Calculate the inverse of the matrix\n",
    "inverse = np.linalg.inv(matrix)\n",
    "\n",
    "print(inverse)\n",
    "# Output:\n",
    "# [[-2.   1. ]\n",
    "#  [ 1.5 -0.5]]\n"
   ]
  },
  {
   "cell_type": "code",
   "execution_count": 91,
   "id": "8d97f833",
   "metadata": {},
   "outputs": [
    {
     "name": "stdout",
     "output_type": "stream",
     "text": [
      "[-0.37228132  5.37228132]\n",
      "[[-0.82456484 -0.41597356]\n",
      " [ 0.56576746 -0.90937671]]\n"
     ]
    }
   ],
   "source": [
    "import numpy as np\n",
    "\n",
    "# Create a matrix\n",
    "matrix = np.array([[1, 2], [3, 4]])\n",
    "\n",
    "# Perform eigenvalue decomposition\n",
    "eigenvalues, eigenvectors = np.linalg.eig(matrix)\n",
    "\n",
    "print(eigenvalues)\n",
    "# Output: [0.37228132 4.62771868]\n",
    "\n",
    "print(eigenvectors)\n",
    "# Output:\n",
    "# [[-0.82456484 -0.41597356]\n",
    "#  [ 0.56576746 -0.90937671]]\n"
   ]
  },
  {
   "cell_type": "code",
   "execution_count": 92,
   "id": "c95ce1e0",
   "metadata": {},
   "outputs": [
    {
     "name": "stdout",
     "output_type": "stream",
     "text": [
      "U: [[-0.2298477   0.88346102  0.40824829]\n",
      " [-0.52474482  0.24078249 -0.81649658]\n",
      " [-0.81964194 -0.40189603  0.40824829]]\n",
      "s: [9.52551809 0.51430058]\n",
      "V: [[-0.61962948 -0.78489445]\n",
      " [-0.78489445  0.61962948]]\n"
     ]
    }
   ],
   "source": [
    "import numpy as np\n",
    "\n",
    "# Create a matrix\n",
    "matrix = np.array([[1, 2], [3, 4], [5, 6]])\n",
    "\n",
    "# Perform singular value decomposition\n",
    "U, s, V = np.linalg.svd(matrix)\n",
    "\n",
    "print(\"U:\", U)\n",
    "print(\"s:\", s)\n",
    "print(\"V:\", V)\n"
   ]
  },
  {
   "cell_type": "code",
   "execution_count": 171,
   "id": "635d8e51",
   "metadata": {},
   "outputs": [
    {
     "name": "stdout",
     "output_type": "stream",
     "text": [
      "[array([1, 2]), array([3, 4]), array([5, 8])]\n"
     ]
    }
   ],
   "source": [
    "# Split an array\n",
    "arr5 = np.array([1, 2, 3, 4, 5,8])\n",
    "split_arr = np.split(arr5, 3)\n",
    "\n",
    "print(split_arr)"
   ]
  },
  {
   "cell_type": "code",
   "execution_count": 95,
   "id": "f18ac72d",
   "metadata": {},
   "outputs": [
    {
     "name": "stdout",
     "output_type": "stream",
     "text": [
      "[1 2 3 4 5 6]\n",
      "[array([1, 2, 3]), array([4, 5, 6])]\n",
      "[[1 2 3]\n",
      " [4 5 6]]\n",
      "[1 2 3 4 5 6]\n"
     ]
    }
   ],
   "source": [
    "import numpy as np\n",
    "\n",
    "# Concatenate arrays\n",
    "arr3 = np.array([1, 2, 3])\n",
    "arr4 = np.array([4, 5, 6])\n",
    "concatenated_arr = np.concatenate((arr3, arr4))\n",
    "\n",
    "print(concatenated_arr)\n",
    "# Output: [1 2 3 4 5 6]\n",
    "\n",
    "# Split an array\n",
    "arr5 = np.array([1, 2, 3, 4, 5, 6])\n",
    "split_arr = np.split(arr5, 2)\n",
    "\n",
    "print(split_arr)\n",
    "# Output: [array([1, 2, 3]), array([4, 5, 6])]\n",
    "\n",
    "# Stack arrays vertically (row-wise)\n",
    "arr6 = np.array([1, 2, 3])\n",
    "arr7 = np.array([4, 5, 6])\n",
    "vertical_stack = np.vstack((arr6, arr7))\n",
    "\n",
    "print(vertical_stack)\n",
    "# Output:\n",
    "# [[1 2 3]\n",
    "#  [4 5 6]]\n",
    "\n",
    "# Stack arrays horizontally (column-wise)\n",
    "arr8 = np.array([1, 2, 3])\n",
    "arr9 = np.array([4, 5, 6])\n",
    "horizontal_stack = np.hstack((arr8, arr9))\n",
    "\n",
    "print(horizontal_stack)\n",
    "# Output: [1 2 3 4 5 6]\n"
   ]
  },
  {
   "cell_type": "code",
   "execution_count": 96,
   "id": "dce43131",
   "metadata": {},
   "outputs": [
    {
     "name": "stdout",
     "output_type": "stream",
     "text": [
      "[array([1, 2]), array([3, 4]), array([5, 6])]\n"
     ]
    }
   ],
   "source": [
    "import numpy as np\n",
    "\n",
    "arr = np.array([1, 2, 3, 4, 5, 6])\n",
    "subarrays = np.split(arr, 3)\n",
    "\n",
    "print(subarrays)\n",
    "# Output: [array([1, 2]), array([3, 4]), array([5, 6])]\n"
   ]
  },
  {
   "cell_type": "code",
   "execution_count": 1,
   "id": "eb1c6ea4",
   "metadata": {},
   "outputs": [
    {
     "name": "stdout",
     "output_type": "stream",
     "text": [
      "[array([1, 2]), array([4, 5]), array([3, 4, 5, 6])]\n"
     ]
    }
   ],
   "source": [
    "import numpy as np\n",
    "\n",
    "arr = np.array([1, 2, 4, 5, 3, 4, 5, 6])\n",
    "indices = [2, 4]\n",
    "subarrays = np.split(arr, indices)\n",
    "\n",
    "print(subarrays)\n",
    "# Output: [array([1, 2]), array([3, 4]), array([5, 6])]\n"
   ]
  },
  {
   "cell_type": "code",
   "execution_count": 107,
   "id": "a216a563",
   "metadata": {},
   "outputs": [
    {
     "name": "stdout",
     "output_type": "stream",
     "text": [
      "[array([[1, 2, 3]]), array([[4, 5, 6]])]\n"
     ]
    }
   ],
   "source": [
    "import numpy as np\n",
    "\n",
    "arr = np.array([[1, 2, 3], [4, 5, 6]])\n",
    "subarrays = np.split(arr, 2, axis=0)\n",
    "\n",
    "print(subarrays)\n",
    "# Output: [array([[1, 2, 3]]), array([[4, 5, 6]])]\n"
   ]
  },
  {
   "cell_type": "code",
   "execution_count": 109,
   "id": "e7d5950e",
   "metadata": {},
   "outputs": [
    {
     "name": "stdout",
     "output_type": "stream",
     "text": [
      "[array([1, 2, 3]), array([4, 5])]\n"
     ]
    }
   ],
   "source": [
    "import numpy as np\n",
    "\n",
    "arr = np.array([1, 2, 3, 4, 5])\n",
    "subarrays = np.array_split(arr, 2)\n",
    "\n",
    "print(subarrays)\n",
    "# Output: [array([1, 2]), array([3, 4]), array([5])]\n"
   ]
  },
  {
   "cell_type": "code",
   "execution_count": 110,
   "id": "1ec6607a",
   "metadata": {},
   "outputs": [
    {
     "name": "stdout",
     "output_type": "stream",
     "text": [
      "[array(['1', '2', 'apple', '4', 'banana', 'watermelon', '7', 'orange'],\n",
      "      dtype='<U21'), array(['grape', '10'], dtype='<U21')]\n"
     ]
    }
   ],
   "source": [
    "import numpy as np\n",
    "\n",
    "# Create an array of mixed numbers and strings\n",
    "arr = np.array([1, 2, 'apple', 4, 'banana', 'watermelon', 7, 'orange', 'grape', 10])\n",
    "\n",
    "# Define the string to split at\n",
    "split_string = 'orange'\n",
    "\n",
    "# Find the indices where the split string occurs\n",
    "split_indices = np.where(arr == split_string)[0]\n",
    "\n",
    "# Split the array based on the indices\n",
    "subarrays = np.split(arr, split_indices + 1)\n",
    "\n",
    "print(subarrays)\n"
   ]
  },
  {
   "cell_type": "code",
   "execution_count": 1,
   "id": "6c300a85",
   "metadata": {},
   "outputs": [
    {
     "name": "stdout",
     "output_type": "stream",
     "text": [
      "Requirement already satisfied: python-dotenv==1.0.0 in /home/mirza/.local/lib/python3.10/site-packages (1.0.0)\r\n"
     ]
    }
   ],
   "source": [
    "!pip install python-dotenv==1.0.0\n"
   ]
  },
  {
   "cell_type": "code",
   "execution_count": null,
   "id": "68d575a4",
   "metadata": {},
   "outputs": [],
   "source": []
  },
  {
   "cell_type": "code",
   "execution_count": null,
   "id": "0deb9b4b",
   "metadata": {},
   "outputs": [],
   "source": []
  }
 ],
 "metadata": {
  "kernelspec": {
   "display_name": "Python 3 (ipykernel)",
   "language": "python",
   "name": "python3"
  },
  "language_info": {
   "codemirror_mode": {
    "name": "ipython",
    "version": 3
   },
   "file_extension": ".py",
   "mimetype": "text/x-python",
   "name": "python",
   "nbconvert_exporter": "python",
   "pygments_lexer": "ipython3",
   "version": "3.10.6"
  }
 },
 "nbformat": 4,
 "nbformat_minor": 5
}
