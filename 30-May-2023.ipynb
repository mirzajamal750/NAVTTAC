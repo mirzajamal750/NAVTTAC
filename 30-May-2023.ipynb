{
 "cells": [
  {
   "cell_type": "markdown",
   "id": "56f99581",
   "metadata": {},
   "source": [
    "\n",
    "\n",
    "# <center> Lesson: Functions in Python\n",
    "\n"
   ]
  },
  {
   "cell_type": "markdown",
   "id": "7443ab1a",
   "metadata": {},
   "source": [
    "## <center> Intro to function"
   ]
  },
  {
   "cell_type": "markdown",
   "id": "ba310def",
   "metadata": {},
   "source": [
    "#### <center> <b>  In Python, <ul> \"A function is a block of reusable code that performs a specific task\".</ul> Functions help in organizing code, making it modular and reusable. They can take input arguments, perform operations, and return results. Functions allow you to break down complex problems into smaller, manageable parts."
   ]
  },
  {
   "cell_type": "markdown",
   "id": "0dd2c533",
   "metadata": {},
   "source": [
    "### <center> Defining and Calling a Function</center>\n",
    "<b> To define a function in Python, you use the def keyword followed by the function name, parentheses (), and a colon :. The function body is indented under the function definition. Here's an example: </b>"
   ]
  },
  {
   "cell_type": "code",
   "execution_count": null,
   "id": "37a5b514",
   "metadata": {},
   "outputs": [],
   "source": [
    "def greet():\n",
    "    print(\"Hello, welcome to the function!\")\n",
    "def hello():\n",
    "    print(\"hello world\")"
   ]
  },
  {
   "cell_type": "code",
   "execution_count": null,
   "id": "149b8a8d",
   "metadata": {},
   "outputs": [],
   "source": [
    "greet()  # Output: Hello, welcome to the function!\n"
   ]
  },
  {
   "cell_type": "code",
   "execution_count": 44,
   "id": "0557e3e7",
   "metadata": {},
   "outputs": [],
   "source": [
    "def add(fsa,b2,c1):\n",
    "    c=fsa+b2\n",
    "    for i in range(1,10):\n",
    "        if i == fsa:\n",
    "            print(\"chased the value\")\n",
    "            break\n",
    "    print(c)\n",
    "    \n",
    "# def sub():\n",
    "#     return a-b\n",
    "    "
   ]
  },
  {
   "cell_type": "code",
   "execution_count": 45,
   "id": "b2058f74",
   "metadata": {},
   "outputs": [
    {
     "name": "stdout",
     "output_type": "stream",
     "text": [
      "50\n"
     ]
    }
   ],
   "source": [
    "a,b=5,20\n",
    "add(30,b,add)# a=10,b=20, add=? function name.\n",
    "# print(sub())"
   ]
  },
  {
   "cell_type": "markdown",
   "id": "98d74237",
   "metadata": {},
   "source": [
    "### <center> Function Parameters and Arguments </center>\n",
    "<b>Functions can take input parameters, which are values passed into the function when calling it. Parameters are specified within the parentheses of the function definition. Here's an example:</b>"
   ]
  },
  {
   "cell_type": "code",
   "execution_count": 49,
   "id": "60250d16",
   "metadata": {},
   "outputs": [],
   "source": [
    "def greet(name):\n",
    "    print(\"Hello,{name} welcome to the function!\")\n"
   ]
  },
  {
   "cell_type": "code",
   "execution_count": 50,
   "id": "ce196064",
   "metadata": {},
   "outputs": [
    {
     "name": "stdout",
     "output_type": "stream",
     "text": [
      "Hello,{name} welcome to the function!\n"
     ]
    }
   ],
   "source": [
    "greet(\"Alice\")  # Output: Hello, Alice, welcome to the function!\n"
   ]
  },
  {
   "cell_type": "markdown",
   "id": "c47e78e7",
   "metadata": {},
   "source": [
    "### <center>  Return Statement </center>\n",
    "<b> Functions can also return a value using the return statement. This allows functions to provide an output based on the input or computations performed inside the function. Here's an example:<b>"
   ]
  },
  {
   "cell_type": "code",
   "execution_count": 53,
   "id": "756c133e",
   "metadata": {},
   "outputs": [
    {
     "name": "stdout",
     "output_type": "stream",
     "text": [
      "8\n",
      "12\n"
     ]
    }
   ],
   "source": [
    "def add(a, b):\n",
    "    return a + b\n",
    "\n",
    "result = add(3, 5)\n",
    "print(result)  # Output: 8\n",
    "suum=add(5,7)\n",
    "print(suum)"
   ]
  },
  {
   "cell_type": "code",
   "execution_count": 57,
   "id": "b9d0310b",
   "metadata": {},
   "outputs": [
    {
     "name": "stdout",
     "output_type": "stream",
     "text": [
      "mult is  15\n",
      "None\n"
     ]
    }
   ],
   "source": [
    "a=5\n",
    "b=3\n",
    "def multi(a,b):\n",
    "    print(\"mult is \", a*b)\n",
    "s1=multi(a,b)\n",
    "print(s1)"
   ]
  },
  {
   "cell_type": "code",
   "execution_count": 59,
   "id": "0dd7150e",
   "metadata": {},
   "outputs": [],
   "source": [
    "# Add \n",
    "def ADD(a,b):\n",
    "    return a+b\n",
    "def SUB(a,b):\n",
    "    return a-b\n",
    "def DIV (a,b):\n",
    "    return ( a/b)\n",
    "def mult (a,b):\n",
    "    return(a*b)\n",
    "\n"
   ]
  },
  {
   "cell_type": "code",
   "execution_count": 84,
   "id": "0e36c0b2",
   "metadata": {},
   "outputs": [
    {
     "ename": "IndentationError",
     "evalue": "expected an indented block after 'if' statement on line 10 (715564431.py, line 11)",
     "output_type": "error",
     "traceback": [
      "\u001b[0;36m  File \u001b[0;32m\"/tmp/ipykernel_7414/715564431.py\"\u001b[0;36m, line \u001b[0;32m11\u001b[0m\n\u001b[0;31m    print(new)\u001b[0m\n\u001b[0m    ^\u001b[0m\n\u001b[0;31mIndentationError\u001b[0m\u001b[0;31m:\u001b[0m expected an indented block after 'if' statement on line 10\n"
     ]
    }
   ],
   "source": [
    "# list1=[2,4,80,10]\n",
    "# i=0\n",
    "# for i in list1:\n",
    "#     i=i+i\n",
    "# print(i)\n",
    "ls=[2,4,5,4,21]\n",
    "new=[]\n",
    "for i in ls:\n",
    "    new.append(i)\n",
    "    if i in new:\n",
    "        if i>10:\n",
    "            if I<10\n",
    "    print(new)"
   ]
  },
  {
   "cell_type": "code",
   "execution_count": 66,
   "id": "273ce699",
   "metadata": {},
   "outputs": [
    {
     "name": "stdout",
     "output_type": "stream",
     "text": [
      "Addation result is :  10\n",
      "Subtraction result is: 0\n",
      "Division result is :  1.0\n",
      "Multiplication Result is : 25\n"
     ]
    }
   ],
   "source": [
    "a,b=5,5\n",
    "print(\"Addation result is : \",ADD(a,b))\n",
    "print(\"Subtraction result is:\",SUB(a,b))\n",
    "print(\"Division result is : \",DIV(a,b))\n",
    "print(\"Multiplication Result is :\",mult(a,b))"
   ]
  },
  {
   "cell_type": "markdown",
   "id": "f6c212c3",
   "metadata": {},
   "source": [
    "####  The return statement ends the function execution and sends the result back to the caller.\n",
    "\n"
   ]
  },
  {
   "cell_type": "markdown",
   "id": "f989cf8e",
   "metadata": {},
   "source": [
    "#### <center> Default Parameters </center>\n",
    "<b> You can assign default values to function parameters. If an argument is not provided for a parameter, the default value is used instead. Here's an example:<b>"
   ]
  },
  {
   "cell_type": "code",
   "execution_count": null,
   "id": "a5b6f8c3",
   "metadata": {},
   "outputs": [],
   "source": [
    "def greet(name=\"Anonymous\"):\n",
    "    print(\"Hello,\", name, \"welcome to the function!\")\n",
    "\n",
    "greet()          # Output: Hello, Anonymous, welcome to the function!\n",
    "greet(\"Bob\")     # Output: Hello, Bob, welcome to the function!\n",
    "hello()"
   ]
  },
  {
   "cell_type": "markdown",
   "id": "8e3fd557",
   "metadata": {},
   "source": [
    "### <center> Variable Scope </center>\n",
    "<b>Variables defined inside a function have local scope, meaning they can only be accessed within that function. Variables defined outside of any function have global scope, allowing them to be accessed throughout the program. Here's an example:</b>\n",
    "\n",
    "\n"
   ]
  },
  {
   "cell_type": "code",
   "execution_count": null,
   "id": "73eae12e",
   "metadata": {},
   "outputs": [],
   "source": [
    "def my_function():\n",
    "    x = 10    # Local variable\n",
    "    print(x)  # Output: 10\n",
    "\n",
    "my_function()\n",
    "# print(x)      # Error: NameError: name 'x' is not defined\n"
   ]
  },
  {
   "cell_type": "markdown",
   "id": "4581a570",
   "metadata": {},
   "source": [
    "#### <center>Conclusion</center>\n",
    "<b>Functions are an essential part of Python programming. They allow you to organize your code, reuse logic, and make your programs more modular. By understanding how to define, call, and pass arguments to functions, you can leverage their power to solve complex problems effectively.<b>"
   ]
  },
  {
   "cell_type": "code",
   "execution_count": null,
   "id": "03b0009c",
   "metadata": {},
   "outputs": [],
   "source": [
    "def addition(a,b):\n",
    "    print(a+b)\n",
    "#     return sum"
   ]
  },
  {
   "cell_type": "code",
   "execution_count": null,
   "id": "37c835ec",
   "metadata": {},
   "outputs": [],
   "source": [
    "a=10\n",
    "b=20\n",
    "addition(a,b)\n"
   ]
  },
  {
   "cell_type": "markdown",
   "id": "a6f71494",
   "metadata": {},
   "source": [
    "##  append(), insert(), remove(), pop(), sort(), reverse()"
   ]
  },
  {
   "cell_type": "code",
   "execution_count": 1,
   "id": "c3096051",
   "metadata": {},
   "outputs": [],
   "source": [
    "a=[\"Jamal\",1,3,4,\"A\"]\n",
    "b=[5,9,7]\n",
    "check=[]\n",
    "for i in a:\n",
    "    if i is not check:\n",
    "        check.append(i)"
   ]
  },
  {
   "cell_type": "code",
   "execution_count": 2,
   "id": "f378bd17",
   "metadata": {},
   "outputs": [
    {
     "data": {
      "text/plain": [
       "['Jamal', 1, 3, 4, 'A']"
      ]
     },
     "execution_count": 2,
     "metadata": {},
     "output_type": "execute_result"
    }
   ],
   "source": [
    "check"
   ]
  },
  {
   "cell_type": "code",
   "execution_count": 3,
   "id": "1a84cae3",
   "metadata": {},
   "outputs": [
    {
     "name": "stdout",
     "output_type": "stream",
     "text": [
      "String List: ['Jamal', 'Hamza', 'Ali', 'c1', 'c2']\n",
      "Character List: ['J', 'a', 'm', 'a', 'l', 'H', 'a', 'm', 'z', 'a', 'A', 'l', 'i', 'c', '1', 'c', '2']\n"
     ]
    }
   ],
   "source": [
    "def separate_strings_and_characters(input_list):\n",
    "    string_list = []\n",
    "    char_list = []\n",
    "\n",
    "    for item in input_list:\n",
    "        if isinstance(item, str):\n",
    "            string_list.append(item)\n",
    "            char_list.extend(list(item))\n",
    "    \n",
    "    return string_list, char_list\n",
    "\n",
    "# Example usage\n",
    "input_list = [\"Jamal\", \"Hamza\",\"Ali\", \"c1\", \"c2\"]\n",
    "result_strings, result_characters = separate_strings_and_characters(input_list)\n",
    "\n",
    "print(\"String List:\", result_strings)\n",
    "print(\"Character List:\", result_characters)\n"
   ]
  },
  {
   "cell_type": "code",
   "execution_count": 4,
   "id": "5194e03a",
   "metadata": {},
   "outputs": [
    {
     "name": "stdout",
     "output_type": "stream",
     "text": [
      "String List: ['Hamza', 'Jamal', 'Ali']\n",
      "Character List: ['c', 'P']\n"
     ]
    }
   ],
   "source": [
    "def separate_strings_and_characters(input_list):\n",
    "    string_list = []\n",
    "    char_list = []\n",
    "\n",
    "    for item in input_list:\n",
    "        if isinstance(item, str):\n",
    "            if len(item) > 1:\n",
    "                string_list.append(item)\n",
    "            else:\n",
    "                char_list.append(item)\n",
    "    \n",
    "    return string_list, char_list\n",
    "\n",
    "# Example usage\n",
    "input_list = [\"Hamza\", \"Jamal\",\"Ali\", \"c\", \"P\"]\n",
    "result_strings, result_characters = separate_strings_and_characters(input_list)\n",
    "\n",
    "print(\"String List:\", result_strings)\n",
    "print(\"Character List:\", result_characters)\n"
   ]
  },
  {
   "cell_type": "code",
   "execution_count": 6,
   "id": "36f7888c",
   "metadata": {},
   "outputs": [
    {
     "name": "stdout",
     "output_type": "stream",
     "text": [
      "[1, 5, 7, 11, 13]\n"
     ]
    }
   ],
   "source": [
    "li=[1,2,3,4,5,6,7,8,9,10,11,12,13,14,15]\n",
    "prime=[]\n",
    "for i in li:\n",
    "    if i%2!=0 and i%3!=0:\n",
    "        prime.append(i)\n",
    "print(prime)"
   ]
  },
  {
   "cell_type": "markdown",
   "id": "81d40b12",
   "metadata": {},
   "source": [
    "# Lambda Functions in Python: An Introduction"
   ]
  },
  {
   "cell_type": "markdown",
   "id": "5e28b680",
   "metadata": {},
   "source": [
    "\n"
   ]
  },
  {
   "cell_type": "markdown",
   "id": "9e401527",
   "metadata": {},
   "source": [
    "## Advantages of Lambda Functions:\n",
    "\n",
    "### 1.Conciseness and readability of code\n",
    "### 2.Avoiding the need for defining separate functions using def\n",
    "### 3.Utilizing lambda functions as first-class objects\n",
    "### 4.Ability to create functions on the fly\n",
    "\n",
    "## Use Cases and Applications:\n",
    "\n",
    "### 1.Functional programming paradigm and lambda functions\n",
    "### 2.Higher-order functions: map(), filter(), reduce()\n",
    "### 3.Demonstrations and examples of each higher-order function with lambda functions\n",
    "### 4.Common scenarios where lambda functions are useful:\n",
    "### 5.Data preprocessing and transformation\n",
    "### 6.Sorting and filtering data\n",
    "### 7.Event-driven programming\n",
    "### 8.Creating callbacks and decorators"
   ]
  },
  {
   "cell_type": "code",
   "execution_count": 2,
   "id": "0dfc49ab",
   "metadata": {},
   "outputs": [
    {
     "name": "stdout",
     "output_type": "stream",
     "text": [
      "25\n",
      "25\n"
     ]
    }
   ],
   "source": [
    "# Regular named function\n",
    "def square(x):\n",
    "    return x ** 2\n",
    "\n",
    "# Lambda function\n",
    "square_lambda = lambda x: x ** 2\n",
    "\n",
    "print(square(5))  # Output: 25\n",
    "print(square_lambda(5))  # Output: 25\n"
   ]
  },
  {
   "cell_type": "code",
   "execution_count": 24,
   "id": "cd174a1f",
   "metadata": {},
   "outputs": [
    {
     "name": "stdout",
     "output_type": "stream",
     "text": [
      "['Ali']\n"
     ]
    }
   ],
   "source": [
    "names = [\"Ali\", \"Jamal\", \"Hamza\"]\n",
    "filtered_names = list(filter(lambda name: name.startswith(\"A\"), names))\n",
    "print(filtered_names)\n"
   ]
  },
  {
   "cell_type": "code",
   "execution_count": 30,
   "id": "50b4144a",
   "metadata": {},
   "outputs": [
    {
     "name": "stdout",
     "output_type": "stream",
     "text": [
      "None\n"
     ]
    }
   ],
   "source": [
    "my_list = [\"Ali\", \"Jamal\", \"Hamza\", 1, 2, 3, 't', 'y']\n",
    "numbers = list(filter(lambda x: isinstance(x, int) or isinstance(x, float), my_list))\n",
    "print(numbers.sort())\n"
   ]
  },
  {
   "cell_type": "code",
   "execution_count": 1,
   "id": "727b37e7",
   "metadata": {},
   "outputs": [
    {
     "name": "stdout",
     "output_type": "stream",
     "text": [
      "[1, 4, 9, 16, 25]\n"
     ]
    }
   ],
   "source": [
    "numbers = [1, 2, 3, 4, 5]\n",
    "squared_numbers = list(map(lambda x: x**2, numbers))\n",
    "print(squared_numbers)  # Output: [1, 4, 9, 16, 25]\n"
   ]
  },
  {
   "cell_type": "code",
   "execution_count": 4,
   "id": "8ecd9190",
   "metadata": {},
   "outputs": [
    {
     "name": "stdout",
     "output_type": "stream",
     "text": [
      "[(3, 2), (1, 5), (2, 7), (4, 9)]\n"
     ]
    }
   ],
   "source": [
    "# Sorting a list of tuples based on the second element\n",
    "data = [(1, 5), (3, 2), (4, 9), (2, 7)]\n",
    "sorted_data = sorted(data, key=lambda x: x[1])\n",
    "print(sorted_data)  # Output: [(3, 2), (1, 5), (2, 7), (4, 9)]\n"
   ]
  },
  {
   "cell_type": "code",
   "execution_count": 3,
   "id": "7207c541",
   "metadata": {},
   "outputs": [
    {
     "name": "stdout",
     "output_type": "stream",
     "text": [
      "[77.0, 86.0, 64.4, 53.6, 80.6]\n"
     ]
    }
   ],
   "source": [
    "# Mapping a lambda function to convert Celsius temperatures to Fahrenheit\n",
    "temperatures_celsius = [25, 30, 18, 12, 27]\n",
    "temperatures_fahrenheit = list(map(lambda x: (9/5) * x + 32, temperatures_celsius))\n",
    "print(temperatures_fahrenheit)  # Output: [77.0, 86.0, 64.4, 53.6, 80.6]\n"
   ]
  },
  {
   "cell_type": "code",
   "execution_count": 5,
   "id": "da27c1aa",
   "metadata": {},
   "outputs": [
    {
     "name": "stdout",
     "output_type": "stream",
     "text": [
      "Execution time for simple computation: 0.00016880035400390625 seconds\n",
      "Execution time for lambda computation: 0.00016546249389648438 seconds\n"
     ]
    }
   ],
   "source": [
    "import time\n",
    "\n",
    "# Measure execution time for a simple computation using a named function\n",
    "def simple_computation(x):\n",
    "    return x ** 2\n",
    "\n",
    "start_time = time.time()\n",
    "result = simple_computation(5)\n",
    "end_time = time.time()\n",
    "execution_time = end_time - start_time\n",
    "print(f\"Execution time for simple computation: {execution_time} seconds\")\n",
    "\n",
    "# Measure execution time for the same computation using a lambda function\n",
    "lambda_computation = lambda x: x ** 2\n",
    "\n",
    "start_time = time.time()\n",
    "result = lambda_computation(5)\n",
    "end_time = time.time()\n",
    "execution_time = end_time - start_time\n",
    "print(f\"Execution time for lambda computation: {execution_time} seconds\")\n"
   ]
  },
  {
   "cell_type": "code",
   "execution_count": 22,
   "id": "c76b0d78",
   "metadata": {},
   "outputs": [
    {
     "name": "stdout",
     "output_type": "stream",
     "text": [
      "5\n",
      "6\n",
      "7\n",
      "8\n"
     ]
    }
   ],
   "source": [
    "result = list(map(print, [5, 6, 7, 8]))"
   ]
  },
  {
   "cell_type": "code",
   "execution_count": 23,
   "id": "b134bc69",
   "metadata": {},
   "outputs": [
    {
     "name": "stdout",
     "output_type": "stream",
     "text": [
      "[25, 36, 49, 64]\n"
     ]
    }
   ],
   "source": [
    "\n"
   ]
  }
 ],
 "metadata": {
  "kernelspec": {
   "display_name": "Python 3 (ipykernel)",
   "language": "python",
   "name": "python3"
  },
  "language_info": {
   "codemirror_mode": {
    "name": "ipython",
    "version": 3
   },
   "file_extension": ".py",
   "mimetype": "text/x-python",
   "name": "python",
   "nbconvert_exporter": "python",
   "pygments_lexer": "ipython3",
   "version": "3.10.6"
  }
 },
 "nbformat": 4,
 "nbformat_minor": 5
}
