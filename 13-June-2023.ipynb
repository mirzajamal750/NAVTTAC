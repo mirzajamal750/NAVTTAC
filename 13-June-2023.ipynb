{
 "cells": [
  {
   "cell_type": "markdown",
   "id": "1d1b9898",
   "metadata": {},
   "source": [
    "## Merging, Joining, and Concatenation\n",
    "\n",
    "These are operations used to combine data from multiple sources based on common columns or indexes. Merging combines data based on common columns, similar to a database join operation. Concatenation combines data along a particular axis (row-wise or column-wise) without considering common columns.\n"
   ]
  },
  {
   "cell_type": "code",
   "execution_count": 1,
   "id": "5fe7c177",
   "metadata": {},
   "outputs": [
    {
     "name": "stdout",
     "output_type": "stream",
     "text": [
      "   A  B  C\n",
      "0  1  4  7\n",
      "1  2  5  8\n",
      "2  3  6  9\n"
     ]
    },
    {
     "data": {
      "text/plain": [
       "\"This line performs a merge operation using the pd.merge() function. \\nIt merges the two DataFrames, df1 and df2, based on the common column 'A'.\\nThe resulting merged DataFrame is assigned to the variable merged_df.\\nThe on='A' parameter specifies that the merge operation should be based on the values in column 'A' \\nfrom both DataFrames. \\nThis means that rows with matching values in column 'A' will be \\ncombined into a single row in the merged DataFrame. \\nBy default, \\npd.merge() performs an inner join, \\nwhich means only the rows with common values in the 'A' column will be included in the merged DataFrame.\""
      ]
     },
     "execution_count": 1,
     "metadata": {},
     "output_type": "execute_result"
    }
   ],
   "source": [
    "#merging \n",
    "import pandas as pd\n",
    "\n",
    "# Create two DataFrames\n",
    "df1 = pd.DataFrame({'A': [1, 2, 3], 'B': [4, 5, 6]})\n",
    "df2 = pd.DataFrame({'A': [1, 2, 3], 'C': [7, 8, 9]})\n",
    "\n",
    "# Merge based on the common column 'A'\n",
    "merged_df = pd.merge(df1, df2, on='A')\n",
    "print(merged_df)\n",
    "\"\"\"This line performs a merge operation using the pd.merge() function. \n",
    "It merges the two DataFrames, df1 and df2, based on the common column 'A'.\n",
    "The resulting merged DataFrame is assigned to the variable merged_df.\n",
    "The on='A' parameter specifies that the merge operation should be based on the values in column 'A' \n",
    "from both DataFrames. \n",
    "This means that rows with matching values in column 'A' will be \n",
    "combined into a single row in the merged DataFrame. \n",
    "By default, \n",
    "pd.merge() performs an inner join, \n",
    "which means only the rows with common values in the 'A' column will be included in the merged DataFrame.\"\"\""
   ]
  },
  {
   "cell_type": "code",
   "execution_count": 2,
   "id": "cd3ce834",
   "metadata": {},
   "outputs": [
    {
     "name": "stdout",
     "output_type": "stream",
     "text": [
      "   A  B\n",
      "0  1  4\n",
      "1  2  5\n",
      "2  3  6\n",
      "0  4  7\n",
      "1  5  8\n",
      "2  6  9\n"
     ]
    }
   ],
   "source": [
    "import pandas as pd\n",
    "\n",
    "# Create two DataFrames\n",
    "df1 = pd.DataFrame({'A': [1, 2, 3], 'B': [4, 5, 6]})\n",
    "df2 = pd.DataFrame({'A': [4, 5, 6], 'B': [7, 8, 9]})\n",
    "\n",
    "# Concatenate row-wise\n",
    "concatenated_df = pd.concat([df1, df2])\n",
    "print(concatenated_df)\n"
   ]
  },
  {
   "cell_type": "markdown",
   "id": "ed05da5f",
   "metadata": {},
   "source": [
    "\n",
    "## GroupBy\n",
    "\n",
    "GroupBy allows you to split the data into groups based on some criteria, such as a particular column's values. It is often used in combination with aggregation functions (e.g., sum, mean, count) to perform calculations within each group.\n"
   ]
  },
  {
   "cell_type": "code",
   "execution_count": 3,
   "id": "4f9a9ab6",
   "metadata": {},
   "outputs": [
    {
     "name": "stdout",
     "output_type": "stream",
     "text": [
      "          Value\n",
      "Category       \n",
      "A          20.0\n",
      "B          20.0\n"
     ]
    }
   ],
   "source": [
    "import pandas as pd\n",
    "\n",
    "# Create a DataFrame\n",
    "df = pd.DataFrame({'Category': ['A', 'B', 'A', 'B', 'A'],\n",
    "                   'Value': [10, 15, 20, 25, 30]})\n",
    "\n",
    "# Group by 'Category' and calculate the mean value within each group\n",
    "grouped_df = df.groupby('Category').mean()\n",
    "print(grouped_df)\n"
   ]
  },
  {
   "cell_type": "code",
   "execution_count": 4,
   "id": "35015776",
   "metadata": {},
   "outputs": [
    {
     "name": "stdout",
     "output_type": "stream",
     "text": [
      "          Value\n",
      "Category       \n",
      "A            26\n",
      "B            27\n"
     ]
    }
   ],
   "source": [
    "import pandas as pd\n",
    "\n",
    "# Create a DataFrame\n",
    "df = pd.DataFrame({\n",
    "    'Category': ['A', 'B', 'A', 'B', 'A'],\n",
    "    'Value': [10, 15, 7, 12, 9]\n",
    "})\n",
    "\n",
    "# Group by 'Category' column and calculate the sum of 'Value' for each category\n",
    "grouped_df = df.groupby('Category').sum()\n",
    "print(grouped_df)\n"
   ]
  },
  {
   "cell_type": "code",
   "execution_count": 5,
   "id": "02246722",
   "metadata": {},
   "outputs": [
    {
     "name": "stdout",
     "output_type": "stream",
     "text": [
      "                          Value\n",
      "Category Subcategory           \n",
      "A        X             8.666667\n",
      "B        Y            13.500000\n"
     ]
    }
   ],
   "source": [
    "import pandas as pd\n",
    "\n",
    "# Create a DataFrame\n",
    "df = pd.DataFrame({\n",
    "    'Category': ['A', 'B', 'A', 'B', 'A'],\n",
    "    'Subcategory': ['X', 'Y', 'X', 'Y', 'X'],\n",
    "    'Value': [10, 15, 7, 12, 9]\n",
    "})\n",
    "\n",
    "# Group by 'Category' and 'Subcategory' columns and calculate the mean of 'Value' for each combination\n",
    "grouped_df = df.groupby(['Category', 'Subcategory']).mean()\n",
    "print(grouped_df)\n"
   ]
  },
  {
   "cell_type": "code",
   "execution_count": 6,
   "id": "f914e8d0",
   "metadata": {},
   "outputs": [
    {
     "name": "stdout",
     "output_type": "stream",
     "text": [
      "          Value\n",
      "Category       \n",
      "A           3.0\n",
      "B           2.0\n"
     ]
    }
   ],
   "source": [
    "import pandas as pd\n",
    "import numpy as np\n",
    "\n",
    "# Create a DataFrame\n",
    "df = pd.DataFrame({\n",
    "    'Category': ['A', 'B', 'A', 'B', 'A'],\n",
    "    'Value': [10, 15, 7, 12, 9]\n",
    "})\n",
    "\n",
    "# Group by 'Category' and calculate the custom aggregation function\n",
    "def custom_agg(x):\n",
    "    return np.sum(x) / np.mean(x)\n",
    "\n",
    "grouped_df = df.groupby('Category').agg(custom_agg)\n",
    "print(grouped_df)\n"
   ]
  },
  {
   "cell_type": "code",
   "execution_count": 7,
   "id": "02434de3",
   "metadata": {},
   "outputs": [
    {
     "name": "stdout",
     "output_type": "stream",
     "text": [
      "Low Salaries:\n",
      "   Name  Age  Salary\n",
      "0  John   35   80000\n",
      "1  Jane   28   75000\n",
      "3  Sara   32   82000\n",
      "\n",
      "High Salaries:\n",
      "   Name  Age  Salary\n",
      "2  Mike   42   90000\n",
      "4  Mark   39   95000\n",
      "\n"
     ]
    }
   ],
   "source": [
    "import pandas as pd\n",
    "\n",
    "# Create a DataFrame\n",
    "df = pd.DataFrame({\n",
    "    'Name': ['John', 'Jane', 'Mike', 'Sara', 'Mark'],\n",
    "    'Age': [35, 28, 42, 32, 39],\n",
    "    'Salary': [80000, 75000, 90000, 82000, 95000]\n",
    "})\n",
    "\n",
    "# Define the threshold for high salaries\n",
    "salary_threshold = 85000\n",
    "\n",
    "# Group by high salaries\n",
    "high_salary_group = df.groupby(df['Salary'] >= salary_threshold)\n",
    "\n",
    "# Iterate over the groups\n",
    "for group, data in high_salary_group:\n",
    "    if group:\n",
    "        print(\"High Salaries:\")\n",
    "    else:\n",
    "        print(\"Low Salaries:\")\n",
    "    print(data)\n",
    "    print()\n"
   ]
  },
  {
   "cell_type": "code",
   "execution_count": 8,
   "id": "60d4927f",
   "metadata": {},
   "outputs": [
    {
     "name": "stdout",
     "output_type": "stream",
     "text": [
      "High Age:\n",
      "   Name  Age  Salary\n",
      "0  John   35   80000\n",
      "2  Mike   42   90000\n",
      "4  Mark   39   95000\n",
      "\n",
      "Low Age:\n",
      "   Name  Age  Salary\n",
      "1  Jane   28   75000\n",
      "3  Sara   32   82000\n",
      "\n"
     ]
    }
   ],
   "source": [
    "import pandas as pd\n",
    "\n",
    "# Create a DataFrame\n",
    "df = pd.DataFrame({\n",
    "    'Name': ['John', 'Jane', 'Mike', 'Sara', 'Mark'],\n",
    "    'Age': [35, 28, 42, 32, 39],\n",
    "    'Salary': [80000, 75000, 90000, 82000, 95000]\n",
    "})\n",
    "\n",
    "# Define the threshold for low age\n",
    "age_threshold = 35\n",
    "\n",
    "# Group by low age\n",
    "low_age_group = df.groupby(df['Age'] < age_threshold)\n",
    "\n",
    "# Iterate over the groups\n",
    "for group, data in low_age_group:\n",
    "    if group:\n",
    "        print(\"Low Age:\")\n",
    "    else:\n",
    "        print(\"High Age:\")\n",
    "    print(data)\n",
    "    print()\n"
   ]
  },
  {
   "cell_type": "code",
   "execution_count": 9,
   "id": "f145d9fe",
   "metadata": {},
   "outputs": [
    {
     "name": "stdout",
     "output_type": "stream",
     "text": [
      "Region\n",
      "East      900\n",
      "North    1800\n",
      "South    1100\n",
      "West     1200\n",
      "Name: Sales, dtype: int64\n"
     ]
    }
   ],
   "source": [
    "import pandas as pd\n",
    "\n",
    "# Create a DataFrame with sales data\n",
    "data = {\n",
    "    'Region': ['North', 'South', 'North', 'West', 'East', 'South'],\n",
    "    'Product': ['A', 'B', 'B', 'A', 'C', 'A'],\n",
    "    'Sales': [1000, 500, 800, 1200, 900, 600]\n",
    "}\n",
    "df = pd.DataFrame(data)\n",
    "\n",
    "# Group by region and calculate total sales\n",
    "grouped_sales = df.groupby('Region')['Sales'].sum()\n",
    "\n",
    "print(grouped_sales)\n"
   ]
  },
  {
   "cell_type": "code",
   "execution_count": 10,
   "id": "f5fbde81",
   "metadata": {},
   "outputs": [
    {
     "name": "stdout",
     "output_type": "stream",
     "text": [
      "Age Range\n",
      "20-29    1\n",
      "30-39    3\n",
      "40-49    1\n",
      "Name: Name, dtype: int64\n"
     ]
    }
   ],
   "source": [
    "import pandas as pd\n",
    "\n",
    "# Create a DataFrame with customer data\n",
    "data = {\n",
    "    'Name': ['John', 'Jane', 'Mike', 'Sara', 'Mark'],\n",
    "    'Age': [35, 28, 42, 32, 39],\n",
    "    'City': ['New York', 'Los Angeles', 'Chicago', 'San Francisco', 'Boston']\n",
    "}\n",
    "df = pd.DataFrame(data)\n",
    "\n",
    "# Define age ranges\n",
    "bins = [20, 30, 40, 50]\n",
    "labels = ['20-29', '30-39', '40-49']\n",
    "\n",
    "# Group by age range and count the number of customers\n",
    "df['Age Range'] = pd.cut(df['Age'], bins=bins, labels=labels)\n",
    "grouped_customers = df.groupby('Age Range')['Name'].count()\n",
    "\n",
    "print(grouped_customers)\n"
   ]
  },
  {
   "cell_type": "markdown",
   "id": "7335d0a4",
   "metadata": {},
   "source": [
    "# Now Open this link and study the content deeply \n",
    "# \" https://pandas.pydata.org/pandas-docs/stable/user_guide/groupby.html \"\n"
   ]
  },
  {
   "cell_type": "markdown",
   "id": "bc15cda3",
   "metadata": {},
   "source": [
    "# Discretization and Binning:"
   ]
  },
  {
   "cell_type": "code",
   "execution_count": 11,
   "id": "627e8226",
   "metadata": {},
   "outputs": [
    {
     "name": "stdout",
     "output_type": "stream",
     "text": [
      "   Values            Bins\n",
      "0       1  (0.992, 3.667]\n",
      "1       3  (0.992, 3.667]\n",
      "2       5  (3.667, 6.333]\n",
      "3       7    (6.333, 9.0]\n",
      "4       9    (6.333, 9.0]\n"
     ]
    }
   ],
   "source": [
    "import pandas as pd\n",
    "\n",
    "# Create a DataFrame\n",
    "df = pd.DataFrame({'Values': [1, 3, 5, 7, 9]})\n",
    "#Binning is a process of dividing a continuous variable into a set of bins or intervals. \n",
    "#It transforms the continuous data into discrete intervals or categories.\n",
    "# Perform binning into three equal-width bins\n",
    "bins = pd.cut(df['Values'], bins=3)\n",
    "df['Bins'] = bins\n",
    "print(df)\n"
   ]
  },
  {
   "cell_type": "markdown",
   "id": "fa78b212",
   "metadata": {},
   "source": [
    "This line performs binning on the 'Values' column of the DataFrame df using the pd.cut() function. Binning is a process of dividing a continuous variable into a set of bins or intervals. It transforms the continuous data into discrete intervals or categories.\n",
    "\n",
    "In this case, pd.cut() takes two main arguments: the column to be binned (df['Values']) and the number of bins (bins=3). It divides the 'Values' column into three equal-width bins. The resulting bins variable holds the information about which bin each value in the 'Values' column belongs to.\n",
    "\n",
    "python\n"
   ]
  },
  {
   "cell_type": "markdown",
   "id": "2f699bee",
   "metadata": {},
   "source": [
    "\n",
    "## Discretization and Binning\n",
    "\n",
    "Discretization is the process of transforming continuous data into discrete intervals or categories. Binning refers to dividing a continuous variable into a set of bins or intervals. These techniques are useful for analyzing data in a more manageable and interpretable way.\n"
   ]
  },
  {
   "cell_type": "markdown",
   "id": "4f76f2a2",
   "metadata": {},
   "source": [
    "\n",
    "## Operations on DataFrames\n",
    "\n",
    "DataFrames are a key data structure in Pandas, representing tabular data with rows and columns. There are various operations you can perform on DataFrames, such as filtering rows, selecting columns, sorting, and applying functions to data.\n"
   ]
  },
  {
   "cell_type": "markdown",
   "id": "d5ad558a",
   "metadata": {},
   "source": [
    "# Operations on DataFrames:\n",
    "## Filtering rows:"
   ]
  },
  {
   "cell_type": "code",
   "execution_count": 12,
   "id": "65ffde52",
   "metadata": {},
   "outputs": [
    {
     "name": "stdout",
     "output_type": "stream",
     "text": [
      "   A  B\n",
      "1  2  5\n",
      "2  3  6\n"
     ]
    }
   ],
   "source": [
    "import pandas as pd\n",
    "\n",
    "# Create a DataFrame\n",
    "df = pd.DataFrame({'A': [1, 2, 3], 'B': [4, 5, 6]})\n",
    "\n",
    "# Filter rows where 'A' is greater than 1\n",
    "filtered_df = df[df['A'] > 1]\n",
    "print(filtered_df)\n",
    "# print(df)"
   ]
  },
  {
   "cell_type": "markdown",
   "id": "d9b32ba5",
   "metadata": {},
   "source": [
    "# Selecting columns:"
   ]
  },
  {
   "cell_type": "code",
   "execution_count": 13,
   "id": "8adff3a3",
   "metadata": {},
   "outputs": [
    {
     "name": "stdout",
     "output_type": "stream",
     "text": [
      "0    1\n",
      "1    2\n",
      "2    3\n",
      "Name: A, dtype: int64\n"
     ]
    }
   ],
   "source": [
    "import pandas as pd\n",
    "\n",
    "# Create a DataFrame\n",
    "df = pd.DataFrame({'A': [1, 2, 3], 'B': [4, 5, 6]})\n",
    "\n",
    "# Select only the 'A' column\n",
    "selected_column = df['A']\n",
    "print(selected_column)\n"
   ]
  },
  {
   "cell_type": "markdown",
   "id": "051d6b12",
   "metadata": {},
   "source": [
    "\n",
    "## Data output/saving\n",
    "\n",
    "Pandas provides functionality to save data in different formats, such as CSV, Excel, SQL databases, and more. You can use these methods to store your processed data for future use or to share it with others.\n",
    "\n"
   ]
  },
  {
   "cell_type": "code",
   "execution_count": 14,
   "id": "3c345bb9",
   "metadata": {},
   "outputs": [],
   "source": [
    "import pandas as pd\n",
    "\n",
    "# Create a DataFrame\n",
    "df = pd.DataFrame({'A': [1, 2, 3], 'B': [4, 5, 6]})\n",
    "\n",
    "# Save the DataFrame to a CSV file\n",
    "df.to_csv('output.csv', index=False)\n"
   ]
  },
  {
   "cell_type": "markdown",
   "id": "dae40033",
   "metadata": {},
   "source": [
    "## Pandas for Plotting\n",
    "\n",
    "Pandas offers a range of plotting options to create different types of visualizations. The plots you mentioned, including area, bar, density, hist, line, scatter, barh, box, hexbin, kde, and pie plots, can be generated using Pandas.\n"
   ]
  },
  {
   "cell_type": "code",
   "execution_count": 15,
   "id": "7a19c259",
   "metadata": {},
   "outputs": [
    {
     "data": {
      "image/png": "[encoded data removed]",
      "text/plain": [
       "<Figure size 432x288 with 1 Axes>"
      ]
     },
     "metadata": {
      "needs_background": "light"
     },
     "output_type": "display_data"
    }
   ],
   "source": [
    "import pandas as pd\n",
    "import matplotlib.pyplot as plt\n",
    "\n",
    "# Create a DataFrame\n",
    "df = pd.DataFrame({'Category': ['A', 'B', 'C', 'D'],\n",
    "                   'Value': [10, 15, 7, 12]})\n",
    "\n",
    "# Create a bar plot\n",
    "df.plot(kind='bar', x='Category', y='Value')\n",
    "plt.show()\n"
   ]
  },
  {
   "cell_type": "code",
   "execution_count": 16,
   "id": "ddc62f32",
   "metadata": {},
   "outputs": [
    {
     "data": {
      "image/png": "[encoded data removed]",
      "text/plain": [
       "<Figure size 432x288 with 1 Axes>"
      ]
     },
     "metadata": {
      "needs_background": "light"
     },
     "output_type": "display_data"
    }
   ],
   "source": [
    "import pandas as pd\n",
    "import matplotlib.pyplot as plt\n",
    "\n",
    "# Create a DataFrame\n",
    "df = pd.DataFrame({'Category': ['A', 'B', 'C', 'D'],\n",
    "                   'Value': [10, 15, 7, 12]})\n",
    "\n",
    "# Create a bar plot\n",
    "plt.bar(df['Category'], df['Value'])\n",
    "plt.xlabel('Category')\n",
    "plt.ylabel('Value')\n",
    "plt.title('Bar Plot')\n",
    "plt.show()\n"
   ]
  },
  {
   "cell_type": "code",
   "execution_count": 17,
   "id": "11b04515",
   "metadata": {
    "scrolled": false
   },
   "outputs": [
    {
     "data": {
      "image/png": "[encoded data removed]",
      "text/plain": [
       "<Figure size 432x288 with 1 Axes>"
      ]
     },
     "metadata": {
      "needs_background": "light"
     },
     "output_type": "display_data"
    },
    {
     "data": {
      "image/png": "[encoded data removed]",
      "text/plain": [
       "<Figure size 432x288 with 1 Axes>"
      ]
     },
     "metadata": {
      "needs_background": "light"
     },
     "output_type": "display_data"
    },
    {
     "data": {
      "image/png": "[encoded data removed]",
      "text/plain": [
       "<Figure size 432x288 with 1 Axes>"
      ]
     },
     "metadata": {
      "needs_background": "light"
     },
     "output_type": "display_data"
    },
    {
     "data": {
      "image/png": "[encoded data removed]",
      "text/plain": [
       "<Figure size 432x288 with 1 Axes>"
      ]
     },
     "metadata": {
      "needs_background": "light"
     },
     "output_type": "display_data"
    },
    {
     "data": {
      "image/png": "[encoded data removed]",
      "text/plain": [
       "<Figure size 432x288 with 1 Axes>"
      ]
     },
     "metadata": {
      "needs_background": "light"
     },
     "output_type": "display_data"
    },
    {
     "data": {
      "image/png": "[encoded data removed]",
      "text/plain": [
       "<Figure size 432x288 with 1 Axes>"
      ]
     },
     "metadata": {
      "needs_background": "light"
     },
     "output_type": "display_data"
    }
   ],
   "source": [
    "#Create different types of plots using Pandas\n",
    "df.plot(kind='area', x='Category', y='Value')\n",
    "plt.title('Area Plot')\n",
    "plt.show()\n",
    "\n",
    "df.plot(kind='bar', x='Category', y='Value')\n",
    "plt.title('Bar Plot')\n",
    "plt.show()\n",
    "\n",
    "df.plot(kind='density', y='Value')\n",
    "plt.title('Density Plot')\n",
    "plt.show()\n",
    "\n",
    "df.plot(kind='hist', y='Value')\n",
    "plt.title('Histogram')\n",
    "plt.show()\n",
    "\n",
    "df.plot(kind='line', x='Category', y='Value')\n",
    "plt.title('Line Plot')\n",
    "plt.show()\n",
    "\n",
    "df.plot(kind='scatter', x='Category', y='Value')\n",
    "plt.title('Scatter Plot')\n",
    "plt.show()\n",
    "\n",
    "\n",
    "\n",
    "\n"
   ]
  },
  {
   "cell_type": "code",
   "execution_count": 18,
   "id": "7b9e3846",
   "metadata": {},
   "outputs": [
    {
     "data": {
      "image/png": "[encoded data removed]",
      "text/plain": [
       "<Figure size 432x288 with 1 Axes>"
      ]
     },
     "metadata": {
      "needs_background": "light"
     },
     "output_type": "display_data"
    }
   ],
   "source": [
    "\n",
    "df.plot(kind='kde', y='Value')\n",
    "plt.title('Kernel Density Estimation (KDE) Plot')\n",
    "plt.show()\n"
   ]
  },
  {
   "cell_type": "code",
   "execution_count": 19,
   "id": "904148ea",
   "metadata": {},
   "outputs": [
    {
     "data": {
      "image/png": "[encoded data removed]",
      "text/plain": [
       "<Figure size 432x288 with 1 Axes>"
      ]
     },
     "metadata": {},
     "output_type": "display_data"
    }
   ],
   "source": [
    "df.plot(kind='pie', y='Value', labels=df['Category'], autopct='%1.1f%%')\n",
    "plt.title('Pie Plot')\n",
    "plt.show()"
   ]
  },
  {
   "cell_type": "code",
   "execution_count": 20,
   "id": "7068f672",
   "metadata": {},
   "outputs": [
    {
     "data": {
      "image/png": "[encoded data removed]",
      "text/plain": [
       "<Figure size 432x288 with 1 Axes>"
      ]
     },
     "metadata": {
      "needs_background": "light"
     },
     "output_type": "display_data"
    }
   ],
   "source": [
    "df.plot(kind='box', y='Value')\n",
    "plt.title('Box Plot')\n",
    "plt.show()"
   ]
  },
  {
   "cell_type": "code",
   "execution_count": 21,
   "id": "219e922f",
   "metadata": {},
   "outputs": [
    {
     "data": {
      "image/png": "[encoded data removed]",
      "text/plain": [
       "<Figure size 432x288 with 1 Axes>"
      ]
     },
     "metadata": {
      "needs_background": "light"
     },
     "output_type": "display_data"
    }
   ],
   "source": [
    "df.plot(kind='barh', x='Category', y='Value')\n",
    "plt.title('Horizontal Bar Plot')\n",
    "plt.show()\n"
   ]
  },
  {
   "cell_type": "code",
   "execution_count": 25,
   "id": "4e57b277",
   "metadata": {},
   "outputs": [
    {
     "data": {
      "image/png": "[encoded data removed]",
      "text/plain": [
       "<Figure size 432x288 with 2 Axes>"
      ]
     },
     "metadata": {
      "needs_background": "light"
     },
     "output_type": "display_data"
    }
   ],
   "source": [
    "import pandas as pd\n",
    "import matplotlib.pyplot as plt\n",
    "\n",
    "# Sample data\n",
    "data = {\n",
    "    'Category': [1, 2, 3, 4, 5, 6, 7, 8, 9, 10],\n",
    "    'Value': [2, 4, 6, 8, 10, 12, 14, 16, 18, 20]\n",
    "}\n",
    "\n",
    "df = pd.DataFrame(data)\n",
    "\n",
    "# Hexbin plot\n",
    "df.plot(kind='hexbin', x='Category', y='Value', gridsize=10)\n",
    "plt.title('Hexbin Plot')\n",
    "plt.show()\n"
   ]
  }
 ],
 "metadata": {
  "kernelspec": {
   "display_name": "Python 3 (ipykernel)",
   "language": "python",
   "name": "python3"
  },
  "language_info": {
   "codemirror_mode": {
    "name": "ipython",
    "version": 3
   },
   "file_extension": ".py",
   "mimetype": "text/x-python",
   "name": "python",
   "nbconvert_exporter": "python",
   "pygments_lexer": "ipython3",
   "version": "3.10.6"
  }
 },
 "nbformat": 4,
 "nbformat_minor": 5
}
