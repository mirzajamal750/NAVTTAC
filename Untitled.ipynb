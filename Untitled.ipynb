{
 "cells": [
  {
   "cell_type": "code",
   "execution_count": 3,
   "id": "2004cd3e",
   "metadata": {},
   "outputs": [],
   "source": [
    "testcase =[1,2,3,4,5,'a','A','B','b','#','%','R','8',9]"
   ]
  },
  {
   "cell_type": "code",
   "execution_count": null,
   "id": "80a6d535",
   "metadata": {},
   "outputs": [],
   "source": [
    "testcase3=['a','A','B','b1','Jamal','Ali','Abdullah','8',-9,1,0.2,3,4,-5]"
   ]
  },
  {
   "cell_type": "code",
   "execution_count": null,
   "id": "d4ed632c",
   "metadata": {},
   "outputs": [],
   "source": []
  }
 ],
 "metadata": {
  "kernelspec": {
   "display_name": "Python 3 (ipykernel)",
   "language": "python",
   "name": "python3"
  },
  "language_info": {
   "codemirror_mode": {
    "name": "ipython",
    "version": 3
   },
   "file_extension": ".py",
   "mimetype": "text/x-python",
   "name": "python",
   "nbconvert_exporter": "python",
   "pygments_lexer": "ipython3",
   "version": "3.10.6"
  }
 },
 "nbformat": 4,
 "nbformat_minor": 5
}
