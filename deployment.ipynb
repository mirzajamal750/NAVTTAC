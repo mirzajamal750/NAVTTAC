{
 "cells": [
  {
   "cell_type": "code",
   "execution_count": 7,
   "id": "59e02160",
   "metadata": {},
   "outputs": [
    {
     "name": "stdout",
     "output_type": "stream",
     "text": [
      "SSLC is a secondary level certificate exam. so enter your grades 1:A, 2:B, 3:C, 4:D 2\n",
      "HSC is a higher secondary certificate exam. so enter your grades 1:A, 2:B, 3:C, 4:D 2\n",
      "Enter CGPA (out of 4): 2\n",
      "Enter school type (0 for matriculation, 1 for CBSE, 2 for ICSE): 2\n",
      "Enter number of mini-projects: 3\n",
      "Enter number of projects: 3\n",
      "Enter core-subject skill level (out of 2): 2\n",
      "Enter aptitude skill level (out of 5): 4\n",
      "Enter problem-solving skill level (out of 5): 4\n",
      "Enter programming skill level (out of 5): 4\n",
      "Enter abstract thinking skill level (out of 5): 4\n",
      "Enter design skill level (out of 5): 4\n",
      "Enter age when you used  your first  computer: 4\n",
      "Enter age whenn you writw your first 2program: 4\n",
      "Enter number of lab programs done: 4\n",
      "Enter experience in data structures and coding (in months): 4\n",
      "Enter experience in using new technologies (in months): 4\n",
      "Enter number of symposiums attended: 4\n",
      "Enter number of symposiums won: 4\n",
      "Enter number of extracurricular activities participated in: 4\n",
      "Enter learning style (0 for visual, 1 for auditory, 2 for kinesthetic): 2\n",
      "Enter college bench percentage (out of 5): 4\n",
      "Enter how well college teachers know the student (out of 5): 4\n",
      "Enter college performance score (out of 5): 4\n",
      "Enter college skills score (out of 5): 4\n",
      "Predicted job role: UI & UX Designer\n"
     ]
    },
    {
     "name": "stderr",
     "output_type": "stream",
     "text": [
      "/home/mirza/.local/lib/python3.10/site-packages/sklearn/base.py:439: UserWarning: X does not have valid feature names, but KMeans was fitted with feature names\n",
      "  warnings.warn(\n"
     ]
    }
   ],
   "source": [
    "## import joblib\n",
    "import numpy as np\n",
    "from sklearn.preprocessing import MinMaxScaler\n",
    "import joblib\n",
    "\n",
    "kmeans = joblib.load('kmeans.pkl') \n",
    "\"\"\"Calling the model Kmeans\"\"\"\n",
    "\n",
    "\n",
    "# Take user input\n",
    "sslc = int(input('SSLC is a secondary level certificate exam. so enter your grades 1:A, 2:B, 3:C, 4:D '))\n",
    "hsc = int(input('HSC is a higher secondary certificate exam. so enter your grades 1:A, 2:B, 3:C, 4:D '))\n",
    "cgpa = float(input('Enter CGPA (out of 4): '))\n",
    "school_type = int(input('Enter school type (0 for matriculation, 1 for CBSE, 2 for ICSE): '))\n",
    "no_of_miniprojects = int(input('Enter number of mini-projects: '))\n",
    "no_of_projects = int(input('Enter number of projects: '))\n",
    "coresub_skill = int(input('Enter core-subject skill level (out of 2): '))\n",
    "aptitude_skill = int(input('Enter aptitude skill level (out of 5): '))\n",
    "problemsolving_skill = int(input('Enter problem-solving skill level (out of 5): '))\n",
    "programming_skill = int(input('Enter programming skill level (out of 5): '))\n",
    "abstract_skill = int(input('Enter abstract thinking skill level (out of 5): '))\n",
    "design_skill = int(input('Enter design skill level (out of 5): '))\n",
    "first_computer = int(input('Enter age when you used  your first  computer: '))\n",
    "first_program = int(input('Enter age whenn you writw your first 2program: '))\n",
    "lab_programs = int(input('Enter number of lab programs done: '))\n",
    "data_structures_exp = int(input('Enter experience in data structures and coding (in months): '))\n",
    "new_tech_exp = int(input('Enter experience in using new technologies (in months): '))\n",
    "sympos_attend = int(input('Enter number of symposiums attended: '))\n",
    "sympos_won = int(input('Enter number of symposiums won: '))\n",
    "extracurricular = int(input('Enter number of extracurricular activities participated in: '))\n",
    "learning_style = int(input('Enter learning style (0 for visual, 1 for auditory, 2 for kinesthetic): '))\n",
    "college_bench = int(input('Enter college bench percentage (out of 5): '))\n",
    "clg_teachers_know = int(input('Enter how well college teachers know the student (out of 5): '))\n",
    "college_performence = int(input('Enter college performance score (out of 5): '))\n",
    "college_skills = int(input('Enter college skills score (out of 5): '))\n",
    "\"\"\"Input Array of 25 features\"\"\"\n",
    "localtest = np.array([sslc, hsc, cgpa, school_type, no_of_miniprojects, no_of_projects, coresub_skill, abstract_skill, problemsolving_skill, programming_skill, abstract_skill, design_skill, first_computer, first_program, lab_programs, data_structures_exp, new_tech_exp, sympos_attend, sympos_won, extracurricular, learning_style, college_bench, clg_teachers_know, college_performence, college_skills])\n",
    "\"\"\"Reshape them for embedding in Model\"\"\"\n",
    "localtest = localtest.reshape(1, -1)\n",
    "\"\"\"Load the uper data \"\"\"\n",
    "predicted_cluster = kmeans.predict(localtest)\n",
    "\n",
    "if predicted_cluster == 0:\n",
    "    predicted_role = \"Putting False Values\"\n",
    "elif predicted_cluster == 1:\n",
    "    predicted_role = \"Business Analyst\"\n",
    "elif predicted_cluster == 2:\n",
    "    predicted_role = \"Data Analyst\"\n",
    "elif predicted_cluster == 3:\n",
    "    predicted_role = \"Web Developer\"\n",
    "elif predicted_cluster == 4:\n",
    "    predicted_role = \"Software Tester\"\n",
    "elif predicted_cluster == 5:\n",
    "    predicted_role = \"Technical Support\"\n",
    "elif predicted_cluster == 6:\n",
    "    predicted_role = \"UI & UX Designer\"\n",
    "else:\n",
    "    predicted_role = \"Software Developer\"\n",
    "\"\"\"Model Answer\"\"\"\n",
    "print(\"Predicted job role:\", predicted_role)"
   ]
  },
  {
   "cell_type": "markdown",
   "id": "1d0ae3b4",
   "metadata": {},
   "source": [
    "jamal\n",
    "code 4-5\n",
    "UI 3-2\n",
    "wrting code 4-5\n",
    "Input1st_arr1=[4,3,4]-----> AI developer(25(5=220))\n",
    "input2ndarr1[5,2,5]-------> dB(25(5=235))"
   ]
  },
  {
   "cell_type": "code",
   "execution_count": null,
   "id": "c205279d",
   "metadata": {},
   "outputs": [],
   "source": []
  },
  {
   "cell_type": "code",
   "execution_count": null,
   "id": "151c8d0f",
   "metadata": {},
   "outputs": [],
   "source": []
  },
  {
   "cell_type": "code",
   "execution_count": null,
   "id": "6d50691d",
   "metadata": {},
   "outputs": [],
   "source": []
  },
  {
   "cell_type": "code",
   "execution_count": null,
   "id": "dea51075",
   "metadata": {},
   "outputs": [],
   "source": []
  },
  {
   "cell_type": "code",
   "execution_count": null,
   "id": "f45e20bd",
   "metadata": {},
   "outputs": [],
   "source": []
  },
  {
   "cell_type": "code",
   "execution_count": null,
   "id": "9336f9e1",
   "metadata": {},
   "outputs": [],
   "source": []
  },
  {
   "cell_type": "code",
   "execution_count": null,
   "id": "ca76716a",
   "metadata": {},
   "outputs": [],
   "source": []
  }
 ],
 "metadata": {
  "kernelspec": {
   "display_name": "Python 3 (ipykernel)",
   "language": "python",
   "name": "python3"
  },
  "language_info": {
   "codemirror_mode": {
    "name": "ipython",
    "version": 3
   },
   "file_extension": ".py",
   "mimetype": "text/x-python",
   "name": "python",
   "nbconvert_exporter": "python",
   "pygments_lexer": "ipython3",
   "version": "3.10.6"
  }
 },
 "nbformat": 4,
 "nbformat_minor": 5
}
