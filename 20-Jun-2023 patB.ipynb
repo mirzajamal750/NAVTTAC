{
 "cells": [
  {
   "cell_type": "code",
   "execution_count": 4,
   "id": "e8683ed8",
   "metadata": {},
   "outputs": [
    {
     "name": "stdout",
     "output_type": "stream",
     "text": [
      "Enter sepal length: 2.2\n",
      "Enter sepal width: 2.2\n",
      "Enter petal length: 2.2\n",
      "Enter petal width: 2.2\n",
      "Predicted species: versicolor\n"
     ]
    }
   ],
   "source": [
    "import joblib\n",
    "import pandas as pd\n",
    "\n",
    "# Load the trained model and preprocessing objects\n",
    "model = joblib.load('model.pkl')\n",
    "scaler = joblib.load('scaler.pkl')\n",
    "label_encoder = joblib.load('label_encoder.pkl')\n",
    "\n",
    "# Define a function for preprocessing the input data\n",
    "def preprocess_input(data):\n",
    "    # Apply the same preprocessing steps as before\n",
    "    scaled_data = scaler.transform(data)\n",
    "    return scaled_data\n",
    "\n",
    "# Define a function for making predictions\n",
    "def predict_species(data):\n",
    "    # Preprocess the input data\n",
    "    preprocessed_data = preprocess_input(data)\n",
    "    \n",
    "    # Make predictions using the loaded model\n",
    "    predictions = model.predict(preprocessed_data)\n",
    "    \n",
    "    # Inverse transform the predicted labels back to original class names\n",
    "    predicted_species = label_encoder.inverse_transform(predictions)\n",
    "    \n",
    "    return predicted_species\n",
    "\n",
    "# Get input values from the user\n",
    "sepal_length = float(input(\"Enter sepal length: \"))\n",
    "sepal_width = float(input(\"Enter sepal width: \"))\n",
    "petal_length = float(input(\"Enter petal length: \"))\n",
    "petal_width = float(input(\"Enter petal width: \"))\n",
    "\n",
    "# Create a DataFrame with user input\n",
    "input_data = pd.DataFrame([[sepal_length, sepal_width, petal_length, petal_width]], columns=['sepal_length', 'sepal_width', 'petal_length', 'petal_width'])\n",
    "\n",
    "# Call the predict_species function with user input data\n",
    "predictions = predict_species(input_data)\n",
    "print(\"Predicted species:\", predictions[0])\n"
   ]
  },
  {
   "cell_type": "code",
   "execution_count": 5,
   "id": "a0cf2e38",
   "metadata": {},
   "outputs": [
    {
     "name": "stdout",
     "output_type": "stream",
     "text": [
      "Enter sepal length: 2.2\n",
      "Enter sepal width: 2.2\n",
      "Enter petal length: 2.2\n",
      "Enter petal width: 2.2\n",
      "Predicted sepal width: 2.2000000000000006\n"
     ]
    }
   ],
   "source": [
    "import joblib\n",
    "import pandas as pd\n",
    "\n",
    "# Load the trained model and preprocessing objects\n",
    "model = joblib.load('regression_model.pkl')\n",
    "scaler = joblib.load('scaler.pkl')\n",
    "\n",
    "# Define a function for preprocessing the input data\n",
    "def preprocess_input(data):\n",
    "    # Apply the same preprocessing steps as before\n",
    "    scaled_data = scaler.transform(data)\n",
    "    return scaled_data\n",
    "\n",
    "# Define a function for making predictions\n",
    "def predict_species(data):\n",
    "    # Preprocess the input data\n",
    "    preprocessed_data = preprocess_input(data)\n",
    "    \n",
    "    # Make predictions using the loaded model\n",
    "    predictions = model.predict(preprocessed_data)\n",
    "    \n",
    "    return predictions\n",
    "\n",
    "# Get input values from the user\n",
    "sepal_length = float(input(\"Enter sepal length: \"))\n",
    "sepal_width = float(input(\"Enter sepal width: \"))\n",
    "petal_length = float(input(\"Enter petal length: \"))\n",
    "petal_width = float(input(\"Enter petal width: \"))\n",
    "\n",
    "# Create a DataFrame with user input\n",
    "input_data = pd.DataFrame([[sepal_length, sepal_width, petal_length, petal_width]], columns=['sepal_length', 'sepal_width', 'petal_length', 'petal_width'])\n",
    "\n",
    "# Call the predict_species function with user input data\n",
    "predictions = predict_species(input_data)\n",
    "print(\"Predicted sepal width:\", predictions[0])\n"
   ]
  },
  {
   "cell_type": "markdown",
   "id": "1834c2ef",
   "metadata": {},
   "source": [
    "# In the first code snippet (classification), the model predicts the species of the iris flower based on the given input features (sepal length, sepal width, petal length, petal width). The predicted species is \"versicolor\" in your example. It classifies the input into one of the three species: \"setosa\", \"versicolor\", or \"virginica\".\n",
    "\n",
    "# In the second code snippet (regression), the model predicts the sepal width of the iris flower based on the given input features. The predicted sepal width is a numerical value, which in your example is 2.2000000000000006. It treats the problem as a regression task, aiming to predict a continuous value."
   ]
  },
  {
   "cell_type": "markdown",
   "id": "b4dab6f4",
   "metadata": {},
   "source": [
    "![Machine Learning Pipeline](images/1.png)\n"
   ]
  }
 ],
 "metadata": {
  "kernelspec": {
   "display_name": "Python 3 (ipykernel)",
   "language": "python",
   "name": "python3"
  },
  "language_info": {
   "codemirror_mode": {
    "name": "ipython",
    "version": 3
   },
   "file_extension": ".py",
   "mimetype": "text/x-python",
   "name": "python",
   "nbconvert_exporter": "python",
   "pygments_lexer": "ipython3",
   "version": "3.10.6"
  }
 },
 "nbformat": 4,
 "nbformat_minor": 5
}
