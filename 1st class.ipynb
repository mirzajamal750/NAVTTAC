{
 "cells": [
  {
   "cell_type": "code",
   "execution_count": 31,
   "id": "3fbc120d",
   "metadata": {},
   "outputs": [
    {
     "data": {
      "text/plain": [
       "'Convert float in to integer'"
      ]
     },
     "execution_count": 31,
     "metadata": {},
     "output_type": "execute_result"
    }
   ],
   "source": [
    "x = int(3.14)\n",
    "\"\"\"Convert float in to integer\"\"\""
   ]
  },
  {
   "cell_type": "code",
   "execution_count": 1,
   "id": "65bdfff6",
   "metadata": {},
   "outputs": [
    {
     "name": "stdout",
     "output_type": "stream",
     "text": [
      "100\n"
     ]
    }
   ],
   "source": [
    "eng=input()"
   ]
  },
  {
   "cell_type": "code",
   "execution_count": 3,
   "id": "75bf8cf3",
   "metadata": {},
   "outputs": [
    {
     "name": "stdout",
     "output_type": "stream",
     "text": [
      " Please Enter Marks of English100\n"
     ]
    }
   ],
   "source": [
    "English=int(input(\" Please Enter Marks of English\"))"
   ]
  },
  {
   "cell_type": "code",
   "execution_count": 4,
   "id": "fdf3fa8d",
   "metadata": {},
   "outputs": [
    {
     "data": {
      "text/plain": [
       "100"
      ]
     },
     "execution_count": 4,
     "metadata": {},
     "output_type": "execute_result"
    }
   ],
   "source": [
    "English"
   ]
  },
  {
   "cell_type": "code",
   "execution_count": 11,
   "id": "4c3928e2",
   "metadata": {},
   "outputs": [
    {
     "data": {
      "text/plain": [
       "3"
      ]
     },
     "execution_count": 11,
     "metadata": {},
     "output_type": "execute_result"
    }
   ],
   "source": [
    "x"
   ]
  },
  {
   "cell_type": "code",
   "execution_count": 28,
   "id": "451dda52",
   "metadata": {},
   "outputs": [
    {
     "data": {
      "text/plain": [
       "'\\nConvert integer into float\\n'"
      ]
     },
     "execution_count": 28,
     "metadata": {},
     "output_type": "execute_result"
    }
   ],
   "source": [
    "x = float(5)\n",
    "\"\"\"\n",
    "Convert integer into float\n",
    "\"\"\""
   ]
  },
  {
   "cell_type": "code",
   "execution_count": 13,
   "id": "20aed36a",
   "metadata": {},
   "outputs": [
    {
     "data": {
      "text/plain": [
       "5.0"
      ]
     },
     "execution_count": 13,
     "metadata": {},
     "output_type": "execute_result"
    }
   ],
   "source": [
    "x"
   ]
  },
  {
   "cell_type": "code",
   "execution_count": 32,
   "id": "3c4d257d",
   "metadata": {},
   "outputs": [
    {
     "data": {
      "text/plain": [
       "'Numarical value into string '"
      ]
     },
     "execution_count": 32,
     "metadata": {},
     "output_type": "execute_result"
    }
   ],
   "source": [
    "x = str(42)\n",
    "\"Numarical value into string \""
   ]
  },
  {
   "cell_type": "code",
   "execution_count": 15,
   "id": "5dd7e30d",
   "metadata": {},
   "outputs": [
    {
     "data": {
      "text/plain": [
       "'42'"
      ]
     },
     "execution_count": 15,
     "metadata": {},
     "output_type": "execute_result"
    }
   ],
   "source": [
    "x"
   ]
  },
  {
   "cell_type": "code",
   "execution_count": 36,
   "id": "168c7aee",
   "metadata": {},
   "outputs": [
    {
     "data": {
      "text/plain": [
       "'Interger value Zero in to boolean False'"
      ]
     },
     "execution_count": 36,
     "metadata": {},
     "output_type": "execute_result"
    }
   ],
   "source": [
    "x = bool(0)\n",
    "\"\"\"Interger value Zero in to boolean False\"\"\""
   ]
  },
  {
   "cell_type": "code",
   "execution_count": 17,
   "id": "0d1a39fb",
   "metadata": {},
   "outputs": [
    {
     "data": {
      "text/plain": [
       "False"
      ]
     },
     "execution_count": 17,
     "metadata": {},
     "output_type": "execute_result"
    }
   ],
   "source": [
    "x"
   ]
  },
  {
   "cell_type": "code",
   "execution_count": 39,
   "id": "49505fd6",
   "metadata": {},
   "outputs": [],
   "source": [
    "x = list((1, 2, 3))"
   ]
  },
  {
   "cell_type": "code",
   "execution_count": 54,
   "id": "073b63b1",
   "metadata": {},
   "outputs": [
    {
     "data": {
      "text/plain": [
       "1"
      ]
     },
     "execution_count": 54,
     "metadata": {},
     "output_type": "execute_result"
    }
   ],
   "source": [
    "x[0]"
   ]
  },
  {
   "cell_type": "code",
   "execution_count": 41,
   "id": "c6ac6efb",
   "metadata": {},
   "outputs": [],
   "source": [
    "x = tuple([1, 2, 3])"
   ]
  },
  {
   "cell_type": "code",
   "execution_count": 59,
   "id": "4acbc816",
   "metadata": {},
   "outputs": [
    {
     "data": {
      "text/plain": [
       "1"
      ]
     },
     "execution_count": 59,
     "metadata": {},
     "output_type": "execute_result"
    }
   ],
   "source": [
    "x[-3]"
   ]
  },
  {
   "cell_type": "code",
   "execution_count": 23,
   "id": "59a79b5d",
   "metadata": {},
   "outputs": [],
   "source": [
    "x = set([1, 2, 3])"
   ]
  },
  {
   "cell_type": "code",
   "execution_count": 56,
   "id": "ed0333c0",
   "metadata": {},
   "outputs": [
    {
     "data": {
      "text/plain": [
       "3"
      ]
     },
     "execution_count": 56,
     "metadata": {},
     "output_type": "execute_result"
    }
   ],
   "source": [
    "x[-1]"
   ]
  },
  {
   "cell_type": "code",
   "execution_count": 69,
   "id": "544892ca",
   "metadata": {},
   "outputs": [],
   "source": [
    "x = dict([(1, 'one'), (2, 'two')])"
   ]
  },
  {
   "cell_type": "code",
   "execution_count": 70,
   "id": "910c3023",
   "metadata": {},
   "outputs": [
    {
     "data": {
      "text/plain": [
       "'one'"
      ]
     },
     "execution_count": 70,
     "metadata": {},
     "output_type": "execute_result"
    }
   ],
   "source": [
    "x[1]"
   ]
  },
  {
   "cell_type": "markdown",
   "id": "afeddf1a",
   "metadata": {},
   "source": [
    "## Tuple:\n",
    "#### \"A tuple is an ordered collection of elements that is immutable\",\n",
    "####    meaning its elements cannot be modified once created.\n",
    "####   Tuples are defined using parentheses ( ) or without any delimiters if the context allows.\n",
    "####    Elements in a tuple can be of different data types, and they are separated by commas.\n",
    "####    Tuples are typically used when you want to store a fixed collection of related values that\n",
    " ####   should not be changed.\n",
    "####    Accessing elements in a tuple is done using indexing, where the index starts from 0."
   ]
  },
  {
   "cell_type": "code",
   "execution_count": 44,
   "id": "17594b01",
   "metadata": {},
   "outputs": [
    {
     "name": "stdout",
     "output_type": "stream",
     "text": [
      "1\n"
     ]
    }
   ],
   "source": [
    "my_tuple = (1, 'hello', 3.14, True)\n",
    "print(my_tuple[0])  # Output: 1"
   ]
  },
  {
   "cell_type": "markdown",
   "id": "41f06ca1",
   "metadata": {},
   "source": [
    "## Dictionary:\n",
    "#### A dictionary is an unordered collection of key-value pairs, where each value is associated with a unique key.\n",
    "#### Dictionaries are defined using curly braces { }, with key-value pairs separated by colons :.\n",
    "#### Keys in a dictionary must be immutable objects (such as strings or numbers), while values can be of any data type.\n",
    "#### Dictionaries are useful when you want to store and retrieve values based on specific keys, allowing for fast lookup operations.\n",
    "#### Accessing values in a dictionary is done by referencing the corresponding key.\n",
    "#### Example:\n"
   ]
  },
  {
   "cell_type": "code",
   "execution_count": 53,
   "id": "e96328f4",
   "metadata": {},
   "outputs": [
    {
     "name": "stdout",
     "output_type": "stream",
     "text": [
      "25\n"
     ]
    }
   ],
   "source": [
    "my_dict = {'name': 'John', 'age': 25, 'city': 'New York'}\n",
    "print(my_dict[\"age\"])  # Output: John"
   ]
  },
  {
   "cell_type": "code",
   "execution_count": 68,
   "id": "93aef975",
   "metadata": {},
   "outputs": [
    {
     "data": {
      "text/plain": [
       "{'name': 'Alice', 'age': 20, 'grade': 'A'}"
      ]
     },
     "execution_count": 68,
     "metadata": {},
     "output_type": "execute_result"
    }
   ],
   "source": [
    "student = {'name': 'Alice', 'age': 20, 'grade': 'A'}\n",
    "prices = {'apple': 1.99, 'banana': 0.99, 'orange': 1.49}\n",
    "student"
   ]
  },
  {
   "cell_type": "markdown",
   "id": "d8cdf8e8",
   "metadata": {},
   "source": [
    "# List:\n",
    "#### A list is an ordered collection of elements that is mutable, meaning its elements can be modified after creation.\n",
    "#### Lists are defined using square brackets [ ].\n",
    "####  Elements in a list can be of different data types, and they are separated by commas.\n",
    "#### Lists are commonly used when you want to store and manipulate a collection of items, such as adding or removing elements.\n",
    "#### Accessing elements in a list is done using indexing, similar to tuples.\n",
    "#### Example:"
   ]
  },
  {
   "cell_type": "code",
   "execution_count": 50,
   "id": "87b63308",
   "metadata": {},
   "outputs": [
    {
     "name": "stdout",
     "output_type": "stream",
     "text": [
      "1\n"
     ]
    }
   ],
   "source": [
    "my_list = [1, 2, 'apple', True]\n",
    "print(my_list[0]) "
   ]
  },
  {
   "cell_type": "code",
   "execution_count": 1,
   "id": "a8ae41b0",
   "metadata": {},
   "outputs": [
    {
     "name": "stdout",
     "output_type": "stream",
     "text": [
      "My name is John and I am 25 years old.\n"
     ]
    }
   ],
   "source": [
    "name = \"John\"\n",
    "age = 25\n",
    "\n",
    "print(f\"My name is {name} and I am {age} years old.\")\n",
    "\n"
   ]
  },
  {
   "cell_type": "code",
   "execution_count": 4,
   "id": "12314069",
   "metadata": {},
   "outputs": [
    {
     "name": "stdout",
     "output_type": "stream",
     "text": [
      "My name is John and I am 25 years old.\n"
     ]
    }
   ],
   "source": [
    "name = \"John\"\n",
    "age = 25\n",
    "\n",
    "print(\"My name is {} and I am {} years old.\".format(name, age))\n"
   ]
  },
  {
   "cell_type": "code",
   "execution_count": 2,
   "id": "631aa2e4",
   "metadata": {},
   "outputs": [
    {
     "name": "stdout",
     "output_type": "stream",
     "text": [
      "I want to pay 49.95 dollars for 49.95 pieces of item 49.95.\n"
     ]
    }
   ],
   "source": [
    "quantity = 3\n",
    "itemno = 567\n",
    "price = 49.95\n",
    "myorder = \"I want to pay {2} dollars for {2} pieces of item {2}.\"\n",
    "print(myorder.format(quantity, itemno, price))"
   ]
  },
  {
   "cell_type": "code",
   "execution_count": 3,
   "id": "1ecb5250",
   "metadata": {},
   "outputs": [
    {
     "name": "stdout",
     "output_type": "stream",
     "text": [
      "My name is Ali, and I am Ali\n"
     ]
    }
   ],
   "source": [
    "age = 36\n",
    "name= 'Ali'\n",
    "agee= 67\n",
    "namee=\"jamal\"\n",
    "txt = \"My name is {}, and I am {}\"\n",
    "r=txt.format(age,name);\n",
    "# print(txt.format(age,name))\n",
    "print(r.replace('36','Ali'))"
   ]
  },
  {
   "cell_type": "code",
   "execution_count": 5,
   "id": "01c408c1",
   "metadata": {},
   "outputs": [
    {
     "name": "stdout",
     "output_type": "stream",
     "text": [
      "My name is Ali, and I am Ali\n"
     ]
    }
   ],
   "source": [
    "age = 36\n",
    "name= 'Ali'\n",
    "agee= 67\n",
    "namee=\"jamal\"\n",
    "txt = \"My name is {}, and I am {}\"\n",
    "r=txt.format(age,name);\n",
    "# print(txt.format(age,name))\n",
    "print(r.replace('36','Ali'))"
   ]
  },
  {
   "cell_type": "code",
   "execution_count": 6,
   "id": "e899fc65",
   "metadata": {},
   "outputs": [
    {
     "name": "stdout",
     "output_type": "stream",
     "text": [
      "My name is John and I am 25 years old.\n"
     ]
    }
   ],
   "source": [
    "name = \"John\"\n",
    "age = 25\n",
    "\n",
    "print(f\"My name is {name} and I am {age} years old.\")\n"
   ]
  }
 ],
 "metadata": {
  "kernelspec": {
   "display_name": "Python 3 (ipykernel)",
   "language": "python",
   "name": "python3"
  },
  "language_info": {
   "codemirror_mode": {
    "name": "ipython",
    "version": 3
   },
   "file_extension": ".py",
   "mimetype": "text/x-python",
   "name": "python",
   "nbconvert_exporter": "python",
   "pygments_lexer": "ipython3",
   "version": "3.10.6"
  }
 },
 "nbformat": 4,
 "nbformat_minor": 5
}
