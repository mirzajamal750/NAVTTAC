{
 "cells": [
  {
   "cell_type": "markdown",
   "id": "e541a01c",
   "metadata": {},
   "source": [
    "# Lambda Functions in Python: An Introduction"
   ]
  },
  {
   "cell_type": "markdown",
   "id": "d463b794",
   "metadata": {},
   "source": [
    "# Structure \n",
    "## lambda arguments: expression"
   ]
  },
  {
   "cell_type": "code",
   "execution_count": 43,
   "id": "772a2c7d",
   "metadata": {},
   "outputs": [
    {
     "name": "stdout",
     "output_type": "stream",
     "text": [
      "25\n",
      "25\n"
     ]
    }
   ],
   "source": [
    "# Regular named function\n",
    "def square(x):\n",
    "    return x ** 2\n",
    "\n",
    "# Lambda function\n",
    "square_lambda = lambda x: x ** 2\n",
    "\n",
    "print(square(5))  # Output: 25\n",
    "print(square_lambda(5))  # Output: 25"
   ]
  },
  {
   "cell_type": "code",
   "execution_count": 47,
   "id": "062c5d0f",
   "metadata": {},
   "outputs": [
    {
     "name": "stdout",
     "output_type": "stream",
     "text": [
      "['Ali', 'Jamal', 'Hamza', 't', 'y']\n"
     ]
    }
   ],
   "source": [
    "my_list = [\"Ali\", \"Jamal\", \"Hamza\", 1, 2, 3,8.0 ,'t', 'y']\n",
    "numbers = list(filter(lambda x: isinstance(x, str) , my_list))\n",
    "print(numbers)\n"
   ]
  },
  {
   "cell_type": "code",
   "execution_count": 9,
   "id": "5a0f4bc9",
   "metadata": {},
   "outputs": [
    {
     "name": "stdout",
     "output_type": "stream",
     "text": [
      "Integers: [1, 2, 3]\n",
      "Floats: [9.0, 9.9]\n",
      "Characters: ['t', 'y']\n",
      "Strings: ['Ali', 'Jamal', 'Hamza']\n"
     ]
    }
   ],
   "source": [
    "my_list = [\"Ali\", \"Jamal\", \"Hamza\", 1, 2, 3,9.0,9.9, 't', 'y']\n",
    "\n",
    "integers = list(filter(lambda x: isinstance(x, int), my_list))\n",
    "floats = list(filter(lambda x: isinstance(x, float), my_list))\n",
    "characters = list(filter(lambda x: isinstance(x, str) and len(x) == 1, my_list))\n",
    "strings = list(filter(lambda x: isinstance(x, str) and len(x) > 1, my_list))\n",
    "\n",
    "print(\"Integers:\", integers)\n",
    "print(\"Floats:\", floats)\n",
    "print(\"Characters:\", characters)\n",
    "print(\"Strings:\", strings)\n"
   ]
  },
  {
   "cell_type": "code",
   "execution_count": 48,
   "id": "32fb3028",
   "metadata": {},
   "outputs": [
    {
     "name": "stdout",
     "output_type": "stream",
     "text": [
      "['Ali+string', 'Jamal+string', 'Hamza+string', 2, 4, 6, 18.0, 19.8, 't+character', 'y+character']\n"
     ]
    }
   ],
   "source": [
    "my_list = [\"Ali\", \"Jamal\", \"Hamza\", 1, 2, 3, 9.0, 9.9, 't', 'y']\n",
    "\n",
    "result = list(map(lambda x: x * 2 if isinstance(x, int) or \n",
    "                  isinstance(x, float) \n",
    "                  else (x + \"+string\" \n",
    "                        if (isinstance(x, str)\n",
    "                            and len(x) > 1) else x + \"+character\")\n",
    "                  , my_list))\n",
    "\n",
    "print(result)\n",
    "\n"
   ]
  },
  {
   "cell_type": "code",
   "execution_count": 16,
   "id": "285dcfb4",
   "metadata": {},
   "outputs": [
    {
     "name": "stdout",
     "output_type": "stream",
     "text": [
      "['Ali+string', 'Jamal+string', 'Hamza+string', 2, 4, 6, 't+string', 'y+string']\n"
     ]
    }
   ],
   "source": [
    "my_list = [\"Ali\", \"Jamal\", \"Hamza\", 1, 2, 3, 't', 'y']\n",
    "\n",
    "result = list(map(lambda x: x * 2 if isinstance(x, int) or isinstance(x, float) else (x + \"+string\" if isinstance(x, str) else x + \"+character\"), my_list))\n",
    "\n",
    "print(result)\n"
   ]
  },
  {
   "cell_type": "code",
   "execution_count": 17,
   "id": "e8176311",
   "metadata": {},
   "outputs": [
    {
     "name": "stdout",
     "output_type": "stream",
     "text": [
      "['Jamal']\n"
     ]
    }
   ],
   "source": [
    "names = [\"Ali\", \"Jamal\", \"Hamza\"]\n",
    "filtered_names = list(filter(lambda name: name.startswith(\"J\"), names))\n",
    "print(filtered_names)"
   ]
  },
  {
   "cell_type": "code",
   "execution_count": 69,
   "id": "ae868cc9",
   "metadata": {},
   "outputs": [
    {
     "name": "stdout",
     "output_type": "stream",
     "text": [
      "[(1, 5), (2, 7), (3, 2), (4, 9)]\n",
      "(1, 5)\n"
     ]
    }
   ],
   "source": [
    "# Sorting a list of tuples based on the second element\n",
    "data = [(1, 5), (3, 2), (4, 9), (2, 7)]\n",
    "# New=[17,54,342,2332,42,4,43]\n",
    "sorted_data = sorted(data, key=lambda x: x)\n",
    "# sorted_data=sorted(New,key=lambda New: New)\n",
    "print(sorted_data) \n",
    "print(sorted_data[0])"
   ]
  },
  {
   "cell_type": "code",
   "execution_count": 5,
   "id": "767109fd",
   "metadata": {},
   "outputs": [
    {
     "name": "stdout",
     "output_type": "stream",
     "text": [
      "[77.0, 86.0, 64.4, 53.6, 80.6]\n"
     ]
    }
   ],
   "source": [
    "# Mapping a lambda function to convert Celsius temperatures to Fahrenheit\n",
    "temperatures_celsius = [25, 30, 18, 12, 27]\n",
    "temperatures_fahrenheit = list(map(lambda x: (9/5) * x + 32, temperatures_celsius))\n",
    "print(temperatures_fahrenheit)"
   ]
  },
  {
   "cell_type": "code",
   "execution_count": 6,
   "id": "08af2f8e",
   "metadata": {},
   "outputs": [
    {
     "name": "stdout",
     "output_type": "stream",
     "text": [
      "[25, 36, 49, 64]\n"
     ]
    }
   ],
   "source": [
    "lambda_table = lambda x: x ** 2\n",
    "result = list(map(lambda_table, [5, 6, 7, 8]))\n",
    "print(result)"
   ]
  },
  {
   "cell_type": "markdown",
   "id": "f4ac478b",
   "metadata": {},
   "source": [
    "# Example of Nested Functions:"
   ]
  },
  {
   "cell_type": "code",
   "execution_count": 90,
   "id": "d73908e9",
   "metadata": {},
   "outputs": [
    {
     "name": "stdout",
     "output_type": "stream",
     "text": [
      "10\n"
     ]
    }
   ],
   "source": [
    "def outer_function(x):\n",
    "    def inner_function():\n",
    "        print(x)  # Inner function has access to the variable x from the outer function\n",
    "\n",
    "    return inner_function\n",
    "\n",
    "closure = outer_function(10)\n",
    "closure()  # Output: 10\n"
   ]
  },
  {
   "cell_type": "markdown",
   "id": "0a1ed56a",
   "metadata": {},
   "source": [
    "# Example of Inner Function:"
   ]
  },
  {
   "cell_type": "code",
   "execution_count": 72,
   "id": "621c03a4",
   "metadata": {},
   "outputs": [
    {
     "name": "stdout",
     "output_type": "stream",
     "text": [
      "10\n"
     ]
    }
   ],
   "source": [
    "def outer_function():\n",
    "    x = 10\n",
    "    def inner_function():\n",
    "        print(x)  # Inner function has access to the variable x from the outer function\n",
    "\n",
    "    inner_function()\n",
    "# x=10\n",
    "outer_function()  # Output: 10\n"
   ]
  },
  {
   "cell_type": "markdown",
   "id": "6532b6b1",
   "metadata": {},
   "source": [
    "# Local Variables"
   ]
  },
  {
   "cell_type": "code",
   "execution_count": 19,
   "id": "e3ecbffc",
   "metadata": {},
   "outputs": [
    {
     "name": "stdout",
     "output_type": "stream",
     "text": [
      "10\n"
     ]
    }
   ],
   "source": [
    "def my_function():\n",
    "    # Local variable\n",
    "    x = 10\n",
    "    print(x)\n",
    "\n",
    "my_function()  # Output: 10\n"
   ]
  },
  {
   "cell_type": "markdown",
   "id": "5a3ba49a",
   "metadata": {},
   "source": [
    "# Global Variables\n",
    "\n"
   ]
  },
  {
   "cell_type": "code",
   "execution_count": 20,
   "id": "1b59276a",
   "metadata": {},
   "outputs": [
    {
     "name": "stdout",
     "output_type": "stream",
     "text": [
      "20\n"
     ]
    }
   ],
   "source": [
    "# Global variable\n",
    "y = 20\n",
    "\n",
    "def my_function():\n",
    "    print(y)\n",
    "\n",
    "my_function()  # Output: 20\n"
   ]
  },
  {
   "cell_type": "markdown",
   "id": "96e0cfc7",
   "metadata": {},
   "source": [
    "# Enclosing Scope (Closure)"
   ]
  },
  {
   "cell_type": "code",
   "execution_count": 26,
   "id": "237c7e60",
   "metadata": {},
   "outputs": [
    {
     "name": "stdout",
     "output_type": "stream",
     "text": [
      "30\n"
     ]
    }
   ],
   "source": [
    "def outer_function():\n",
    "    x = 30\n",
    "    \n",
    "    def inner_function():\n",
    "        print(x)\n",
    "    \n",
    "    inner_function()  # Output: 30\n",
    "\n",
    "outer_function()\n"
   ]
  },
  {
   "cell_type": "code",
   "execution_count": 74,
   "id": "4502d3ce",
   "metadata": {},
   "outputs": [
    {
     "name": "stdout",
     "output_type": "stream",
     "text": [
      "Collecting maths\n",
      "  Downloading maths-0.0.0.tar.gz (961 bytes)\n",
      "  Preparing metadata (setup.py) ... \u001b[?25lerror\n",
      "  \u001b[1;31merror\u001b[0m: \u001b[1msubprocess-exited-with-error\u001b[0m\n",
      "  \n",
      "  \u001b[31m×\u001b[0m \u001b[32mpython setup.py egg_info\u001b[0m did not run successfully.\n",
      "  \u001b[31m│\u001b[0m exit code: \u001b[1;36m1\u001b[0m\n",
      "  \u001b[31m╰─>\u001b[0m \u001b[31m[6 lines of output]\u001b[0m\n",
      "  \u001b[31m   \u001b[0m Traceback (most recent call last):\n",
      "  \u001b[31m   \u001b[0m   File \"<string>\", line 2, in <module>\n",
      "  \u001b[31m   \u001b[0m   File \"<pip-setuptools-caller>\", line 34, in <module>\n",
      "  \u001b[31m   \u001b[0m   File \"/tmp/pip-install-3ty7k7l0/maths_863eef522ece40f8a800d39161448099/setup.py\", line 5, in <module>\n",
      "  \u001b[31m   \u001b[0m     version=open('VERSION').read().strip(),\n",
      "  \u001b[31m   \u001b[0m FileNotFoundError: [Errno 2] No such file or directory: 'VERSION'\n",
      "  \u001b[31m   \u001b[0m \u001b[31m[end of output]\u001b[0m\n",
      "  \n",
      "  \u001b[1;35mnote\u001b[0m: This error originates from a subprocess, and is likely not a problem with pip.\n",
      "\u001b[1;31merror\u001b[0m: \u001b[1mmetadata-generation-failed\u001b[0m\n",
      "\n",
      "\u001b[31m×\u001b[0m Encountered error while generating package metadata.\n",
      "\u001b[31m╰─>\u001b[0m See above for output.\n",
      "\n",
      "\u001b[1;35mnote\u001b[0m: This is an issue with the package mentioned above, not pip.\n",
      "\u001b[1;36mhint\u001b[0m: See above for details.\n",
      "\u001b[?25h"
     ]
    }
   ],
   "source": [
    "!pip install maths"
   ]
  },
  {
   "cell_type": "markdown",
   "id": "7f39125f",
   "metadata": {},
   "source": [
    "# Built-in Scope"
   ]
  },
  {
   "cell_type": "code",
   "execution_count": 27,
   "id": "836da0dd",
   "metadata": {},
   "outputs": [
    {
     "name": "stdout",
     "output_type": "stream",
     "text": [
      "3.141592653589793\n"
     ]
    }
   ],
   "source": [
    "import math\n",
    "\n",
    "def my_function():\n",
    "    print(math.pi)  # Output: 3.141592653589793\n",
    "\n",
    "my_function()\n"
   ]
  },
  {
   "cell_type": "markdown",
   "id": "fdb076dd",
   "metadata": {},
   "source": [
    "# Variable Shadowing"
   ]
  },
  {
   "cell_type": "code",
   "execution_count": 28,
   "id": "c7aec7de",
   "metadata": {},
   "outputs": [
    {
     "name": "stdout",
     "output_type": "stream",
     "text": [
      "20\n",
      "10\n"
     ]
    }
   ],
   "source": [
    "x = 10\n",
    "\n",
    "def my_function():\n",
    "    x = 20  # Local variable shadows the global variable\n",
    "    print(x)  # Output: 20\n",
    "\n",
    "my_function()\n",
    "print(x)  # Output: 10 (Global variable remains unaffected)\n"
   ]
  },
  {
   "cell_type": "markdown",
   "id": "9e952757",
   "metadata": {},
   "source": [
    "# Scope Resolution and the LEGB Rule"
   ]
  },
  {
   "cell_type": "code",
   "execution_count": 29,
   "id": "ca1e221b",
   "metadata": {},
   "outputs": [
    {
     "name": "stdout",
     "output_type": "stream",
     "text": [
      "30\n",
      "20\n",
      "10\n"
     ]
    }
   ],
   "source": [
    "x = 10\n",
    "\n",
    "def outer_function():\n",
    "    x = 20\n",
    "    \n",
    "    def inner_function():\n",
    "        x = 30\n",
    "        print(x)  # Output: 30\n",
    "    \n",
    "    inner_function()\n",
    "    print(x)  # Output: 20\n",
    "\n",
    "outer_function()\n",
    "print(x)  # Output: 10 (Global variable remains unaffected)\n"
   ]
  },
  {
   "cell_type": "markdown",
   "id": "2e8a6e5f",
   "metadata": {},
   "source": [
    "# Global Keyword"
   ]
  },
  {
   "cell_type": "code",
   "execution_count": 33,
   "id": "a0969b2b",
   "metadata": {},
   "outputs": [
    {
     "name": "stdout",
     "output_type": "stream",
     "text": [
      "20\n",
      "20\n"
     ]
    }
   ],
   "source": [
    "x = 10\n",
    "\n",
    "def my_function():\n",
    "    global x  # Declare x as a global variable\n",
    "    x = 20\n",
    "    print(x)  # Output: 20\n",
    "\n",
    "my_function()\n",
    "print(x)  # Output: 20 (Global variable is modified)\n"
   ]
  },
  {
   "cell_type": "markdown",
   "id": "87e77b4f",
   "metadata": {},
   "source": [
    "# Nonlocal Keyword"
   ]
  },
  {
   "cell_type": "code",
   "execution_count": 76,
   "id": "93d16339",
   "metadata": {},
   "outputs": [
    {
     "name": "stdout",
     "output_type": "stream",
     "text": [
      "2\n",
      "2\n",
      "20\n"
     ]
    }
   ],
   "source": [
    "x=20\n",
    "def outer_function():\n",
    "    x = 10\n",
    "    \n",
    "    def inner_function():\n",
    "        nonlocal x  # Declare x as a nonlocal variable\n",
    "        x = 2\n",
    "        print(x)  # Output: 20\n",
    "    \n",
    "    inner_function()\n",
    "    print(x)  # Output: 20 (Variable from the enclosing scope is modified)\n",
    "\n",
    "outer_function()\n",
    "print(x)"
   ]
  },
  {
   "cell_type": "markdown",
   "id": "e7dcc91b",
   "metadata": {},
   "source": [
    "# Try and Except"
   ]
  },
  {
   "cell_type": "code",
   "execution_count": 83,
   "id": "ef3ae397",
   "metadata": {},
   "outputs": [
    {
     "name": "stdout",
     "output_type": "stream",
     "text": [
      "Index out of range!\n"
     ]
    }
   ],
   "source": [
    "my_list = [1, 2, 3]\n",
    "try:\n",
    "    value = my_list[100]\n",
    "    print(value)\n",
    "except IndexError:\n",
    "    print(\"Index out of range!\")\n"
   ]
  },
  {
   "cell_type": "code",
   "execution_count": 79,
   "id": "c40221db",
   "metadata": {},
   "outputs": [
    {
     "name": "stdout",
     "output_type": "stream",
     "text": [
      "Mistake in your code \n"
     ]
    }
   ],
   "source": [
    "def even(x):\n",
    "    try:\n",
    "        for i in x:\n",
    "            print(\"x\")\n",
    "    except:\n",
    "                  print(\"Mistake in your code \")\n",
    "x=10\n",
    "even(x)"
   ]
  },
  {
   "cell_type": "code",
   "execution_count": 36,
   "id": "2ce25809",
   "metadata": {},
   "outputs": [
    {
     "name": "stdout",
     "output_type": "stream",
     "text": [
      "File not found!\n"
     ]
    }
   ],
   "source": [
    "try:\n",
    "    file = open(\"nonexistent.txt\", \"r\")\n",
    "    content = file.read()\n",
    "    print(content)\n",
    "    file.close()\n",
    "except FileNotFoundError:\n",
    "    print(\"File not found!\")\n"
   ]
  },
  {
   "cell_type": "markdown",
   "id": "104dc74b",
   "metadata": {},
   "source": [
    "# File handling "
   ]
  },
  {
   "cell_type": "code",
   "execution_count": 3,
   "id": "38d3defb",
   "metadata": {},
   "outputs": [
    {
     "name": "stdout",
     "output_type": "stream",
     "text": [
      "Over write\n"
     ]
    }
   ],
   "source": [
    "file = open(\"checking.txt\")  # Open file in read mode\n",
    "content = file.read()  # Read the entire content of the file\n",
    "print(content)\n",
    "file.close()  # Close the file\n"
   ]
  },
  {
   "cell_type": "code",
   "execution_count": 8,
   "id": "62c10077",
   "metadata": {},
   "outputs": [
    {
     "ename": "NameError",
     "evalue": "name 'x' is not defined",
     "output_type": "error",
     "traceback": [
      "\u001b[0;31m---------------------------------------------------------------------------\u001b[0m",
      "\u001b[0;31mNameError\u001b[0m                                 Traceback (most recent call last)",
      "\u001b[0;32m/tmp/ipykernel_3302/3057431979.py\u001b[0m in \u001b[0;36m<module>\u001b[0;34m\u001b[0m\n\u001b[1;32m      6\u001b[0m     \u001b[0mprint\u001b[0m\u001b[0;34m(\u001b[0m\u001b[0mcontent\u001b[0m\u001b[0;34m)\u001b[0m\u001b[0;34m\u001b[0m\u001b[0;34m\u001b[0m\u001b[0m\n\u001b[1;32m      7\u001b[0m     \u001b[0mfile\u001b[0m\u001b[0;34m.\u001b[0m\u001b[0mclose\u001b[0m\u001b[0;34m(\u001b[0m\u001b[0;34m)\u001b[0m\u001b[0;34m\u001b[0m\u001b[0;34m\u001b[0m\u001b[0m\n\u001b[0;32m----> 8\u001b[0;31m \u001b[0mcreate\u001b[0m\u001b[0;34m(\u001b[0m\u001b[0;34m)\u001b[0m\u001b[0;34m\u001b[0m\u001b[0;34m\u001b[0m\u001b[0m\n\u001b[0m\u001b[1;32m      9\u001b[0m \u001b[0;34m\u001b[0m\u001b[0m\n",
      "\u001b[0;32m/tmp/ipykernel_3302/3057431979.py\u001b[0m in \u001b[0;36mcreate\u001b[0;34m()\u001b[0m\n\u001b[1;32m      1\u001b[0m \u001b[0;32mdef\u001b[0m \u001b[0mcreate\u001b[0m\u001b[0;34m(\u001b[0m\u001b[0;34m)\u001b[0m\u001b[0;34m:\u001b[0m\u001b[0;34m\u001b[0m\u001b[0;34m\u001b[0m\u001b[0m\n\u001b[0;32m----> 2\u001b[0;31m     \u001b[0mfile\u001b[0m \u001b[0;34m=\u001b[0m \u001b[0mopen\u001b[0m\u001b[0;34m(\u001b[0m\u001b[0;34m\"question4.txt\"\u001b[0m\u001b[0;34m,\u001b[0m\u001b[0mx\u001b[0m\u001b[0;34m)\u001b[0m  \u001b[0;31m# Open file in read mode # Read the entire content of the file\u001b[0m\u001b[0;34m\u001b[0m\u001b[0;34m\u001b[0m\u001b[0m\n\u001b[0m\u001b[1;32m      3\u001b[0m \u001b[0;32mdef\u001b[0m \u001b[0mread\u001b[0m\u001b[0;34m(\u001b[0m\u001b[0;34m)\u001b[0m\u001b[0;34m:\u001b[0m\u001b[0;34m\u001b[0m\u001b[0;34m\u001b[0m\u001b[0m\n\u001b[1;32m      4\u001b[0m     \u001b[0mfile\u001b[0m \u001b[0;34m=\u001b[0m \u001b[0mopen\u001b[0m\u001b[0;34m(\u001b[0m\u001b[0;34m\"question4.txt\"\u001b[0m\u001b[0;34m)\u001b[0m  \u001b[0;31m# Open file in read mode\u001b[0m\u001b[0;34m\u001b[0m\u001b[0;34m\u001b[0m\u001b[0m\n\u001b[1;32m      5\u001b[0m     \u001b[0mcontent\u001b[0m \u001b[0;34m=\u001b[0m \u001b[0mfile\u001b[0m\u001b[0;34m.\u001b[0m\u001b[0mread\u001b[0m\u001b[0;34m(\u001b[0m\u001b[0;34m)\u001b[0m  \u001b[0;31m# Read the entire content of the file\u001b[0m\u001b[0;34m\u001b[0m\u001b[0;34m\u001b[0m\u001b[0m\n",
      "\u001b[0;31mNameError\u001b[0m: name 'x' is not defined"
     ]
    }
   ],
   "source": [
    "def create():\n",
    "    file = open(\"question4.txt\",x)  # Open file in read mode # Read the entire content of the file \n",
    "def read():\n",
    "    file = open(\"question4.txt\")  # Open file in read mode\n",
    "    content = file.read()  # Read the entire content of the file\n",
    "    print(content)\n",
    "    file.close()\n",
    "    \n",
    "    "
   ]
  },
  {
   "cell_type": "code",
   "execution_count": 6,
   "id": "66931d19",
   "metadata": {},
   "outputs": [
    {
     "name": "stdout",
     "output_type": "stream",
     "text": [
      "\n"
     ]
    }
   ],
   "source": [
    "file = open(\"testing.txt\")  # Open file in read mode\n",
    "content = file.read()  # Read the entire content of the file\n",
    "print(content)\n",
    "file.close() "
   ]
  },
  {
   "cell_type": "code",
   "execution_count": 86,
   "id": "df3983d7",
   "metadata": {},
   "outputs": [
    {
     "data": {
      "text/plain": [
       "'Hello, World!'"
      ]
     },
     "execution_count": 86,
     "metadata": {},
     "output_type": "execute_result"
    }
   ],
   "source": [
    "content"
   ]
  },
  {
   "cell_type": "code",
   "execution_count": 87,
   "id": "147ac4ba",
   "metadata": {},
   "outputs": [],
   "source": [
    "file = open(\"checking.txt\", \"w\")  # Open file in write mode\n",
    "file.write(\"Over write\")  # Write content to the file\n",
    "file.close()\n",
    "\n"
   ]
  },
  {
   "cell_type": "code",
   "execution_count": 89,
   "id": "9b89d1af",
   "metadata": {},
   "outputs": [
    {
     "name": "stdout",
     "output_type": "stream",
     "text": [
      "File not found!\n"
     ]
    }
   ],
   "source": [
    "try:\n",
    "    file = open(\"example.txt\", \"r\")\n",
    "    content = file.read()\n",
    "    print(content)\n",
    "    file.close()\n",
    "except FileNotFoundError:\n",
    "    print(\"File not found!\")\n",
    "except PermissionError:\n",
    "    print(\"Permission denied!\")\n"
   ]
  },
  {
   "cell_type": "code",
   "execution_count": 62,
   "id": "9bcfa368",
   "metadata": {},
   "outputs": [
    {
     "name": "stdout",
     "output_type": "stream",
     "text": [
      "Hello, World!\n",
      "File read successfully!\n",
      "closed\n"
     ]
    }
   ],
   "source": [
    "try:\n",
    "    file = open(\"checking.txt\", \"r\")\n",
    "    content = file.read()\n",
    "    print(content)\n",
    "except FileNotFoundError:\n",
    "    print(\"File not found!\")\n",
    "else:\n",
    "    print(\"File read successfully!\")\n",
    "finally:\n",
    "    print(\"closed\")\n",
    "    file.close()\n"
   ]
  },
  {
   "cell_type": "code",
   "execution_count": 66,
   "id": "a6c7f201",
   "metadata": {},
   "outputs": [
    {
     "name": "stdout",
     "output_type": "stream",
     "text": [
      "Invalid year!\n"
     ]
    }
   ],
   "source": [
    "def calculate_age(year):\n",
    "    if year <= 0:\n",
    "        raise ValueError(\"Invalid year!\")\n",
    "    return 2023 - year\n",
    "\n",
    "try:\n",
    "    age = calculate_age(-994)\n",
    "    print(age)\n",
    "except ValueError as e:\n",
    "    print(str(e))\n"
   ]
  },
  {
   "cell_type": "code",
   "execution_count": 77,
   "id": "b6838150",
   "metadata": {},
   "outputs": [
    {
     "name": "stdout",
     "output_type": "stream",
     "text": [
      "This is a custom exception!\n"
     ]
    }
   ],
   "source": [
    "class MyCustomException(Exception):\n",
    "    pass\n",
    "\n",
    "try:\n",
    "    raise MyCustomException(\"This is a custom exception!\")\n",
    "except MyCustomException as e:\n",
    "    print(str(e))\n"
   ]
  },
  {
   "cell_type": "code",
   "execution_count": 89,
   "id": "32967d10",
   "metadata": {},
   "outputs": [
    {
     "ename": "ValueError",
     "evalue": "File not found!",
     "output_type": "error",
     "traceback": [
      "\u001b[0;31m---------------------------------------------------------------------------\u001b[0m",
      "\u001b[0;31mFileNotFoundError\u001b[0m                         Traceback (most recent call last)",
      "\u001b[0;32m/tmp/ipykernel_6615/1609935429.py\u001b[0m in \u001b[0;36m<module>\u001b[0;34m\u001b[0m\n\u001b[1;32m      1\u001b[0m \u001b[0;32mtry\u001b[0m\u001b[0;34m:\u001b[0m\u001b[0;34m\u001b[0m\u001b[0;34m\u001b[0m\u001b[0m\n\u001b[0;32m----> 2\u001b[0;31m     \u001b[0mfile\u001b[0m \u001b[0;34m=\u001b[0m \u001b[0mopen\u001b[0m\u001b[0;34m(\u001b[0m\u001b[0;34m\"nonexistent.txt\"\u001b[0m\u001b[0;34m,\u001b[0m \u001b[0;34m\"r\"\u001b[0m\u001b[0;34m)\u001b[0m\u001b[0;34m\u001b[0m\u001b[0;34m\u001b[0m\u001b[0m\n\u001b[0m\u001b[1;32m      3\u001b[0m     \u001b[0mcontent\u001b[0m \u001b[0;34m=\u001b[0m \u001b[0mfile\u001b[0m\u001b[0;34m.\u001b[0m\u001b[0mread\u001b[0m\u001b[0;34m(\u001b[0m\u001b[0;34m)\u001b[0m\u001b[0;34m\u001b[0m\u001b[0;34m\u001b[0m\u001b[0m\n",
      "\u001b[0;31mFileNotFoundError\u001b[0m: [Errno 2] No such file or directory: 'nonexistent.txt'",
      "\nThe above exception was the direct cause of the following exception:\n",
      "\u001b[0;31mValueError\u001b[0m                                Traceback (most recent call last)",
      "\u001b[0;32m/tmp/ipykernel_6615/1609935429.py\u001b[0m in \u001b[0;36m<module>\u001b[0;34m\u001b[0m\n\u001b[1;32m      5\u001b[0m     \u001b[0mfile\u001b[0m\u001b[0;34m.\u001b[0m\u001b[0mclose\u001b[0m\u001b[0;34m(\u001b[0m\u001b[0;34m)\u001b[0m\u001b[0;34m\u001b[0m\u001b[0;34m\u001b[0m\u001b[0m\n\u001b[1;32m      6\u001b[0m \u001b[0;32mexcept\u001b[0m \u001b[0mFileNotFoundError\u001b[0m \u001b[0;32mas\u001b[0m \u001b[0me\u001b[0m\u001b[0;34m:\u001b[0m\u001b[0;34m\u001b[0m\u001b[0;34m\u001b[0m\u001b[0m\n\u001b[0;32m----> 7\u001b[0;31m     \u001b[0;32mraise\u001b[0m \u001b[0mValueError\u001b[0m\u001b[0;34m(\u001b[0m\u001b[0;34m\"File not found!\"\u001b[0m\u001b[0;34m)\u001b[0m \u001b[0;32mfrom\u001b[0m \u001b[0me\u001b[0m\u001b[0;34m\u001b[0m\u001b[0;34m\u001b[0m\u001b[0m\n\u001b[0m",
      "\u001b[0;31mValueError\u001b[0m: File not found!"
     ]
    }
   ],
   "source": [
    "try:\n",
    "    file = open(\"nonexistent.txt\", \"r\")\n",
    "    content = file.read()\n",
    "    print(content)\n",
    "    file.close()\n",
    "except FileNotFoundError as e:\n",
    "    raise ValueError(\"File not found!\") from e\n"
   ]
  },
  {
   "cell_type": "markdown",
   "id": "e3a4e254",
   "metadata": {},
   "source": [
    "# Constructors and destructors: Explain the __init__ method as a constructor and the __del__ method as a destructor."
   ]
  },
  {
   "cell_type": "code",
   "execution_count": 101,
   "id": "6c2b85c3",
   "metadata": {},
   "outputs": [
    {
     "name": "stdout",
     "output_type": "stream",
     "text": [
      "Object created!\n",
      "Object destroyed!\n"
     ]
    }
   ],
   "source": [
    "class MyClass:\n",
    "    def __init__(self, value):\n",
    "        self.value = value\n",
    "        print(\"Object created!\")\n",
    "\n",
    "    def __del__(self):\n",
    "        print(\"Object destroyed!\")\n",
    "\n",
    "obj = MyClass(10)  # Output: Object created!\n",
    "del obj  # Output: Object destroyed!\n"
   ]
  },
  {
   "cell_type": "markdown",
   "id": "f1157a44",
   "metadata": {},
   "source": [
    "# Access modifiers: Discuss access modifiers like public, private, and protected to control the visibility of class members."
   ]
  },
  {
   "cell_type": "code",
   "execution_count": 106,
   "id": "552bf210",
   "metadata": {},
   "outputs": [
    {
     "name": "stdout",
     "output_type": "stream",
     "text": [
      "10\n",
      "20\n",
      "30\n",
      "Private method\n"
     ]
    }
   ],
   "source": [
    "class MyClass:\n",
    "    public_var = 10\n",
    "    _protected_var = 20\n",
    "    __private_var = 30\n",
    "\n",
    "    def __private_method(self):\n",
    "        print(\"Private method\")\n",
    "\n",
    "obj = MyClass()\n",
    "print(obj.public_var)  # Output: 10\n",
    "print(obj._protected_var)  # Output: 20\n",
    "print(obj._MyClass__private_var)  # Output: 30\n",
    "obj._MyClass__private_method() # Output: Private method\n"
   ]
  },
  {
   "cell_type": "markdown",
   "id": "e0666234",
   "metadata": {},
   "source": [
    "# Creating Objects"
   ]
  },
  {
   "cell_type": "code",
   "execution_count": 94,
   "id": "02a7886b",
   "metadata": {},
   "outputs": [
    {
     "name": "stdout",
     "output_type": "stream",
     "text": [
      "10\n",
      "Honda\n",
      "10\n"
     ]
    }
   ],
   "source": [
    "class Car:\n",
    "    def __init__(self, brand):\n",
    "        self.brand = brand\n",
    "        print(brand)\n",
    "\n",
    "car1 = Car(10)\n",
    "car2 = Car(\"Honda\")\n",
    "print(car1.brand)"
   ]
  },
  {
   "cell_type": "code",
   "execution_count": 110,
   "id": "23afc8b7",
   "metadata": {},
   "outputs": [
    {
     "name": "stdout",
     "output_type": "stream",
     "text": [
      "Woof!\n"
     ]
    }
   ],
   "source": [
    "class Dog:\n",
    "    def bark(self):\n",
    "        print(\"Woof!\")\n",
    "\n",
    "dog = Dog()\n",
    "dog.bark()  # Output: Woof!\n"
   ]
  },
  {
   "cell_type": "markdown",
   "id": "880d95a5",
   "metadata": {},
   "source": [
    "#  Class Inheritance"
   ]
  },
  {
   "cell_type": "code",
   "execution_count": 115,
   "id": "b9a468a6",
   "metadata": {},
   "outputs": [
    {
     "name": "stdout",
     "output_type": "stream",
     "text": [
      "Animal speaks!\n",
      "Dog barks!\n"
     ]
    }
   ],
   "source": [
    "class Animal:\n",
    "    def speak(self):\n",
    "        print(\"Animal speaks!\")\n",
    "\n",
    "class Dog(Animal):\n",
    "    def bark(self):\n",
    "        print(\"Dog barks!\")\n",
    "\n",
    "dog = Dog()\n",
    "dog.speak()  # Output: Animal speaks!\n",
    "dog.bark()  # Output: Dog barks!\n"
   ]
  },
  {
   "cell_type": "markdown",
   "id": "1e292ce7",
   "metadata": {},
   "source": [
    "# Method overriding and super keyword: Discuss method overriding to customize inherited methods and the super keyword to access the parent class."
   ]
  },
  {
   "cell_type": "code",
   "execution_count": 122,
   "id": "7eb06dac",
   "metadata": {},
   "outputs": [
    {
     "name": "stdout",
     "output_type": "stream",
     "text": [
      "Animal speaks!\n",
      "Cat meows!\n"
     ]
    }
   ],
   "source": [
    "class Animal:\n",
    "    def speak(self):\n",
    "        print(\"Animal speaks!\")\n",
    "\n",
    "class Cat(Animal):\n",
    "    def speak(self):\n",
    "        super().speak()\n",
    "        print(\"Cat meows!\")\n",
    "\n",
    "cat = Cat()\n",
    "cat.speak()\n"
   ]
  },
  {
   "cell_type": "markdown",
   "id": "f132800d",
   "metadata": {},
   "source": [
    "# In Python, methods are functions defined within the context of a class. They are associated with objects or instances of the class and can access and manipulate the object's attributes. Methods are a fundamental part of object-oriented programming and encapsulate behaviors or actions that objects of the class can perform."
   ]
  },
  {
   "cell_type": "code",
   "execution_count": 123,
   "id": "28ae1ce6",
   "metadata": {},
   "outputs": [
    {
     "name": "stdout",
     "output_type": "stream",
     "text": [
      "78.5\n"
     ]
    }
   ],
   "source": [
    "class Circle:\n",
    "    def __init__(self, radius):\n",
    "        self.radius = radius\n",
    "\n",
    "    def calculate_area(self):\n",
    "        return 3.14 * self.radius ** 2\n",
    "\n",
    "circle = Circle(5)\n",
    "area = circle.calculate_area()\n",
    "print(area)  # Output: 78.5\n"
   ]
  },
  {
   "cell_type": "code",
   "execution_count": 124,
   "id": "7fc9993f",
   "metadata": {},
   "outputs": [
    {
     "name": "stdout",
     "output_type": "stream",
     "text": [
      "8\n"
     ]
    }
   ],
   "source": [
    "class MathUtils:\n",
    "    @staticmethod\n",
    "    def add(x, y):\n",
    "        return x + y\n",
    "\n",
    "result = MathUtils.add(5, 3)\n",
    "print(result)  # Output: 8\n"
   ]
  },
  {
   "cell_type": "markdown",
   "id": "5b611d30",
   "metadata": {},
   "source": [
    "# Multilevel Inheritance \n",
    "###  is a concept in object-oriented programming where a class inherits from another class, which in turn inherits from another class, forming a hierarchical structure. In this type of inheritance, classes are organized in a parent-child relationship, where each class extends the functionality of its parent class."
   ]
  },
  {
   "cell_type": "code",
   "execution_count": 125,
   "id": "75f8df74",
   "metadata": {},
   "outputs": [
    {
     "name": "stdout",
     "output_type": "stream",
     "text": [
      "Animal is eating...\n",
      "Dog is barking...\n",
      "Bulldog is running...\n"
     ]
    }
   ],
   "source": [
    "class Animal:\n",
    "    def eat(self):\n",
    "        print(\"Animal is eating...\")\n",
    "\n",
    "class Dog(Animal):\n",
    "    def bark(self):\n",
    "        print(\"Dog is barking...\")\n",
    "\n",
    "class Bulldog(Dog):\n",
    "    def run(self):\n",
    "        print(\"Bulldog is running...\")\n",
    "\n",
    "bulldog = Bulldog()\n",
    "bulldog.eat()  # Output: Animal is eating...\n",
    "bulldog.bark()  # Output: Dog is barking...\n",
    "bulldog.run()  # Output: Bulldog is running...\n"
   ]
  },
  {
   "cell_type": "markdown",
   "id": "9f4bc551",
   "metadata": {},
   "source": [
    "# Hierarchical inheritance\n",
    "###  is a concept in object-oriented programming where multiple derived classes inherit from a single base or parent class.  In hierarchical inheritance, a single class serves as the parent for multiple child classes, forming a hierarchical structure."
   ]
  },
  {
   "cell_type": "code",
   "execution_count": 126,
   "id": "f6e6c384",
   "metadata": {},
   "outputs": [
    {
     "name": "stdout",
     "output_type": "stream",
     "text": [
      "15\n",
      "12.0\n",
      "12.56\n"
     ]
    }
   ],
   "source": [
    "class Shape:\n",
    "    def area(self):\n",
    "        pass\n",
    "\n",
    "class Rectangle(Shape):\n",
    "    def __init__(self, length, width):\n",
    "        self.length = length\n",
    "        self.width = width\n",
    "    \n",
    "    def area(self):\n",
    "        return self.length * self.width\n",
    "\n",
    "class Triangle(Shape):\n",
    "    def __init__(self, base, height):\n",
    "        self.base = base\n",
    "        self.height = height\n",
    "    \n",
    "    def area(self):\n",
    "        return 0.5 * self.base * self.height\n",
    "\n",
    "class Circle(Shape):\n",
    "    def __init__(self, radius):\n",
    "        self.radius = radius\n",
    "    \n",
    "    def area(self):\n",
    "        return 3.14 * self.radius ** 2\n",
    "\n",
    "rectangle = Rectangle(5, 3)\n",
    "triangle = Triangle(4, 6)\n",
    "circle = Circle(2)\n",
    "\n",
    "print(rectangle.area())  # Output: 15\n",
    "print(triangle.area())   # Output: 12.0\n",
    "print(circle.area())     # Output: 12.56\n"
   ]
  },
  {
   "cell_type": "markdown",
   "id": "70cb8863",
   "metadata": {},
   "source": [
    "# Polymorphism \n",
    "### is a fundamental concept in object-oriented programming (OOP) that allows objects of different classes to be treated as objects of a common superclass. It allows a single interface to be used to represent different types of objects.\n",
    "\n",
    "### There are two types of polymorphism :\n",
    "### 1.Method Overloading\n",
    "### In Python, method overloading is not supported in the same way as in some other languages like Java or C++. \n",
    "### 2.Method Overriding"
   ]
  },
  {
   "cell_type": "code",
   "execution_count": 130,
   "id": "3dc8167d",
   "metadata": {},
   "outputs": [
    {
     "name": "stdout",
     "output_type": "stream",
     "text": [
      "5\n",
      "9\n"
     ]
    }
   ],
   "source": [
    "class MyClass:\n",
    "    def add(self, x, y, z=None):\n",
    "        if z is None:\n",
    "            return x + y\n",
    "        else:\n",
    "            return x + y + z\n",
    "\n",
    "obj = MyClass()\n",
    "print(obj.add(2, 3))     # Output: 5\n",
    "print(obj.add(2, 3, 4))  # Output: 9\n",
    "\n"
   ]
  },
  {
   "cell_type": "code",
   "execution_count": 128,
   "id": "3af96efc",
   "metadata": {},
   "outputs": [
    {
     "name": "stdout",
     "output_type": "stream",
     "text": [
      "Dog barks.\n",
      "Cat meows.\n"
     ]
    }
   ],
   "source": [
    "class Animal:\n",
    "    def sound(self):\n",
    "        print(\"Animal makes a sound.\")\n",
    "\n",
    "class Dog(Animal):\n",
    "    def sound(self):\n",
    "        print(\"Dog barks.\")\n",
    "\n",
    "class Cat(Animal):\n",
    "    def sound(self):\n",
    "        print(\"Cat meows.\")\n",
    "\n",
    "dog = Dog()\n",
    "dog.sound()  # Output: Dog barks.\n",
    "\n",
    "cat = Cat()\n",
    "cat.sound()  # Output: Cat meows.\n"
   ]
  },
  {
   "cell_type": "markdown",
   "id": "cb6d9362",
   "metadata": {},
   "source": [
    "# Magic Functions/Dunder"
   ]
  },
  {
   "cell_type": "code",
   "execution_count": 131,
   "id": "7ab6e13b",
   "metadata": {},
   "outputs": [
    {
     "name": "stdout",
     "output_type": "stream",
     "text": [
      "Person(name=Alice, age=25)\n",
      "Person('Alice', 25)\n",
      "False\n",
      "True\n",
      "5\n"
     ]
    }
   ],
   "source": [
    "class Person:\n",
    "    def __init__(self, name, age):\n",
    "        self.name = name\n",
    "        self.age = age\n",
    "\n",
    "    def __str__(self):\n",
    "        return f\"Person(name={self.name}, age={self.age})\"\n",
    "\n",
    "    def __repr__(self):\n",
    "        return f\"Person('{self.name}', {self.age})\"\n",
    "\n",
    "    def __eq__(self, other):\n",
    "        return self.name == other.name and self.age == other.age\n",
    "\n",
    "    def __lt__(self, other):\n",
    "        return self.age < other.age\n",
    "\n",
    "    def __len__(self):\n",
    "        return len(self.name)\n",
    "\n",
    "person1 = Person(\"Alice\", 25)\n",
    "person2 = Person(\"Bob\", 30)\n",
    "\n",
    "print(person1)          # Output: Person(name=Alice, age=25)\n",
    "print(repr(person1))    # Output: Person('Alice', 25)\n",
    "print(person1 == person2)   # Output: False\n",
    "print(person1 < person2)    # Output: True\n",
    "print(len(person1))     # Output: 5\n"
   ]
  },
  {
   "cell_type": "markdown",
   "id": "484c16dd",
   "metadata": {},
   "source": [
    "# Dynamic Polymorphism"
   ]
  },
  {
   "cell_type": "code",
   "execution_count": 132,
   "id": "6f82c4e6",
   "metadata": {},
   "outputs": [
    {
     "name": "stdout",
     "output_type": "stream",
     "text": [
      "Animal makes a sound\n",
      "Dog barks\n",
      "Cat meows\n"
     ]
    }
   ],
   "source": [
    "class Animal:\n",
    "    def sound(self):\n",
    "        print(\"Animal makes a sound\")\n",
    "\n",
    "class Dog(Animal):\n",
    "    def sound(self):\n",
    "        print(\"Dog barks\")\n",
    "\n",
    "class Cat(Animal):\n",
    "    def sound(self):\n",
    "        print(\"Cat meows\")\n",
    "\n",
    "# Creating objects of different classes\n",
    "animal = Animal()\n",
    "dog = Dog()\n",
    "cat = Cat()\n",
    "\n",
    "# Calling the sound() method on different objects\n",
    "animal.sound()  # Output: Animal makes a sound\n",
    "dog.sound()     # Output: Dog barks\n",
    "cat.sound()     # Output: Cat meows\n"
   ]
  },
  {
   "cell_type": "code",
   "execution_count": 133,
   "id": "56181a88",
   "metadata": {},
   "outputs": [
    {
     "name": "stdout",
     "output_type": "stream",
     "text": [
      "Woof!\n",
      "Meow!\n",
      "Moo!\n"
     ]
    }
   ],
   "source": [
    "class Animal:\n",
    "    def sound(self):\n",
    "        pass\n",
    "\n",
    "class Dog(Animal):\n",
    "    def sound(self):\n",
    "        return \"Woof!\"\n",
    "\n",
    "class Cat(Animal):\n",
    "    def sound(self):\n",
    "        return \"Meow!\"\n",
    "\n",
    "class Cow(Animal):\n",
    "    def sound(self):\n",
    "        return \"Moo!\"\n",
    "\n",
    "# Create objects of different subclasses\n",
    "dog = Dog()\n",
    "cat = Cat()\n",
    "cow = Cow()\n",
    "\n",
    "# Polymorphic behavior\n",
    "animals = [dog, cat, cow]\n",
    "\n",
    "for animal in animals:\n",
    "    print(animal.sound())\n"
   ]
  },
  {
   "cell_type": "code",
   "execution_count": 2,
   "id": "77351785",
   "metadata": {},
   "outputs": [
    {
     "name": "stdout",
     "output_type": "stream",
     "text": [
      "2\n",
      "3\n",
      "5\n",
      "7\n",
      "11\n",
      "13\n",
      "17\n",
      "19\n",
      "23\n",
      "31\n"
     ]
    }
   ],
   "source": [
    "num=[-2.0,0,1,2,3,4,5,6,7,8,9,11,13,15,17,19,21,23,27,31]\n",
    "for i in num:\n",
    "    if i%2!=0 and i%3!=0 and i!=1 or i==2 or i==3:\n",
    "        print(i)\n",
    "# print(isinstance(i,str))"
   ]
  }
 ],
 "metadata": {
  "kernelspec": {
   "display_name": "Python 3 (ipykernel)",
   "language": "python",
   "name": "python3"
  },
  "language_info": {
   "codemirror_mode": {
    "name": "ipython",
    "version": 3
   },
   "file_extension": ".py",
   "mimetype": "text/x-python",
   "name": "python",
   "nbconvert_exporter": "python",
   "pygments_lexer": "ipython3",
   "version": "3.10.6"
  }
 },
 "nbformat": 4,
 "nbformat_minor": 5
}
